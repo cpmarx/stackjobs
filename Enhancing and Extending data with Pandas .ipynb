{
 "cells": [
  {
   "cell_type": "code",
   "execution_count": 135,
   "metadata": {
    "collapsed": false
   },
   "outputs": [],
   "source": [
    "import pandas as pd \n",
    "import numpy as np\n",
    "\n",
    "# Let's change how printing the series works. I need to see all elements in the Series \n",
    "# source: http://stackoverflow.com/questions/19124601/is-there-a-way-to-pretty-print-the-entire-pandas-series-dataframe\n",
    "pd.set_option('display.max_columns', None)\n",
    "pd.set_option('display.max_rows', None)\n",
    "\n",
    "jobs = pd.read_csv('stackoverflow_jobs.csv')"
   ]
  },
  {
   "cell_type": "markdown",
   "metadata": {},
   "source": [
    "# Exploring data"
   ]
  },
  {
   "cell_type": "code",
   "execution_count": 136,
   "metadata": {
    "collapsed": false
   },
   "outputs": [
    {
     "name": "stdout",
     "output_type": "stream",
     "text": [
      "Index([u'jobid', u'title', u'employer', u'location', u'salary', u'description',\n",
      "       u'tags', u'url', u'date', u'weeknum'],\n",
      "      dtype='object')\n"
     ]
    }
   ],
   "source": [
    "print jobs.columns"
   ]
  },
  {
   "cell_type": "code",
   "execution_count": 161,
   "metadata": {
    "collapsed": false
   },
   "outputs": [
    {
     "data": {
      "text/plain": [
       "jobid           int64\n",
       "title          object\n",
       "employer       object\n",
       "location       object\n",
       "salary         object\n",
       "description    object\n",
       "tags           object\n",
       "url            object\n",
       "date           object\n",
       "weeknum         int64\n",
       "equity           bool\n",
       "currency       object\n",
       "salary_low     object\n",
       "salary_high    object\n",
       "dtype: object"
      ]
     },
     "execution_count": 161,
     "metadata": {},
     "output_type": "execute_result"
    }
   ],
   "source": [
    "jobs.dtypes"
   ]
  },
  {
   "cell_type": "markdown",
   "metadata": {},
   "source": [
    "# Salary\n"
   ]
  },
  {
   "cell_type": "markdown",
   "metadata": {},
   "source": [
    "## Replacing NA values with empty strings in the salary column"
   ]
  },
  {
   "cell_type": "code",
   "execution_count": 138,
   "metadata": {
    "collapsed": false
   },
   "outputs": [],
   "source": [
    "jobs.salary = jobs.salary.fillna('')"
   ]
  },
  {
   "cell_type": "markdown",
   "metadata": {},
   "source": [
    "## Extracting equity  "
   ]
  },
  {
   "cell_type": "code",
   "execution_count": 141,
   "metadata": {
    "collapsed": false
   },
   "outputs": [],
   "source": [
    "jobs['equity'] = jobs['salary'].str.contains('Provides Equity')"
   ]
  },
  {
   "cell_type": "markdown",
   "metadata": {},
   "source": [
    "## Extracting currency and high - low salary\n"
   ]
  },
  {
   "cell_type": "markdown",
   "metadata": {},
   "source": [
    "Need to extract currency, salary_low and salary_high from salary field and copy it to their own columns.\n",
    "\n",
    "Using regex here to capture parts of the salary field into three columns: \n",
    "    - currency will capture zero or more characters that are non digits\n",
    "    - number_low captures one or more characters that are digits and spearators (currently only comma is used)\n",
    "    - number high will capture all the numbers plus separators from the dash until the end of the string "
   ]
  },
  {
   "cell_type": "code",
   "execution_count": 158,
   "metadata": {
    "collapsed": false
   },
   "outputs": [],
   "source": [
    "# salary = jobs.salary\n",
    "salary = jobs.salary.map(lambda x: x.replace(\"Provides Equity\",\"\").replace(\"/\",\"\").strip())\n",
    "\n",
    "sal = salary.str.extract('(?P<currency>[^\\d]*)(?P<number_low>[\\d,]+) - (?P<number_high>[\\d,]+$)')\n",
    "\n",
    "sal.number_low = sal.number_low.fillna(0)\n",
    "sal.number_high = sal.number_high.fillna(0)\n",
    "sal.currency = sal.currency.fillna('')\n",
    "\n",
    "# mapping the new columns back\n",
    "jobs['currency'] = sal.currency\n",
    "jobs['salary_low'] = sal.number_low\n",
    "jobs['salary_high'] = sal.number_high\n"
   ]
  },
  {
   "cell_type": "markdown",
   "metadata": {},
   "source": [
    "# Location \n",
    "\n",
    "We need better location information, so we can do analysis by countries and cities. For this we need to extract country, state and city out of location column. But first let's remove the __na__ values from location column. \n",
    "\n",
    "Then use a lambda to split the location into individual fields.  "
   ]
  },
  {
   "cell_type": "code",
   "execution_count": 27,
   "metadata": {
    "collapsed": false
   },
   "outputs": [],
   "source": [
    "jobs.location = jobs.location.fillna('') # sometimes we have nothing in the location field. \n",
    "\n",
    "location_split = lambda x: pd.Series([i for i in x.split(',')])\n",
    "locations = jobs['location'].apply(location_split)\n",
    "\n",
    "locations.rename(columns={0:'city', 1: 'location_1', 2: 'location_2'},inplace=True)"
   ]
  },
  {
   "cell_type": "markdown",
   "metadata": {},
   "source": [
    "## Fixing US locations\n",
    "\n",
    "US locations seems to be special. They are in the form of _city, state_, we need this to be in form of _city, state, country_, so let's fix this first. \n",
    "\n",
    "If we have a US state in _location_1_ column then put _US_ in _location_2_. \n"
   ]
  },
  {
   "cell_type": "code",
   "execution_count": 30,
   "metadata": {
    "collapsed": true
   },
   "outputs": [],
   "source": [
    "# Fixing US States\n",
    "us_states = [\"AL\", \"AK\", \"AZ\", \"AR\", \"CA\", \"CO\", \"CT\", \"DC\", \"DE\", \"FL\", \"GA\", \n",
    "          \"HI\", \"ID\", \"IL\", \"IN\", \"IA\", \"KS\", \"KY\", \"LA\", \"ME\", \"MD\", \n",
    "          \"MA\", \"MI\", \"MN\", \"MS\", \"MO\", \"MT\", \"NE\", \"NV\", \"NH\", \"NJ\", \n",
    "          \"NM\", \"NY\", \"NC\", \"ND\", \"OH\", \"OK\", \"OR\", \"PA\", \"RI\", \"SC\", \n",
    "          \"SD\", \"TN\", \"TX\", \"UT\", \"VT\", \"VA\", \"WA\", \"WV\", \"WI\", \"WY\"]\n",
    "\n",
    "locations['location_1'] = locations['location_1'].str.strip()\n",
    "locations.loc[locations['location_1'].isin(us_states),'location_2'] = \"US\""
   ]
  },
  {
   "cell_type": "markdown",
   "metadata": {},
   "source": [
    "## Filling the state and country columns\n",
    "\n",
    "If in a row location_2 is null then location_1 contains the country of that location, if location_2 is not empty thne location_2 is going to be the country and location_1 will contain the state. "
   ]
  },
  {
   "cell_type": "code",
   "execution_count": 51,
   "metadata": {
    "collapsed": true
   },
   "outputs": [],
   "source": [
    "# if location_2 is null then location_1 column has the country \n",
    "# if location_2 is not null then location_2 has the country and location_1 contains the state \n",
    "jobs['country'] = np.where(locations['location_2'].isnull(), locations['location_1'], locations['location_2'])\n",
    "jobs['state'] = np.where(locations['location_2'].notnull(), locations['location_1'], '')\n",
    "\n",
    "jobs['city'] = locations['city']\n",
    "\n",
    "# filling na for country \n",
    "jobs.country = jobs.country.fillna('')\n",
    "\n",
    "# stripping spaces from new columns\n",
    "jobs['city'] = jobs['city'].str.strip()\n",
    "jobs['country'] = jobs['country'].str.strip()"
   ]
  },
  {
   "cell_type": "code",
   "execution_count": 76,
   "metadata": {
    "collapsed": false
   },
   "outputs": [
    {
     "data": {
      "text/plain": [
       "US                        3534\n",
       "Germany                   1217\n",
       "UK                         762\n",
       "Netherlands                331\n",
       "Canada                     240\n",
       "                           160\n",
       "Australia                  149\n",
       "France                     112\n",
       "Sweden                     101\n",
       "Switzerland                 93\n",
       "Ireland                     92\n",
       "Finland                     67\n",
       "Spain                       65\n",
       "Austria                     61\n",
       "India                       48\n",
       "Poland                      42\n",
       "Israel                      36\n",
       "Denmark                     33\n",
       "Hungary                     28\n",
       "Thailand                    28\n",
       "Italy                       24\n",
       "Indonesia                   21\n",
       "Czech Republic              20\n",
       "South Africa                20\n",
       "Japan                       20\n",
       "United Arab Emirates        19\n",
       "Malta                       16\n",
       "New Zealand                 16\n",
       "China                       15\n",
       "Iran                        15\n",
       "                          ... \n",
       "Portugal                     7\n",
       "Brazil                       6\n",
       "Russia                       5\n",
       "South Korea                  4\n",
       "England                      4\n",
       "Nigeria                      3\n",
       "Costa Rica                   3\n",
       "Serbia                       3\n",
       "Niederlande                  3\n",
       "Hong Kong                    2\n",
       "Cyprus                       2\n",
       "Royaume-Uni                  2\n",
       "Slovakia                     2\n",
       "Bosnia and Herzegovina       1\n",
       "Polen                        1\n",
       "Belgien                      1\n",
       "Belgique                     1\n",
       "Colombia                     1\n",
       "Philippines                  1\n",
       "Latvia                       1\n",
       "Peru                         1\n",
       "Armenia                      1\n",
       "Ukraine                      1\n",
       "Vietnam                      1\n",
       "Chile                        1\n",
       "Puerto Rico                  1\n",
       "Bulgarien                    1\n",
       "Bangladesh                   1\n",
       "Iceland                      1\n",
       "Lithuania                    1\n",
       "Name: country, dtype: int64"
      ]
     },
     "execution_count": 76,
     "metadata": {},
     "output_type": "execute_result"
    }
   ],
   "source": [
    "jobs['country'].value_counts()"
   ]
  },
  {
   "cell_type": "markdown",
   "metadata": {},
   "source": [
    "Now we can see what countries are posting the most jobs. It seems that the US, Deutschland, Germany and the UK are the top countries. But wait. Aren't Germany and Deutschland are the same country? Let's fix this and some other countries with native names. "
   ]
  },
  {
   "cell_type": "code",
   "execution_count": 91,
   "metadata": {
    "collapsed": false
   },
   "outputs": [
    {
     "data": {
      "text/plain": [
       "US                        3534\n",
       "Germany                   1217\n",
       "UK                         762\n",
       "Netherlands                334\n",
       "Canada                     240\n",
       "                           160\n",
       "Australia                  149\n",
       "France                     112\n",
       "Sweden                     101\n",
       "Switzerland                 93\n",
       "Ireland                     92\n",
       "Finland                     67\n",
       "Spain                       65\n",
       "Austria                     61\n",
       "India                       48\n",
       "Poland                      42\n",
       "Israel                      36\n",
       "Denmark                     33\n",
       "Thailand                    28\n",
       "Hungary                     28\n",
       "Italy                       24\n",
       "Indonesia                   21\n",
       "Czech Republic              20\n",
       "South Africa                20\n",
       "Japan                       20\n",
       "United Arab Emirates        19\n",
       "New Zealand                 16\n",
       "Malta                       16\n",
       "China                       15\n",
       "Iran                        15\n",
       "                          ... \n",
       "Romania                      8\n",
       "Portugal                     7\n",
       "Brazil                       6\n",
       "Russia                       5\n",
       "England                      4\n",
       "South Korea                  4\n",
       "Serbia                       3\n",
       "Costa Rica                   3\n",
       "Nigeria                      3\n",
       "Royaume-Uni                  2\n",
       "Slovakia                     2\n",
       "Cyprus                       2\n",
       "Hong Kong                    2\n",
       "Polen                        1\n",
       "Bosnia and Herzegovina       1\n",
       "Belgien                      1\n",
       "Belgique                     1\n",
       "Colombia                     1\n",
       "Philippines                  1\n",
       "Latvia                       1\n",
       "Peru                         1\n",
       "Armenia                      1\n",
       "Ukraine                      1\n",
       "Vietnam                      1\n",
       "Chile                        1\n",
       "Puerto Rico                  1\n",
       "Bulgarien                    1\n",
       "Bangladesh                   1\n",
       "Iceland                      1\n",
       "Lithuania                    1\n",
       "Name: country, dtype: int64"
      ]
     },
     "execution_count": 91,
     "metadata": {},
     "output_type": "execute_result"
    }
   ],
   "source": [
    "jobs[jobs['country'].str.contains('Deutschland')] = 'Germany' # Deutschland -> Germany\n",
    "jobs[jobs['country'].str.contains('Österreich')] = 'Austria' # Österreich -> Austria\n",
    "jobs[jobs['country'].str.contains('Suisse')] = 'Switzerland' # Suisse -> Switzerland\n",
    "jobs[jobs['country'].str.contains('Schweiz')] = 'Switzerland' # Schweiz -> Switzerland\n",
    "jobs[jobs['country'].str.contains('Espagne')] = 'Spain' # Espagne -> Spain\n",
    "jobs[jobs['country'].str.contains('République tchèque')] = 'Czech Republic' # République tchèque -> Czech Republic\n",
    "jobs[jobs['country'].str.contains('Niederlande')] = 'Netherlands' # Niederlande -> Netherlands\n",
    "\n",
    "jobs['country'].value_counts()"
   ]
  }
 ],
 "metadata": {
  "kernelspec": {
   "display_name": "Python 2",
   "language": "python",
   "name": "python2"
  },
  "language_info": {
   "codemirror_mode": {
    "name": "ipython",
    "version": 2
   },
   "file_extension": ".py",
   "mimetype": "text/x-python",
   "name": "python",
   "nbconvert_exporter": "python",
   "pygments_lexer": "ipython2",
   "version": "2.7.10"
  }
 },
 "nbformat": 4,
 "nbformat_minor": 0
}
