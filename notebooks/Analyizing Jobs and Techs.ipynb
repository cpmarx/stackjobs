{
 "cells": [
  {
   "cell_type": "markdown",
   "metadata": {},
   "source": [
    "# Analyizing Jobs\n",
    "\n",
    "This notebook will hold all analytics related code on this dataset. There are a list of questions I would like to answer and provide meaningfull visualization of the answers. Some questions are: \n",
    "\n",
    " - How many jobs are posted last month, last 3 months for big tech hubs like London, Amsterdam, Auston or San Francisco? \n",
    " - Same for countries\n",
    " - What are the best paying jobs for a given city? \n",
    " - What are the best paying technologies for a given city?\n",
    " - What are the best paying technologies globally? \n",
    " "
   ]
  },
  {
   "cell_type": "code",
   "execution_count": 60,
   "metadata": {
    "collapsed": false
   },
   "outputs": [],
   "source": [
    "import pandas as pd \n",
    "import numpy as np\n",
    "import matplotlib.pyplot as plt\n",
    "from unidecode import unidecode\n",
    "import time \n",
    "\n",
    "jobs = pd.read_csv('../data/stackoverflow_jobs_enhanced.csv', thousands=',')\n",
    "technologies = pd.read_csv('../data/technologies.csv')\n",
    "\n",
    "# this is needed for excel export \n",
    "jobs.country = jobs.country.astype(str)\n",
    "jobs.city = jobs.city.astype(str)\n",
    "\n",
    "jobs['city']=jobs['city'].apply( lambda x:  unidecode(unicode(x, encoding = \"utf-8\")))  \n",
    "jobs['country']=jobs['country'].apply( lambda x:  unidecode(unicode(x, encoding = \"utf-8\")))"
   ]
  },
  {
   "cell_type": "markdown",
   "metadata": {},
   "source": [
    "## Top cities and countries posting jobs "
   ]
  },
  {
   "cell_type": "code",
   "execution_count": 88,
   "metadata": {
    "collapsed": false
   },
   "outputs": [],
   "source": [
    "cities = jobs['city'].value_counts()\n",
    "cities = cities.nlargest(10)"
   ]
  },
  {
   "cell_type": "code",
   "execution_count": 89,
   "metadata": {
    "collapsed": false
   },
   "outputs": [
    {
     "data": {
      "text/html": [
       "\n",
       "    <div class=\"bk-root\">\n",
       "        <a href=\"http://bokeh.pydata.org\" target=\"_blank\" class=\"bk-logo bk-logo-small bk-logo-notebook\"></a>\n",
       "        <span id=\"e819981c-bab7-465d-87e0-552445c9bc2c\">Loading BokehJS ...</span>\n",
       "    </div>"
      ]
     },
     "metadata": {},
     "output_type": "display_data"
    },
    {
     "data": {
      "application/javascript": [
       "\n",
       "(function(global) {\n",
       "  function now() {\n",
       "    return new Date();\n",
       "  }\n",
       "\n",
       "  var force = \"1\";\n",
       "\n",
       "  if (typeof (window._bokeh_onload_callbacks) === \"undefined\" || force !== \"\") {\n",
       "    window._bokeh_onload_callbacks = [];\n",
       "    window._bokeh_is_loading = undefined;\n",
       "  }\n",
       "\n",
       "\n",
       "  \n",
       "  if (typeof (window._bokeh_timeout) === \"undefined\" || force !== \"\") {\n",
       "    window._bokeh_timeout = Date.now() + 5000;\n",
       "    window._bokeh_failed_load = false;\n",
       "  }\n",
       "\n",
       "  var NB_LOAD_WARNING = {'data': {'text/html':\n",
       "     \"<div style='background-color: #fdd'>\\n\"+\n",
       "     \"<p>\\n\"+\n",
       "     \"BokehJS does not appear to have successfully loaded. If loading BokehJS from CDN, this \\n\"+\n",
       "     \"may be due to a slow or bad network connection. Possible fixes:\\n\"+\n",
       "     \"</p>\\n\"+\n",
       "     \"<ul>\\n\"+\n",
       "     \"<li>re-rerun `output_notebook()` to attempt to load from CDN again, or</li>\\n\"+\n",
       "     \"<li>use INLINE resources instead, as so:</li>\\n\"+\n",
       "     \"</ul>\\n\"+\n",
       "     \"<code>\\n\"+\n",
       "     \"from bokeh.resources import INLINE\\n\"+\n",
       "     \"output_notebook(resources=INLINE)\\n\"+\n",
       "     \"</code>\\n\"+\n",
       "     \"</div>\"}};\n",
       "\n",
       "  function display_loaded() {\n",
       "    if (window.Bokeh !== undefined) {\n",
       "      Bokeh.$(\"#e819981c-bab7-465d-87e0-552445c9bc2c\").text(\"BokehJS successfully loaded.\");\n",
       "    } else if (Date.now() < window._bokeh_timeout) {\n",
       "      setTimeout(display_loaded, 100)\n",
       "    }\n",
       "  }\n",
       "\n",
       "  function run_callbacks() {\n",
       "    window._bokeh_onload_callbacks.forEach(function(callback) { callback() });\n",
       "    delete window._bokeh_onload_callbacks\n",
       "    console.info(\"Bokeh: all callbacks have finished\");\n",
       "  }\n",
       "\n",
       "  function load_libs(js_urls, callback) {\n",
       "    window._bokeh_onload_callbacks.push(callback);\n",
       "    if (window._bokeh_is_loading > 0) {\n",
       "      console.log(\"Bokeh: BokehJS is being loaded, scheduling callback at\", now());\n",
       "      return null;\n",
       "    }\n",
       "    if (js_urls == null || js_urls.length === 0) {\n",
       "      run_callbacks();\n",
       "      return null;\n",
       "    }\n",
       "    console.log(\"Bokeh: BokehJS not loaded, scheduling load and callback at\", now());\n",
       "    window._bokeh_is_loading = js_urls.length;\n",
       "    for (var i = 0; i < js_urls.length; i++) {\n",
       "      var url = js_urls[i];\n",
       "      var s = document.createElement('script');\n",
       "      s.src = url;\n",
       "      s.async = false;\n",
       "      s.onreadystatechange = s.onload = function() {\n",
       "        window._bokeh_is_loading--;\n",
       "        if (window._bokeh_is_loading === 0) {\n",
       "          console.log(\"Bokeh: all BokehJS libraries loaded\");\n",
       "          run_callbacks()\n",
       "        }\n",
       "      };\n",
       "      s.onerror = function() {\n",
       "        console.warn(\"failed to load library \" + url);\n",
       "      };\n",
       "      console.log(\"Bokeh: injecting script tag for BokehJS library: \", url);\n",
       "      document.getElementsByTagName(\"head\")[0].appendChild(s);\n",
       "    }\n",
       "  };var element = document.getElementById(\"e819981c-bab7-465d-87e0-552445c9bc2c\");\n",
       "  if (element == null) {\n",
       "    console.log(\"Bokeh: ERROR: autoload.js configured with elementid 'e819981c-bab7-465d-87e0-552445c9bc2c' but no matching script tag was found. \")\n",
       "    return false;\n",
       "  }\n",
       "\n",
       "  var js_urls = ['https://cdn.pydata.org/bokeh/release/bokeh-0.12.3.min.js', 'https://cdn.pydata.org/bokeh/release/bokeh-widgets-0.12.3.min.js'];\n",
       "\n",
       "  var inline_js = [\n",
       "    function(Bokeh) {\n",
       "      Bokeh.set_log_level(\"info\");\n",
       "    },\n",
       "    \n",
       "    function(Bokeh) {\n",
       "      \n",
       "      Bokeh.$(\"#e819981c-bab7-465d-87e0-552445c9bc2c\").text(\"BokehJS is loading...\");\n",
       "    },\n",
       "    function(Bokeh) {\n",
       "      console.log(\"Bokeh: injecting CSS: https://cdn.pydata.org/bokeh/release/bokeh-0.12.3.min.css\");\n",
       "      Bokeh.embed.inject_css(\"https://cdn.pydata.org/bokeh/release/bokeh-0.12.3.min.css\");\n",
       "      console.log(\"Bokeh: injecting CSS: https://cdn.pydata.org/bokeh/release/bokeh-widgets-0.12.3.min.css\");\n",
       "      Bokeh.embed.inject_css(\"https://cdn.pydata.org/bokeh/release/bokeh-widgets-0.12.3.min.css\");\n",
       "    }\n",
       "  ];\n",
       "\n",
       "  function run_inline_js() {\n",
       "    \n",
       "    if ((window.Bokeh !== undefined) || (force === \"1\")) {\n",
       "      for (var i = 0; i < inline_js.length; i++) {\n",
       "        inline_js[i](window.Bokeh);\n",
       "      }if (force === \"1\") {\n",
       "        display_loaded();\n",
       "      }} else if (Date.now() < window._bokeh_timeout) {\n",
       "      setTimeout(run_inline_js, 100);\n",
       "    } else if (!window._bokeh_failed_load) {\n",
       "      console.log(\"Bokeh: BokehJS failed to load within specified timeout.\");\n",
       "      window._bokeh_failed_load = true;\n",
       "    } else if (!force) {\n",
       "      var cell = $(\"#e819981c-bab7-465d-87e0-552445c9bc2c\").parents('.cell').data().cell;\n",
       "      cell.output_area.append_execute_result(NB_LOAD_WARNING)\n",
       "    }\n",
       "\n",
       "  }\n",
       "\n",
       "  if (window._bokeh_is_loading === 0) {\n",
       "    console.log(\"Bokeh: BokehJS loaded, going straight to plotting\");\n",
       "    run_inline_js();\n",
       "  } else {\n",
       "    load_libs(js_urls, function() {\n",
       "      console.log(\"Bokeh: BokehJS plotting callback run at\", now());\n",
       "      run_inline_js();\n",
       "    });\n",
       "  }\n",
       "}(this));"
      ]
     },
     "metadata": {},
     "output_type": "display_data"
    },
    {
     "data": {
      "text/html": [
       "\n",
       "\n",
       "    <div class=\"bk-root\">\n",
       "        <div class=\"plotdiv\" id=\"a1d95109-4d8a-4ddf-b6e9-3a5ccc57b36b\"></div>\n",
       "    </div>\n",
       "<script type=\"text/javascript\">\n",
       "  \n",
       "  (function(global) {\n",
       "    function now() {\n",
       "      return new Date();\n",
       "    }\n",
       "  \n",
       "    var force = \"\";\n",
       "  \n",
       "    if (typeof (window._bokeh_onload_callbacks) === \"undefined\" || force !== \"\") {\n",
       "      window._bokeh_onload_callbacks = [];\n",
       "      window._bokeh_is_loading = undefined;\n",
       "    }\n",
       "  \n",
       "  \n",
       "    \n",
       "    if (typeof (window._bokeh_timeout) === \"undefined\" || force !== \"\") {\n",
       "      window._bokeh_timeout = Date.now() + 0;\n",
       "      window._bokeh_failed_load = false;\n",
       "    }\n",
       "  \n",
       "    var NB_LOAD_WARNING = {'data': {'text/html':\n",
       "       \"<div style='background-color: #fdd'>\\n\"+\n",
       "       \"<p>\\n\"+\n",
       "       \"BokehJS does not appear to have successfully loaded. If loading BokehJS from CDN, this \\n\"+\n",
       "       \"may be due to a slow or bad network connection. Possible fixes:\\n\"+\n",
       "       \"</p>\\n\"+\n",
       "       \"<ul>\\n\"+\n",
       "       \"<li>re-rerun `output_notebook()` to attempt to load from CDN again, or</li>\\n\"+\n",
       "       \"<li>use INLINE resources instead, as so:</li>\\n\"+\n",
       "       \"</ul>\\n\"+\n",
       "       \"<code>\\n\"+\n",
       "       \"from bokeh.resources import INLINE\\n\"+\n",
       "       \"output_notebook(resources=INLINE)\\n\"+\n",
       "       \"</code>\\n\"+\n",
       "       \"</div>\"}};\n",
       "  \n",
       "    function display_loaded() {\n",
       "      if (window.Bokeh !== undefined) {\n",
       "        Bokeh.$(\"#a1d95109-4d8a-4ddf-b6e9-3a5ccc57b36b\").text(\"BokehJS successfully loaded.\");\n",
       "      } else if (Date.now() < window._bokeh_timeout) {\n",
       "        setTimeout(display_loaded, 100)\n",
       "      }\n",
       "    }\n",
       "  \n",
       "    function run_callbacks() {\n",
       "      window._bokeh_onload_callbacks.forEach(function(callback) { callback() });\n",
       "      delete window._bokeh_onload_callbacks\n",
       "      console.info(\"Bokeh: all callbacks have finished\");\n",
       "    }\n",
       "  \n",
       "    function load_libs(js_urls, callback) {\n",
       "      window._bokeh_onload_callbacks.push(callback);\n",
       "      if (window._bokeh_is_loading > 0) {\n",
       "        console.log(\"Bokeh: BokehJS is being loaded, scheduling callback at\", now());\n",
       "        return null;\n",
       "      }\n",
       "      if (js_urls == null || js_urls.length === 0) {\n",
       "        run_callbacks();\n",
       "        return null;\n",
       "      }\n",
       "      console.log(\"Bokeh: BokehJS not loaded, scheduling load and callback at\", now());\n",
       "      window._bokeh_is_loading = js_urls.length;\n",
       "      for (var i = 0; i < js_urls.length; i++) {\n",
       "        var url = js_urls[i];\n",
       "        var s = document.createElement('script');\n",
       "        s.src = url;\n",
       "        s.async = false;\n",
       "        s.onreadystatechange = s.onload = function() {\n",
       "          window._bokeh_is_loading--;\n",
       "          if (window._bokeh_is_loading === 0) {\n",
       "            console.log(\"Bokeh: all BokehJS libraries loaded\");\n",
       "            run_callbacks()\n",
       "          }\n",
       "        };\n",
       "        s.onerror = function() {\n",
       "          console.warn(\"failed to load library \" + url);\n",
       "        };\n",
       "        console.log(\"Bokeh: injecting script tag for BokehJS library: \", url);\n",
       "        document.getElementsByTagName(\"head\")[0].appendChild(s);\n",
       "      }\n",
       "    };var element = document.getElementById(\"a1d95109-4d8a-4ddf-b6e9-3a5ccc57b36b\");\n",
       "    if (element == null) {\n",
       "      console.log(\"Bokeh: ERROR: autoload.js configured with elementid 'a1d95109-4d8a-4ddf-b6e9-3a5ccc57b36b' but no matching script tag was found. \")\n",
       "      return false;\n",
       "    }\n",
       "  \n",
       "    var js_urls = [];\n",
       "  \n",
       "    var inline_js = [\n",
       "      function(Bokeh) {\n",
       "        Bokeh.$(function() {\n",
       "            var docs_json = {\"66f24649-4e48-449f-bc56-d1d2ee6e240b\":{\"roots\":{\"references\":[{\"attributes\":{},\"id\":\"1dea1c09-6f9c-430e-8765-1c5bf7e2c925\",\"type\":\"ToolEvents\"},{\"attributes\":{\"callback\":null,\"column_names\":[\"line_color\",\"line_alpha\",\"color\",\"fill_alpha\",\"height\",\"width\",\"y\",\"x\",\"label\"],\"data\":{\"chart_index\":[{\"index\":\"London\"}],\"color\":[\"#f22c40\"],\"fill_alpha\":[0.8],\"height\":[1189.0],\"index\":[\"London\"],\"label\":[{\"index\":\"London\"}],\"line_alpha\":[1.0],\"line_color\":[\"white\"],\"width\":[0.8],\"x\":[\"London\"],\"y\":[594.5]}},\"id\":\"eecaf445-cbf1-4d94-81de-6ab888a1b7c8\",\"type\":\"ColumnDataSource\"},{\"attributes\":{\"fill_alpha\":{\"field\":\"fill_alpha\"},\"fill_color\":{\"field\":\"color\"},\"height\":{\"field\":\"height\",\"units\":\"data\"},\"line_color\":{\"field\":\"line_color\"},\"width\":{\"field\":\"width\",\"units\":\"data\"},\"x\":{\"field\":\"x\"},\"y\":{\"field\":\"y\"}},\"id\":\"d47bb225-fbe6-42fb-b99e-f940b8d4a301\",\"type\":\"Rect\"},{\"attributes\":{\"data_source\":{\"id\":\"19060747-0803-4c0a-aca1-349424321aa9\",\"type\":\"ColumnDataSource\"},\"glyph\":{\"id\":\"0951344c-9522-4338-9163-e240e4f884f8\",\"type\":\"Rect\"},\"hover_glyph\":null,\"nonselection_glyph\":null,\"selection_glyph\":null},\"id\":\"2c0f3709-8949-46fa-91c3-a273322553c8\",\"type\":\"GlyphRenderer\"},{\"attributes\":{},\"id\":\"9353f43d-7199-4bb8-9017-090b4865d4e8\",\"type\":\"BasicTicker\"},{\"attributes\":{\"data_source\":{\"id\":\"77faeea9-f818-4b43-be51-51f7dae167a0\",\"type\":\"ColumnDataSource\"},\"glyph\":{\"id\":\"977b1383-03e7-4940-89a0-73f35356d9bb\",\"type\":\"Rect\"},\"hover_glyph\":null,\"nonselection_glyph\":null,\"selection_glyph\":null},\"id\":\"42dc0af5-6c30-44df-be37-9b793debf3ca\",\"type\":\"GlyphRenderer\"},{\"attributes\":{\"callback\":null,\"column_names\":[\"line_color\",\"line_alpha\",\"color\",\"fill_alpha\",\"height\",\"width\",\"y\",\"x\",\"label\"],\"data\":{\"chart_index\":[{\"index\":\"San Francisco\"}],\"color\":[\"#f22c40\"],\"fill_alpha\":[0.8],\"height\":[813.0],\"index\":[\"San Francisco\"],\"label\":[{\"index\":\"San Francisco\"}],\"line_alpha\":[1.0],\"line_color\":[\"white\"],\"width\":[0.8],\"x\":[\"San Francisco\"],\"y\":[406.5]}},\"id\":\"fb3e99fe-381e-462c-b068-90937a57d476\",\"type\":\"ColumnDataSource\"},{\"attributes\":{\"plot\":{\"id\":\"3494f579-4341-4f85-9ebb-328538b7734f\",\"subtype\":\"Chart\",\"type\":\"Plot\"}},\"id\":\"13af62c8-5f13-44bf-a43f-ea438b0d4ec8\",\"type\":\"WheelZoomTool\"},{\"attributes\":{\"data_source\":{\"id\":\"0c35083c-f73b-4a96-9445-d14a485a7113\",\"type\":\"ColumnDataSource\"},\"glyph\":{\"id\":\"d47bb225-fbe6-42fb-b99e-f940b8d4a301\",\"type\":\"Rect\"},\"hover_glyph\":null,\"nonselection_glyph\":null,\"selection_glyph\":null},\"id\":\"914ff45e-a55d-40f3-83b7-ff52d6537dd1\",\"type\":\"GlyphRenderer\"},{\"attributes\":{\"data_source\":{\"id\":\"9fbb9f18-1937-49ac-bbdc-d673dc6e32e8\",\"type\":\"ColumnDataSource\"},\"glyph\":{\"id\":\"3aa90ac8-90c4-4620-bffc-0e44e427d86d\",\"type\":\"Rect\"},\"hover_glyph\":null,\"nonselection_glyph\":null,\"selection_glyph\":null},\"id\":\"de7a243a-5a8b-4e4a-a20f-13ae6e172a38\",\"type\":\"GlyphRenderer\"},{\"attributes\":{\"label\":{\"value\":\"No office location\"},\"renderers\":[{\"id\":\"42dc0af5-6c30-44df-be37-9b793debf3ca\",\"type\":\"GlyphRenderer\"}]},\"id\":\"1e3e7f87-21e2-4135-8d36-0b6118a8f208\",\"type\":\"LegendItem\"},{\"attributes\":{\"label\":{\"value\":\"Berlin\"},\"renderers\":[{\"id\":\"914ff45e-a55d-40f3-83b7-ff52d6537dd1\",\"type\":\"GlyphRenderer\"}]},\"id\":\"3dd321dc-9604-4fc4-8966-65dc094e47f3\",\"type\":\"LegendItem\"},{\"attributes\":{\"fill_alpha\":{\"field\":\"fill_alpha\"},\"fill_color\":{\"field\":\"color\"},\"height\":{\"field\":\"height\",\"units\":\"data\"},\"line_color\":{\"field\":\"line_color\"},\"width\":{\"field\":\"width\",\"units\":\"data\"},\"x\":{\"field\":\"x\"},\"y\":{\"field\":\"y\"}},\"id\":\"0951344c-9522-4338-9163-e240e4f884f8\",\"type\":\"Rect\"},{\"attributes\":{\"fill_alpha\":{\"field\":\"fill_alpha\"},\"fill_color\":{\"field\":\"color\"},\"height\":{\"field\":\"height\",\"units\":\"data\"},\"line_color\":{\"field\":\"line_color\"},\"width\":{\"field\":\"width\",\"units\":\"data\"},\"x\":{\"field\":\"x\"},\"y\":{\"field\":\"y\"}},\"id\":\"d305620a-1011-43c7-a3e5-27d8775c1a1d\",\"type\":\"Rect\"},{\"attributes\":{\"below\":[{\"id\":\"c796cc6e-3927-4fd5-b656-661337b6b664\",\"type\":\"CategoricalAxis\"}],\"left\":[{\"id\":\"1057f9f4-87d0-4d1e-a183-fe46036eb60d\",\"type\":\"LinearAxis\"}],\"renderers\":[{\"id\":\"4d26d251-b7e0-47ac-af2c-806d66ddac0d\",\"type\":\"BoxAnnotation\"},{\"id\":\"914ff45e-a55d-40f3-83b7-ff52d6537dd1\",\"type\":\"GlyphRenderer\"},{\"id\":\"775a16bc-1346-41ea-afb8-bb9b7538c5b8\",\"type\":\"GlyphRenderer\"},{\"id\":\"de7a243a-5a8b-4e4a-a20f-13ae6e172a38\",\"type\":\"GlyphRenderer\"},{\"id\":\"287554e6-a2bc-48b4-82b1-91191dcfda71\",\"type\":\"GlyphRenderer\"},{\"id\":\"701399bf-4643-4aa7-a5e5-a7e7a8293d6a\",\"type\":\"GlyphRenderer\"},{\"id\":\"47f31605-ab1e-476b-ab79-43cd99445a50\",\"type\":\"GlyphRenderer\"},{\"id\":\"07fd61d7-1a7a-42d1-a540-e03da664e4be\",\"type\":\"GlyphRenderer\"},{\"id\":\"2c0f3709-8949-46fa-91c3-a273322553c8\",\"type\":\"GlyphRenderer\"},{\"id\":\"d48e42e9-7bff-4ddb-bd47-f88a73e7b55e\",\"type\":\"GlyphRenderer\"},{\"id\":\"42dc0af5-6c30-44df-be37-9b793debf3ca\",\"type\":\"GlyphRenderer\"},{\"id\":\"b7b27c09-641d-42a7-a232-f5fc746f860e\",\"type\":\"Legend\"},{\"id\":\"c796cc6e-3927-4fd5-b656-661337b6b664\",\"type\":\"CategoricalAxis\"},{\"id\":\"1057f9f4-87d0-4d1e-a183-fe46036eb60d\",\"type\":\"LinearAxis\"},{\"id\":\"ed223488-cdd6-49a8-9c0a-5258930a96d0\",\"type\":\"Grid\"}],\"title\":{\"id\":\"6693a710-89f2-4f88-bd4b-3eda8138ebc8\",\"type\":\"Title\"},\"tool_events\":{\"id\":\"1dea1c09-6f9c-430e-8765-1c5bf7e2c925\",\"type\":\"ToolEvents\"},\"toolbar\":{\"id\":\"8be66fda-2247-41ee-9335-d3846d7dedd7\",\"type\":\"Toolbar\"},\"x_mapper_type\":\"auto\",\"x_range\":{\"id\":\"cf43e0e5-fd30-4d9d-824d-c27b9555f223\",\"type\":\"FactorRange\"},\"y_mapper_type\":\"auto\",\"y_range\":{\"id\":\"0d114878-eafb-4364-a1d1-8850f7eee49d\",\"type\":\"Range1d\"}},\"id\":\"3494f579-4341-4f85-9ebb-328538b7734f\",\"subtype\":\"Chart\",\"type\":\"Plot\"},{\"attributes\":{\"callback\":null,\"column_names\":[\"line_color\",\"line_alpha\",\"color\",\"fill_alpha\",\"height\",\"width\",\"y\",\"x\",\"label\"],\"data\":{\"chart_index\":[{\"index\":\"Seattle\"}],\"color\":[\"#f22c40\"],\"fill_alpha\":[0.8],\"height\":[425.0],\"index\":[\"Seattle\"],\"label\":[{\"index\":\"Seattle\"}],\"line_alpha\":[1.0],\"line_color\":[\"white\"],\"width\":[0.8],\"x\":[\"Seattle\"],\"y\":[212.5]}},\"id\":\"bb9ad9dd-fd43-4871-b259-e0efec4eda21\",\"type\":\"ColumnDataSource\"},{\"attributes\":{\"fill_alpha\":{\"field\":\"fill_alpha\"},\"fill_color\":{\"field\":\"color\"},\"height\":{\"field\":\"height\",\"units\":\"data\"},\"line_color\":{\"field\":\"line_color\"},\"width\":{\"field\":\"width\",\"units\":\"data\"},\"x\":{\"field\":\"x\"},\"y\":{\"field\":\"y\"}},\"id\":\"1afc103d-6149-4236-b9ba-d4c0d6bcb8eb\",\"type\":\"Rect\"},{\"attributes\":{\"fill_alpha\":{\"field\":\"fill_alpha\"},\"fill_color\":{\"field\":\"color\"},\"height\":{\"field\":\"height\",\"units\":\"data\"},\"line_color\":{\"field\":\"line_color\"},\"width\":{\"field\":\"width\",\"units\":\"data\"},\"x\":{\"field\":\"x\"},\"y\":{\"field\":\"y\"}},\"id\":\"3aa90ac8-90c4-4620-bffc-0e44e427d86d\",\"type\":\"Rect\"},{\"attributes\":{},\"id\":\"3ee53539-1cbf-4f68-b68f-b54c2d7275d9\",\"type\":\"CategoricalTicker\"},{\"attributes\":{\"axis_label\":\"Sum( City )\",\"formatter\":{\"id\":\"6016ef86-939a-43ec-8e82-7ca0b49b5624\",\"type\":\"BasicTickFormatter\"},\"plot\":{\"id\":\"3494f579-4341-4f85-9ebb-328538b7734f\",\"subtype\":\"Chart\",\"type\":\"Plot\"},\"ticker\":{\"id\":\"9353f43d-7199-4bb8-9017-090b4865d4e8\",\"type\":\"BasicTicker\"}},\"id\":\"1057f9f4-87d0-4d1e-a183-fe46036eb60d\",\"type\":\"LinearAxis\"},{\"attributes\":{\"data_source\":{\"id\":\"fb3e99fe-381e-462c-b068-90937a57d476\",\"type\":\"ColumnDataSource\"},\"glyph\":{\"id\":\"3af49ac2-875c-4e83-beaf-fdad394960fc\",\"type\":\"Rect\"},\"hover_glyph\":null,\"nonselection_glyph\":null,\"selection_glyph\":null},\"id\":\"287554e6-a2bc-48b4-82b1-91191dcfda71\",\"type\":\"GlyphRenderer\"},{\"attributes\":{\"callback\":null,\"column_names\":[\"line_color\",\"line_alpha\",\"color\",\"fill_alpha\",\"height\",\"width\",\"y\",\"x\",\"label\"],\"data\":{\"chart_index\":[{\"index\":\"Munchen\"}],\"color\":[\"#f22c40\"],\"fill_alpha\":[0.8],\"height\":[504.0],\"index\":[\"Munchen\"],\"label\":[{\"index\":\"Munchen\"}],\"line_alpha\":[1.0],\"line_color\":[\"white\"],\"width\":[0.8],\"x\":[\"Munchen\"],\"y\":[252.0]}},\"id\":\"f39469e1-d483-4140-bc56-9ceb1dd8cd52\",\"type\":\"ColumnDataSource\"},{\"attributes\":{\"callback\":null,\"column_names\":[\"line_color\",\"line_alpha\",\"color\",\"fill_alpha\",\"height\",\"width\",\"y\",\"x\",\"label\"],\"data\":{\"chart_index\":[{\"index\":\"No office location\"}],\"color\":[\"#f22c40\"],\"fill_alpha\":[0.8],\"height\":[344.0],\"index\":[\"No office location\"],\"label\":[{\"index\":\"No office location\"}],\"line_alpha\":[1.0],\"line_color\":[\"white\"],\"width\":[0.8],\"x\":[\"No office location\"],\"y\":[172.0]}},\"id\":\"77faeea9-f818-4b43-be51-51f7dae167a0\",\"type\":\"ColumnDataSource\"},{\"attributes\":{\"fill_alpha\":{\"field\":\"fill_alpha\"},\"fill_color\":{\"field\":\"color\"},\"height\":{\"field\":\"height\",\"units\":\"data\"},\"line_color\":{\"field\":\"line_color\"},\"width\":{\"field\":\"width\",\"units\":\"data\"},\"x\":{\"field\":\"x\"},\"y\":{\"field\":\"y\"}},\"id\":\"977b1383-03e7-4940-89a0-73f35356d9bb\",\"type\":\"Rect\"},{\"attributes\":{\"overlay\":{\"id\":\"4d26d251-b7e0-47ac-af2c-806d66ddac0d\",\"type\":\"BoxAnnotation\"},\"plot\":{\"id\":\"3494f579-4341-4f85-9ebb-328538b7734f\",\"subtype\":\"Chart\",\"type\":\"Plot\"}},\"id\":\"80ffea53-0674-45ed-8e17-2cccce740068\",\"type\":\"BoxZoomTool\"},{\"attributes\":{\"data_source\":{\"id\":\"edadd004-4ac8-4c4d-90a7-5f353f4e4c1e\",\"type\":\"ColumnDataSource\"},\"glyph\":{\"id\":\"fd35eab6-e508-4417-8c79-bff15a66ea40\",\"type\":\"Rect\"},\"hover_glyph\":null,\"nonselection_glyph\":null,\"selection_glyph\":null},\"id\":\"d48e42e9-7bff-4ddb-bd47-f88a73e7b55e\",\"type\":\"GlyphRenderer\"},{\"attributes\":{\"plot\":{\"id\":\"3494f579-4341-4f85-9ebb-328538b7734f\",\"subtype\":\"Chart\",\"type\":\"Plot\"}},\"id\":\"5f00995a-f02d-49c7-96de-faf8e3e565ce\",\"type\":\"PanTool\"},{\"attributes\":{\"plot\":{\"id\":\"3494f579-4341-4f85-9ebb-328538b7734f\",\"subtype\":\"Chart\",\"type\":\"Plot\"}},\"id\":\"196b58d6-7674-4dfc-b0f4-db50ea3b4074\",\"type\":\"ResetTool\"},{\"attributes\":{\"data_source\":{\"id\":\"f39469e1-d483-4140-bc56-9ceb1dd8cd52\",\"type\":\"ColumnDataSource\"},\"glyph\":{\"id\":\"719cc6fe-f9f4-45b5-b479-82c6a4a97f39\",\"type\":\"Rect\"},\"hover_glyph\":null,\"nonselection_glyph\":null,\"selection_glyph\":null},\"id\":\"701399bf-4643-4aa7-a5e5-a7e7a8293d6a\",\"type\":\"GlyphRenderer\"},{\"attributes\":{\"callback\":null,\"column_names\":[\"line_color\",\"line_alpha\",\"color\",\"fill_alpha\",\"height\",\"width\",\"y\",\"x\",\"label\"],\"data\":{\"chart_index\":[{\"index\":\"Philadelphia\"}],\"color\":[\"#f22c40\"],\"fill_alpha\":[0.8],\"height\":[373.0],\"index\":[\"Philadelphia\"],\"label\":[{\"index\":\"Philadelphia\"}],\"line_alpha\":[1.0],\"line_color\":[\"white\"],\"width\":[0.8],\"x\":[\"Philadelphia\"],\"y\":[186.5]}},\"id\":\"19060747-0803-4c0a-aca1-349424321aa9\",\"type\":\"ColumnDataSource\"},{\"attributes\":{\"label\":{\"value\":\"London\"},\"renderers\":[{\"id\":\"775a16bc-1346-41ea-afb8-bb9b7538c5b8\",\"type\":\"GlyphRenderer\"}]},\"id\":\"b0fadeae-f28d-455a-8d63-bd22f388cb7c\",\"type\":\"LegendItem\"},{\"attributes\":{\"fill_alpha\":{\"field\":\"fill_alpha\"},\"fill_color\":{\"field\":\"color\"},\"height\":{\"field\":\"height\",\"units\":\"data\"},\"line_color\":{\"field\":\"line_color\"},\"width\":{\"field\":\"width\",\"units\":\"data\"},\"x\":{\"field\":\"x\"},\"y\":{\"field\":\"y\"}},\"id\":\"fd35eab6-e508-4417-8c79-bff15a66ea40\",\"type\":\"Rect\"},{\"attributes\":{\"bottom_units\":\"screen\",\"fill_alpha\":{\"value\":0.5},\"fill_color\":{\"value\":\"lightgrey\"},\"left_units\":\"screen\",\"level\":\"overlay\",\"line_alpha\":{\"value\":1.0},\"line_color\":{\"value\":\"black\"},\"line_dash\":[4,4],\"line_width\":{\"value\":2},\"plot\":null,\"render_mode\":\"css\",\"right_units\":\"screen\",\"top_units\":\"screen\"},\"id\":\"4d26d251-b7e0-47ac-af2c-806d66ddac0d\",\"type\":\"BoxAnnotation\"},{\"attributes\":{\"callback\":null,\"end\":1326.15},\"id\":\"0d114878-eafb-4364-a1d1-8850f7eee49d\",\"type\":\"Range1d\"},{\"attributes\":{\"data_source\":{\"id\":\"bb9ad9dd-fd43-4871-b259-e0efec4eda21\",\"type\":\"ColumnDataSource\"},\"glyph\":{\"id\":\"f885a684-326a-4cf6-bdd9-4508d140ac6d\",\"type\":\"Rect\"},\"hover_glyph\":null,\"nonselection_glyph\":null,\"selection_glyph\":null},\"id\":\"07fd61d7-1a7a-42d1-a540-e03da664e4be\",\"type\":\"GlyphRenderer\"},{\"attributes\":{\"label\":{\"value\":\"Munchen\"},\"renderers\":[{\"id\":\"701399bf-4643-4aa7-a5e5-a7e7a8293d6a\",\"type\":\"GlyphRenderer\"}]},\"id\":\"705be4fe-c861-4a2a-8085-a7e128640ac1\",\"type\":\"LegendItem\"},{\"attributes\":{\"fill_alpha\":{\"field\":\"fill_alpha\"},\"fill_color\":{\"field\":\"color\"},\"height\":{\"field\":\"height\",\"units\":\"data\"},\"line_color\":{\"field\":\"line_color\"},\"width\":{\"field\":\"width\",\"units\":\"data\"},\"x\":{\"field\":\"x\"},\"y\":{\"field\":\"y\"}},\"id\":\"3af49ac2-875c-4e83-beaf-fdad394960fc\",\"type\":\"Rect\"},{\"attributes\":{\"data_source\":{\"id\":\"eecaf445-cbf1-4d94-81de-6ab888a1b7c8\",\"type\":\"ColumnDataSource\"},\"glyph\":{\"id\":\"d305620a-1011-43c7-a3e5-27d8775c1a1d\",\"type\":\"Rect\"},\"hover_glyph\":null,\"nonselection_glyph\":null,\"selection_glyph\":null},\"id\":\"775a16bc-1346-41ea-afb8-bb9b7538c5b8\",\"type\":\"GlyphRenderer\"},{\"attributes\":{\"plot\":null,\"text\":null},\"id\":\"6693a710-89f2-4f88-bd4b-3eda8138ebc8\",\"type\":\"Title\"},{\"attributes\":{\"label\":{\"value\":\"San Francisco\"},\"renderers\":[{\"id\":\"287554e6-a2bc-48b4-82b1-91191dcfda71\",\"type\":\"GlyphRenderer\"}]},\"id\":\"b36e4519-c01f-41d2-be8d-d86489ef9627\",\"type\":\"LegendItem\"},{\"attributes\":{\"data_source\":{\"id\":\"9a7d80d8-22c4-4003-8570-a52896be2a09\",\"type\":\"ColumnDataSource\"},\"glyph\":{\"id\":\"1afc103d-6149-4236-b9ba-d4c0d6bcb8eb\",\"type\":\"Rect\"},\"hover_glyph\":null,\"nonselection_glyph\":null,\"selection_glyph\":null},\"id\":\"47f31605-ab1e-476b-ab79-43cd99445a50\",\"type\":\"GlyphRenderer\"},{\"attributes\":{\"dimension\":1,\"plot\":{\"id\":\"3494f579-4341-4f85-9ebb-328538b7734f\",\"subtype\":\"Chart\",\"type\":\"Plot\"},\"ticker\":{\"id\":\"9353f43d-7199-4bb8-9017-090b4865d4e8\",\"type\":\"BasicTicker\"}},\"id\":\"ed223488-cdd6-49a8-9c0a-5258930a96d0\",\"type\":\"Grid\"},{\"attributes\":{},\"id\":\"4cee43c4-c35d-43d7-a68f-9d328d4b57c1\",\"type\":\"CategoricalTickFormatter\"},{\"attributes\":{\"callback\":null,\"column_names\":[\"line_color\",\"line_alpha\",\"color\",\"fill_alpha\",\"height\",\"width\",\"y\",\"x\",\"label\"],\"data\":{\"chart_index\":[{\"index\":\"Chicago\"}],\"color\":[\"#f22c40\"],\"fill_alpha\":[0.8],\"height\":[350.0],\"index\":[\"Chicago\"],\"label\":[{\"index\":\"Chicago\"}],\"line_alpha\":[1.0],\"line_color\":[\"white\"],\"width\":[0.8],\"x\":[\"Chicago\"],\"y\":[175.0]}},\"id\":\"edadd004-4ac8-4c4d-90a7-5f353f4e4c1e\",\"type\":\"ColumnDataSource\"},{\"attributes\":{\"active_drag\":\"auto\",\"active_scroll\":\"auto\",\"active_tap\":\"auto\",\"tools\":[{\"id\":\"5f00995a-f02d-49c7-96de-faf8e3e565ce\",\"type\":\"PanTool\"},{\"id\":\"13af62c8-5f13-44bf-a43f-ea438b0d4ec8\",\"type\":\"WheelZoomTool\"},{\"id\":\"80ffea53-0674-45ed-8e17-2cccce740068\",\"type\":\"BoxZoomTool\"},{\"id\":\"79083a11-9e51-4211-a87c-ae69910d009f\",\"type\":\"SaveTool\"},{\"id\":\"196b58d6-7674-4dfc-b0f4-db50ea3b4074\",\"type\":\"ResetTool\"},{\"id\":\"69a629e9-a901-49bd-9eeb-380925db330c\",\"type\":\"HelpTool\"}]},\"id\":\"8be66fda-2247-41ee-9335-d3846d7dedd7\",\"type\":\"Toolbar\"},{\"attributes\":{\"callback\":null,\"column_names\":[\"line_color\",\"line_alpha\",\"color\",\"fill_alpha\",\"height\",\"width\",\"y\",\"x\",\"label\"],\"data\":{\"chart_index\":[{\"index\":\"New York\"}],\"color\":[\"#f22c40\"],\"fill_alpha\":[0.8],\"height\":[1166.0],\"index\":[\"New York\"],\"label\":[{\"index\":\"New York\"}],\"line_alpha\":[1.0],\"line_color\":[\"white\"],\"width\":[0.8],\"x\":[\"New York\"],\"y\":[583.0]}},\"id\":\"9fbb9f18-1937-49ac-bbdc-d673dc6e32e8\",\"type\":\"ColumnDataSource\"},{\"attributes\":{\"label\":{\"value\":\"Chicago\"},\"renderers\":[{\"id\":\"d48e42e9-7bff-4ddb-bd47-f88a73e7b55e\",\"type\":\"GlyphRenderer\"}]},\"id\":\"f779885e-0b37-4891-8048-4f5272506cd6\",\"type\":\"LegendItem\"},{\"attributes\":{\"label\":{\"value\":\"Amsterdam\"},\"renderers\":[{\"id\":\"47f31605-ab1e-476b-ab79-43cd99445a50\",\"type\":\"GlyphRenderer\"}]},\"id\":\"20190683-275e-4e66-8506-0a59577fa087\",\"type\":\"LegendItem\"},{\"attributes\":{},\"id\":\"6016ef86-939a-43ec-8e82-7ca0b49b5624\",\"type\":\"BasicTickFormatter\"},{\"attributes\":{\"callback\":null,\"column_names\":[\"line_color\",\"line_alpha\",\"color\",\"fill_alpha\",\"height\",\"width\",\"y\",\"x\",\"label\"],\"data\":{\"chart_index\":[{\"index\":\"Amsterdam\"}],\"color\":[\"#f22c40\"],\"fill_alpha\":[0.8],\"height\":[482.0],\"index\":[\"Amsterdam\"],\"label\":[{\"index\":\"Amsterdam\"}],\"line_alpha\":[1.0],\"line_color\":[\"white\"],\"width\":[0.8],\"x\":[\"Amsterdam\"],\"y\":[241.0]}},\"id\":\"9a7d80d8-22c4-4003-8570-a52896be2a09\",\"type\":\"ColumnDataSource\"},{\"attributes\":{\"formatter\":{\"id\":\"4cee43c4-c35d-43d7-a68f-9d328d4b57c1\",\"type\":\"CategoricalTickFormatter\"},\"major_label_orientation\":0.7853981633974483,\"plot\":{\"id\":\"3494f579-4341-4f85-9ebb-328538b7734f\",\"subtype\":\"Chart\",\"type\":\"Plot\"},\"ticker\":{\"id\":\"3ee53539-1cbf-4f68-b68f-b54c2d7275d9\",\"type\":\"CategoricalTicker\"}},\"id\":\"c796cc6e-3927-4fd5-b656-661337b6b664\",\"type\":\"CategoricalAxis\"},{\"attributes\":{\"label\":{\"value\":\"New York\"},\"renderers\":[{\"id\":\"de7a243a-5a8b-4e4a-a20f-13ae6e172a38\",\"type\":\"GlyphRenderer\"}]},\"id\":\"2b3f1a47-989f-4b58-ba55-3ba917368ee0\",\"type\":\"LegendItem\"},{\"attributes\":{\"label\":{\"value\":\"Seattle\"},\"renderers\":[{\"id\":\"07fd61d7-1a7a-42d1-a540-e03da664e4be\",\"type\":\"GlyphRenderer\"}]},\"id\":\"c4f5cbea-219b-4e57-b873-9546aaf45697\",\"type\":\"LegendItem\"},{\"attributes\":{\"plot\":{\"id\":\"3494f579-4341-4f85-9ebb-328538b7734f\",\"subtype\":\"Chart\",\"type\":\"Plot\"}},\"id\":\"69a629e9-a901-49bd-9eeb-380925db330c\",\"type\":\"HelpTool\"},{\"attributes\":{\"label\":{\"value\":\"Philadelphia\"},\"renderers\":[{\"id\":\"2c0f3709-8949-46fa-91c3-a273322553c8\",\"type\":\"GlyphRenderer\"}]},\"id\":\"ee69d348-b1a5-4b62-9df7-fa9d1d4ea068\",\"type\":\"LegendItem\"},{\"attributes\":{\"fill_alpha\":{\"field\":\"fill_alpha\"},\"fill_color\":{\"field\":\"color\"},\"height\":{\"field\":\"height\",\"units\":\"data\"},\"line_color\":{\"field\":\"line_color\"},\"width\":{\"field\":\"width\",\"units\":\"data\"},\"x\":{\"field\":\"x\"},\"y\":{\"field\":\"y\"}},\"id\":\"f885a684-326a-4cf6-bdd9-4508d140ac6d\",\"type\":\"Rect\"},{\"attributes\":{\"callback\":null,\"column_names\":[\"line_color\",\"line_alpha\",\"color\",\"fill_alpha\",\"height\",\"width\",\"y\",\"x\",\"label\"],\"data\":{\"chart_index\":[{\"index\":\"Berlin\"}],\"color\":[\"#f22c40\"],\"fill_alpha\":[0.8],\"height\":[1263.0],\"index\":[\"Berlin\"],\"label\":[{\"index\":\"Berlin\"}],\"line_alpha\":[1.0],\"line_color\":[\"white\"],\"width\":[0.8],\"x\":[\"Berlin\"],\"y\":[631.5]}},\"id\":\"0c35083c-f73b-4a96-9445-d14a485a7113\",\"type\":\"ColumnDataSource\"},{\"attributes\":{\"callback\":null,\"factors\":[\"Amsterdam\",\"Berlin\",\"Chicago\",\"London\",\"Munchen\",\"New York\",\"No office location\",\"Philadelphia\",\"San Francisco\",\"Seattle\"]},\"id\":\"cf43e0e5-fd30-4d9d-824d-c27b9555f223\",\"type\":\"FactorRange\"},{\"attributes\":{\"plot\":{\"id\":\"3494f579-4341-4f85-9ebb-328538b7734f\",\"subtype\":\"Chart\",\"type\":\"Plot\"}},\"id\":\"79083a11-9e51-4211-a87c-ae69910d009f\",\"type\":\"SaveTool\"},{\"attributes\":{\"fill_alpha\":{\"field\":\"fill_alpha\"},\"fill_color\":{\"field\":\"color\"},\"height\":{\"field\":\"height\",\"units\":\"data\"},\"line_color\":{\"field\":\"line_color\"},\"width\":{\"field\":\"width\",\"units\":\"data\"},\"x\":{\"field\":\"x\"},\"y\":{\"field\":\"y\"}},\"id\":\"719cc6fe-f9f4-45b5-b479-82c6a4a97f39\",\"type\":\"Rect\"},{\"attributes\":{\"items\":[{\"id\":\"3dd321dc-9604-4fc4-8966-65dc094e47f3\",\"type\":\"LegendItem\"},{\"id\":\"b0fadeae-f28d-455a-8d63-bd22f388cb7c\",\"type\":\"LegendItem\"},{\"id\":\"2b3f1a47-989f-4b58-ba55-3ba917368ee0\",\"type\":\"LegendItem\"},{\"id\":\"b36e4519-c01f-41d2-be8d-d86489ef9627\",\"type\":\"LegendItem\"},{\"id\":\"705be4fe-c861-4a2a-8085-a7e128640ac1\",\"type\":\"LegendItem\"},{\"id\":\"20190683-275e-4e66-8506-0a59577fa087\",\"type\":\"LegendItem\"},{\"id\":\"c4f5cbea-219b-4e57-b873-9546aaf45697\",\"type\":\"LegendItem\"},{\"id\":\"ee69d348-b1a5-4b62-9df7-fa9d1d4ea068\",\"type\":\"LegendItem\"},{\"id\":\"f779885e-0b37-4891-8048-4f5272506cd6\",\"type\":\"LegendItem\"},{\"id\":\"1e3e7f87-21e2-4135-8d36-0b6118a8f208\",\"type\":\"LegendItem\"}],\"location\":\"top_left\",\"plot\":{\"id\":\"3494f579-4341-4f85-9ebb-328538b7734f\",\"subtype\":\"Chart\",\"type\":\"Plot\"}},\"id\":\"b7b27c09-641d-42a7-a232-f5fc746f860e\",\"type\":\"Legend\"}],\"root_ids\":[\"3494f579-4341-4f85-9ebb-328538b7734f\"]},\"title\":\"Bokeh Application\",\"version\":\"0.12.3\"}};\n",
       "            var render_items = [{\"docid\":\"66f24649-4e48-449f-bc56-d1d2ee6e240b\",\"elementid\":\"a1d95109-4d8a-4ddf-b6e9-3a5ccc57b36b\",\"modelid\":\"3494f579-4341-4f85-9ebb-328538b7734f\"}];\n",
       "            \n",
       "            Bokeh.embed.embed_items(docs_json, render_items);\n",
       "        });\n",
       "      },\n",
       "      function(Bokeh) {\n",
       "      }\n",
       "    ];\n",
       "  \n",
       "    function run_inline_js() {\n",
       "      \n",
       "      if ((window.Bokeh !== undefined) || (force === \"1\")) {\n",
       "        for (var i = 0; i < inline_js.length; i++) {\n",
       "          inline_js[i](window.Bokeh);\n",
       "        }if (force === \"1\") {\n",
       "          display_loaded();\n",
       "        }} else if (Date.now() < window._bokeh_timeout) {\n",
       "        setTimeout(run_inline_js, 100);\n",
       "      } else if (!window._bokeh_failed_load) {\n",
       "        console.log(\"Bokeh: BokehJS failed to load within specified timeout.\");\n",
       "        window._bokeh_failed_load = true;\n",
       "      } else if (!force) {\n",
       "        var cell = $(\"#a1d95109-4d8a-4ddf-b6e9-3a5ccc57b36b\").parents('.cell').data().cell;\n",
       "        cell.output_area.append_execute_result(NB_LOAD_WARNING)\n",
       "      }\n",
       "  \n",
       "    }\n",
       "  \n",
       "    if (window._bokeh_is_loading === 0) {\n",
       "      console.log(\"Bokeh: BokehJS loaded, going straight to plotting\");\n",
       "      run_inline_js();\n",
       "    } else {\n",
       "      load_libs(js_urls, function() {\n",
       "        console.log(\"Bokeh: BokehJS plotting callback run at\", now());\n",
       "        run_inline_js();\n",
       "      });\n",
       "    }\n",
       "  }(this));\n",
       "</script>"
      ]
     },
     "metadata": {},
     "output_type": "display_data"
    }
   ],
   "source": [
    "from bokeh.charts import Bar, output_file, show\n",
    "from bokeh.sampledata.autompg import autompg as df\n",
    "from bokeh.io import output_notebook, show \n",
    "\n",
    "output_notebook()\n",
    "\n",
    "p = Bar(cities)\n",
    "\n",
    "#output_file(\"bar.html\")\n",
    "\n",
    "show(p)"
   ]
  },
  {
   "cell_type": "code",
   "execution_count": 72,
   "metadata": {
    "collapsed": false
   },
   "outputs": [
    {
     "data": {
      "text/html": [
       "\n",
       "\n",
       "    <div class=\"bk-root\">\n",
       "        <div class=\"plotdiv\" id=\"3ab59ec7-40ad-491f-b6df-9eb222b039de\"></div>\n",
       "    </div>\n",
       "<script type=\"text/javascript\">\n",
       "  \n",
       "  (function(global) {\n",
       "    function now() {\n",
       "      return new Date();\n",
       "    }\n",
       "  \n",
       "    var force = \"\";\n",
       "  \n",
       "    if (typeof (window._bokeh_onload_callbacks) === \"undefined\" || force !== \"\") {\n",
       "      window._bokeh_onload_callbacks = [];\n",
       "      window._bokeh_is_loading = undefined;\n",
       "    }\n",
       "  \n",
       "  \n",
       "    \n",
       "    if (typeof (window._bokeh_timeout) === \"undefined\" || force !== \"\") {\n",
       "      window._bokeh_timeout = Date.now() + 0;\n",
       "      window._bokeh_failed_load = false;\n",
       "    }\n",
       "  \n",
       "    var NB_LOAD_WARNING = {'data': {'text/html':\n",
       "       \"<div style='background-color: #fdd'>\\n\"+\n",
       "       \"<p>\\n\"+\n",
       "       \"BokehJS does not appear to have successfully loaded. If loading BokehJS from CDN, this \\n\"+\n",
       "       \"may be due to a slow or bad network connection. Possible fixes:\\n\"+\n",
       "       \"</p>\\n\"+\n",
       "       \"<ul>\\n\"+\n",
       "       \"<li>re-rerun `output_notebook()` to attempt to load from CDN again, or</li>\\n\"+\n",
       "       \"<li>use INLINE resources instead, as so:</li>\\n\"+\n",
       "       \"</ul>\\n\"+\n",
       "       \"<code>\\n\"+\n",
       "       \"from bokeh.resources import INLINE\\n\"+\n",
       "       \"output_notebook(resources=INLINE)\\n\"+\n",
       "       \"</code>\\n\"+\n",
       "       \"</div>\"}};\n",
       "  \n",
       "    function display_loaded() {\n",
       "      if (window.Bokeh !== undefined) {\n",
       "        Bokeh.$(\"#3ab59ec7-40ad-491f-b6df-9eb222b039de\").text(\"BokehJS successfully loaded.\");\n",
       "      } else if (Date.now() < window._bokeh_timeout) {\n",
       "        setTimeout(display_loaded, 100)\n",
       "      }\n",
       "    }\n",
       "  \n",
       "    function run_callbacks() {\n",
       "      window._bokeh_onload_callbacks.forEach(function(callback) { callback() });\n",
       "      delete window._bokeh_onload_callbacks\n",
       "      console.info(\"Bokeh: all callbacks have finished\");\n",
       "    }\n",
       "  \n",
       "    function load_libs(js_urls, callback) {\n",
       "      window._bokeh_onload_callbacks.push(callback);\n",
       "      if (window._bokeh_is_loading > 0) {\n",
       "        console.log(\"Bokeh: BokehJS is being loaded, scheduling callback at\", now());\n",
       "        return null;\n",
       "      }\n",
       "      if (js_urls == null || js_urls.length === 0) {\n",
       "        run_callbacks();\n",
       "        return null;\n",
       "      }\n",
       "      console.log(\"Bokeh: BokehJS not loaded, scheduling load and callback at\", now());\n",
       "      window._bokeh_is_loading = js_urls.length;\n",
       "      for (var i = 0; i < js_urls.length; i++) {\n",
       "        var url = js_urls[i];\n",
       "        var s = document.createElement('script');\n",
       "        s.src = url;\n",
       "        s.async = false;\n",
       "        s.onreadystatechange = s.onload = function() {\n",
       "          window._bokeh_is_loading--;\n",
       "          if (window._bokeh_is_loading === 0) {\n",
       "            console.log(\"Bokeh: all BokehJS libraries loaded\");\n",
       "            run_callbacks()\n",
       "          }\n",
       "        };\n",
       "        s.onerror = function() {\n",
       "          console.warn(\"failed to load library \" + url);\n",
       "        };\n",
       "        console.log(\"Bokeh: injecting script tag for BokehJS library: \", url);\n",
       "        document.getElementsByTagName(\"head\")[0].appendChild(s);\n",
       "      }\n",
       "    };var element = document.getElementById(\"3ab59ec7-40ad-491f-b6df-9eb222b039de\");\n",
       "    if (element == null) {\n",
       "      console.log(\"Bokeh: ERROR: autoload.js configured with elementid '3ab59ec7-40ad-491f-b6df-9eb222b039de' but no matching script tag was found. \")\n",
       "      return false;\n",
       "    }\n",
       "  \n",
       "    var js_urls = [];\n",
       "  \n",
       "    var inline_js = [\n",
       "      function(Bokeh) {\n",
       "        Bokeh.$(function() {\n",
       "            var docs_json = {\"acb7f564-26da-489d-b1af-d089f48c9b11\":{\"roots\":{\"references\":[{\"attributes\":{\"data_source\":{\"id\":\"949df3a3-0c90-4e9e-9884-1e70d15fa99c\",\"type\":\"ColumnDataSource\"},\"glyph\":{\"id\":\"b1c16d8f-4922-46af-88d2-67d736c19e9d\",\"type\":\"Rect\"},\"hover_glyph\":null,\"nonselection_glyph\":null,\"selection_glyph\":null},\"id\":\"389ac7ff-6bde-4896-b215-abf2caf445b5\",\"type\":\"GlyphRenderer\"},{\"attributes\":{},\"id\":\"b6be3d74-98ff-4ed9-94d4-a1d492f382b6\",\"type\":\"BasicTicker\"},{\"attributes\":{\"callback\":null,\"column_names\":[\"line_color\",\"line_alpha\",\"color\",\"fill_alpha\",\"height\",\"width\",\"y\",\"x\",\"label\"],\"data\":{\"chart_index\":[{\"cyl\":8,\"origin\":1}],\"color\":[\"#00ad9c\"],\"cyl\":[8],\"fill_alpha\":[0.8],\"height\":[1.0],\"label\":[{\"cyl\":8,\"origin\":1}],\"line_alpha\":[1.0],\"line_color\":[\"black\"],\"origin\":[1],\"width\":[0.8],\"x\":[\"(8, 1)\"],\"y\":[13.5]}},\"id\":\"60731daf-2070-4cf4-9944-3c37ee829f08\",\"type\":\"ColumnDataSource\"},{\"attributes\":{\"callback\":null,\"column_names\":[\"line_color\",\"line_alpha\",\"color\",\"fill_alpha\",\"height\",\"width\",\"y\",\"x\",\"label\"],\"data\":{\"chart_index\":[{\"cyl\":6,\"origin\":2}],\"color\":[\"#df5320\"],\"cyl\":[6],\"fill_alpha\":[0.8],\"height\":[0.3249999999999993],\"label\":[{\"cyl\":6,\"origin\":2}],\"line_alpha\":[1.0],\"line_color\":[\"black\"],\"origin\":[2],\"width\":[0.8],\"x\":[\"(6, 2)\"],\"y\":[16.5875]}},\"id\":\"cc30b1a4-e4ca-4ff7-8b1b-02b79da5f3dd\",\"type\":\"ColumnDataSource\"},{\"attributes\":{\"line_width\":{\"value\":2},\"x0\":{\"field\":\"x0s\"},\"x1\":{\"field\":\"x1s\"},\"y0\":{\"field\":\"y0s\"},\"y1\":{\"field\":\"y1s\"}},\"id\":\"fed0a493-52dd-4620-92af-b30a39ca7123\",\"type\":\"Segment\"},{\"attributes\":{\"fill_alpha\":{\"field\":\"fill_alpha\"},\"fill_color\":{\"field\":\"color\"},\"height\":{\"field\":\"height\",\"units\":\"data\"},\"line_color\":{\"field\":\"line_color\"},\"width\":{\"field\":\"width\",\"units\":\"data\"},\"x\":{\"field\":\"x\"},\"y\":{\"field\":\"y\"}},\"id\":\"401301cd-c9a9-45ed-bbdc-7ab927d72beb\",\"type\":\"Rect\"},{\"attributes\":{\"data_source\":{\"id\":\"6cfad449-31f9-4563-9198-b9c9cee0c1a2\",\"type\":\"ColumnDataSource\"},\"glyph\":{\"id\":\"279e7fe5-cae7-43a3-82fb-5194d103a746\",\"type\":\"Rect\"},\"hover_glyph\":null,\"nonselection_glyph\":null,\"selection_glyph\":null},\"id\":\"781f920a-0a1f-41d3-885c-98f554686a4c\",\"type\":\"GlyphRenderer\"},{\"attributes\":{\"data_source\":{\"id\":\"e8f7d001-32c0-44ab-87f4-1c12366ab385\",\"type\":\"ColumnDataSource\"},\"glyph\":{\"id\":\"f4762be3-dc01-40a6-903e-4c8940508ecf\",\"type\":\"Rect\"},\"hover_glyph\":null,\"nonselection_glyph\":null,\"selection_glyph\":null},\"id\":\"c9ec5cd1-f555-4425-848f-e28707950d4f\",\"type\":\"GlyphRenderer\"},{\"attributes\":{\"fill_alpha\":{\"value\":0.7},\"fill_color\":{\"value\":\"red\"},\"line_color\":{\"value\":\"red\"},\"size\":{\"units\":\"screen\",\"value\":5},\"x\":{\"field\":\"x_values\"},\"y\":{\"field\":\"y_values\"}},\"id\":\"74a40ee6-a269-4e44-9f55-b604a8de2380\",\"type\":\"Circle\"},{\"attributes\":{\"line_width\":{\"value\":2},\"x0\":{\"field\":\"x0s\"},\"x1\":{\"field\":\"x1s\"},\"y0\":{\"field\":\"y0s\"},\"y1\":{\"field\":\"y1s\"}},\"id\":\"fc3f9814-5716-4b32-99c5-f9947fcab500\",\"type\":\"Segment\"},{\"attributes\":{\"data_source\":{\"id\":\"5b2a48a4-3ef6-4e84-a6cc-dd77387280c2\",\"type\":\"ColumnDataSource\"},\"glyph\":{\"id\":\"609695a2-e841-402a-ac15-b593863165ef\",\"type\":\"Circle\"},\"hover_glyph\":null,\"nonselection_glyph\":null,\"selection_glyph\":null},\"id\":\"e327b101-4782-4c26-909a-a173d0564712\",\"type\":\"GlyphRenderer\"},{\"attributes\":{\"data_source\":{\"id\":\"4b19bbbe-b596-4f2f-a321-7b43f0bc3e52\",\"type\":\"ColumnDataSource\"},\"glyph\":{\"id\":\"83762e3b-4cfd-44f3-855d-648cbc4b4009\",\"type\":\"Rect\"},\"hover_glyph\":null,\"nonselection_glyph\":null,\"selection_glyph\":null},\"id\":\"39ef6981-8ed5-4b5a-ad4f-653b446e8401\",\"type\":\"GlyphRenderer\"},{\"attributes\":{\"fill_alpha\":{\"field\":\"fill_alpha\"},\"fill_color\":{\"field\":\"color\"},\"height\":{\"field\":\"height\",\"units\":\"data\"},\"line_color\":{\"field\":\"line_color\"},\"width\":{\"field\":\"width\",\"units\":\"data\"},\"x\":{\"field\":\"x\"},\"y\":{\"field\":\"y\"}},\"id\":\"d0fc7051-57b3-4015-9967-a6a3bd360436\",\"type\":\"Rect\"},{\"attributes\":{\"fill_alpha\":{\"field\":\"fill_alpha\"},\"fill_color\":{\"field\":\"color\"},\"height\":{\"field\":\"height\",\"units\":\"data\"},\"line_color\":{\"field\":\"line_color\"},\"width\":{\"field\":\"width\",\"units\":\"data\"},\"x\":{\"field\":\"x\"},\"y\":{\"field\":\"y\"}},\"id\":\"0af9d6cf-b8df-436d-8870-f8aa61ecd540\",\"type\":\"Rect\"},{\"attributes\":{\"callback\":null,\"column_names\":[\"line_color\",\"line_alpha\",\"color\",\"fill_alpha\",\"height\",\"width\",\"y\",\"x\",\"label\"],\"data\":{\"chart_index\":[{\"cyl\":4,\"origin\":2}],\"color\":[\"#5ab738\"],\"cyl\":[4],\"fill_alpha\":[0.8],\"height\":[3.0],\"label\":[{\"cyl\":4,\"origin\":2}],\"line_alpha\":[1.0],\"line_color\":[\"black\"],\"origin\":[2],\"width\":[0.8],\"x\":[\"(4, 2)\"],\"y\":[25.5]}},\"id\":\"6cfad449-31f9-4563-9198-b9c9cee0c1a2\",\"type\":\"ColumnDataSource\"},{\"attributes\":{\"callback\":null,\"column_names\":[\"line_color\",\"line_alpha\",\"color\",\"fill_alpha\",\"height\",\"width\",\"y\",\"x\",\"label\"],\"data\":{\"chart_index\":[{\"cyl\":6,\"origin\":3}],\"color\":[\"#df5320\"],\"cyl\":[6],\"fill_alpha\":[0.8],\"height\":[1.9999999999999964],\"label\":[{\"cyl\":6,\"origin\":3}],\"line_alpha\":[1.0],\"line_color\":[\"black\"],\"origin\":[3],\"width\":[0.8],\"x\":[\"(6, 3)\"],\"y\":[24.1]}},\"id\":\"f64cb6e9-7d38-4ef6-9750-bcfe24351435\",\"type\":\"ColumnDataSource\"},{\"attributes\":{\"data_source\":{\"id\":\"0808ff6b-3697-4205-bc19-e85e13cb0772\",\"type\":\"ColumnDataSource\"},\"glyph\":{\"id\":\"54933f3b-33eb-4f9e-89a4-258e18500d6d\",\"type\":\"Rect\"},\"hover_glyph\":null,\"nonselection_glyph\":null,\"selection_glyph\":null},\"id\":\"a52ccc7a-c9e0-4fd5-93fe-18b3baad70a1\",\"type\":\"GlyphRenderer\"},{\"attributes\":{\"data_source\":{\"id\":\"2dc1e13f-d5ba-4f74-936a-27d8293b7089\",\"type\":\"ColumnDataSource\"},\"glyph\":{\"id\":\"ed3e17c2-8aeb-45bb-b661-102f33efb63c\",\"type\":\"Rect\"},\"hover_glyph\":null,\"nonselection_glyph\":null,\"selection_glyph\":null},\"id\":\"cadc45e2-c570-49a0-b5dc-065cd2216c2d\",\"type\":\"GlyphRenderer\"},{\"attributes\":{\"fill_alpha\":{\"field\":\"fill_alpha\"},\"fill_color\":{\"field\":\"color\"},\"height\":{\"field\":\"height\",\"units\":\"data\"},\"line_color\":{\"field\":\"line_color\"},\"width\":{\"field\":\"width\",\"units\":\"data\"},\"x\":{\"field\":\"x\"},\"y\":{\"field\":\"y\"}},\"id\":\"17806cfc-e05e-42ff-a76c-35d7659e44ce\",\"type\":\"Rect\"},{\"attributes\":{\"data_source\":{\"id\":\"201c7bf7-79b9-4b58-95eb-7224f844b859\",\"type\":\"ColumnDataSource\"},\"glyph\":{\"id\":\"fc3f9814-5716-4b32-99c5-f9947fcab500\",\"type\":\"Segment\"},\"hover_glyph\":null,\"nonselection_glyph\":null,\"selection_glyph\":null},\"id\":\"1df9f480-d89a-4307-9107-65e6c695b018\",\"type\":\"GlyphRenderer\"},{\"attributes\":{\"callback\":null,\"column_names\":[\"x0s\",\"y0s\",\"x1s\",\"y1s\"],\"data\":{\"chart_index\":[{\"cyl\":6,\"origin\":1},{\"cyl\":6,\"origin\":1},{\"cyl\":6,\"origin\":1},{\"cyl\":6,\"origin\":1}],\"cyl\":[6,6,6,6],\"origin\":[1,1,1,1],\"x0s\":[\"(6, 1):0.5\",\"(6, 1):0.65\",\"(6, 1):0.5\",\"(6, 1):0.65\"],\"x1s\":[\"(6, 1):0.5\",\"(6, 1):0.35\",\"(6, 1):0.5\",\"(6, 1):0.35\"],\"y0s\":[15.0,15.0,20.8,25.0],\"y1s\":[18.0,15.0,25.0,25.0]}},\"id\":\"3716d430-c6c0-4402-a737-2831ff6d4620\",\"type\":\"ColumnDataSource\"},{\"attributes\":{\"data_source\":{\"id\":\"a2846fd1-5d74-480d-bec4-d1c243ae4777\",\"type\":\"ColumnDataSource\"},\"glyph\":{\"id\":\"be66abd6-59eb-4f38-9327-f28de52fbad6\",\"type\":\"Segment\"},\"hover_glyph\":null,\"nonselection_glyph\":null,\"selection_glyph\":null},\"id\":\"6a4ff624-1fcf-4ec4-842f-00aefbbb9aac\",\"type\":\"GlyphRenderer\"},{\"attributes\":{\"data_source\":{\"id\":\"f58a8200-12c6-4b84-98b1-28381b047262\",\"type\":\"ColumnDataSource\"},\"glyph\":{\"id\":\"e1b17789-218f-4b08-a9b9-0cd51f77aa4c\",\"type\":\"Circle\"},\"hover_glyph\":null,\"nonselection_glyph\":null,\"selection_glyph\":null},\"id\":\"2d88f937-7aa4-4a70-8db5-e026db4a6393\",\"type\":\"GlyphRenderer\"},{\"attributes\":{\"callback\":null,\"column_names\":[\"line_color\",\"line_alpha\",\"color\",\"fill_alpha\",\"height\",\"width\",\"y\",\"x\",\"label\"],\"data\":{\"chart_index\":[{\"cyl\":6,\"origin\":1}],\"color\":[\"#df5320\"],\"cyl\":[6],\"fill_alpha\":[0.8],\"height\":[1.8000000000000007],\"label\":[{\"cyl\":6,\"origin\":1}],\"line_alpha\":[1.0],\"line_color\":[\"black\"],\"origin\":[1],\"width\":[0.8],\"x\":[\"(6, 1)\"],\"y\":[19.9]}},\"id\":\"00ad48fb-5c4f-41f1-9a28-65702dbb5e01\",\"type\":\"ColumnDataSource\"},{\"attributes\":{\"callback\":null,\"column_names\":[\"x_values\",\"y_values\"],\"data\":{\"chart_index\":[{\"cyl\":4,\"origin\":2},{\"cyl\":4,\"origin\":2},{\"cyl\":4,\"origin\":2},{\"cyl\":4,\"origin\":2},{\"cyl\":4,\"origin\":2}],\"cyl\":[4,4,4,4,4],\"origin\":[2,2,2,2,2],\"x_values\":[\"(4, 2):0.5\",\"(4, 2):0.5\",\"(4, 2):0.5\",\"(4, 2):0.5\",\"(4, 2):0.5\"],\"y_values\":[43.1,41.5,44.3,43.4,44.0]}},\"id\":\"5b2a48a4-3ef6-4e84-a6cc-dd77387280c2\",\"type\":\"ColumnDataSource\"},{\"attributes\":{\"label\":{\"value\":\"(1, 6)\"},\"renderers\":[{\"id\":\"39ef6981-8ed5-4b5a-ad4f-653b446e8401\",\"type\":\"GlyphRenderer\"},{\"id\":\"e35f32bf-e6a3-4835-889e-0a99974d22c6\",\"type\":\"GlyphRenderer\"},{\"id\":\"a11133d9-e822-4edf-90c8-3cca7527bf7a\",\"type\":\"GlyphRenderer\"},{\"id\":\"8f6264b6-5505-4415-9031-ce3c0e05851f\",\"type\":\"GlyphRenderer\"}]},\"id\":\"b7550fb0-c15c-4dee-8408-8b482c404172\",\"type\":\"LegendItem\"},{\"attributes\":{\"line_width\":{\"value\":2},\"x0\":{\"field\":\"x0s\"},\"x1\":{\"field\":\"x1s\"},\"y0\":{\"field\":\"y0s\"},\"y1\":{\"field\":\"y1s\"}},\"id\":\"be66abd6-59eb-4f38-9327-f28de52fbad6\",\"type\":\"Segment\"},{\"attributes\":{\"callback\":null,\"column_names\":[\"x0s\",\"y0s\",\"x1s\",\"y1s\"],\"data\":{\"chart_index\":[{\"cyl\":4,\"origin\":1},{\"cyl\":4,\"origin\":1},{\"cyl\":4,\"origin\":1},{\"cyl\":4,\"origin\":1}],\"cyl\":[4,4,4,4],\"origin\":[1,1,1,1],\"x0s\":[\"(4, 1):0.5\",\"(4, 1):0.65\",\"(4, 1):0.5\",\"(4, 1):0.65\"],\"x1s\":[\"(4, 1):0.5\",\"(4, 1):0.35\",\"(4, 1):0.5\",\"(4, 1):0.35\"],\"y0s\":[19.0,19.0,30.9,39.0],\"y1s\":[25.0,19.0,39.0,39.0]}},\"id\":\"e5c7ecec-3414-477a-ad8e-bb48660cee35\",\"type\":\"ColumnDataSource\"},{\"attributes\":{\"fill_alpha\":{\"value\":0.7},\"fill_color\":{\"value\":\"red\"},\"line_color\":{\"value\":\"red\"},\"size\":{\"units\":\"screen\",\"value\":5},\"x\":{\"field\":\"x_values\"},\"y\":{\"field\":\"y_values\"}},\"id\":\"e1b17789-218f-4b08-a9b9-0cd51f77aa4c\",\"type\":\"Circle\"},{\"attributes\":{\"plot\":{\"id\":\"298a258e-6630-4c11-b54c-249a07a32772\",\"subtype\":\"Chart\",\"type\":\"Plot\"}},\"id\":\"efb44921-1947-4d99-91b0-ee17f29cf623\",\"type\":\"ResetTool\"},{\"attributes\":{\"plot\":{\"id\":\"298a258e-6630-4c11-b54c-249a07a32772\",\"subtype\":\"Chart\",\"type\":\"Plot\"}},\"id\":\"5c47d0fd-9552-4d2d-9059-51057fdca5ef\",\"type\":\"SaveTool\"},{\"attributes\":{\"label\":{\"value\":\"(2, 6)\"},\"renderers\":[{\"id\":\"a513d58c-9b94-4215-a5ad-2baad450135f\",\"type\":\"GlyphRenderer\"},{\"id\":\"a52ccc7a-c9e0-4fd5-93fe-18b3baad70a1\",\"type\":\"GlyphRenderer\"},{\"id\":\"13ac594a-8a80-40b2-acf0-f884911a1043\",\"type\":\"GlyphRenderer\"},{\"id\":\"6010e95e-e8c8-4997-9904-eca1f2ed5bbd\",\"type\":\"GlyphRenderer\"}]},\"id\":\"0b7f94f3-bb01-4913-a384-1a9f6680b717\",\"type\":\"LegendItem\"},{\"attributes\":{\"callback\":null,\"column_names\":[\"x_values\",\"y_values\"],\"data\":{\"chart_index\":[{\"cyl\":6,\"origin\":1},{\"cyl\":6,\"origin\":1},{\"cyl\":6,\"origin\":1}],\"cyl\":[6,6,6],\"origin\":[1,1,1],\"x_values\":[\"(6, 1):0.5\",\"(6, 1):0.5\",\"(6, 1):0.5\"],\"y_values\":[28.8,26.8,38.0]}},\"id\":\"36d66daf-2468-4785-8d3a-c67feb4bec0e\",\"type\":\"ColumnDataSource\"},{\"attributes\":{\"fill_alpha\":{\"field\":\"fill_alpha\"},\"fill_color\":{\"field\":\"color\"},\"height\":{\"field\":\"height\",\"units\":\"data\"},\"line_color\":{\"field\":\"line_color\"},\"width\":{\"field\":\"width\",\"units\":\"data\"},\"x\":{\"field\":\"x\"},\"y\":{\"field\":\"y\"}},\"id\":\"83762e3b-4cfd-44f3-855d-648cbc4b4009\",\"type\":\"Rect\"},{\"attributes\":{\"data_source\":{\"id\":\"8a2ff29b-901d-484b-b96d-9e897f7e929c\",\"type\":\"ColumnDataSource\"},\"glyph\":{\"id\":\"e6ecaf52-4c04-4ef7-b201-add391b09e97\",\"type\":\"Segment\"},\"hover_glyph\":null,\"nonselection_glyph\":null,\"selection_glyph\":null},\"id\":\"a2075098-c3aa-46e6-b917-02e807c2f65c\",\"type\":\"GlyphRenderer\"},{\"attributes\":{\"data_source\":{\"id\":\"1422a806-5fa1-464b-885b-e4578b9769de\",\"type\":\"ColumnDataSource\"},\"glyph\":{\"id\":\"74a40ee6-a269-4e44-9f55-b604a8de2380\",\"type\":\"Circle\"},\"hover_glyph\":null,\"nonselection_glyph\":null,\"selection_glyph\":null},\"id\":\"9fabaab0-57a7-432e-99af-c1fe78b9eaa6\",\"type\":\"GlyphRenderer\"},{\"attributes\":{\"callback\":null,\"column_names\":[\"x_values\",\"y_values\"],\"data\":{\"chart_index\":[{\"cyl\":6,\"origin\":3}],\"cyl\":[6],\"origin\":[3],\"x_values\":[\"(6, 3):0.5\"],\"y_values\":[32.7]}},\"id\":\"f58a8200-12c6-4b84-98b1-28381b047262\",\"type\":\"ColumnDataSource\"},{\"attributes\":{\"fill_alpha\":{\"field\":\"fill_alpha\"},\"fill_color\":{\"field\":\"color\"},\"height\":{\"field\":\"height\",\"units\":\"data\"},\"line_color\":{\"field\":\"line_color\"},\"width\":{\"field\":\"width\",\"units\":\"data\"},\"x\":{\"field\":\"x\"},\"y\":{\"field\":\"y\"}},\"id\":\"304e9cd0-1ca2-482d-ab50-16b517a89cda\",\"type\":\"Rect\"},{\"attributes\":{\"data_source\":{\"id\":\"f64cb6e9-7d38-4ef6-9750-bcfe24351435\",\"type\":\"ColumnDataSource\"},\"glyph\":{\"id\":\"d0fc7051-57b3-4015-9967-a6a3bd360436\",\"type\":\"Rect\"},\"hover_glyph\":null,\"nonselection_glyph\":null,\"selection_glyph\":null},\"id\":\"79aa549d-f0ce-46fc-adf4-49b8d1056254\",\"type\":\"GlyphRenderer\"},{\"attributes\":{\"plot\":{\"id\":\"298a258e-6630-4c11-b54c-249a07a32772\",\"subtype\":\"Chart\",\"type\":\"Plot\"}},\"id\":\"82a63ac1-fa08-4c31-bd24-11205f209681\",\"type\":\"PanTool\"},{\"attributes\":{\"data_source\":{\"id\":\"00ad48fb-5c4f-41f1-9a28-65702dbb5e01\",\"type\":\"ColumnDataSource\"},\"glyph\":{\"id\":\"0b20f4c6-9849-42b1-b00d-8983d414530c\",\"type\":\"Rect\"},\"hover_glyph\":null,\"nonselection_glyph\":null,\"selection_glyph\":null},\"id\":\"e35f32bf-e6a3-4835-889e-0a99974d22c6\",\"type\":\"GlyphRenderer\"},{\"attributes\":{\"callback\":null,\"column_names\":[\"line_color\",\"line_alpha\",\"color\",\"fill_alpha\",\"height\",\"width\",\"y\",\"x\",\"label\"],\"data\":{\"chart_index\":[{\"cyl\":5,\"origin\":2}],\"color\":[\"#407ee7\"],\"cyl\":[5],\"fill_alpha\":[0.8],\"height\":[5.5],\"label\":[{\"cyl\":5,\"origin\":2}],\"line_alpha\":[1.0],\"line_color\":[\"black\"],\"origin\":[2],\"width\":[0.8],\"x\":[\"(5, 2)\"],\"y\":[28.15]}},\"id\":\"bd83858d-d4e2-485c-bc11-45841a2bed52\",\"type\":\"ColumnDataSource\"},{\"attributes\":{\"line_width\":{\"value\":2},\"x0\":{\"field\":\"x0s\"},\"x1\":{\"field\":\"x1s\"},\"y0\":{\"field\":\"y0s\"},\"y1\":{\"field\":\"y1s\"}},\"id\":\"46d72658-9718-497d-ac03-512cc5afd299\",\"type\":\"Segment\"},{\"attributes\":{\"data_source\":{\"id\":\"5d5810fb-52d4-4758-802b-62b860693f8b\",\"type\":\"ColumnDataSource\"},\"glyph\":{\"id\":\"20c88dd6-44d5-4a7f-b511-7411b2c1e474\",\"type\":\"Rect\"},\"hover_glyph\":null,\"nonselection_glyph\":null,\"selection_glyph\":null},\"id\":\"52d83eb4-9b01-4ea6-b145-da926f55af8f\",\"type\":\"GlyphRenderer\"},{\"attributes\":{},\"id\":\"a77b0fae-0c47-416f-98fd-9c05f8be557d\",\"type\":\"CategoricalTicker\"},{\"attributes\":{\"label\":{\"value\":\"(1, 8)\"},\"renderers\":[{\"id\":\"c6be04ff-dc40-4e2d-878d-4240933da944\",\"type\":\"GlyphRenderer\"},{\"id\":\"389ac7ff-6bde-4896-b215-abf2caf445b5\",\"type\":\"GlyphRenderer\"},{\"id\":\"6c177f8b-cc6c-4e31-bb0f-dafa51c57a98\",\"type\":\"GlyphRenderer\"},{\"id\":\"1df9f480-d89a-4307-9107-65e6c695b018\",\"type\":\"GlyphRenderer\"}]},\"id\":\"5b2b4a26-d911-4c1e-892b-8fac2a1eea55\",\"type\":\"LegendItem\"},{\"attributes\":{\"callback\":null,\"column_names\":[\"line_color\",\"line_alpha\",\"color\",\"fill_alpha\",\"height\",\"width\",\"y\",\"x\",\"label\"],\"data\":{\"chart_index\":[{\"cyl\":6,\"origin\":1}],\"color\":[\"#df5320\"],\"cyl\":[6],\"fill_alpha\":[0.8],\"height\":[1.0],\"label\":[{\"cyl\":6,\"origin\":1}],\"line_alpha\":[1.0],\"line_color\":[\"black\"],\"origin\":[1],\"width\":[0.8],\"x\":[\"(6, 1)\"],\"y\":[18.5]}},\"id\":\"4b19bbbe-b596-4f2f-a321-7b43f0bc3e52\",\"type\":\"ColumnDataSource\"},{\"attributes\":{\"callback\":null,\"column_names\":[\"line_color\",\"line_alpha\",\"color\",\"fill_alpha\",\"height\",\"width\",\"y\",\"x\",\"label\"],\"data\":{\"chart_index\":[{\"cyl\":4,\"origin\":3}],\"color\":[\"#5ab738\"],\"cyl\":[4],\"fill_alpha\":[0.8],\"height\":[3.0],\"label\":[{\"cyl\":4,\"origin\":3}],\"line_alpha\":[1.0],\"line_color\":[\"black\"],\"origin\":[3],\"width\":[0.8],\"x\":[\"(4, 3)\"],\"y\":[33.5]}},\"id\":\"ffa18753-1f4c-4a3c-b137-7fe68f43bbde\",\"type\":\"ColumnDataSource\"},{\"attributes\":{\"plot\":{\"id\":\"298a258e-6630-4c11-b54c-249a07a32772\",\"subtype\":\"Chart\",\"type\":\"Plot\"}},\"id\":\"71f99e78-dedf-419d-89c2-403e1a1145df\",\"type\":\"HelpTool\"},{\"attributes\":{\"active_drag\":\"auto\",\"active_scroll\":\"auto\",\"active_tap\":\"auto\",\"tools\":[{\"id\":\"82a63ac1-fa08-4c31-bd24-11205f209681\",\"type\":\"PanTool\"},{\"id\":\"d05601a4-0fe9-4729-911d-477ee6860d99\",\"type\":\"WheelZoomTool\"},{\"id\":\"79ec18a1-23cd-4b5e-8d15-7354fcd8aba8\",\"type\":\"BoxZoomTool\"},{\"id\":\"5c47d0fd-9552-4d2d-9059-51057fdca5ef\",\"type\":\"SaveTool\"},{\"id\":\"efb44921-1947-4d99-91b0-ee17f29cf623\",\"type\":\"ResetTool\"},{\"id\":\"71f99e78-dedf-419d-89c2-403e1a1145df\",\"type\":\"HelpTool\"}]},\"id\":\"bda390ba-4832-433f-9a26-d01007935536\",\"type\":\"Toolbar\"},{\"attributes\":{\"fill_alpha\":{\"field\":\"fill_alpha\"},\"fill_color\":{\"field\":\"color\"},\"height\":{\"field\":\"height\",\"units\":\"data\"},\"line_color\":{\"field\":\"line_color\"},\"width\":{\"field\":\"width\",\"units\":\"data\"},\"x\":{\"field\":\"x\"},\"y\":{\"field\":\"y\"}},\"id\":\"20c88dd6-44d5-4a7f-b511-7411b2c1e474\",\"type\":\"Rect\"},{\"attributes\":{\"fill_alpha\":{\"field\":\"fill_alpha\"},\"fill_color\":{\"field\":\"color\"},\"height\":{\"field\":\"height\",\"units\":\"data\"},\"line_color\":{\"field\":\"line_color\"},\"width\":{\"field\":\"width\",\"units\":\"data\"},\"x\":{\"field\":\"x\"},\"y\":{\"field\":\"y\"}},\"id\":\"f4762be3-dc01-40a6-903e-4c8940508ecf\",\"type\":\"Rect\"},{\"attributes\":{\"callback\":null,\"column_names\":[\"line_color\",\"line_alpha\",\"color\",\"fill_alpha\",\"height\",\"width\",\"y\",\"x\",\"label\"],\"data\":{\"chart_index\":[{\"cyl\":6,\"origin\":3}],\"color\":[\"#df5320\"],\"cyl\":[6],\"fill_alpha\":[0.8],\"height\":[2.6000000000000014],\"label\":[{\"cyl\":6,\"origin\":3}],\"line_alpha\":[1.0],\"line_color\":[\"black\"],\"origin\":[3],\"width\":[0.8],\"x\":[\"(6, 3)\"],\"y\":[21.8]}},\"id\":\"dab29c85-dd69-4b2b-98d8-003b37fcdf8b\",\"type\":\"ColumnDataSource\"},{\"attributes\":{\"data_source\":{\"id\":\"36d66daf-2468-4785-8d3a-c67feb4bec0e\",\"type\":\"ColumnDataSource\"},\"glyph\":{\"id\":\"5f1e2c67-f052-46f0-a0e1-0fd7457d8539\",\"type\":\"Circle\"},\"hover_glyph\":null,\"nonselection_glyph\":null,\"selection_glyph\":null},\"id\":\"a11133d9-e822-4edf-90c8-3cca7527bf7a\",\"type\":\"GlyphRenderer\"},{\"attributes\":{\"data_source\":{\"id\":\"27ae270f-bcd9-4e82-b425-213815f79aa3\",\"type\":\"ColumnDataSource\"},\"glyph\":{\"id\":\"17806cfc-e05e-42ff-a76c-35d7659e44ce\",\"type\":\"Rect\"},\"hover_glyph\":null,\"nonselection_glyph\":null,\"selection_glyph\":null},\"id\":\"a3a69865-0868-41b8-8316-8626c3640c60\",\"type\":\"GlyphRenderer\"},{\"attributes\":{\"fill_alpha\":{\"value\":0.7},\"fill_color\":{\"value\":\"red\"},\"line_color\":{\"value\":\"red\"},\"size\":{\"units\":\"screen\",\"value\":5},\"x\":{\"field\":\"x_values\"},\"y\":{\"field\":\"y_values\"}},\"id\":\"0447b6a8-7bfa-45a5-8aa3-1d37a6dcf029\",\"type\":\"Circle\"},{\"attributes\":{\"data_source\":{\"id\":\"f33ea732-bd76-449e-afd4-84db0a82f68e\",\"type\":\"ColumnDataSource\"},\"glyph\":{\"id\":\"c750f8b4-92c1-4498-bf10-5efe1136d05e\",\"type\":\"Segment\"},\"hover_glyph\":null,\"nonselection_glyph\":null,\"selection_glyph\":null},\"id\":\"fc0fa932-335e-47e4-a8fe-ed7e4a19550c\",\"type\":\"GlyphRenderer\"},{\"attributes\":{\"data_source\":{\"id\":\"bd83858d-d4e2-485c-bc11-45841a2bed52\",\"type\":\"ColumnDataSource\"},\"glyph\":{\"id\":\"0e25aae0-039a-43dd-921e-2a2cee4fd633\",\"type\":\"Rect\"},\"hover_glyph\":null,\"nonselection_glyph\":null,\"selection_glyph\":null},\"id\":\"09c3bf58-130e-4f02-9a66-534b46902a1b\",\"type\":\"GlyphRenderer\"},{\"attributes\":{\"bottom_units\":\"screen\",\"fill_alpha\":{\"value\":0.5},\"fill_color\":{\"value\":\"lightgrey\"},\"left_units\":\"screen\",\"level\":\"overlay\",\"line_alpha\":{\"value\":1.0},\"line_color\":{\"value\":\"black\"},\"line_dash\":[4,4],\"line_width\":{\"value\":2},\"plot\":null,\"render_mode\":\"css\",\"right_units\":\"screen\",\"top_units\":\"screen\"},\"id\":\"43561544-00c9-4bb1-bd4c-7ba48d9e1c87\",\"type\":\"BoxAnnotation\"},{\"attributes\":{\"callback\":null,\"column_names\":[\"line_color\",\"line_alpha\",\"color\",\"fill_alpha\",\"height\",\"width\",\"y\",\"x\",\"label\"],\"data\":{\"chart_index\":[{\"cyl\":6,\"origin\":2}],\"color\":[\"#df5320\"],\"cyl\":[6],\"fill_alpha\":[0.8],\"height\":[3.6750000000000007],\"label\":[{\"cyl\":6,\"origin\":2}],\"line_alpha\":[1.0],\"line_color\":[\"black\"],\"origin\":[2],\"width\":[0.8],\"x\":[\"(6, 2)\"],\"y\":[18.5875]}},\"id\":\"0808ff6b-3697-4205-bc19-e85e13cb0772\",\"type\":\"ColumnDataSource\"},{\"attributes\":{\"fill_alpha\":{\"field\":\"fill_alpha\"},\"fill_color\":{\"field\":\"color\"},\"height\":{\"field\":\"height\",\"units\":\"data\"},\"line_color\":{\"field\":\"line_color\"},\"width\":{\"field\":\"width\",\"units\":\"data\"},\"x\":{\"field\":\"x\"},\"y\":{\"field\":\"y\"}},\"id\":\"279e7fe5-cae7-43a3-82fb-5194d103a746\",\"type\":\"Rect\"},{\"attributes\":{\"axis_label\":\"Mpg\",\"formatter\":{\"id\":\"d5b732f1-a8a6-4db6-a37f-bd47d8c69c1b\",\"type\":\"BasicTickFormatter\"},\"plot\":{\"id\":\"298a258e-6630-4c11-b54c-249a07a32772\",\"subtype\":\"Chart\",\"type\":\"Plot\"},\"ticker\":{\"id\":\"b6be3d74-98ff-4ed9-94d4-a1d492f382b6\",\"type\":\"BasicTicker\"}},\"id\":\"f57397e5-752e-4c13-a096-cb479e0c0f90\",\"type\":\"LinearAxis\"},{\"attributes\":{\"fill_alpha\":{\"field\":\"fill_alpha\"},\"fill_color\":{\"field\":\"color\"},\"height\":{\"field\":\"height\",\"units\":\"data\"},\"line_color\":{\"field\":\"line_color\"},\"width\":{\"field\":\"width\",\"units\":\"data\"},\"x\":{\"field\":\"x\"},\"y\":{\"field\":\"y\"}},\"id\":\"0e25aae0-039a-43dd-921e-2a2cee4fd633\",\"type\":\"Rect\"},{\"attributes\":{\"callback\":null,\"column_names\":[\"line_color\",\"line_alpha\",\"color\",\"fill_alpha\",\"height\",\"width\",\"y\",\"x\",\"label\"],\"data\":{\"chart_index\":[{\"cyl\":4,\"origin\":3}],\"color\":[\"#5ab738\"],\"cyl\":[4],\"fill_alpha\":[0.8],\"height\":[4.5],\"label\":[{\"cyl\":4,\"origin\":3}],\"line_alpha\":[1.0],\"line_color\":[\"black\"],\"origin\":[3],\"width\":[0.8],\"x\":[\"(4, 3)\"],\"y\":[29.75]}},\"id\":\"e8f7d001-32c0-44ab-87f4-1c12366ab385\",\"type\":\"ColumnDataSource\"},{\"attributes\":{\"line_width\":{\"value\":2},\"x0\":{\"field\":\"x0s\"},\"x1\":{\"field\":\"x1s\"},\"y0\":{\"field\":\"y0s\"},\"y1\":{\"field\":\"y1s\"}},\"id\":\"b49fa2b5-2279-4632-b18a-3f4ab21909c3\",\"type\":\"Segment\"},{\"attributes\":{\"label\":{\"value\":\"(3, 4)\"},\"renderers\":[{\"id\":\"c9ec5cd1-f555-4425-848f-e28707950d4f\",\"type\":\"GlyphRenderer\"},{\"id\":\"d8dac347-ddcc-4b54-86c5-d9332a18c8d8\",\"type\":\"GlyphRenderer\"},{\"id\":\"9fabaab0-57a7-432e-99af-c1fe78b9eaa6\",\"type\":\"GlyphRenderer\"},{\"id\":\"fc0fa932-335e-47e4-a8fe-ed7e4a19550c\",\"type\":\"GlyphRenderer\"}]},\"id\":\"17fab10f-a5ff-4951-b0af-e7637b96b019\",\"type\":\"LegendItem\"},{\"attributes\":{\"data_source\":{\"id\":\"aae22e69-5a16-49a8-9f35-11b6173920de\",\"type\":\"ColumnDataSource\"},\"glyph\":{\"id\":\"0447b6a8-7bfa-45a5-8aa3-1d37a6dcf029\",\"type\":\"Circle\"},\"hover_glyph\":null,\"nonselection_glyph\":null,\"selection_glyph\":null},\"id\":\"13ac594a-8a80-40b2-acf0-f884911a1043\",\"type\":\"GlyphRenderer\"},{\"attributes\":{\"data_source\":{\"id\":\"3716d430-c6c0-4402-a737-2831ff6d4620\",\"type\":\"ColumnDataSource\"},\"glyph\":{\"id\":\"fed0a493-52dd-4620-92af-b30a39ca7123\",\"type\":\"Segment\"},\"hover_glyph\":null,\"nonselection_glyph\":null,\"selection_glyph\":null},\"id\":\"8f6264b6-5505-4415-9031-ce3c0e05851f\",\"type\":\"GlyphRenderer\"},{\"attributes\":{\"callback\":null,\"column_names\":[\"x_values\",\"y_values\"],\"data\":{\"chart_index\":[{\"cyl\":8,\"origin\":1},{\"cyl\":8,\"origin\":1},{\"cyl\":8,\"origin\":1}],\"cyl\":[8,8,8],\"origin\":[1,1,1],\"x_values\":[\"(8, 1):0.5\",\"(8, 1):0.5\",\"(8, 1):0.5\"],\"y_values\":[23.0,23.9,26.6]}},\"id\":\"2e6c944c-cc1f-4c12-bb39-2e29fb0872f1\",\"type\":\"ColumnDataSource\"},{\"attributes\":{\"line_width\":{\"value\":2},\"x0\":{\"field\":\"x0s\"},\"x1\":{\"field\":\"x1s\"},\"y0\":{\"field\":\"y0s\"},\"y1\":{\"field\":\"y1s\"}},\"id\":\"d5216db0-85b7-4f27-930a-48f8644b9d9f\",\"type\":\"Segment\"},{\"attributes\":{\"callback\":null,\"column_names\":[\"line_color\",\"line_alpha\",\"color\",\"fill_alpha\",\"height\",\"width\",\"y\",\"x\",\"label\"],\"data\":{\"chart_index\":[{\"cyl\":3,\"origin\":3}],\"color\":[\"#f22c40\"],\"cyl\":[3],\"fill_alpha\":[0.8],\"height\":[1.8000000000000007],\"label\":[{\"cyl\":3,\"origin\":3}],\"line_alpha\":[1.0],\"line_color\":[\"black\"],\"origin\":[3],\"width\":[0.8],\"x\":[\"(3, 3)\"],\"y\":[21.15]}},\"id\":\"27ae270f-bcd9-4e82-b425-213815f79aa3\",\"type\":\"ColumnDataSource\"},{\"attributes\":{\"line_width\":{\"value\":2},\"x0\":{\"field\":\"x0s\"},\"x1\":{\"field\":\"x1s\"},\"y0\":{\"field\":\"y0s\"},\"y1\":{\"field\":\"y1s\"}},\"id\":\"bded3264-ca98-461e-8a73-672e89ce48c7\",\"type\":\"Segment\"},{\"attributes\":{\"data_source\":{\"id\":\"60731daf-2070-4cf4-9944-3c37ee829f08\",\"type\":\"ColumnDataSource\"},\"glyph\":{\"id\":\"89ef9d6d-b380-43e0-915c-ce18c0178d55\",\"type\":\"Rect\"},\"hover_glyph\":null,\"nonselection_glyph\":null,\"selection_glyph\":null},\"id\":\"c6be04ff-dc40-4e2d-878d-4240933da944\",\"type\":\"GlyphRenderer\"},{\"attributes\":{\"line_width\":{\"value\":2},\"x0\":{\"field\":\"x0s\"},\"x1\":{\"field\":\"x1s\"},\"y0\":{\"field\":\"y0s\"},\"y1\":{\"field\":\"y1s\"}},\"id\":\"e6ecaf52-4c04-4ef7-b201-add391b09e97\",\"type\":\"Segment\"},{\"attributes\":{\"data_source\":{\"id\":\"ffa18753-1f4c-4a3c-b137-7fe68f43bbde\",\"type\":\"ColumnDataSource\"},\"glyph\":{\"id\":\"304e9cd0-1ca2-482d-ab50-16b517a89cda\",\"type\":\"Rect\"},\"hover_glyph\":null,\"nonselection_glyph\":null,\"selection_glyph\":null},\"id\":\"d8dac347-ddcc-4b54-86c5-d9332a18c8d8\",\"type\":\"GlyphRenderer\"},{\"attributes\":{\"fill_alpha\":{\"field\":\"fill_alpha\"},\"fill_color\":{\"field\":\"color\"},\"height\":{\"field\":\"height\",\"units\":\"data\"},\"line_color\":{\"field\":\"line_color\"},\"width\":{\"field\":\"width\",\"units\":\"data\"},\"x\":{\"field\":\"x\"},\"y\":{\"field\":\"y\"}},\"id\":\"be92bacb-f9c1-463a-be01-2caa7ad0941b\",\"type\":\"Rect\"},{\"attributes\":{\"label\":{\"value\":\"(1, 4)\"},\"renderers\":[{\"id\":\"5c82f0d8-53b1-4151-8fc8-8bb2bc6f25a9\",\"type\":\"GlyphRenderer\"},{\"id\":\"89acfa2f-e4aa-4e26-b274-b86b208fed00\",\"type\":\"GlyphRenderer\"},{\"id\":\"64d50f44-54c9-4537-9214-e8152bd57efd\",\"type\":\"GlyphRenderer\"}]},\"id\":\"02df18be-51f8-4e2a-bfe5-595f017d5dcc\",\"type\":\"LegendItem\"},{\"attributes\":{\"fill_alpha\":{\"value\":0.7},\"fill_color\":{\"value\":\"red\"},\"line_color\":{\"value\":\"red\"},\"size\":{\"units\":\"screen\",\"value\":5},\"x\":{\"field\":\"x_values\"},\"y\":{\"field\":\"y_values\"}},\"id\":\"609695a2-e841-402a-ac15-b593863165ef\",\"type\":\"Circle\"},{\"attributes\":{\"data_source\":{\"id\":\"9065268c-bfa9-4f16-9ed3-2e3c20cf7fc0\",\"type\":\"ColumnDataSource\"},\"glyph\":{\"id\":\"0af9d6cf-b8df-436d-8870-f8aa61ecd540\",\"type\":\"Rect\"},\"hover_glyph\":null,\"nonselection_glyph\":null,\"selection_glyph\":null},\"id\":\"89acfa2f-e4aa-4e26-b274-b86b208fed00\",\"type\":\"GlyphRenderer\"},{\"attributes\":{\"callback\":null,\"column_names\":[\"x0s\",\"y0s\",\"x1s\",\"y1s\"],\"data\":{\"chart_index\":[{\"cyl\":6,\"origin\":3},{\"cyl\":6,\"origin\":3},{\"cyl\":6,\"origin\":3},{\"cyl\":6,\"origin\":3}],\"cyl\":[6,6,6,6],\"origin\":[3,3,3,3],\"x0s\":[\"(6, 3):0.5\",\"(6, 3):0.65\",\"(6, 3):0.5\",\"(6, 3):0.65\"],\"x1s\":[\"(6, 3):0.5\",\"(6, 3):0.35\",\"(6, 3):0.5\",\"(6, 3):0.35\"],\"y0s\":[19.0,19.0,25.099999999999998,31.999999999999993],\"y1s\":[20.5,19.0,31.999999999999993,31.999999999999993]}},\"id\":\"a2846fd1-5d74-480d-bec4-d1c243ae4777\",\"type\":\"ColumnDataSource\"},{\"attributes\":{\"callback\":null,\"column_names\":[\"x0s\",\"y0s\",\"x1s\",\"y1s\"],\"data\":{\"chart_index\":[{\"cyl\":8,\"origin\":1},{\"cyl\":8,\"origin\":1},{\"cyl\":8,\"origin\":1},{\"cyl\":8,\"origin\":1}],\"cyl\":[8,8,8,8],\"origin\":[1,1,1,1],\"x0s\":[\"(8, 1):0.5\",\"(8, 1):0.65\",\"(8, 1):0.5\",\"(8, 1):0.65\"],\"x1s\":[\"(8, 1):0.5\",\"(8, 1):0.35\",\"(8, 1):0.5\",\"(8, 1):0.35\"],\"y0s\":[9.0,9.0,16.0,20.5],\"y1s\":[13.0,9.0,20.5,20.5]}},\"id\":\"201c7bf7-79b9-4b58-95eb-7224f844b859\",\"type\":\"ColumnDataSource\"},{\"attributes\":{\"below\":[{\"id\":\"173d763b-b182-4021-965a-7379de77711b\",\"type\":\"CategoricalAxis\"}],\"left\":[{\"id\":\"f57397e5-752e-4c13-a096-cb479e0c0f90\",\"type\":\"LinearAxis\"}],\"renderers\":[{\"id\":\"43561544-00c9-4bb1-bd4c-7ba48d9e1c87\",\"type\":\"BoxAnnotation\"},{\"id\":\"c6be04ff-dc40-4e2d-878d-4240933da944\",\"type\":\"GlyphRenderer\"},{\"id\":\"389ac7ff-6bde-4896-b215-abf2caf445b5\",\"type\":\"GlyphRenderer\"},{\"id\":\"6c177f8b-cc6c-4e31-bb0f-dafa51c57a98\",\"type\":\"GlyphRenderer\"},{\"id\":\"1df9f480-d89a-4307-9107-65e6c695b018\",\"type\":\"GlyphRenderer\"},{\"id\":\"c9ec5cd1-f555-4425-848f-e28707950d4f\",\"type\":\"GlyphRenderer\"},{\"id\":\"d8dac347-ddcc-4b54-86c5-d9332a18c8d8\",\"type\":\"GlyphRenderer\"},{\"id\":\"9fabaab0-57a7-432e-99af-c1fe78b9eaa6\",\"type\":\"GlyphRenderer\"},{\"id\":\"fc0fa932-335e-47e4-a8fe-ed7e4a19550c\",\"type\":\"GlyphRenderer\"},{\"id\":\"39ef6981-8ed5-4b5a-ad4f-653b446e8401\",\"type\":\"GlyphRenderer\"},{\"id\":\"e35f32bf-e6a3-4835-889e-0a99974d22c6\",\"type\":\"GlyphRenderer\"},{\"id\":\"a11133d9-e822-4edf-90c8-3cca7527bf7a\",\"type\":\"GlyphRenderer\"},{\"id\":\"8f6264b6-5505-4415-9031-ce3c0e05851f\",\"type\":\"GlyphRenderer\"},{\"id\":\"781f920a-0a1f-41d3-885c-98f554686a4c\",\"type\":\"GlyphRenderer\"},{\"id\":\"52d83eb4-9b01-4ea6-b145-da926f55af8f\",\"type\":\"GlyphRenderer\"},{\"id\":\"e327b101-4782-4c26-909a-a173d0564712\",\"type\":\"GlyphRenderer\"},{\"id\":\"2f0ef2be-9398-4f25-ab50-cf54f63d0226\",\"type\":\"GlyphRenderer\"},{\"id\":\"5c82f0d8-53b1-4151-8fc8-8bb2bc6f25a9\",\"type\":\"GlyphRenderer\"},{\"id\":\"89acfa2f-e4aa-4e26-b274-b86b208fed00\",\"type\":\"GlyphRenderer\"},{\"id\":\"64d50f44-54c9-4537-9214-e8152bd57efd\",\"type\":\"GlyphRenderer\"},{\"id\":\"7428c4d0-7e95-4785-9e71-aa0491a1fb0b\",\"type\":\"GlyphRenderer\"},{\"id\":\"a3a69865-0868-41b8-8316-8626c3640c60\",\"type\":\"GlyphRenderer\"},{\"id\":\"a2075098-c3aa-46e6-b917-02e807c2f65c\",\"type\":\"GlyphRenderer\"},{\"id\":\"1ec72ec2-d678-4f34-a0b4-5730221ce43c\",\"type\":\"GlyphRenderer\"},{\"id\":\"79aa549d-f0ce-46fc-adf4-49b8d1056254\",\"type\":\"GlyphRenderer\"},{\"id\":\"2d88f937-7aa4-4a70-8db5-e026db4a6393\",\"type\":\"GlyphRenderer\"},{\"id\":\"6a4ff624-1fcf-4ec4-842f-00aefbbb9aac\",\"type\":\"GlyphRenderer\"},{\"id\":\"a513d58c-9b94-4215-a5ad-2baad450135f\",\"type\":\"GlyphRenderer\"},{\"id\":\"a52ccc7a-c9e0-4fd5-93fe-18b3baad70a1\",\"type\":\"GlyphRenderer\"},{\"id\":\"13ac594a-8a80-40b2-acf0-f884911a1043\",\"type\":\"GlyphRenderer\"},{\"id\":\"6010e95e-e8c8-4997-9904-eca1f2ed5bbd\",\"type\":\"GlyphRenderer\"},{\"id\":\"cadc45e2-c570-49a0-b5dc-065cd2216c2d\",\"type\":\"GlyphRenderer\"},{\"id\":\"09c3bf58-130e-4f02-9a66-534b46902a1b\",\"type\":\"GlyphRenderer\"},{\"id\":\"0f3b9e69-e34d-49a4-9bdf-da5631514990\",\"type\":\"GlyphRenderer\"},{\"id\":\"5e62a194-9ccc-469e-8392-2d701217f5a8\",\"type\":\"Legend\"},{\"id\":\"173d763b-b182-4021-965a-7379de77711b\",\"type\":\"CategoricalAxis\"},{\"id\":\"f57397e5-752e-4c13-a096-cb479e0c0f90\",\"type\":\"LinearAxis\"},{\"id\":\"6b0f8eb8-310a-44c8-8e02-9d0da769b48a\",\"type\":\"Grid\"}],\"title\":{\"id\":\"0fba0055-cfd5-43d8-b89c-0c49861f56c3\",\"type\":\"Title\"},\"tool_events\":{\"id\":\"d03053e0-a991-4533-9cdf-0bac4ae35a34\",\"type\":\"ToolEvents\"},\"toolbar\":{\"id\":\"bda390ba-4832-433f-9a26-d01007935536\",\"type\":\"Toolbar\"},\"x_mapper_type\":\"auto\",\"x_range\":{\"id\":\"057d7f8e-b634-4566-b7b4-bf3634b4498d\",\"type\":\"FactorRange\"},\"y_mapper_type\":\"auto\",\"y_range\":{\"id\":\"a39b06ee-91c7-4d02-9479-9084bec5872f\",\"type\":\"Range1d\"}},\"id\":\"298a258e-6630-4c11-b54c-249a07a32772\",\"subtype\":\"Chart\",\"type\":\"Plot\"},{\"attributes\":{\"items\":[{\"id\":\"5b2b4a26-d911-4c1e-892b-8fac2a1eea55\",\"type\":\"LegendItem\"},{\"id\":\"17fab10f-a5ff-4951-b0af-e7637b96b019\",\"type\":\"LegendItem\"},{\"id\":\"b7550fb0-c15c-4dee-8408-8b482c404172\",\"type\":\"LegendItem\"},{\"id\":\"b1ec960e-e134-4d90-b728-d717c271d3bd\",\"type\":\"LegendItem\"},{\"id\":\"02df18be-51f8-4e2a-bfe5-595f017d5dcc\",\"type\":\"LegendItem\"},{\"id\":\"5ce1b9b5-4334-4053-872e-2a2669ebd59b\",\"type\":\"LegendItem\"},{\"id\":\"c859f16d-ed58-4ea1-9e7d-50f5d3118f98\",\"type\":\"LegendItem\"},{\"id\":\"0b7f94f3-bb01-4913-a384-1a9f6680b717\",\"type\":\"LegendItem\"},{\"id\":\"9fa4c289-9c5d-4135-a74c-f85cb361df3f\",\"type\":\"LegendItem\"}],\"location\":\"top_left\",\"plot\":{\"id\":\"298a258e-6630-4c11-b54c-249a07a32772\",\"subtype\":\"Chart\",\"type\":\"Plot\"}},\"id\":\"5e62a194-9ccc-469e-8392-2d701217f5a8\",\"type\":\"Legend\"},{\"attributes\":{\"label\":{\"value\":\"(3, 6)\"},\"renderers\":[{\"id\":\"1ec72ec2-d678-4f34-a0b4-5730221ce43c\",\"type\":\"GlyphRenderer\"},{\"id\":\"79aa549d-f0ce-46fc-adf4-49b8d1056254\",\"type\":\"GlyphRenderer\"},{\"id\":\"2d88f937-7aa4-4a70-8db5-e026db4a6393\",\"type\":\"GlyphRenderer\"},{\"id\":\"6a4ff624-1fcf-4ec4-842f-00aefbbb9aac\",\"type\":\"GlyphRenderer\"}]},\"id\":\"c859f16d-ed58-4ea1-9e7d-50f5d3118f98\",\"type\":\"LegendItem\"},{\"attributes\":{\"fill_alpha\":{\"field\":\"fill_alpha\"},\"fill_color\":{\"field\":\"color\"},\"height\":{\"field\":\"height\",\"units\":\"data\"},\"line_color\":{\"field\":\"line_color\"},\"width\":{\"field\":\"width\",\"units\":\"data\"},\"x\":{\"field\":\"x\"},\"y\":{\"field\":\"y\"}},\"id\":\"ed3e17c2-8aeb-45bb-b661-102f33efb63c\",\"type\":\"Rect\"},{\"attributes\":{},\"id\":\"d03053e0-a991-4533-9cdf-0bac4ae35a34\",\"type\":\"ToolEvents\"},{\"attributes\":{\"fill_alpha\":{\"field\":\"fill_alpha\"},\"fill_color\":{\"field\":\"color\"},\"height\":{\"field\":\"height\",\"units\":\"data\"},\"line_color\":{\"field\":\"line_color\"},\"width\":{\"field\":\"width\",\"units\":\"data\"},\"x\":{\"field\":\"x\"},\"y\":{\"field\":\"y\"}},\"id\":\"0b20f4c6-9849-42b1-b00d-8983d414530c\",\"type\":\"Rect\"},{\"attributes\":{\"label\":{\"value\":\"(2, 4)\"},\"renderers\":[{\"id\":\"781f920a-0a1f-41d3-885c-98f554686a4c\",\"type\":\"GlyphRenderer\"},{\"id\":\"52d83eb4-9b01-4ea6-b145-da926f55af8f\",\"type\":\"GlyphRenderer\"},{\"id\":\"e327b101-4782-4c26-909a-a173d0564712\",\"type\":\"GlyphRenderer\"},{\"id\":\"2f0ef2be-9398-4f25-ab50-cf54f63d0226\",\"type\":\"GlyphRenderer\"}]},\"id\":\"b1ec960e-e134-4d90-b728-d717c271d3bd\",\"type\":\"LegendItem\"},{\"attributes\":{\"callback\":null,\"column_names\":[\"x0s\",\"y0s\",\"x1s\",\"y1s\"],\"data\":{\"chart_index\":[{\"cyl\":5,\"origin\":2},{\"cyl\":5,\"origin\":2},{\"cyl\":5,\"origin\":2},{\"cyl\":5,\"origin\":2}],\"cyl\":[5,5,5,5],\"origin\":[2,2,2,2],\"x0s\":[\"(5, 2):0.5\",\"(5, 2):0.65\",\"(5, 2):0.5\",\"(5, 2):0.65\"],\"x1s\":[\"(5, 2):0.5\",\"(5, 2):0.35\",\"(5, 2):0.5\",\"(5, 2):0.35\"],\"y0s\":[20.3,20.3,30.9,36.4],\"y1s\":[22.85,20.3,36.4,36.4]}},\"id\":\"be9709a6-c10f-4c20-b967-942b97d9547a\",\"type\":\"ColumnDataSource\"},{\"attributes\":{\"callback\":null,\"end\":49.38},\"id\":\"a39b06ee-91c7-4d02-9479-9084bec5872f\",\"type\":\"Range1d\"},{\"attributes\":{\"data_source\":{\"id\":\"be9709a6-c10f-4c20-b967-942b97d9547a\",\"type\":\"ColumnDataSource\"},\"glyph\":{\"id\":\"d5216db0-85b7-4f27-930a-48f8644b9d9f\",\"type\":\"Segment\"},\"hover_glyph\":null,\"nonselection_glyph\":null,\"selection_glyph\":null},\"id\":\"0f3b9e69-e34d-49a4-9bdf-da5631514990\",\"type\":\"GlyphRenderer\"},{\"attributes\":{},\"id\":\"d5b732f1-a8a6-4db6-a37f-bd47d8c69c1b\",\"type\":\"BasicTickFormatter\"},{\"attributes\":{\"callback\":null,\"column_names\":[\"line_color\",\"line_alpha\",\"color\",\"fill_alpha\",\"height\",\"width\",\"y\",\"x\",\"label\"],\"data\":{\"chart_index\":[{\"cyl\":5,\"origin\":2}],\"color\":[\"#407ee7\"],\"cyl\":[5],\"fill_alpha\":[0.8],\"height\":[2.549999999999997],\"label\":[{\"cyl\":5,\"origin\":2}],\"line_alpha\":[1.0],\"line_color\":[\"black\"],\"origin\":[2],\"width\":[0.8],\"x\":[\"(5, 2)\"],\"y\":[24.125]}},\"id\":\"2dc1e13f-d5ba-4f74-936a-27d8293b7089\",\"type\":\"ColumnDataSource\"},{\"attributes\":{\"fill_alpha\":{\"value\":0.7},\"fill_color\":{\"value\":\"red\"},\"line_color\":{\"value\":\"red\"},\"size\":{\"units\":\"screen\",\"value\":5},\"x\":{\"field\":\"x_values\"},\"y\":{\"field\":\"y_values\"}},\"id\":\"6cced07f-10ec-4a6e-876d-cba364d1f744\",\"type\":\"Circle\"},{\"attributes\":{\"label\":{\"value\":\"(3, 3)\"},\"renderers\":[{\"id\":\"7428c4d0-7e95-4785-9e71-aa0491a1fb0b\",\"type\":\"GlyphRenderer\"},{\"id\":\"a3a69865-0868-41b8-8316-8626c3640c60\",\"type\":\"GlyphRenderer\"},{\"id\":\"a2075098-c3aa-46e6-b917-02e807c2f65c\",\"type\":\"GlyphRenderer\"}]},\"id\":\"5ce1b9b5-4334-4053-872e-2a2669ebd59b\",\"type\":\"LegendItem\"},{\"attributes\":{\"callback\":null,\"column_names\":[\"x_values\",\"y_values\"],\"data\":{\"chart_index\":[{\"cyl\":6,\"origin\":2}],\"cyl\":[6],\"origin\":[2],\"x_values\":[\"(6, 2):0.5\"],\"y_values\":[30.7]}},\"id\":\"aae22e69-5a16-49a8-9f35-11b6173920de\",\"type\":\"ColumnDataSource\"},{\"attributes\":{\"label\":{\"value\":\"(2, 5)\"},\"renderers\":[{\"id\":\"cadc45e2-c570-49a0-b5dc-065cd2216c2d\",\"type\":\"GlyphRenderer\"},{\"id\":\"09c3bf58-130e-4f02-9a66-534b46902a1b\",\"type\":\"GlyphRenderer\"},{\"id\":\"0f3b9e69-e34d-49a4-9bdf-da5631514990\",\"type\":\"GlyphRenderer\"}]},\"id\":\"9fa4c289-9c5d-4135-a74c-f85cb361df3f\",\"type\":\"LegendItem\"},{\"attributes\":{\"axis_label\":\"Cyl, Origin\",\"formatter\":{\"id\":\"0d479c39-c1e9-4b4f-a8f1-491e42124efd\",\"type\":\"CategoricalTickFormatter\"},\"major_label_orientation\":0.7853981633974483,\"plot\":{\"id\":\"298a258e-6630-4c11-b54c-249a07a32772\",\"subtype\":\"Chart\",\"type\":\"Plot\"},\"ticker\":{\"id\":\"a77b0fae-0c47-416f-98fd-9c05f8be557d\",\"type\":\"CategoricalTicker\"}},\"id\":\"173d763b-b182-4021-965a-7379de77711b\",\"type\":\"CategoricalAxis\"},{\"attributes\":{\"fill_alpha\":{\"value\":0.7},\"fill_color\":{\"value\":\"red\"},\"line_color\":{\"value\":\"red\"},\"size\":{\"units\":\"screen\",\"value\":5},\"x\":{\"field\":\"x_values\"},\"y\":{\"field\":\"y_values\"}},\"id\":\"5f1e2c67-f052-46f0-a0e1-0fd7457d8539\",\"type\":\"Circle\"},{\"attributes\":{\"data_source\":{\"id\":\"300cf7c5-6e4a-4a53-acb6-71c15fd4722c\",\"type\":\"ColumnDataSource\"},\"glyph\":{\"id\":\"75cb2a0e-58de-4554-9bc6-f746d5152e8b\",\"type\":\"Rect\"},\"hover_glyph\":null,\"nonselection_glyph\":null,\"selection_glyph\":null},\"id\":\"7428c4d0-7e95-4785-9e71-aa0491a1fb0b\",\"type\":\"GlyphRenderer\"},{\"attributes\":{\"callback\":null,\"column_names\":[\"line_color\",\"line_alpha\",\"color\",\"fill_alpha\",\"height\",\"width\",\"y\",\"x\",\"label\"],\"data\":{\"chart_index\":[{\"cyl\":8,\"origin\":1}],\"color\":[\"#00ad9c\"],\"cyl\":[8],\"fill_alpha\":[0.8],\"height\":[2.0],\"label\":[{\"cyl\":8,\"origin\":1}],\"line_alpha\":[1.0],\"line_color\":[\"black\"],\"origin\":[1],\"width\":[0.8],\"x\":[\"(8, 1)\"],\"y\":[15.0]}},\"id\":\"949df3a3-0c90-4e9e-9884-1e70d15fa99c\",\"type\":\"ColumnDataSource\"},{\"attributes\":{\"callback\":null,\"column_names\":[\"line_color\",\"line_alpha\",\"color\",\"fill_alpha\",\"height\",\"width\",\"y\",\"x\",\"label\"],\"data\":{\"chart_index\":[{\"cyl\":3,\"origin\":3}],\"color\":[\"#f22c40\"],\"cyl\":[3],\"fill_alpha\":[0.8],\"height\":[1.5],\"label\":[{\"cyl\":3,\"origin\":3}],\"line_alpha\":[1.0],\"line_color\":[\"black\"],\"origin\":[3],\"width\":[0.8],\"x\":[\"(3, 3)\"],\"y\":[19.5]}},\"id\":\"300cf7c5-6e4a-4a53-acb6-71c15fd4722c\",\"type\":\"ColumnDataSource\"},{\"attributes\":{\"fill_alpha\":{\"field\":\"fill_alpha\"},\"fill_color\":{\"field\":\"color\"},\"height\":{\"field\":\"height\",\"units\":\"data\"},\"line_color\":{\"field\":\"line_color\"},\"width\":{\"field\":\"width\",\"units\":\"data\"},\"x\":{\"field\":\"x\"},\"y\":{\"field\":\"y\"}},\"id\":\"54933f3b-33eb-4f9e-89a4-258e18500d6d\",\"type\":\"Rect\"},{\"attributes\":{\"callback\":null,\"column_names\":[\"line_color\",\"line_alpha\",\"color\",\"fill_alpha\",\"height\",\"width\",\"y\",\"x\",\"label\"],\"data\":{\"chart_index\":[{\"cyl\":4,\"origin\":2}],\"color\":[\"#5ab738\"],\"cyl\":[4],\"fill_alpha\":[0.8],\"height\":[3.0],\"label\":[{\"cyl\":4,\"origin\":2}],\"line_alpha\":[1.0],\"line_color\":[\"black\"],\"origin\":[2],\"width\":[0.8],\"x\":[\"(4, 2)\"],\"y\":[28.5]}},\"id\":\"5d5810fb-52d4-4758-802b-62b860693f8b\",\"type\":\"ColumnDataSource\"},{\"attributes\":{\"fill_alpha\":{\"field\":\"fill_alpha\"},\"fill_color\":{\"field\":\"color\"},\"height\":{\"field\":\"height\",\"units\":\"data\"},\"line_color\":{\"field\":\"line_color\"},\"width\":{\"field\":\"width\",\"units\":\"data\"},\"x\":{\"field\":\"x\"},\"y\":{\"field\":\"y\"}},\"id\":\"2795e669-f1a6-4f4f-882f-1e4864607835\",\"type\":\"Rect\"},{\"attributes\":{\"data_source\":{\"id\":\"dab29c85-dd69-4b2b-98d8-003b37fcdf8b\",\"type\":\"ColumnDataSource\"},\"glyph\":{\"id\":\"401301cd-c9a9-45ed-bbdc-7ab927d72beb\",\"type\":\"Rect\"},\"hover_glyph\":null,\"nonselection_glyph\":null,\"selection_glyph\":null},\"id\":\"1ec72ec2-d678-4f34-a0b4-5730221ce43c\",\"type\":\"GlyphRenderer\"},{\"attributes\":{\"fill_alpha\":{\"field\":\"fill_alpha\"},\"fill_color\":{\"field\":\"color\"},\"height\":{\"field\":\"height\",\"units\":\"data\"},\"line_color\":{\"field\":\"line_color\"},\"width\":{\"field\":\"width\",\"units\":\"data\"},\"x\":{\"field\":\"x\"},\"y\":{\"field\":\"y\"}},\"id\":\"b1c16d8f-4922-46af-88d2-67d736c19e9d\",\"type\":\"Rect\"},{\"attributes\":{\"callback\":null,\"column_names\":[\"x0s\",\"y0s\",\"x1s\",\"y1s\"],\"data\":{\"chart_index\":[{\"cyl\":6,\"origin\":2},{\"cyl\":6,\"origin\":2},{\"cyl\":6,\"origin\":2},{\"cyl\":6,\"origin\":2}],\"cyl\":[6,6,6,6],\"origin\":[2,2,2,2],\"x0s\":[\"(6, 2):0.5\",\"(6, 2):0.65\",\"(6, 2):0.5\",\"(6, 2):0.65\"],\"x1s\":[\"(6, 2):0.5\",\"(6, 2):0.35\",\"(6, 2):0.5\",\"(6, 2):0.35\"],\"y0s\":[16.2,16.2,20.425,26.425],\"y1s\":[16.425,16.2,26.425,26.425]}},\"id\":\"0037e972-f65f-4475-913e-4333f4398676\",\"type\":\"ColumnDataSource\"},{\"attributes\":{\"callback\":null,\"column_names\":[\"x0s\",\"y0s\",\"x1s\",\"y1s\"],\"data\":{\"chart_index\":[{\"cyl\":3,\"origin\":3},{\"cyl\":3,\"origin\":3},{\"cyl\":3,\"origin\":3},{\"cyl\":3,\"origin\":3}],\"cyl\":[3,3,3,3],\"origin\":[3,3,3,3],\"x0s\":[\"(3, 3):0.5\",\"(3, 3):0.65\",\"(3, 3):0.5\",\"(3, 3):0.65\"],\"x1s\":[\"(3, 3):0.5\",\"(3, 3):0.35\",\"(3, 3):0.5\",\"(3, 3):0.35\"],\"y0s\":[18.0,18.0,22.05,23.7],\"y1s\":[18.75,18.0,23.7,23.7]}},\"id\":\"8a2ff29b-901d-484b-b96d-9e897f7e929c\",\"type\":\"ColumnDataSource\"},{\"attributes\":{\"data_source\":{\"id\":\"0037e972-f65f-4475-913e-4333f4398676\",\"type\":\"ColumnDataSource\"},\"glyph\":{\"id\":\"bded3264-ca98-461e-8a73-672e89ce48c7\",\"type\":\"Segment\"},\"hover_glyph\":null,\"nonselection_glyph\":null,\"selection_glyph\":null},\"id\":\"6010e95e-e8c8-4997-9904-eca1f2ed5bbd\",\"type\":\"GlyphRenderer\"},{\"attributes\":{},\"id\":\"0d479c39-c1e9-4b4f-a8f1-491e42124efd\",\"type\":\"CategoricalTickFormatter\"},{\"attributes\":{\"callback\":null,\"column_names\":[\"x_values\",\"y_values\"],\"data\":{\"chart_index\":[{\"cyl\":4,\"origin\":3}],\"cyl\":[4],\"origin\":[3],\"x_values\":[\"(4, 3):0.5\"],\"y_values\":[46.6]}},\"id\":\"1422a806-5fa1-464b-885b-e4578b9769de\",\"type\":\"ColumnDataSource\"},{\"attributes\":{\"callback\":null,\"column_names\":[\"x0s\",\"y0s\",\"x1s\",\"y1s\"],\"data\":{\"chart_index\":[{\"cyl\":4,\"origin\":2},{\"cyl\":4,\"origin\":2},{\"cyl\":4,\"origin\":2},{\"cyl\":4,\"origin\":2}],\"cyl\":[4,4,4,4],\"origin\":[2,2,2,2],\"x0s\":[\"(4, 2):0.5\",\"(4, 2):0.65\",\"(4, 2):0.5\",\"(4, 2):0.65\"],\"x1s\":[\"(4, 2):0.5\",\"(4, 2):0.35\",\"(4, 2):0.5\",\"(4, 2):0.35\"],\"y0s\":[18.0,18.0,30.0,39.0],\"y1s\":[24.0,18.0,39.0,39.0]}},\"id\":\"1def37c4-29dc-4df6-b620-6757ee671c30\",\"type\":\"ColumnDataSource\"},{\"attributes\":{\"plot\":{\"id\":\"298a258e-6630-4c11-b54c-249a07a32772\",\"subtype\":\"Chart\",\"type\":\"Plot\"}},\"id\":\"d05601a4-0fe9-4729-911d-477ee6860d99\",\"type\":\"WheelZoomTool\"},{\"attributes\":{\"callback\":null,\"column_names\":[\"line_color\",\"line_alpha\",\"color\",\"fill_alpha\",\"height\",\"width\",\"y\",\"x\",\"label\"],\"data\":{\"chart_index\":[{\"cyl\":4,\"origin\":1}],\"color\":[\"#5ab738\"],\"cyl\":[4],\"fill_alpha\":[0.8],\"height\":[3.6999999999999993],\"label\":[{\"cyl\":4,\"origin\":1}],\"line_alpha\":[1.0],\"line_color\":[\"black\"],\"origin\":[1],\"width\":[0.8],\"x\":[\"(4, 1)\"],\"y\":[29.049999999999997]}},\"id\":\"9065268c-bfa9-4f16-9ed3-2e3c20cf7fc0\",\"type\":\"ColumnDataSource\"},{\"attributes\":{\"fill_alpha\":{\"field\":\"fill_alpha\"},\"fill_color\":{\"field\":\"color\"},\"height\":{\"field\":\"height\",\"units\":\"data\"},\"line_color\":{\"field\":\"line_color\"},\"width\":{\"field\":\"width\",\"units\":\"data\"},\"x\":{\"field\":\"x\"},\"y\":{\"field\":\"y\"}},\"id\":\"89ef9d6d-b380-43e0-915c-ce18c0178d55\",\"type\":\"Rect\"},{\"attributes\":{\"dimension\":1,\"plot\":{\"id\":\"298a258e-6630-4c11-b54c-249a07a32772\",\"subtype\":\"Chart\",\"type\":\"Plot\"},\"ticker\":{\"id\":\"b6be3d74-98ff-4ed9-94d4-a1d492f382b6\",\"type\":\"BasicTicker\"}},\"id\":\"6b0f8eb8-310a-44c8-8e02-9d0da769b48a\",\"type\":\"Grid\"},{\"attributes\":{\"data_source\":{\"id\":\"9a043c87-a800-49b6-9a4c-153e81320a06\",\"type\":\"ColumnDataSource\"},\"glyph\":{\"id\":\"2795e669-f1a6-4f4f-882f-1e4864607835\",\"type\":\"Rect\"},\"hover_glyph\":null,\"nonselection_glyph\":null,\"selection_glyph\":null},\"id\":\"5c82f0d8-53b1-4151-8fc8-8bb2bc6f25a9\",\"type\":\"GlyphRenderer\"},{\"attributes\":{\"line_width\":{\"value\":2},\"x0\":{\"field\":\"x0s\"},\"x1\":{\"field\":\"x1s\"},\"y0\":{\"field\":\"y0s\"},\"y1\":{\"field\":\"y1s\"}},\"id\":\"c750f8b4-92c1-4498-bf10-5efe1136d05e\",\"type\":\"Segment\"},{\"attributes\":{\"callback\":null,\"column_names\":[\"x0s\",\"y0s\",\"x1s\",\"y1s\"],\"data\":{\"chart_index\":[{\"cyl\":4,\"origin\":3},{\"cyl\":4,\"origin\":3},{\"cyl\":4,\"origin\":3},{\"cyl\":4,\"origin\":3}],\"cyl\":[4,4,4,4],\"origin\":[3,3,3,3],\"x0s\":[\"(4, 3):0.5\",\"(4, 3):0.65\",\"(4, 3):0.5\",\"(4, 3):0.65\"],\"x1s\":[\"(4, 3):0.5\",\"(4, 3):0.35\",\"(4, 3):0.5\",\"(4, 3):0.35\"],\"y0s\":[20.0,20.0,35.0,46.25],\"y1s\":[27.5,20.0,46.25,46.25]}},\"id\":\"f33ea732-bd76-449e-afd4-84db0a82f68e\",\"type\":\"ColumnDataSource\"},{\"attributes\":{\"overlay\":{\"id\":\"43561544-00c9-4bb1-bd4c-7ba48d9e1c87\",\"type\":\"BoxAnnotation\"},\"plot\":{\"id\":\"298a258e-6630-4c11-b54c-249a07a32772\",\"subtype\":\"Chart\",\"type\":\"Plot\"}},\"id\":\"79ec18a1-23cd-4b5e-8d15-7354fcd8aba8\",\"type\":\"BoxZoomTool\"},{\"attributes\":{\"data_source\":{\"id\":\"2e6c944c-cc1f-4c12-bb39-2e29fb0872f1\",\"type\":\"ColumnDataSource\"},\"glyph\":{\"id\":\"6cced07f-10ec-4a6e-876d-cba364d1f744\",\"type\":\"Circle\"},\"hover_glyph\":null,\"nonselection_glyph\":null,\"selection_glyph\":null},\"id\":\"6c177f8b-cc6c-4e31-bb0f-dafa51c57a98\",\"type\":\"GlyphRenderer\"},{\"attributes\":{\"plot\":null,\"text\":\"MPG by Cylinders and Data Source, Colored by Cylinders\"},\"id\":\"0fba0055-cfd5-43d8-b89c-0c49861f56c3\",\"type\":\"Title\"},{\"attributes\":{\"fill_alpha\":{\"field\":\"fill_alpha\"},\"fill_color\":{\"field\":\"color\"},\"height\":{\"field\":\"height\",\"units\":\"data\"},\"line_color\":{\"field\":\"line_color\"},\"width\":{\"field\":\"width\",\"units\":\"data\"},\"x\":{\"field\":\"x\"},\"y\":{\"field\":\"y\"}},\"id\":\"75cb2a0e-58de-4554-9bc6-f746d5152e8b\",\"type\":\"Rect\"},{\"attributes\":{\"data_source\":{\"id\":\"e5c7ecec-3414-477a-ad8e-bb48660cee35\",\"type\":\"ColumnDataSource\"},\"glyph\":{\"id\":\"46d72658-9718-497d-ac03-512cc5afd299\",\"type\":\"Segment\"},\"hover_glyph\":null,\"nonselection_glyph\":null,\"selection_glyph\":null},\"id\":\"64d50f44-54c9-4537-9214-e8152bd57efd\",\"type\":\"GlyphRenderer\"},{\"attributes\":{\"data_source\":{\"id\":\"1def37c4-29dc-4df6-b620-6757ee671c30\",\"type\":\"ColumnDataSource\"},\"glyph\":{\"id\":\"b49fa2b5-2279-4632-b18a-3f4ab21909c3\",\"type\":\"Segment\"},\"hover_glyph\":null,\"nonselection_glyph\":null,\"selection_glyph\":null},\"id\":\"2f0ef2be-9398-4f25-ab50-cf54f63d0226\",\"type\":\"GlyphRenderer\"},{\"attributes\":{\"callback\":null,\"column_names\":[\"line_color\",\"line_alpha\",\"color\",\"fill_alpha\",\"height\",\"width\",\"y\",\"x\",\"label\"],\"data\":{\"chart_index\":[{\"cyl\":4,\"origin\":1}],\"color\":[\"#5ab738\"],\"cyl\":[4],\"fill_alpha\":[0.8],\"height\":[2.1999999999999993],\"label\":[{\"cyl\":4,\"origin\":1}],\"line_alpha\":[1.0],\"line_color\":[\"black\"],\"origin\":[1],\"width\":[0.8],\"x\":[\"(4, 1)\"],\"y\":[26.1]}},\"id\":\"9a043c87-a800-49b6-9a4c-153e81320a06\",\"type\":\"ColumnDataSource\"},{\"attributes\":{\"callback\":null,\"factors\":[\"(3, 3)\",\"(4, 1)\",\"(4, 2)\",\"(4, 3)\",\"(5, 2)\",\"(6, 1)\",\"(6, 2)\",\"(6, 3)\",\"(8, 1)\"]},\"id\":\"057d7f8e-b634-4566-b7b4-bf3634b4498d\",\"type\":\"FactorRange\"},{\"attributes\":{\"data_source\":{\"id\":\"cc30b1a4-e4ca-4ff7-8b1b-02b79da5f3dd\",\"type\":\"ColumnDataSource\"},\"glyph\":{\"id\":\"be92bacb-f9c1-463a-be01-2caa7ad0941b\",\"type\":\"Rect\"},\"hover_glyph\":null,\"nonselection_glyph\":null,\"selection_glyph\":null},\"id\":\"a513d58c-9b94-4215-a5ad-2baad450135f\",\"type\":\"GlyphRenderer\"}],\"root_ids\":[\"298a258e-6630-4c11-b54c-249a07a32772\"]},\"title\":\"Bokeh Application\",\"version\":\"0.12.3\"}};\n",
       "            var render_items = [{\"docid\":\"acb7f564-26da-489d-b1af-d089f48c9b11\",\"elementid\":\"3ab59ec7-40ad-491f-b6df-9eb222b039de\",\"modelid\":\"298a258e-6630-4c11-b54c-249a07a32772\"}];\n",
       "            \n",
       "            Bokeh.embed.embed_items(docs_json, render_items);\n",
       "        });\n",
       "      },\n",
       "      function(Bokeh) {\n",
       "      }\n",
       "    ];\n",
       "  \n",
       "    function run_inline_js() {\n",
       "      \n",
       "      if ((window.Bokeh !== undefined) || (force === \"1\")) {\n",
       "        for (var i = 0; i < inline_js.length; i++) {\n",
       "          inline_js[i](window.Bokeh);\n",
       "        }if (force === \"1\") {\n",
       "          display_loaded();\n",
       "        }} else if (Date.now() < window._bokeh_timeout) {\n",
       "        setTimeout(run_inline_js, 100);\n",
       "      } else if (!window._bokeh_failed_load) {\n",
       "        console.log(\"Bokeh: BokehJS failed to load within specified timeout.\");\n",
       "        window._bokeh_failed_load = true;\n",
       "      } else if (!force) {\n",
       "        var cell = $(\"#3ab59ec7-40ad-491f-b6df-9eb222b039de\").parents('.cell').data().cell;\n",
       "        cell.output_area.append_execute_result(NB_LOAD_WARNING)\n",
       "      }\n",
       "  \n",
       "    }\n",
       "  \n",
       "    if (window._bokeh_is_loading === 0) {\n",
       "      console.log(\"Bokeh: BokehJS loaded, going straight to plotting\");\n",
       "      run_inline_js();\n",
       "    } else {\n",
       "      load_libs(js_urls, function() {\n",
       "        console.log(\"Bokeh: BokehJS plotting callback run at\", now());\n",
       "        run_inline_js();\n",
       "      });\n",
       "    }\n",
       "  }(this));\n",
       "</script>"
      ]
     },
     "metadata": {},
     "output_type": "display_data"
    }
   ],
   "source": [
    "from bokeh.charts import BoxPlot, output_file, show\n",
    "from bokeh.sampledata.autompg import autompg as df\n",
    "\n",
    "title = \"MPG by Cylinders and Data Source, Colored by Cylinders\"\n",
    "\n",
    "box_plot = BoxPlot(df, label=['cyl', 'origin'], values='mpg', color='cyl', title=title)\n",
    "\n",
    "output_file(\"boxplot.html\")\n",
    "\n",
    "show(box_plot)"
   ]
  },
  {
   "cell_type": "code",
   "execution_count": 48,
   "metadata": {
    "collapsed": false
   },
   "outputs": [
    {
     "data": {
      "text/plain": [
       "US                      9822\n",
       "Germany                 4042\n",
       "UK                      2303\n",
       "Netherlands             1199\n",
       "Canada                   702\n",
       "nan                      586\n",
       "Australia                409\n",
       "Sweden                   341\n",
       "Switzerland              327\n",
       "France                   316\n",
       "Ireland                  245\n",
       "Spain                    233\n",
       "Finland                  201\n",
       "Austria                  190\n",
       "India                    156\n",
       "Thailand                 144\n",
       "Poland                   137\n",
       "Denmark                  113\n",
       "Israel                    95\n",
       "Italy                     79\n",
       "Hungary                   73\n",
       "Czech Republic            67\n",
       "Japan                     66\n",
       "Belgium                   65\n",
       "South Africa              63\n",
       "Malaysia                  57\n",
       "New Zealand               57\n",
       "United Arab Emirates      54\n",
       "Indonesia                 51\n",
       "Norway                    43\n",
       "Name: country, dtype: int64"
      ]
     },
     "execution_count": 48,
     "metadata": {},
     "output_type": "execute_result"
    }
   ],
   "source": [
    "countries = jobs['country'].value_counts()\n",
    "countries.nlargest(30)"
   ]
  },
  {
   "cell_type": "markdown",
   "metadata": {},
   "source": [
    "## Top technologies for a given city (London, Amsterdam and San Francisco)\n"
   ]
  },
  {
   "cell_type": "code",
   "execution_count": 37,
   "metadata": {
    "collapsed": false
   },
   "outputs": [
    {
     "data": {
      "text/plain": [
       "city    tech               \n",
       "London  javascript             291\n",
       "        java                   274\n",
       "        python                 195\n",
       "        amazon-web-services    146\n",
       "        c#                     136\n",
       "        angularjs              105\n",
       "        linux                  100\n",
       "        php                     96\n",
       "        tdd                     86\n",
       "        html                    85\n",
       "        node.js                 84\n",
       "        ruby                    84\n",
       "        agile                   84\n",
       "        css                     79\n",
       "        sql                     78\n",
       "        mysql                   74\n",
       "        c++                     71\n",
       "        sysadmin                63\n",
       "        ruby-on-rails           59\n",
       "        reactjs                 57\n",
       "        html5                   57\n",
       "        scala                   55\n",
       "        .net                    54\n",
       "        ios                     44\n",
       "        cloud                   44\n",
       "        docker                  42\n",
       "        android                 42\n",
       "        rest                    39\n",
       "        postgresql              39\n",
       "        nosql                   37\n",
       "Name: jobid, dtype: int64"
      ]
     },
     "execution_count": 37,
     "metadata": {},
     "output_type": "execute_result"
    }
   ],
   "source": [
    "# London top technologies \n",
    "technologies[technologies.city == 'London'].groupby(['city', 'tech'])['jobid'].count().sort_values(ascending=False).nlargest(30)"
   ]
  },
  {
   "cell_type": "code",
   "execution_count": 38,
   "metadata": {
    "collapsed": false
   },
   "outputs": [
    {
     "data": {
      "text/plain": [
       "city       tech               \n",
       "Amsterdam  java                   120\n",
       "           javascript             103\n",
       "           php                     63\n",
       "           python                  59\n",
       "           mysql                   48\n",
       "           c++                     38\n",
       "           c#                      37\n",
       "           css                     35\n",
       "           html                    34\n",
       "           amazon-web-services     34\n",
       "Name: jobid, dtype: int64"
      ]
     },
     "execution_count": 38,
     "metadata": {},
     "output_type": "execute_result"
    }
   ],
   "source": [
    "# Amsterdam top technologies \n",
    "technologies[technologies.city == 'Amsterdam'].groupby(['city', 'tech'])['jobid'].count().sort_values(ascending=False).nlargest(10)"
   ]
  },
  {
   "cell_type": "code",
   "execution_count": 39,
   "metadata": {
    "collapsed": false
   },
   "outputs": [
    {
     "data": {
      "text/plain": [
       "city       tech               \n",
       "Amsterdam  java                   120\n",
       "           javascript             103\n",
       "           php                     63\n",
       "           python                  59\n",
       "           mysql                   48\n",
       "           c++                     38\n",
       "           c#                      37\n",
       "           css                     35\n",
       "           html                    34\n",
       "           amazon-web-services     34\n",
       "Name: jobid, dtype: int64"
      ]
     },
     "execution_count": 39,
     "metadata": {},
     "output_type": "execute_result"
    }
   ],
   "source": [
    "# Berlin \n",
    "technologies[technologies.city == 'Amsterdam'].groupby(['city', 'tech'])['jobid'].count().sort_values(ascending=False).nlargest(10)"
   ]
  },
  {
   "cell_type": "code",
   "execution_count": 40,
   "metadata": {
    "collapsed": false,
    "scrolled": true
   },
   "outputs": [
    {
     "data": {
      "text/plain": [
       "tech\n",
       "javascript             542\n",
       "java                   537\n",
       "python                 531\n",
       "c++                    282\n",
       "linux                  234\n",
       "amazon-web-services    213\n",
       "sql                    197\n",
       "angularjs              177\n",
       "c#                     166\n",
       "ruby-on-rails          165\n",
       "Name: jobid, dtype: int64"
      ]
     },
     "execution_count": 40,
     "metadata": {},
     "output_type": "execute_result"
    }
   ],
   "source": [
    "# Silicon Valley \n",
    "technologies[technologies.state == 'CA'].groupby('tech')['jobid'].count().sort_values(ascending=False).nlargest(10)"
   ]
  },
  {
   "cell_type": "markdown",
   "metadata": {},
   "source": [
    "## Dumping out data to csv\n",
    "\n",
    "This is only need to find values for cleaning up and normalizing values "
   ]
  },
  {
   "cell_type": "code",
   "execution_count": 26,
   "metadata": {
    "collapsed": false
   },
   "outputs": [],
   "source": [
    "cities.to_frame('city').to_csv('../data/cities.csv', encoding = 'utf-8')\n",
    "countries.to_frame('countries').to_csv('../data/countries.csv', encoding = 'utf-8')"
   ]
  },
  {
   "cell_type": "markdown",
   "metadata": {
    "collapsed": true
   },
   "source": [
    "# Writing it to Excel\n"
   ]
  },
  {
   "cell_type": "code",
   "execution_count": 45,
   "metadata": {
    "collapsed": false
   },
   "outputs": [],
   "source": [
    "ew = pd.ExcelWriter('../data/stackjobs.xlsx',options={'encoding':'utf-8'})\n",
    "cities.to_frame('city').to_excel(ew, 'City')\n",
    "countries.to_frame('country').to_excel(ew, 'Country')\n",
    "ew.save()"
   ]
  },
  {
   "cell_type": "code",
   "execution_count": null,
   "metadata": {
    "collapsed": true
   },
   "outputs": [],
   "source": []
  }
 ],
 "metadata": {
  "kernelspec": {
   "display_name": "Python 2",
   "language": "python",
   "name": "python2"
  },
  "language_info": {
   "codemirror_mode": {
    "name": "ipython",
    "version": 2
   },
   "file_extension": ".py",
   "mimetype": "text/x-python",
   "name": "python",
   "nbconvert_exporter": "python",
   "pygments_lexer": "ipython2",
   "version": "2.7.10"
  }
 },
 "nbformat": 4,
 "nbformat_minor": 0
}
