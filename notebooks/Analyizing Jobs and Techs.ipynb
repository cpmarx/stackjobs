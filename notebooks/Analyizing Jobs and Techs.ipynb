{
 "cells": [
  {
   "cell_type": "markdown",
   "metadata": {},
   "source": [
    "# Analyizing Jobs\n",
    "\n",
    "This notebook will hold all analytics related code on this dataset. There are a list of questions I would like to answer and provide meaningfull visualization of the answers. Some questions are: \n",
    "\n",
    " - How many jobs are posted last month, last 3 months for big tech hubs like London, Amsterdam, Auston or San Francisco? \n",
    " - Same for countries\n",
    " - What are the best paying jobs for a given city? \n",
    " - What are the best paying technologies for a given city?\n",
    " - What are the best paying technologies globally? \n",
    " "
   ]
  },
  {
   "cell_type": "code",
   "execution_count": 194,
   "metadata": {
    "collapsed": false
   },
   "outputs": [
    {
     "data": {
      "text/html": [
       "\n",
       "    <div class=\"bk-root\">\n",
       "        <a href=\"http://bokeh.pydata.org\" target=\"_blank\" class=\"bk-logo bk-logo-small bk-logo-notebook\"></a>\n",
       "        <span id=\"68da10b0-49bc-4022-b7a4-1320a7d9f518\">Loading BokehJS ...</span>\n",
       "    </div>"
      ]
     },
     "metadata": {},
     "output_type": "display_data"
    },
    {
     "data": {
      "application/javascript": [
       "\n",
       "(function(global) {\n",
       "  function now() {\n",
       "    return new Date();\n",
       "  }\n",
       "\n",
       "  var force = \"1\";\n",
       "\n",
       "  if (typeof (window._bokeh_onload_callbacks) === \"undefined\" || force !== \"\") {\n",
       "    window._bokeh_onload_callbacks = [];\n",
       "    window._bokeh_is_loading = undefined;\n",
       "  }\n",
       "\n",
       "\n",
       "  \n",
       "  if (typeof (window._bokeh_timeout) === \"undefined\" || force !== \"\") {\n",
       "    window._bokeh_timeout = Date.now() + 5000;\n",
       "    window._bokeh_failed_load = false;\n",
       "  }\n",
       "\n",
       "  var NB_LOAD_WARNING = {'data': {'text/html':\n",
       "     \"<div style='background-color: #fdd'>\\n\"+\n",
       "     \"<p>\\n\"+\n",
       "     \"BokehJS does not appear to have successfully loaded. If loading BokehJS from CDN, this \\n\"+\n",
       "     \"may be due to a slow or bad network connection. Possible fixes:\\n\"+\n",
       "     \"</p>\\n\"+\n",
       "     \"<ul>\\n\"+\n",
       "     \"<li>re-rerun `output_notebook()` to attempt to load from CDN again, or</li>\\n\"+\n",
       "     \"<li>use INLINE resources instead, as so:</li>\\n\"+\n",
       "     \"</ul>\\n\"+\n",
       "     \"<code>\\n\"+\n",
       "     \"from bokeh.resources import INLINE\\n\"+\n",
       "     \"output_notebook(resources=INLINE)\\n\"+\n",
       "     \"</code>\\n\"+\n",
       "     \"</div>\"}};\n",
       "\n",
       "  function display_loaded() {\n",
       "    if (window.Bokeh !== undefined) {\n",
       "      Bokeh.$(\"#68da10b0-49bc-4022-b7a4-1320a7d9f518\").text(\"BokehJS successfully loaded.\");\n",
       "    } else if (Date.now() < window._bokeh_timeout) {\n",
       "      setTimeout(display_loaded, 100)\n",
       "    }\n",
       "  }\n",
       "\n",
       "  function run_callbacks() {\n",
       "    window._bokeh_onload_callbacks.forEach(function(callback) { callback() });\n",
       "    delete window._bokeh_onload_callbacks\n",
       "    console.info(\"Bokeh: all callbacks have finished\");\n",
       "  }\n",
       "\n",
       "  function load_libs(js_urls, callback) {\n",
       "    window._bokeh_onload_callbacks.push(callback);\n",
       "    if (window._bokeh_is_loading > 0) {\n",
       "      console.log(\"Bokeh: BokehJS is being loaded, scheduling callback at\", now());\n",
       "      return null;\n",
       "    }\n",
       "    if (js_urls == null || js_urls.length === 0) {\n",
       "      run_callbacks();\n",
       "      return null;\n",
       "    }\n",
       "    console.log(\"Bokeh: BokehJS not loaded, scheduling load and callback at\", now());\n",
       "    window._bokeh_is_loading = js_urls.length;\n",
       "    for (var i = 0; i < js_urls.length; i++) {\n",
       "      var url = js_urls[i];\n",
       "      var s = document.createElement('script');\n",
       "      s.src = url;\n",
       "      s.async = false;\n",
       "      s.onreadystatechange = s.onload = function() {\n",
       "        window._bokeh_is_loading--;\n",
       "        if (window._bokeh_is_loading === 0) {\n",
       "          console.log(\"Bokeh: all BokehJS libraries loaded\");\n",
       "          run_callbacks()\n",
       "        }\n",
       "      };\n",
       "      s.onerror = function() {\n",
       "        console.warn(\"failed to load library \" + url);\n",
       "      };\n",
       "      console.log(\"Bokeh: injecting script tag for BokehJS library: \", url);\n",
       "      document.getElementsByTagName(\"head\")[0].appendChild(s);\n",
       "    }\n",
       "  };var element = document.getElementById(\"68da10b0-49bc-4022-b7a4-1320a7d9f518\");\n",
       "  if (element == null) {\n",
       "    console.log(\"Bokeh: ERROR: autoload.js configured with elementid '68da10b0-49bc-4022-b7a4-1320a7d9f518' but no matching script tag was found. \")\n",
       "    return false;\n",
       "  }\n",
       "\n",
       "  var js_urls = ['https://cdn.pydata.org/bokeh/release/bokeh-0.12.3.min.js', 'https://cdn.pydata.org/bokeh/release/bokeh-widgets-0.12.3.min.js'];\n",
       "\n",
       "  var inline_js = [\n",
       "    function(Bokeh) {\n",
       "      Bokeh.set_log_level(\"info\");\n",
       "    },\n",
       "    \n",
       "    function(Bokeh) {\n",
       "      \n",
       "      Bokeh.$(\"#68da10b0-49bc-4022-b7a4-1320a7d9f518\").text(\"BokehJS is loading...\");\n",
       "    },\n",
       "    function(Bokeh) {\n",
       "      console.log(\"Bokeh: injecting CSS: https://cdn.pydata.org/bokeh/release/bokeh-0.12.3.min.css\");\n",
       "      Bokeh.embed.inject_css(\"https://cdn.pydata.org/bokeh/release/bokeh-0.12.3.min.css\");\n",
       "      console.log(\"Bokeh: injecting CSS: https://cdn.pydata.org/bokeh/release/bokeh-widgets-0.12.3.min.css\");\n",
       "      Bokeh.embed.inject_css(\"https://cdn.pydata.org/bokeh/release/bokeh-widgets-0.12.3.min.css\");\n",
       "    }\n",
       "  ];\n",
       "\n",
       "  function run_inline_js() {\n",
       "    \n",
       "    if ((window.Bokeh !== undefined) || (force === \"1\")) {\n",
       "      for (var i = 0; i < inline_js.length; i++) {\n",
       "        inline_js[i](window.Bokeh);\n",
       "      }if (force === \"1\") {\n",
       "        display_loaded();\n",
       "      }} else if (Date.now() < window._bokeh_timeout) {\n",
       "      setTimeout(run_inline_js, 100);\n",
       "    } else if (!window._bokeh_failed_load) {\n",
       "      console.log(\"Bokeh: BokehJS failed to load within specified timeout.\");\n",
       "      window._bokeh_failed_load = true;\n",
       "    } else if (!force) {\n",
       "      var cell = $(\"#68da10b0-49bc-4022-b7a4-1320a7d9f518\").parents('.cell').data().cell;\n",
       "      cell.output_area.append_execute_result(NB_LOAD_WARNING)\n",
       "    }\n",
       "\n",
       "  }\n",
       "\n",
       "  if (window._bokeh_is_loading === 0) {\n",
       "    console.log(\"Bokeh: BokehJS loaded, going straight to plotting\");\n",
       "    run_inline_js();\n",
       "  } else {\n",
       "    load_libs(js_urls, function() {\n",
       "      console.log(\"Bokeh: BokehJS plotting callback run at\", now());\n",
       "      run_inline_js();\n",
       "    });\n",
       "  }\n",
       "}(this));"
      ]
     },
     "metadata": {},
     "output_type": "display_data"
    }
   ],
   "source": [
    "import pandas as pd \n",
    "import numpy as np\n",
    "import matplotlib.pyplot as plt\n",
    "from unidecode import unidecode\n",
    "import time \n",
    "\n",
    "from bokeh.charts import Bar, output_file, show\n",
    "from bokeh.sampledata.autompg import autompg as df\n",
    "from bokeh.io import output_notebook, show \n",
    "\n",
    "output_notebook()\n",
    "\n",
    "jobs = pd.read_csv('../data/stackoverflow_jobs_enhanced.csv', thousands=',')\n",
    "technologies = pd.read_csv('../data/technologies.csv')\n",
    "\n",
    "# this is needed for excel export \n",
    "jobs.country = jobs.country.astype(str)\n",
    "jobs.city = jobs.city.astype(str)\n",
    "\n",
    "jobs['city']=jobs['city'].apply( lambda x:  unidecode(unicode(x, encoding = \"utf-8\")))  \n",
    "jobs['country']=jobs['country'].apply( lambda x:  unidecode(unicode(x, encoding = \"utf-8\")))"
   ]
  },
  {
   "cell_type": "markdown",
   "metadata": {},
   "source": [
    "## Top cities and countries posting jobs "
   ]
  },
  {
   "cell_type": "code",
   "execution_count": 195,
   "metadata": {
    "collapsed": false
   },
   "outputs": [],
   "source": [
    "top_cities = jobs.groupby(['city'])['jobid'].count().sort_values(ascending=False)\n",
    "top_cities = top_cities.nlargest(15)\n",
    "\n",
    "# create a data frame out of the series. \n",
    "# found this trick at stackoverflow: \n",
    "# http://stackoverflow.com/questions/10373660/converting-a-pandas-groupby-object-to-dataframe\n",
    "df_cities = pd.DataFrame({'count' : top_cities}).reset_index()"
   ]
  },
  {
   "cell_type": "code",
   "execution_count": 196,
   "metadata": {
    "collapsed": false
   },
   "outputs": [
    {
     "data": {
      "text/html": [
       "\n",
       "\n",
       "    <div class=\"bk-root\">\n",
       "        <div class=\"plotdiv\" id=\"2dcb6dad-b706-481e-ae2e-13d98a117b7b\"></div>\n",
       "    </div>\n",
       "<script type=\"text/javascript\">\n",
       "  \n",
       "  (function(global) {\n",
       "    function now() {\n",
       "      return new Date();\n",
       "    }\n",
       "  \n",
       "    var force = \"\";\n",
       "  \n",
       "    if (typeof (window._bokeh_onload_callbacks) === \"undefined\" || force !== \"\") {\n",
       "      window._bokeh_onload_callbacks = [];\n",
       "      window._bokeh_is_loading = undefined;\n",
       "    }\n",
       "  \n",
       "  \n",
       "    \n",
       "    if (typeof (window._bokeh_timeout) === \"undefined\" || force !== \"\") {\n",
       "      window._bokeh_timeout = Date.now() + 0;\n",
       "      window._bokeh_failed_load = false;\n",
       "    }\n",
       "  \n",
       "    var NB_LOAD_WARNING = {'data': {'text/html':\n",
       "       \"<div style='background-color: #fdd'>\\n\"+\n",
       "       \"<p>\\n\"+\n",
       "       \"BokehJS does not appear to have successfully loaded. If loading BokehJS from CDN, this \\n\"+\n",
       "       \"may be due to a slow or bad network connection. Possible fixes:\\n\"+\n",
       "       \"</p>\\n\"+\n",
       "       \"<ul>\\n\"+\n",
       "       \"<li>re-rerun `output_notebook()` to attempt to load from CDN again, or</li>\\n\"+\n",
       "       \"<li>use INLINE resources instead, as so:</li>\\n\"+\n",
       "       \"</ul>\\n\"+\n",
       "       \"<code>\\n\"+\n",
       "       \"from bokeh.resources import INLINE\\n\"+\n",
       "       \"output_notebook(resources=INLINE)\\n\"+\n",
       "       \"</code>\\n\"+\n",
       "       \"</div>\"}};\n",
       "  \n",
       "    function display_loaded() {\n",
       "      if (window.Bokeh !== undefined) {\n",
       "        Bokeh.$(\"#2dcb6dad-b706-481e-ae2e-13d98a117b7b\").text(\"BokehJS successfully loaded.\");\n",
       "      } else if (Date.now() < window._bokeh_timeout) {\n",
       "        setTimeout(display_loaded, 100)\n",
       "      }\n",
       "    }\n",
       "  \n",
       "    function run_callbacks() {\n",
       "      window._bokeh_onload_callbacks.forEach(function(callback) { callback() });\n",
       "      delete window._bokeh_onload_callbacks\n",
       "      console.info(\"Bokeh: all callbacks have finished\");\n",
       "    }\n",
       "  \n",
       "    function load_libs(js_urls, callback) {\n",
       "      window._bokeh_onload_callbacks.push(callback);\n",
       "      if (window._bokeh_is_loading > 0) {\n",
       "        console.log(\"Bokeh: BokehJS is being loaded, scheduling callback at\", now());\n",
       "        return null;\n",
       "      }\n",
       "      if (js_urls == null || js_urls.length === 0) {\n",
       "        run_callbacks();\n",
       "        return null;\n",
       "      }\n",
       "      console.log(\"Bokeh: BokehJS not loaded, scheduling load and callback at\", now());\n",
       "      window._bokeh_is_loading = js_urls.length;\n",
       "      for (var i = 0; i < js_urls.length; i++) {\n",
       "        var url = js_urls[i];\n",
       "        var s = document.createElement('script');\n",
       "        s.src = url;\n",
       "        s.async = false;\n",
       "        s.onreadystatechange = s.onload = function() {\n",
       "          window._bokeh_is_loading--;\n",
       "          if (window._bokeh_is_loading === 0) {\n",
       "            console.log(\"Bokeh: all BokehJS libraries loaded\");\n",
       "            run_callbacks()\n",
       "          }\n",
       "        };\n",
       "        s.onerror = function() {\n",
       "          console.warn(\"failed to load library \" + url);\n",
       "        };\n",
       "        console.log(\"Bokeh: injecting script tag for BokehJS library: \", url);\n",
       "        document.getElementsByTagName(\"head\")[0].appendChild(s);\n",
       "      }\n",
       "    };var element = document.getElementById(\"2dcb6dad-b706-481e-ae2e-13d98a117b7b\");\n",
       "    if (element == null) {\n",
       "      console.log(\"Bokeh: ERROR: autoload.js configured with elementid '2dcb6dad-b706-481e-ae2e-13d98a117b7b' but no matching script tag was found. \")\n",
       "      return false;\n",
       "    }\n",
       "  \n",
       "    var js_urls = [];\n",
       "  \n",
       "    var inline_js = [\n",
       "      function(Bokeh) {\n",
       "        Bokeh.$(function() {\n",
       "            var docs_json = {\"dde1cb19-8d09-4df2-bede-8422e74efdff\":{\"roots\":{\"references\":[{\"attributes\":{},\"id\":\"0777945e-680b-4aff-8e62-22475a374cae\",\"type\":\"CategoricalTicker\"},{\"attributes\":{\"label\":{\"value\":\"San Francisco\"},\"renderers\":[{\"id\":\"254e5a65-c4a6-45a8-bdf9-c78db72552fe\",\"type\":\"GlyphRenderer\"}]},\"id\":\"3ef98b99-02c2-40db-a2db-d8f998a873e0\",\"type\":\"LegendItem\"},{\"attributes\":{\"plot\":{\"id\":\"8a03f6a8-66de-40e3-a112-c88a8bd61d45\",\"subtype\":\"Chart\",\"type\":\"Plot\"}},\"id\":\"28890ae7-7e19-4e71-a13f-03ad00ca6193\",\"type\":\"PanTool\"},{\"attributes\":{\"callback\":null,\"column_names\":[\"line_color\",\"line_alpha\",\"color\",\"fill_alpha\",\"height\",\"width\",\"y\",\"x\",\"label\"],\"data\":{\"chart_index\":[{\"city\":\"Toronto\"}],\"city\":[\"Toronto\"],\"color\":[\"#f22c40\"],\"fill_alpha\":[0.8],\"height\":[322.0],\"label\":[{\"city\":\"Toronto\"}],\"line_alpha\":[1.0],\"line_color\":[\"white\"],\"width\":[0.8],\"x\":[\"Toronto\"],\"y\":[161.0]}},\"id\":\"c9848438-33f6-48f5-b5ff-e8b0e17cbd37\",\"type\":\"ColumnDataSource\"},{\"attributes\":{\"fill_alpha\":{\"field\":\"fill_alpha\"},\"fill_color\":{\"field\":\"color\"},\"height\":{\"field\":\"height\",\"units\":\"data\"},\"line_color\":{\"field\":\"line_color\"},\"width\":{\"field\":\"width\",\"units\":\"data\"},\"x\":{\"field\":\"x\"},\"y\":{\"field\":\"y\"}},\"id\":\"abcb7820-f619-4be0-b2dd-d4c9f9d5e250\",\"type\":\"Rect\"},{\"attributes\":{\"callback\":null,\"column_names\":[\"line_color\",\"line_alpha\",\"color\",\"fill_alpha\",\"height\",\"width\",\"y\",\"x\",\"label\"],\"data\":{\"chart_index\":[{\"city\":\"Philadelphia\"}],\"city\":[\"Philadelphia\"],\"color\":[\"#f22c40\"],\"fill_alpha\":[0.8],\"height\":[373.0],\"label\":[{\"city\":\"Philadelphia\"}],\"line_alpha\":[1.0],\"line_color\":[\"white\"],\"width\":[0.8],\"x\":[\"Philadelphia\"],\"y\":[186.5]}},\"id\":\"a5bde4fc-e139-4680-9fcd-29ebd3986667\",\"type\":\"ColumnDataSource\"},{\"attributes\":{\"callback\":null,\"column_names\":[\"line_color\",\"line_alpha\",\"color\",\"fill_alpha\",\"height\",\"width\",\"y\",\"x\",\"label\"],\"data\":{\"chart_index\":[{\"city\":\"Rotterdam\"}],\"city\":[\"Rotterdam\"],\"color\":[\"#f22c40\"],\"fill_alpha\":[0.8],\"height\":[257.0],\"label\":[{\"city\":\"Rotterdam\"}],\"line_alpha\":[1.0],\"line_color\":[\"white\"],\"width\":[0.8],\"x\":[\"Rotterdam\"],\"y\":[128.5]}},\"id\":\"8e534533-3153-4125-a8c1-e2110224d54c\",\"type\":\"ColumnDataSource\"},{\"attributes\":{\"callback\":null,\"column_names\":[\"line_color\",\"line_alpha\",\"color\",\"fill_alpha\",\"height\",\"width\",\"y\",\"x\",\"label\"],\"data\":{\"chart_index\":[{\"city\":\"Hamburg\"}],\"city\":[\"Hamburg\"],\"color\":[\"#f22c40\"],\"fill_alpha\":[0.8],\"height\":[349.0],\"label\":[{\"city\":\"Hamburg\"}],\"line_alpha\":[1.0],\"line_color\":[\"white\"],\"width\":[0.8],\"x\":[\"Hamburg\"],\"y\":[174.5]}},\"id\":\"22527dac-e459-4327-b219-eabd312ebfc6\",\"type\":\"ColumnDataSource\"},{\"attributes\":{\"label\":{\"value\":\"Washington\"},\"renderers\":[{\"id\":\"a3b1a01a-90f6-41b3-bd16-0c830d833968\",\"type\":\"GlyphRenderer\"}]},\"id\":\"4701282d-c6eb-4aab-9f43-cba0c2f1f746\",\"type\":\"LegendItem\"},{\"attributes\":{\"label\":{\"value\":\"Berlin\"},\"renderers\":[{\"id\":\"e304c8b8-d8ab-447b-b786-14b015a85001\",\"type\":\"GlyphRenderer\"}]},\"id\":\"08d75082-d76a-4085-80f1-270329f93226\",\"type\":\"LegendItem\"},{\"attributes\":{\"data_source\":{\"id\":\"36083fe2-8d2d-4ba9-8724-5db5694ac515\",\"type\":\"ColumnDataSource\"},\"glyph\":{\"id\":\"9c73ba8c-520b-41a5-b5bb-e42461ff75b4\",\"type\":\"Rect\"},\"hover_glyph\":null,\"nonselection_glyph\":null,\"selection_glyph\":null},\"id\":\"0797a8db-7b7b-48ba-bba3-d1183b230c70\",\"type\":\"GlyphRenderer\"},{\"attributes\":{\"axis_label\":\"Sum( Count )\",\"formatter\":{\"id\":\"fce7a4b3-3e55-4b06-8ed5-3e1ab35751d9\",\"type\":\"BasicTickFormatter\"},\"plot\":{\"id\":\"8a03f6a8-66de-40e3-a112-c88a8bd61d45\",\"subtype\":\"Chart\",\"type\":\"Plot\"},\"ticker\":{\"id\":\"2d6b77f4-030b-4e5c-b4ea-90734357bbf8\",\"type\":\"BasicTicker\"}},\"id\":\"dc54725b-20a4-4cc4-9cfd-473a7bb63f07\",\"type\":\"LinearAxis\"},{\"attributes\":{\"callback\":null,\"factors\":[\"Berlin\",\"London\",\"New York\",\"San Francisco\",\"Munchen\",\"Amsterdam\",\"Seattle\",\"Philadelphia\",\"Chicago\",\"Hamburg\",\"No office location\",\"Toronto\",\"Rotterdam\",\"Washington\",\"Boston\"]},\"id\":\"c5b6cd0a-3653-45b7-97d8-575b451a852f\",\"type\":\"FactorRange\"},{\"attributes\":{\"fill_alpha\":{\"field\":\"fill_alpha\"},\"fill_color\":{\"field\":\"color\"},\"height\":{\"field\":\"height\",\"units\":\"data\"},\"line_color\":{\"field\":\"line_color\"},\"width\":{\"field\":\"width\",\"units\":\"data\"},\"x\":{\"field\":\"x\"},\"y\":{\"field\":\"y\"}},\"id\":\"058a329c-f22a-4e05-b153-573fee12ef0d\",\"type\":\"Rect\"},{\"attributes\":{},\"id\":\"2d6b77f4-030b-4e5c-b4ea-90734357bbf8\",\"type\":\"BasicTicker\"},{\"attributes\":{},\"id\":\"6548c4e1-ae64-40dd-b614-095bab781241\",\"type\":\"ToolEvents\"},{\"attributes\":{\"fill_alpha\":{\"field\":\"fill_alpha\"},\"fill_color\":{\"field\":\"color\"},\"height\":{\"field\":\"height\",\"units\":\"data\"},\"line_color\":{\"field\":\"line_color\"},\"width\":{\"field\":\"width\",\"units\":\"data\"},\"x\":{\"field\":\"x\"},\"y\":{\"field\":\"y\"}},\"id\":\"72ec128e-59f9-4532-950c-c36bf3c4c3cf\",\"type\":\"Rect\"},{\"attributes\":{\"label\":{\"value\":\"Seattle\"},\"renderers\":[{\"id\":\"b239f722-d43c-4e2d-a01d-c55ce8990d99\",\"type\":\"GlyphRenderer\"}]},\"id\":\"01f83a1d-5929-4378-8d27-b3f41a2722cd\",\"type\":\"LegendItem\"},{\"attributes\":{\"active_drag\":\"auto\",\"active_scroll\":\"auto\",\"active_tap\":\"auto\",\"tools\":[{\"id\":\"28890ae7-7e19-4e71-a13f-03ad00ca6193\",\"type\":\"PanTool\"},{\"id\":\"532b5343-6812-401b-9661-0aa24a6eb1b0\",\"type\":\"WheelZoomTool\"},{\"id\":\"c89aad3b-4b80-41d7-9688-b48e344bf2b0\",\"type\":\"BoxZoomTool\"},{\"id\":\"46121bae-9b7a-4bc3-a89c-a6d37bc07201\",\"type\":\"SaveTool\"},{\"id\":\"58f4799e-d51a-4e64-831d-776fd3bb646d\",\"type\":\"ResetTool\"},{\"id\":\"8d2ee00b-5c17-45f5-b40e-af2b4982b920\",\"type\":\"HelpTool\"}]},\"id\":\"5ce36cf3-f522-4a22-903d-ad9da3b3452f\",\"type\":\"Toolbar\"},{\"attributes\":{\"data_source\":{\"id\":\"182d914d-18d3-4a1e-b21b-1300e5f5346f\",\"type\":\"ColumnDataSource\"},\"glyph\":{\"id\":\"f4d5cb86-72fb-4d3d-bb68-f09be9f308e5\",\"type\":\"Rect\"},\"hover_glyph\":null,\"nonselection_glyph\":null,\"selection_glyph\":null},\"id\":\"a3b1a01a-90f6-41b3-bd16-0c830d833968\",\"type\":\"GlyphRenderer\"},{\"attributes\":{\"data_source\":{\"id\":\"35c43455-9504-41b0-b7d9-bc11f0f92e48\",\"type\":\"ColumnDataSource\"},\"glyph\":{\"id\":\"058a329c-f22a-4e05-b153-573fee12ef0d\",\"type\":\"Rect\"},\"hover_glyph\":null,\"nonselection_glyph\":null,\"selection_glyph\":null},\"id\":\"bf00ad53-71c0-430d-9727-f02bc3ddb235\",\"type\":\"GlyphRenderer\"},{\"attributes\":{\"label\":{\"value\":\"Hamburg\"},\"renderers\":[{\"id\":\"dbcae6e1-f259-419b-8ded-f631251d3ff8\",\"type\":\"GlyphRenderer\"}]},\"id\":\"af125bbd-aab3-4d99-9b3d-1063a837d646\",\"type\":\"LegendItem\"},{\"attributes\":{\"data_source\":{\"id\":\"aaa9e2cb-e211-42d2-91a3-748e3fedc8c8\",\"type\":\"ColumnDataSource\"},\"glyph\":{\"id\":\"72ec128e-59f9-4532-950c-c36bf3c4c3cf\",\"type\":\"Rect\"},\"hover_glyph\":null,\"nonselection_glyph\":null,\"selection_glyph\":null},\"id\":\"4d9b9c28-0c9a-437e-81b7-aaa81c9ba17a\",\"type\":\"GlyphRenderer\"},{\"attributes\":{\"fill_alpha\":{\"field\":\"fill_alpha\"},\"fill_color\":{\"field\":\"color\"},\"height\":{\"field\":\"height\",\"units\":\"data\"},\"line_color\":{\"field\":\"line_color\"},\"width\":{\"field\":\"width\",\"units\":\"data\"},\"x\":{\"field\":\"x\"},\"y\":{\"field\":\"y\"}},\"id\":\"183765b6-a6ce-4bab-9628-5adaf2f8b647\",\"type\":\"Rect\"},{\"attributes\":{\"callback\":null,\"column_names\":[\"line_color\",\"line_alpha\",\"color\",\"fill_alpha\",\"height\",\"width\",\"y\",\"x\",\"label\"],\"data\":{\"chart_index\":[{\"city\":\"Amsterdam\"}],\"city\":[\"Amsterdam\"],\"color\":[\"#f22c40\"],\"fill_alpha\":[0.8],\"height\":[495.0],\"label\":[{\"city\":\"Amsterdam\"}],\"line_alpha\":[1.0],\"line_color\":[\"white\"],\"width\":[0.8],\"x\":[\"Amsterdam\"],\"y\":[247.5]}},\"id\":\"36083fe2-8d2d-4ba9-8724-5db5694ac515\",\"type\":\"ColumnDataSource\"},{\"attributes\":{\"fill_alpha\":{\"field\":\"fill_alpha\"},\"fill_color\":{\"field\":\"color\"},\"height\":{\"field\":\"height\",\"units\":\"data\"},\"line_color\":{\"field\":\"line_color\"},\"width\":{\"field\":\"width\",\"units\":\"data\"},\"x\":{\"field\":\"x\"},\"y\":{\"field\":\"y\"}},\"id\":\"5292fa60-03a3-4c0d-a589-9802923d5d47\",\"type\":\"Rect\"},{\"attributes\":{\"bottom_units\":\"screen\",\"fill_alpha\":{\"value\":0.5},\"fill_color\":{\"value\":\"lightgrey\"},\"left_units\":\"screen\",\"level\":\"overlay\",\"line_alpha\":{\"value\":1.0},\"line_color\":{\"value\":\"black\"},\"line_dash\":[4,4],\"line_width\":{\"value\":2},\"plot\":null,\"render_mode\":\"css\",\"right_units\":\"screen\",\"top_units\":\"screen\"},\"id\":\"dba6e370-7f7e-4574-b6e2-a0fb6c04a0ba\",\"type\":\"BoxAnnotation\"},{\"attributes\":{\"fill_alpha\":{\"field\":\"fill_alpha\"},\"fill_color\":{\"field\":\"color\"},\"height\":{\"field\":\"height\",\"units\":\"data\"},\"line_color\":{\"field\":\"line_color\"},\"width\":{\"field\":\"width\",\"units\":\"data\"},\"x\":{\"field\":\"x\"},\"y\":{\"field\":\"y\"}},\"id\":\"15697021-429b-4b12-9b5e-c7a3cceb1b15\",\"type\":\"Rect\"},{\"attributes\":{\"label\":{\"value\":\"No office location\"},\"renderers\":[{\"id\":\"bf00ad53-71c0-430d-9727-f02bc3ddb235\",\"type\":\"GlyphRenderer\"}]},\"id\":\"834fa14a-99df-4b8c-9699-0a2b23d245d8\",\"type\":\"LegendItem\"},{\"attributes\":{\"callback\":null,\"column_names\":[\"line_color\",\"line_alpha\",\"color\",\"fill_alpha\",\"height\",\"width\",\"y\",\"x\",\"label\"],\"data\":{\"chart_index\":[{\"city\":\"London\"}],\"city\":[\"London\"],\"color\":[\"#f22c40\"],\"fill_alpha\":[0.8],\"height\":[1195.0],\"label\":[{\"city\":\"London\"}],\"line_alpha\":[1.0],\"line_color\":[\"white\"],\"width\":[0.8],\"x\":[\"London\"],\"y\":[597.5]}},\"id\":\"6df1f34d-148b-4450-a9ae-9c25aa83c939\",\"type\":\"ColumnDataSource\"},{\"attributes\":{\"data_source\":{\"id\":\"22527dac-e459-4327-b219-eabd312ebfc6\",\"type\":\"ColumnDataSource\"},\"glyph\":{\"id\":\"f0574e02-805c-4003-8ef1-f9096a7344e1\",\"type\":\"Rect\"},\"hover_glyph\":null,\"nonselection_glyph\":null,\"selection_glyph\":null},\"id\":\"dbcae6e1-f259-419b-8ded-f631251d3ff8\",\"type\":\"GlyphRenderer\"},{\"attributes\":{\"data_source\":{\"id\":\"c9848438-33f6-48f5-b5ff-e8b0e17cbd37\",\"type\":\"ColumnDataSource\"},\"glyph\":{\"id\":\"b530c242-a064-4358-be1d-c5f478d6f8a2\",\"type\":\"Rect\"},\"hover_glyph\":null,\"nonselection_glyph\":null,\"selection_glyph\":null},\"id\":\"82795220-ad98-465d-9a36-709a6581606e\",\"type\":\"GlyphRenderer\"},{\"attributes\":{\"fill_alpha\":{\"field\":\"fill_alpha\"},\"fill_color\":{\"field\":\"color\"},\"height\":{\"field\":\"height\",\"units\":\"data\"},\"line_color\":{\"field\":\"line_color\"},\"width\":{\"field\":\"width\",\"units\":\"data\"},\"x\":{\"field\":\"x\"},\"y\":{\"field\":\"y\"}},\"id\":\"f0574e02-805c-4003-8ef1-f9096a7344e1\",\"type\":\"Rect\"},{\"attributes\":{\"fill_alpha\":{\"field\":\"fill_alpha\"},\"fill_color\":{\"field\":\"color\"},\"height\":{\"field\":\"height\",\"units\":\"data\"},\"line_color\":{\"field\":\"line_color\"},\"width\":{\"field\":\"width\",\"units\":\"data\"},\"x\":{\"field\":\"x\"},\"y\":{\"field\":\"y\"}},\"id\":\"a3ab7fa5-88f5-4f23-a126-e7018e1eb97f\",\"type\":\"Rect\"},{\"attributes\":{\"label\":{\"value\":\"Philadelphia\"},\"renderers\":[{\"id\":\"63fa0f69-cec7-42d7-84b5-c7bee1fdac37\",\"type\":\"GlyphRenderer\"}]},\"id\":\"48c6aaef-1dd4-4eed-9dfd-02704a0395dd\",\"type\":\"LegendItem\"},{\"attributes\":{\"data_source\":{\"id\":\"8e534533-3153-4125-a8c1-e2110224d54c\",\"type\":\"ColumnDataSource\"},\"glyph\":{\"id\":\"5292fa60-03a3-4c0d-a589-9802923d5d47\",\"type\":\"Rect\"},\"hover_glyph\":null,\"nonselection_glyph\":null,\"selection_glyph\":null},\"id\":\"8e9dd724-7904-49f4-b1e5-c1e14b08963b\",\"type\":\"GlyphRenderer\"},{\"attributes\":{\"data_source\":{\"id\":\"e947ad1e-c350-437c-9f33-43adfb1cfe00\",\"type\":\"ColumnDataSource\"},\"glyph\":{\"id\":\"284a1fed-adb9-4fc1-a9dd-7e1c9cc5f8bd\",\"type\":\"Rect\"},\"hover_glyph\":null,\"nonselection_glyph\":null,\"selection_glyph\":null},\"id\":\"b239f722-d43c-4e2d-a01d-c55ce8990d99\",\"type\":\"GlyphRenderer\"},{\"attributes\":{\"items\":[{\"id\":\"08d75082-d76a-4085-80f1-270329f93226\",\"type\":\"LegendItem\"},{\"id\":\"4dc8ab9c-a289-43df-8505-d00b56fee1aa\",\"type\":\"LegendItem\"},{\"id\":\"a6e141cf-cc82-48c7-9a52-e6d97427fcf1\",\"type\":\"LegendItem\"},{\"id\":\"3ef98b99-02c2-40db-a2db-d8f998a873e0\",\"type\":\"LegendItem\"},{\"id\":\"ffc396c0-c7b8-4fa4-b037-42adb7b986c7\",\"type\":\"LegendItem\"},{\"id\":\"cc1f962b-3186-4227-b83e-e71520b35c2f\",\"type\":\"LegendItem\"},{\"id\":\"01f83a1d-5929-4378-8d27-b3f41a2722cd\",\"type\":\"LegendItem\"},{\"id\":\"48c6aaef-1dd4-4eed-9dfd-02704a0395dd\",\"type\":\"LegendItem\"},{\"id\":\"abcef2ce-ffaf-4e66-9bba-83876e74e68a\",\"type\":\"LegendItem\"},{\"id\":\"af125bbd-aab3-4d99-9b3d-1063a837d646\",\"type\":\"LegendItem\"},{\"id\":\"834fa14a-99df-4b8c-9699-0a2b23d245d8\",\"type\":\"LegendItem\"},{\"id\":\"cabf2cab-c066-409e-8151-ec8e7da1e14e\",\"type\":\"LegendItem\"},{\"id\":\"0d2e01a7-e267-4734-a9ee-54691cf97fdc\",\"type\":\"LegendItem\"},{\"id\":\"4701282d-c6eb-4aab-9f43-cba0c2f1f746\",\"type\":\"LegendItem\"},{\"id\":\"44e55344-92ff-4e0e-bf10-12bc114fed82\",\"type\":\"LegendItem\"}],\"plot\":{\"id\":\"8a03f6a8-66de-40e3-a112-c88a8bd61d45\",\"subtype\":\"Chart\",\"type\":\"Plot\"}},\"id\":\"21ce2856-1093-4d02-bf6d-4e58a5d86217\",\"type\":\"Legend\"},{\"attributes\":{\"plot\":{\"id\":\"8a03f6a8-66de-40e3-a112-c88a8bd61d45\",\"subtype\":\"Chart\",\"type\":\"Plot\"}},\"id\":\"532b5343-6812-401b-9661-0aa24a6eb1b0\",\"type\":\"WheelZoomTool\"},{\"attributes\":{\"callback\":null,\"column_names\":[\"line_color\",\"line_alpha\",\"color\",\"fill_alpha\",\"height\",\"width\",\"y\",\"x\",\"label\"],\"data\":{\"chart_index\":[{\"city\":\"Washington\"}],\"city\":[\"Washington\"],\"color\":[\"#f22c40\"],\"fill_alpha\":[0.8],\"height\":[256.0],\"label\":[{\"city\":\"Washington\"}],\"line_alpha\":[1.0],\"line_color\":[\"white\"],\"width\":[0.8],\"x\":[\"Washington\"],\"y\":[128.0]}},\"id\":\"182d914d-18d3-4a1e-b21b-1300e5f5346f\",\"type\":\"ColumnDataSource\"},{\"attributes\":{\"label\":{\"value\":\"Boston\"},\"renderers\":[{\"id\":\"7a9d09a8-0dc7-47c1-aade-0d17e9f456d0\",\"type\":\"GlyphRenderer\"}]},\"id\":\"44e55344-92ff-4e0e-bf10-12bc114fed82\",\"type\":\"LegendItem\"},{\"attributes\":{\"callback\":null,\"column_names\":[\"line_color\",\"line_alpha\",\"color\",\"fill_alpha\",\"height\",\"width\",\"y\",\"x\",\"label\"],\"data\":{\"chart_index\":[{\"city\":\"Berlin\"}],\"city\":[\"Berlin\"],\"color\":[\"#f22c40\"],\"fill_alpha\":[0.8],\"height\":[1281.0],\"label\":[{\"city\":\"Berlin\"}],\"line_alpha\":[1.0],\"line_color\":[\"white\"],\"width\":[0.8],\"x\":[\"Berlin\"],\"y\":[640.5]}},\"id\":\"b9b6ec8e-53b9-4b36-84b8-f1690b83973f\",\"type\":\"ColumnDataSource\"},{\"attributes\":{\"below\":[{\"id\":\"5cf31735-7029-4fe5-95ef-12666faaab28\",\"type\":\"CategoricalAxis\"}],\"left\":[{\"id\":\"dc54725b-20a4-4cc4-9cfd-473a7bb63f07\",\"type\":\"LinearAxis\"}],\"renderers\":[{\"id\":\"dba6e370-7f7e-4574-b6e2-a0fb6c04a0ba\",\"type\":\"BoxAnnotation\"},{\"id\":\"e304c8b8-d8ab-447b-b786-14b015a85001\",\"type\":\"GlyphRenderer\"},{\"id\":\"3248f9a3-a50a-4ca0-b261-b99edeb5d79a\",\"type\":\"GlyphRenderer\"},{\"id\":\"4d9b9c28-0c9a-437e-81b7-aaa81c9ba17a\",\"type\":\"GlyphRenderer\"},{\"id\":\"254e5a65-c4a6-45a8-bdf9-c78db72552fe\",\"type\":\"GlyphRenderer\"},{\"id\":\"7ecd3d15-5bb6-4846-84a2-513dcd7909c0\",\"type\":\"GlyphRenderer\"},{\"id\":\"0797a8db-7b7b-48ba-bba3-d1183b230c70\",\"type\":\"GlyphRenderer\"},{\"id\":\"b239f722-d43c-4e2d-a01d-c55ce8990d99\",\"type\":\"GlyphRenderer\"},{\"id\":\"63fa0f69-cec7-42d7-84b5-c7bee1fdac37\",\"type\":\"GlyphRenderer\"},{\"id\":\"6956f397-a488-4452-afc5-a0fb50f43e7d\",\"type\":\"GlyphRenderer\"},{\"id\":\"dbcae6e1-f259-419b-8ded-f631251d3ff8\",\"type\":\"GlyphRenderer\"},{\"id\":\"bf00ad53-71c0-430d-9727-f02bc3ddb235\",\"type\":\"GlyphRenderer\"},{\"id\":\"82795220-ad98-465d-9a36-709a6581606e\",\"type\":\"GlyphRenderer\"},{\"id\":\"8e9dd724-7904-49f4-b1e5-c1e14b08963b\",\"type\":\"GlyphRenderer\"},{\"id\":\"a3b1a01a-90f6-41b3-bd16-0c830d833968\",\"type\":\"GlyphRenderer\"},{\"id\":\"7a9d09a8-0dc7-47c1-aade-0d17e9f456d0\",\"type\":\"GlyphRenderer\"},{\"id\":\"21ce2856-1093-4d02-bf6d-4e58a5d86217\",\"type\":\"Legend\"},{\"id\":\"5cf31735-7029-4fe5-95ef-12666faaab28\",\"type\":\"CategoricalAxis\"},{\"id\":\"dc54725b-20a4-4cc4-9cfd-473a7bb63f07\",\"type\":\"LinearAxis\"},{\"id\":\"1bdb1aef-49ae-4f05-9372-e1e9f0d17c44\",\"type\":\"Grid\"}],\"title\":{\"id\":\"c631c631-c645-4dbf-9d71-691587372437\",\"type\":\"Title\"},\"tool_events\":{\"id\":\"6548c4e1-ae64-40dd-b614-095bab781241\",\"type\":\"ToolEvents\"},\"toolbar\":{\"id\":\"5ce36cf3-f522-4a22-903d-ad9da3b3452f\",\"type\":\"Toolbar\"},\"x_mapper_type\":\"auto\",\"x_range\":{\"id\":\"c5b6cd0a-3653-45b7-97d8-575b451a852f\",\"type\":\"FactorRange\"},\"y_mapper_type\":\"auto\",\"y_range\":{\"id\":\"2a3725b0-6f12-4366-b1a3-35ad2b2dea89\",\"type\":\"Range1d\"}},\"id\":\"8a03f6a8-66de-40e3-a112-c88a8bd61d45\",\"subtype\":\"Chart\",\"type\":\"Plot\"},{\"attributes\":{\"fill_alpha\":{\"field\":\"fill_alpha\"},\"fill_color\":{\"field\":\"color\"},\"height\":{\"field\":\"height\",\"units\":\"data\"},\"line_color\":{\"field\":\"line_color\"},\"width\":{\"field\":\"width\",\"units\":\"data\"},\"x\":{\"field\":\"x\"},\"y\":{\"field\":\"y\"}},\"id\":\"3fa401f1-e32d-41bc-85bb-9ab7022c6be0\",\"type\":\"Rect\"},{\"attributes\":{\"label\":{\"value\":\"New York\"},\"renderers\":[{\"id\":\"4d9b9c28-0c9a-437e-81b7-aaa81c9ba17a\",\"type\":\"GlyphRenderer\"}]},\"id\":\"a6e141cf-cc82-48c7-9a52-e6d97427fcf1\",\"type\":\"LegendItem\"},{\"attributes\":{\"data_source\":{\"id\":\"f3f67e26-e248-47d8-8c60-24a697b9a4d0\",\"type\":\"ColumnDataSource\"},\"glyph\":{\"id\":\"a3ab7fa5-88f5-4f23-a126-e7018e1eb97f\",\"type\":\"Rect\"},\"hover_glyph\":null,\"nonselection_glyph\":null,\"selection_glyph\":null},\"id\":\"7ecd3d15-5bb6-4846-84a2-513dcd7909c0\",\"type\":\"GlyphRenderer\"},{\"attributes\":{\"label\":{\"value\":\"Rotterdam\"},\"renderers\":[{\"id\":\"8e9dd724-7904-49f4-b1e5-c1e14b08963b\",\"type\":\"GlyphRenderer\"}]},\"id\":\"0d2e01a7-e267-4734-a9ee-54691cf97fdc\",\"type\":\"LegendItem\"},{\"attributes\":{\"data_source\":{\"id\":\"3e4bc123-a8e4-42e9-be49-9ef2da712dd5\",\"type\":\"ColumnDataSource\"},\"glyph\":{\"id\":\"15697021-429b-4b12-9b5e-c7a3cceb1b15\",\"type\":\"Rect\"},\"hover_glyph\":null,\"nonselection_glyph\":null,\"selection_glyph\":null},\"id\":\"254e5a65-c4a6-45a8-bdf9-c78db72552fe\",\"type\":\"GlyphRenderer\"},{\"attributes\":{\"label\":{\"value\":\"Chicago\"},\"renderers\":[{\"id\":\"6956f397-a488-4452-afc5-a0fb50f43e7d\",\"type\":\"GlyphRenderer\"}]},\"id\":\"abcef2ce-ffaf-4e66-9bba-83876e74e68a\",\"type\":\"LegendItem\"},{\"attributes\":{\"overlay\":{\"id\":\"dba6e370-7f7e-4574-b6e2-a0fb6c04a0ba\",\"type\":\"BoxAnnotation\"},\"plot\":{\"id\":\"8a03f6a8-66de-40e3-a112-c88a8bd61d45\",\"subtype\":\"Chart\",\"type\":\"Plot\"}},\"id\":\"c89aad3b-4b80-41d7-9688-b48e344bf2b0\",\"type\":\"BoxZoomTool\"},{\"attributes\":{\"fill_alpha\":{\"field\":\"fill_alpha\"},\"fill_color\":{\"field\":\"color\"},\"height\":{\"field\":\"height\",\"units\":\"data\"},\"line_color\":{\"field\":\"line_color\"},\"width\":{\"field\":\"width\",\"units\":\"data\"},\"x\":{\"field\":\"x\"},\"y\":{\"field\":\"y\"}},\"id\":\"ffdeda57-88cf-4c76-bc59-859d76bca8b8\",\"type\":\"Rect\"},{\"attributes\":{\"data_source\":{\"id\":\"d4b6d199-cdfe-4809-bd5e-d4d39d7006e9\",\"type\":\"ColumnDataSource\"},\"glyph\":{\"id\":\"ffdeda57-88cf-4c76-bc59-859d76bca8b8\",\"type\":\"Rect\"},\"hover_glyph\":null,\"nonselection_glyph\":null,\"selection_glyph\":null},\"id\":\"7a9d09a8-0dc7-47c1-aade-0d17e9f456d0\",\"type\":\"GlyphRenderer\"},{\"attributes\":{\"callback\":null,\"column_names\":[\"line_color\",\"line_alpha\",\"color\",\"fill_alpha\",\"height\",\"width\",\"y\",\"x\",\"label\"],\"data\":{\"chart_index\":[{\"city\":\"New York\"}],\"city\":[\"New York\"],\"color\":[\"#f22c40\"],\"fill_alpha\":[0.8],\"height\":[1167.0],\"label\":[{\"city\":\"New York\"}],\"line_alpha\":[1.0],\"line_color\":[\"white\"],\"width\":[0.8],\"x\":[\"New York\"],\"y\":[583.5]}},\"id\":\"aaa9e2cb-e211-42d2-91a3-748e3fedc8c8\",\"type\":\"ColumnDataSource\"},{\"attributes\":{\"data_source\":{\"id\":\"4f713d04-ed58-4566-a681-96a874db21b3\",\"type\":\"ColumnDataSource\"},\"glyph\":{\"id\":\"3fa401f1-e32d-41bc-85bb-9ab7022c6be0\",\"type\":\"Rect\"},\"hover_glyph\":null,\"nonselection_glyph\":null,\"selection_glyph\":null},\"id\":\"6956f397-a488-4452-afc5-a0fb50f43e7d\",\"type\":\"GlyphRenderer\"},{\"attributes\":{\"fill_alpha\":{\"field\":\"fill_alpha\"},\"fill_color\":{\"field\":\"color\"},\"height\":{\"field\":\"height\",\"units\":\"data\"},\"line_color\":{\"field\":\"line_color\"},\"width\":{\"field\":\"width\",\"units\":\"data\"},\"x\":{\"field\":\"x\"},\"y\":{\"field\":\"y\"}},\"id\":\"9c73ba8c-520b-41a5-b5bb-e42461ff75b4\",\"type\":\"Rect\"},{\"attributes\":{\"callback\":null,\"column_names\":[\"line_color\",\"line_alpha\",\"color\",\"fill_alpha\",\"height\",\"width\",\"y\",\"x\",\"label\"],\"data\":{\"chart_index\":[{\"city\":\"Boston\"}],\"city\":[\"Boston\"],\"color\":[\"#f22c40\"],\"fill_alpha\":[0.8],\"height\":[224.0],\"label\":[{\"city\":\"Boston\"}],\"line_alpha\":[1.0],\"line_color\":[\"white\"],\"width\":[0.8],\"x\":[\"Boston\"],\"y\":[112.0]}},\"id\":\"d4b6d199-cdfe-4809-bd5e-d4d39d7006e9\",\"type\":\"ColumnDataSource\"},{\"attributes\":{\"callback\":null,\"column_names\":[\"line_color\",\"line_alpha\",\"color\",\"fill_alpha\",\"height\",\"width\",\"y\",\"x\",\"label\"],\"data\":{\"chart_index\":[{\"city\":\"San Francisco\"}],\"city\":[\"San Francisco\"],\"color\":[\"#f22c40\"],\"fill_alpha\":[0.8],\"height\":[813.0],\"label\":[{\"city\":\"San Francisco\"}],\"line_alpha\":[1.0],\"line_color\":[\"white\"],\"width\":[0.8],\"x\":[\"San Francisco\"],\"y\":[406.5]}},\"id\":\"3e4bc123-a8e4-42e9-be49-9ef2da712dd5\",\"type\":\"ColumnDataSource\"},{\"attributes\":{\"data_source\":{\"id\":\"6df1f34d-148b-4450-a9ae-9c25aa83c939\",\"type\":\"ColumnDataSource\"},\"glyph\":{\"id\":\"abcb7820-f619-4be0-b2dd-d4c9f9d5e250\",\"type\":\"Rect\"},\"hover_glyph\":null,\"nonselection_glyph\":null,\"selection_glyph\":null},\"id\":\"3248f9a3-a50a-4ca0-b261-b99edeb5d79a\",\"type\":\"GlyphRenderer\"},{\"attributes\":{\"callback\":null,\"end\":1345.05},\"id\":\"2a3725b0-6f12-4366-b1a3-35ad2b2dea89\",\"type\":\"Range1d\"},{\"attributes\":{\"label\":{\"value\":\"Munchen\"},\"renderers\":[{\"id\":\"7ecd3d15-5bb6-4846-84a2-513dcd7909c0\",\"type\":\"GlyphRenderer\"}]},\"id\":\"ffc396c0-c7b8-4fa4-b037-42adb7b986c7\",\"type\":\"LegendItem\"},{\"attributes\":{\"callback\":null,\"column_names\":[\"line_color\",\"line_alpha\",\"color\",\"fill_alpha\",\"height\",\"width\",\"y\",\"x\",\"label\"],\"data\":{\"chart_index\":[{\"city\":\"Munchen\"}],\"city\":[\"Munchen\"],\"color\":[\"#f22c40\"],\"fill_alpha\":[0.8],\"height\":[513.0],\"label\":[{\"city\":\"Munchen\"}],\"line_alpha\":[1.0],\"line_color\":[\"white\"],\"width\":[0.8],\"x\":[\"Munchen\"],\"y\":[256.5]}},\"id\":\"f3f67e26-e248-47d8-8c60-24a697b9a4d0\",\"type\":\"ColumnDataSource\"},{\"attributes\":{},\"id\":\"fce7a4b3-3e55-4b06-8ed5-3e1ab35751d9\",\"type\":\"BasicTickFormatter\"},{\"attributes\":{\"data_source\":{\"id\":\"a5bde4fc-e139-4680-9fcd-29ebd3986667\",\"type\":\"ColumnDataSource\"},\"glyph\":{\"id\":\"d8ca6cff-a356-4f8e-ac1d-8f8405d5a66e\",\"type\":\"Rect\"},\"hover_glyph\":null,\"nonselection_glyph\":null,\"selection_glyph\":null},\"id\":\"63fa0f69-cec7-42d7-84b5-c7bee1fdac37\",\"type\":\"GlyphRenderer\"},{\"attributes\":{\"plot\":{\"id\":\"8a03f6a8-66de-40e3-a112-c88a8bd61d45\",\"subtype\":\"Chart\",\"type\":\"Plot\"}},\"id\":\"46121bae-9b7a-4bc3-a89c-a6d37bc07201\",\"type\":\"SaveTool\"},{\"attributes\":{\"label\":{\"value\":\"Toronto\"},\"renderers\":[{\"id\":\"82795220-ad98-465d-9a36-709a6581606e\",\"type\":\"GlyphRenderer\"}]},\"id\":\"cabf2cab-c066-409e-8151-ec8e7da1e14e\",\"type\":\"LegendItem\"},{\"attributes\":{\"callback\":null,\"column_names\":[\"line_color\",\"line_alpha\",\"color\",\"fill_alpha\",\"height\",\"width\",\"y\",\"x\",\"label\"],\"data\":{\"chart_index\":[{\"city\":\"Chicago\"}],\"city\":[\"Chicago\"],\"color\":[\"#f22c40\"],\"fill_alpha\":[0.8],\"height\":[350.0],\"label\":[{\"city\":\"Chicago\"}],\"line_alpha\":[1.0],\"line_color\":[\"white\"],\"width\":[0.8],\"x\":[\"Chicago\"],\"y\":[175.0]}},\"id\":\"4f713d04-ed58-4566-a681-96a874db21b3\",\"type\":\"ColumnDataSource\"},{\"attributes\":{\"label\":{\"value\":\"London\"},\"renderers\":[{\"id\":\"3248f9a3-a50a-4ca0-b261-b99edeb5d79a\",\"type\":\"GlyphRenderer\"}]},\"id\":\"4dc8ab9c-a289-43df-8505-d00b56fee1aa\",\"type\":\"LegendItem\"},{\"attributes\":{\"fill_alpha\":{\"field\":\"fill_alpha\"},\"fill_color\":{\"field\":\"color\"},\"height\":{\"field\":\"height\",\"units\":\"data\"},\"line_color\":{\"field\":\"line_color\"},\"width\":{\"field\":\"width\",\"units\":\"data\"},\"x\":{\"field\":\"x\"},\"y\":{\"field\":\"y\"}},\"id\":\"f4d5cb86-72fb-4d3d-bb68-f09be9f308e5\",\"type\":\"Rect\"},{\"attributes\":{\"label\":{\"value\":\"Amsterdam\"},\"renderers\":[{\"id\":\"0797a8db-7b7b-48ba-bba3-d1183b230c70\",\"type\":\"GlyphRenderer\"}]},\"id\":\"cc1f962b-3186-4227-b83e-e71520b35c2f\",\"type\":\"LegendItem\"},{\"attributes\":{\"plot\":null,\"text\":\"Jobs posted by citites\"},\"id\":\"c631c631-c645-4dbf-9d71-691587372437\",\"type\":\"Title\"},{\"attributes\":{\"data_source\":{\"id\":\"b9b6ec8e-53b9-4b36-84b8-f1690b83973f\",\"type\":\"ColumnDataSource\"},\"glyph\":{\"id\":\"183765b6-a6ce-4bab-9628-5adaf2f8b647\",\"type\":\"Rect\"},\"hover_glyph\":null,\"nonselection_glyph\":null,\"selection_glyph\":null},\"id\":\"e304c8b8-d8ab-447b-b786-14b015a85001\",\"type\":\"GlyphRenderer\"},{\"attributes\":{\"dimension\":1,\"plot\":{\"id\":\"8a03f6a8-66de-40e3-a112-c88a8bd61d45\",\"subtype\":\"Chart\",\"type\":\"Plot\"},\"ticker\":{\"id\":\"2d6b77f4-030b-4e5c-b4ea-90734357bbf8\",\"type\":\"BasicTicker\"}},\"id\":\"1bdb1aef-49ae-4f05-9372-e1e9f0d17c44\",\"type\":\"Grid\"},{\"attributes\":{\"fill_alpha\":{\"field\":\"fill_alpha\"},\"fill_color\":{\"field\":\"color\"},\"height\":{\"field\":\"height\",\"units\":\"data\"},\"line_color\":{\"field\":\"line_color\"},\"width\":{\"field\":\"width\",\"units\":\"data\"},\"x\":{\"field\":\"x\"},\"y\":{\"field\":\"y\"}},\"id\":\"d8ca6cff-a356-4f8e-ac1d-8f8405d5a66e\",\"type\":\"Rect\"},{\"attributes\":{\"fill_alpha\":{\"field\":\"fill_alpha\"},\"fill_color\":{\"field\":\"color\"},\"height\":{\"field\":\"height\",\"units\":\"data\"},\"line_color\":{\"field\":\"line_color\"},\"width\":{\"field\":\"width\",\"units\":\"data\"},\"x\":{\"field\":\"x\"},\"y\":{\"field\":\"y\"}},\"id\":\"b530c242-a064-4358-be1d-c5f478d6f8a2\",\"type\":\"Rect\"},{\"attributes\":{},\"id\":\"c3af5311-b701-4c2f-8f51-fb8b8fb6bf32\",\"type\":\"CategoricalTickFormatter\"},{\"attributes\":{\"callback\":null,\"column_names\":[\"line_color\",\"line_alpha\",\"color\",\"fill_alpha\",\"height\",\"width\",\"y\",\"x\",\"label\"],\"data\":{\"chart_index\":[{\"city\":\"Seattle\"}],\"city\":[\"Seattle\"],\"color\":[\"#f22c40\"],\"fill_alpha\":[0.8],\"height\":[425.0],\"label\":[{\"city\":\"Seattle\"}],\"line_alpha\":[1.0],\"line_color\":[\"white\"],\"width\":[0.8],\"x\":[\"Seattle\"],\"y\":[212.5]}},\"id\":\"e947ad1e-c350-437c-9f33-43adfb1cfe00\",\"type\":\"ColumnDataSource\"},{\"attributes\":{\"fill_alpha\":{\"field\":\"fill_alpha\"},\"fill_color\":{\"field\":\"color\"},\"height\":{\"field\":\"height\",\"units\":\"data\"},\"line_color\":{\"field\":\"line_color\"},\"width\":{\"field\":\"width\",\"units\":\"data\"},\"x\":{\"field\":\"x\"},\"y\":{\"field\":\"y\"}},\"id\":\"284a1fed-adb9-4fc1-a9dd-7e1c9cc5f8bd\",\"type\":\"Rect\"},{\"attributes\":{\"plot\":{\"id\":\"8a03f6a8-66de-40e3-a112-c88a8bd61d45\",\"subtype\":\"Chart\",\"type\":\"Plot\"}},\"id\":\"8d2ee00b-5c17-45f5-b40e-af2b4982b920\",\"type\":\"HelpTool\"},{\"attributes\":{\"plot\":{\"id\":\"8a03f6a8-66de-40e3-a112-c88a8bd61d45\",\"subtype\":\"Chart\",\"type\":\"Plot\"}},\"id\":\"58f4799e-d51a-4e64-831d-776fd3bb646d\",\"type\":\"ResetTool\"},{\"attributes\":{\"axis_label\":\"City\",\"formatter\":{\"id\":\"c3af5311-b701-4c2f-8f51-fb8b8fb6bf32\",\"type\":\"CategoricalTickFormatter\"},\"major_label_orientation\":0.7853981633974483,\"plot\":{\"id\":\"8a03f6a8-66de-40e3-a112-c88a8bd61d45\",\"subtype\":\"Chart\",\"type\":\"Plot\"},\"ticker\":{\"id\":\"0777945e-680b-4aff-8e62-22475a374cae\",\"type\":\"CategoricalTicker\"}},\"id\":\"5cf31735-7029-4fe5-95ef-12666faaab28\",\"type\":\"CategoricalAxis\"},{\"attributes\":{\"callback\":null,\"column_names\":[\"line_color\",\"line_alpha\",\"color\",\"fill_alpha\",\"height\",\"width\",\"y\",\"x\",\"label\"],\"data\":{\"chart_index\":[{\"city\":\"No office location\"}],\"city\":[\"No office location\"],\"color\":[\"#f22c40\"],\"fill_alpha\":[0.8],\"height\":[347.0],\"label\":[{\"city\":\"No office location\"}],\"line_alpha\":[1.0],\"line_color\":[\"white\"],\"width\":[0.8],\"x\":[\"No office location\"],\"y\":[173.5]}},\"id\":\"35c43455-9504-41b0-b7d9-bc11f0f92e48\",\"type\":\"ColumnDataSource\"}],\"root_ids\":[\"8a03f6a8-66de-40e3-a112-c88a8bd61d45\"]},\"title\":\"Bokeh Application\",\"version\":\"0.12.3\"}};\n",
       "            var render_items = [{\"docid\":\"dde1cb19-8d09-4df2-bede-8422e74efdff\",\"elementid\":\"2dcb6dad-b706-481e-ae2e-13d98a117b7b\",\"modelid\":\"8a03f6a8-66de-40e3-a112-c88a8bd61d45\"}];\n",
       "            \n",
       "            Bokeh.embed.embed_items(docs_json, render_items);\n",
       "        });\n",
       "      },\n",
       "      function(Bokeh) {\n",
       "      }\n",
       "    ];\n",
       "  \n",
       "    function run_inline_js() {\n",
       "      \n",
       "      if ((window.Bokeh !== undefined) || (force === \"1\")) {\n",
       "        for (var i = 0; i < inline_js.length; i++) {\n",
       "          inline_js[i](window.Bokeh);\n",
       "        }if (force === \"1\") {\n",
       "          display_loaded();\n",
       "        }} else if (Date.now() < window._bokeh_timeout) {\n",
       "        setTimeout(run_inline_js, 100);\n",
       "      } else if (!window._bokeh_failed_load) {\n",
       "        console.log(\"Bokeh: BokehJS failed to load within specified timeout.\");\n",
       "        window._bokeh_failed_load = true;\n",
       "      } else if (!force) {\n",
       "        var cell = $(\"#2dcb6dad-b706-481e-ae2e-13d98a117b7b\").parents('.cell').data().cell;\n",
       "        cell.output_area.append_execute_result(NB_LOAD_WARNING)\n",
       "      }\n",
       "  \n",
       "    }\n",
       "  \n",
       "    if (window._bokeh_is_loading === 0) {\n",
       "      console.log(\"Bokeh: BokehJS loaded, going straight to plotting\");\n",
       "      run_inline_js();\n",
       "    } else {\n",
       "      load_libs(js_urls, function() {\n",
       "        console.log(\"Bokeh: BokehJS plotting callback run at\", now());\n",
       "        run_inline_js();\n",
       "      });\n",
       "    }\n",
       "  }(this));\n",
       "</script>"
      ]
     },
     "metadata": {},
     "output_type": "display_data"
    }
   ],
   "source": [
    "p = Bar(df_cities, values='count', title='Jobs posted by citites', legend='top_right', label=CatAttr(columns=['city'], sort=False),)\n",
    "\n",
    "# Need to add different color for different cities \n",
    "show(p)\n"
   ]
  },
  {
   "cell_type": "code",
   "execution_count": 201,
   "metadata": {
    "collapsed": false
   },
   "outputs": [
    {
     "data": {
      "text/plain": [
       "country\n",
       "US             9830\n",
       "Germany        4093\n",
       "UK             2334\n",
       "Netherlands    1226\n",
       "Canada          702\n",
       "nan             591\n",
       "Australia       410\n",
       "Sweden          345\n",
       "Switzerland     339\n",
       "France          328\n",
       "Ireland         249\n",
       "Spain           239\n",
       "Finland         202\n",
       "Austria         198\n",
       "India           157\n",
       "Name: jobid, dtype: int64"
      ]
     },
     "execution_count": 201,
     "metadata": {},
     "output_type": "execute_result"
    }
   ],
   "source": [
    "top_countries = jobs.groupby(['country'])['jobid'].count().sort_values(ascending=False)\n",
    "top_countries = top_countries.nlargest(15)\n",
    "\n",
    "df_countries = top_countries.to_frame('count').reset_index()\n",
    "top_countries"
   ]
  },
  {
   "cell_type": "code",
   "execution_count": 202,
   "metadata": {
    "collapsed": false
   },
   "outputs": [
    {
     "data": {
      "text/html": [
       "\n",
       "\n",
       "    <div class=\"bk-root\">\n",
       "        <div class=\"plotdiv\" id=\"36d903a4-0744-45bb-9b3c-b6093ac79fbf\"></div>\n",
       "    </div>\n",
       "<script type=\"text/javascript\">\n",
       "  \n",
       "  (function(global) {\n",
       "    function now() {\n",
       "      return new Date();\n",
       "    }\n",
       "  \n",
       "    var force = \"\";\n",
       "  \n",
       "    if (typeof (window._bokeh_onload_callbacks) === \"undefined\" || force !== \"\") {\n",
       "      window._bokeh_onload_callbacks = [];\n",
       "      window._bokeh_is_loading = undefined;\n",
       "    }\n",
       "  \n",
       "  \n",
       "    \n",
       "    if (typeof (window._bokeh_timeout) === \"undefined\" || force !== \"\") {\n",
       "      window._bokeh_timeout = Date.now() + 0;\n",
       "      window._bokeh_failed_load = false;\n",
       "    }\n",
       "  \n",
       "    var NB_LOAD_WARNING = {'data': {'text/html':\n",
       "       \"<div style='background-color: #fdd'>\\n\"+\n",
       "       \"<p>\\n\"+\n",
       "       \"BokehJS does not appear to have successfully loaded. If loading BokehJS from CDN, this \\n\"+\n",
       "       \"may be due to a slow or bad network connection. Possible fixes:\\n\"+\n",
       "       \"</p>\\n\"+\n",
       "       \"<ul>\\n\"+\n",
       "       \"<li>re-rerun `output_notebook()` to attempt to load from CDN again, or</li>\\n\"+\n",
       "       \"<li>use INLINE resources instead, as so:</li>\\n\"+\n",
       "       \"</ul>\\n\"+\n",
       "       \"<code>\\n\"+\n",
       "       \"from bokeh.resources import INLINE\\n\"+\n",
       "       \"output_notebook(resources=INLINE)\\n\"+\n",
       "       \"</code>\\n\"+\n",
       "       \"</div>\"}};\n",
       "  \n",
       "    function display_loaded() {\n",
       "      if (window.Bokeh !== undefined) {\n",
       "        Bokeh.$(\"#36d903a4-0744-45bb-9b3c-b6093ac79fbf\").text(\"BokehJS successfully loaded.\");\n",
       "      } else if (Date.now() < window._bokeh_timeout) {\n",
       "        setTimeout(display_loaded, 100)\n",
       "      }\n",
       "    }\n",
       "  \n",
       "    function run_callbacks() {\n",
       "      window._bokeh_onload_callbacks.forEach(function(callback) { callback() });\n",
       "      delete window._bokeh_onload_callbacks\n",
       "      console.info(\"Bokeh: all callbacks have finished\");\n",
       "    }\n",
       "  \n",
       "    function load_libs(js_urls, callback) {\n",
       "      window._bokeh_onload_callbacks.push(callback);\n",
       "      if (window._bokeh_is_loading > 0) {\n",
       "        console.log(\"Bokeh: BokehJS is being loaded, scheduling callback at\", now());\n",
       "        return null;\n",
       "      }\n",
       "      if (js_urls == null || js_urls.length === 0) {\n",
       "        run_callbacks();\n",
       "        return null;\n",
       "      }\n",
       "      console.log(\"Bokeh: BokehJS not loaded, scheduling load and callback at\", now());\n",
       "      window._bokeh_is_loading = js_urls.length;\n",
       "      for (var i = 0; i < js_urls.length; i++) {\n",
       "        var url = js_urls[i];\n",
       "        var s = document.createElement('script');\n",
       "        s.src = url;\n",
       "        s.async = false;\n",
       "        s.onreadystatechange = s.onload = function() {\n",
       "          window._bokeh_is_loading--;\n",
       "          if (window._bokeh_is_loading === 0) {\n",
       "            console.log(\"Bokeh: all BokehJS libraries loaded\");\n",
       "            run_callbacks()\n",
       "          }\n",
       "        };\n",
       "        s.onerror = function() {\n",
       "          console.warn(\"failed to load library \" + url);\n",
       "        };\n",
       "        console.log(\"Bokeh: injecting script tag for BokehJS library: \", url);\n",
       "        document.getElementsByTagName(\"head\")[0].appendChild(s);\n",
       "      }\n",
       "    };var element = document.getElementById(\"36d903a4-0744-45bb-9b3c-b6093ac79fbf\");\n",
       "    if (element == null) {\n",
       "      console.log(\"Bokeh: ERROR: autoload.js configured with elementid '36d903a4-0744-45bb-9b3c-b6093ac79fbf' but no matching script tag was found. \")\n",
       "      return false;\n",
       "    }\n",
       "  \n",
       "    var js_urls = [];\n",
       "  \n",
       "    var inline_js = [\n",
       "      function(Bokeh) {\n",
       "        Bokeh.$(function() {\n",
       "            var docs_json = {\"f54e7b6b-3c5f-4b00-806f-fbae56732c94\":{\"roots\":{\"references\":[{\"attributes\":{\"callback\":null,\"column_names\":[\"line_color\",\"line_alpha\",\"color\",\"fill_alpha\",\"height\",\"width\",\"y\",\"x\",\"label\"],\"data\":{\"chart_index\":[{\"country\":\"Australia\"}],\"color\":[\"#f22c40\"],\"country\":[\"Australia\"],\"fill_alpha\":[0.8],\"height\":[410.0],\"label\":[{\"country\":\"Australia\"}],\"line_alpha\":[1.0],\"line_color\":[\"white\"],\"width\":[0.8],\"x\":[\"Australia\"],\"y\":[205.0]}},\"id\":\"bb5a4fb6-9424-41c9-9a66-b821c8c5520e\",\"type\":\"ColumnDataSource\"},{\"attributes\":{\"data_source\":{\"id\":\"7304c09c-d6f5-4430-a82c-1c9dba32a882\",\"type\":\"ColumnDataSource\"},\"glyph\":{\"id\":\"ea440279-082d-453d-94bc-170cd66aa307\",\"type\":\"Rect\"},\"hover_glyph\":null,\"nonselection_glyph\":null,\"selection_glyph\":null},\"id\":\"6a19c707-6f61-4a8f-9cf7-265d941b4da0\",\"type\":\"GlyphRenderer\"},{\"attributes\":{\"callback\":null,\"end\":10321.5},\"id\":\"3cc915b8-476c-41f6-8d6d-5392490d1b15\",\"type\":\"Range1d\"},{\"attributes\":{\"fill_alpha\":{\"field\":\"fill_alpha\"},\"fill_color\":{\"field\":\"color\"},\"height\":{\"field\":\"height\",\"units\":\"data\"},\"line_color\":{\"field\":\"line_color\"},\"width\":{\"field\":\"width\",\"units\":\"data\"},\"x\":{\"field\":\"x\"},\"y\":{\"field\":\"y\"}},\"id\":\"2c2691ca-665d-47f5-baea-3d44e1a1c917\",\"type\":\"Rect\"},{\"attributes\":{\"callback\":null,\"column_names\":[\"line_color\",\"line_alpha\",\"color\",\"fill_alpha\",\"height\",\"width\",\"y\",\"x\",\"label\"],\"data\":{\"chart_index\":[{\"country\":\"US\"}],\"color\":[\"#f22c40\"],\"country\":[\"US\"],\"fill_alpha\":[0.8],\"height\":[9830.0],\"label\":[{\"country\":\"US\"}],\"line_alpha\":[1.0],\"line_color\":[\"white\"],\"width\":[0.8],\"x\":[\"US\"],\"y\":[4915.0]}},\"id\":\"b2b688b9-d397-4d8c-b899-0e82f43c1464\",\"type\":\"ColumnDataSource\"},{\"attributes\":{},\"id\":\"15df3f44-38c5-4f17-8c45-e183b5df5019\",\"type\":\"ToolEvents\"},{\"attributes\":{\"callback\":null,\"column_names\":[\"line_color\",\"line_alpha\",\"color\",\"fill_alpha\",\"height\",\"width\",\"y\",\"x\",\"label\"],\"data\":{\"chart_index\":[{\"country\":\"UK\"}],\"color\":[\"#f22c40\"],\"country\":[\"UK\"],\"fill_alpha\":[0.8],\"height\":[2334.0],\"label\":[{\"country\":\"UK\"}],\"line_alpha\":[1.0],\"line_color\":[\"white\"],\"width\":[0.8],\"x\":[\"UK\"],\"y\":[1167.0]}},\"id\":\"9f9d8315-c15c-4494-9de5-09f72cbe64c8\",\"type\":\"ColumnDataSource\"},{\"attributes\":{\"fill_alpha\":{\"field\":\"fill_alpha\"},\"fill_color\":{\"field\":\"color\"},\"height\":{\"field\":\"height\",\"units\":\"data\"},\"line_color\":{\"field\":\"line_color\"},\"width\":{\"field\":\"width\",\"units\":\"data\"},\"x\":{\"field\":\"x\"},\"y\":{\"field\":\"y\"}},\"id\":\"26e37378-282f-41dd-871c-da819bb429cc\",\"type\":\"Rect\"},{\"attributes\":{\"label\":{\"value\":\"Germany\"},\"renderers\":[{\"id\":\"8e8243b6-5cc3-42d8-a5c7-bcbdcbf18c03\",\"type\":\"GlyphRenderer\"}]},\"id\":\"34db70df-933b-49aa-aa8a-abbb42f75833\",\"type\":\"LegendItem\"},{\"attributes\":{\"fill_alpha\":{\"field\":\"fill_alpha\"},\"fill_color\":{\"field\":\"color\"},\"height\":{\"field\":\"height\",\"units\":\"data\"},\"line_color\":{\"field\":\"line_color\"},\"width\":{\"field\":\"width\",\"units\":\"data\"},\"x\":{\"field\":\"x\"},\"y\":{\"field\":\"y\"}},\"id\":\"6efbe79b-c71c-4db5-868b-b60d42ef6fda\",\"type\":\"Rect\"},{\"attributes\":{\"label\":{\"value\":\"US\"},\"renderers\":[{\"id\":\"bddbd4a9-ff72-458c-8a70-e419ebdbfff1\",\"type\":\"GlyphRenderer\"}]},\"id\":\"6b512542-673e-44aa-9294-b3e4b763c8f3\",\"type\":\"LegendItem\"},{\"attributes\":{\"below\":[{\"id\":\"b218c00e-47f3-44b7-b496-683976094dc3\",\"type\":\"CategoricalAxis\"}],\"left\":[{\"id\":\"8a799bf4-eb75-4eaa-9073-e0a22f95dde7\",\"type\":\"LinearAxis\"}],\"renderers\":[{\"id\":\"490c2c12-1a18-4d98-95cb-e2fe4d598602\",\"type\":\"BoxAnnotation\"},{\"id\":\"bddbd4a9-ff72-458c-8a70-e419ebdbfff1\",\"type\":\"GlyphRenderer\"},{\"id\":\"8e8243b6-5cc3-42d8-a5c7-bcbdcbf18c03\",\"type\":\"GlyphRenderer\"},{\"id\":\"c4e9532c-bcd8-412d-841f-273510372e9f\",\"type\":\"GlyphRenderer\"},{\"id\":\"99f20d13-478c-47f2-a220-31d79bb0cf19\",\"type\":\"GlyphRenderer\"},{\"id\":\"71a36098-334f-4ca4-96e6-cbc32ee97479\",\"type\":\"GlyphRenderer\"},{\"id\":\"fd330def-5bb5-4be5-81c6-e5affee07396\",\"type\":\"GlyphRenderer\"},{\"id\":\"00721d96-4838-4e18-8177-a08ff805489a\",\"type\":\"GlyphRenderer\"},{\"id\":\"8d383022-75ba-4b91-994c-b3626f3e6939\",\"type\":\"GlyphRenderer\"},{\"id\":\"ca29e22f-75e5-4a6c-a532-9b9fab1d15d4\",\"type\":\"GlyphRenderer\"},{\"id\":\"8d5d8086-f59c-4fe5-a8b4-9b2079a9d4e7\",\"type\":\"GlyphRenderer\"},{\"id\":\"02405fb3-65ee-4d77-bcc5-4d2959d1aa4e\",\"type\":\"GlyphRenderer\"},{\"id\":\"eb6b3578-ca1c-4da4-8d9a-a66c420f73a3\",\"type\":\"GlyphRenderer\"},{\"id\":\"8b02bf5c-aaa8-485a-b62b-3c6f821d03dc\",\"type\":\"GlyphRenderer\"},{\"id\":\"06895c17-72b3-4ec4-bf0d-3496ea145100\",\"type\":\"GlyphRenderer\"},{\"id\":\"6a19c707-6f61-4a8f-9cf7-265d941b4da0\",\"type\":\"GlyphRenderer\"},{\"id\":\"f31d6dd4-bb07-40f0-a727-766444dd3f50\",\"type\":\"Legend\"},{\"id\":\"b218c00e-47f3-44b7-b496-683976094dc3\",\"type\":\"CategoricalAxis\"},{\"id\":\"8a799bf4-eb75-4eaa-9073-e0a22f95dde7\",\"type\":\"LinearAxis\"},{\"id\":\"f976aa9c-d0b1-4d06-be30-21565eeb1569\",\"type\":\"Grid\"}],\"title\":{\"id\":\"e209e380-b4b7-4f50-80f1-9daa12781181\",\"type\":\"Title\"},\"tool_events\":{\"id\":\"15df3f44-38c5-4f17-8c45-e183b5df5019\",\"type\":\"ToolEvents\"},\"toolbar\":{\"id\":\"6da8bb80-a718-4a96-953f-8aabec52ddcb\",\"type\":\"Toolbar\"},\"x_mapper_type\":\"auto\",\"x_range\":{\"id\":\"4202ffd4-f745-4fb3-b9b3-76b4c4e10d4a\",\"type\":\"FactorRange\"},\"y_mapper_type\":\"auto\",\"y_range\":{\"id\":\"3cc915b8-476c-41f6-8d6d-5392490d1b15\",\"type\":\"Range1d\"}},\"id\":\"a00aaec9-ec47-4a7d-89c8-024e957c2329\",\"subtype\":\"Chart\",\"type\":\"Plot\"},{\"attributes\":{\"axis_label\":\"Sum( Count )\",\"formatter\":{\"id\":\"834b3bc1-2725-4679-95cc-1aa1ae526b9a\",\"type\":\"BasicTickFormatter\"},\"plot\":{\"id\":\"a00aaec9-ec47-4a7d-89c8-024e957c2329\",\"subtype\":\"Chart\",\"type\":\"Plot\"},\"ticker\":{\"id\":\"5a460094-e2f9-4fdf-bc97-2ae86091817c\",\"type\":\"BasicTicker\"}},\"id\":\"8a799bf4-eb75-4eaa-9073-e0a22f95dde7\",\"type\":\"LinearAxis\"},{\"attributes\":{\"label\":{\"value\":\"Switzerland\"},\"renderers\":[{\"id\":\"ca29e22f-75e5-4a6c-a532-9b9fab1d15d4\",\"type\":\"GlyphRenderer\"}]},\"id\":\"164d400a-e7ff-4aba-947d-fbb985f41386\",\"type\":\"LegendItem\"},{\"attributes\":{\"data_source\":{\"id\":\"79c49df4-54b5-4322-81a9-d15c9d4d0416\",\"type\":\"ColumnDataSource\"},\"glyph\":{\"id\":\"416f5431-4455-4af3-834b-645f1c956740\",\"type\":\"Rect\"},\"hover_glyph\":null,\"nonselection_glyph\":null,\"selection_glyph\":null},\"id\":\"ca29e22f-75e5-4a6c-a532-9b9fab1d15d4\",\"type\":\"GlyphRenderer\"},{\"attributes\":{\"callback\":null,\"column_names\":[\"line_color\",\"line_alpha\",\"color\",\"fill_alpha\",\"height\",\"width\",\"y\",\"x\",\"label\"],\"data\":{\"chart_index\":[{\"country\":\"nan\"}],\"color\":[\"#f22c40\"],\"country\":[\"nan\"],\"fill_alpha\":[0.8],\"height\":[591.0],\"label\":[{\"country\":\"nan\"}],\"line_alpha\":[1.0],\"line_color\":[\"white\"],\"width\":[0.8],\"x\":[\"nan\"],\"y\":[295.5]}},\"id\":\"541343a6-60b7-40ec-924f-4766b39f59d2\",\"type\":\"ColumnDataSource\"},{\"attributes\":{\"callback\":null,\"column_names\":[\"line_color\",\"line_alpha\",\"color\",\"fill_alpha\",\"height\",\"width\",\"y\",\"x\",\"label\"],\"data\":{\"chart_index\":[{\"country\":\"India\"}],\"color\":[\"#f22c40\"],\"country\":[\"India\"],\"fill_alpha\":[0.8],\"height\":[157.0],\"label\":[{\"country\":\"India\"}],\"line_alpha\":[1.0],\"line_color\":[\"white\"],\"width\":[0.8],\"x\":[\"India\"],\"y\":[78.5]}},\"id\":\"7304c09c-d6f5-4430-a82c-1c9dba32a882\",\"type\":\"ColumnDataSource\"},{\"attributes\":{\"active_drag\":\"auto\",\"active_scroll\":\"auto\",\"active_tap\":\"auto\",\"tools\":[{\"id\":\"01ccdf11-ac57-4a3e-abb6-d1e488918c39\",\"type\":\"PanTool\"},{\"id\":\"dac04f90-2140-4e2e-8f33-af1f2c82eb98\",\"type\":\"WheelZoomTool\"},{\"id\":\"4bd5fce8-6e08-425f-837e-3e43a0c27fea\",\"type\":\"BoxZoomTool\"},{\"id\":\"36f8aada-c25b-4b8c-b3c0-6299b44b87a7\",\"type\":\"SaveTool\"},{\"id\":\"393f9b96-6ed4-454b-95f6-2f6cb318b242\",\"type\":\"ResetTool\"},{\"id\":\"f74af454-1172-41ca-aea2-33d7e1a59f3b\",\"type\":\"HelpTool\"}]},\"id\":\"6da8bb80-a718-4a96-953f-8aabec52ddcb\",\"type\":\"Toolbar\"},{\"attributes\":{\"data_source\":{\"id\":\"9b2630dd-d9b6-4c1b-af55-33266d321c8c\",\"type\":\"ColumnDataSource\"},\"glyph\":{\"id\":\"26e37378-282f-41dd-871c-da819bb429cc\",\"type\":\"Rect\"},\"hover_glyph\":null,\"nonselection_glyph\":null,\"selection_glyph\":null},\"id\":\"02405fb3-65ee-4d77-bcc5-4d2959d1aa4e\",\"type\":\"GlyphRenderer\"},{\"attributes\":{\"fill_alpha\":{\"field\":\"fill_alpha\"},\"fill_color\":{\"field\":\"color\"},\"height\":{\"field\":\"height\",\"units\":\"data\"},\"line_color\":{\"field\":\"line_color\"},\"width\":{\"field\":\"width\",\"units\":\"data\"},\"x\":{\"field\":\"x\"},\"y\":{\"field\":\"y\"}},\"id\":\"ea956793-d515-44e6-bffd-d2954d65e01c\",\"type\":\"Rect\"},{\"attributes\":{\"fill_alpha\":{\"field\":\"fill_alpha\"},\"fill_color\":{\"field\":\"color\"},\"height\":{\"field\":\"height\",\"units\":\"data\"},\"line_color\":{\"field\":\"line_color\"},\"width\":{\"field\":\"width\",\"units\":\"data\"},\"x\":{\"field\":\"x\"},\"y\":{\"field\":\"y\"}},\"id\":\"57a01448-d2cc-4d59-bdc1-ac38aa4c89b5\",\"type\":\"Rect\"},{\"attributes\":{\"fill_alpha\":{\"field\":\"fill_alpha\"},\"fill_color\":{\"field\":\"color\"},\"height\":{\"field\":\"height\",\"units\":\"data\"},\"line_color\":{\"field\":\"line_color\"},\"width\":{\"field\":\"width\",\"units\":\"data\"},\"x\":{\"field\":\"x\"},\"y\":{\"field\":\"y\"}},\"id\":\"d47610c3-3669-45ca-9e62-675c1441ed07\",\"type\":\"Rect\"},{\"attributes\":{\"callback\":null,\"column_names\":[\"line_color\",\"line_alpha\",\"color\",\"fill_alpha\",\"height\",\"width\",\"y\",\"x\",\"label\"],\"data\":{\"chart_index\":[{\"country\":\"Germany\"}],\"color\":[\"#f22c40\"],\"country\":[\"Germany\"],\"fill_alpha\":[0.8],\"height\":[4093.0],\"label\":[{\"country\":\"Germany\"}],\"line_alpha\":[1.0],\"line_color\":[\"white\"],\"width\":[0.8],\"x\":[\"Germany\"],\"y\":[2046.5]}},\"id\":\"b277e1ef-716b-4402-b432-ec66820c45f1\",\"type\":\"ColumnDataSource\"},{\"attributes\":{\"label\":{\"value\":\"Finland\"},\"renderers\":[{\"id\":\"8b02bf5c-aaa8-485a-b62b-3c6f821d03dc\",\"type\":\"GlyphRenderer\"}]},\"id\":\"a0629f4f-07dc-4cb2-b3ac-e5613fe1ce64\",\"type\":\"LegendItem\"},{\"attributes\":{\"data_source\":{\"id\":\"a60ac285-3b6c-4151-9cf3-17d4d0554059\",\"type\":\"ColumnDataSource\"},\"glyph\":{\"id\":\"1b41e00a-29db-4bfa-bdd8-bfd34f06470a\",\"type\":\"Rect\"},\"hover_glyph\":null,\"nonselection_glyph\":null,\"selection_glyph\":null},\"id\":\"8b02bf5c-aaa8-485a-b62b-3c6f821d03dc\",\"type\":\"GlyphRenderer\"},{\"attributes\":{\"callback\":null,\"column_names\":[\"line_color\",\"line_alpha\",\"color\",\"fill_alpha\",\"height\",\"width\",\"y\",\"x\",\"label\"],\"data\":{\"chart_index\":[{\"country\":\"Netherlands\"}],\"color\":[\"#f22c40\"],\"country\":[\"Netherlands\"],\"fill_alpha\":[0.8],\"height\":[1226.0],\"label\":[{\"country\":\"Netherlands\"}],\"line_alpha\":[1.0],\"line_color\":[\"white\"],\"width\":[0.8],\"x\":[\"Netherlands\"],\"y\":[613.0]}},\"id\":\"40385c64-47d1-4b4d-b840-f5b5fccc0d3b\",\"type\":\"ColumnDataSource\"},{\"attributes\":{\"plot\":{\"id\":\"a00aaec9-ec47-4a7d-89c8-024e957c2329\",\"subtype\":\"Chart\",\"type\":\"Plot\"}},\"id\":\"01ccdf11-ac57-4a3e-abb6-d1e488918c39\",\"type\":\"PanTool\"},{\"attributes\":{\"data_source\":{\"id\":\"a7d05bac-45fa-4e04-b723-3462e86e8427\",\"type\":\"ColumnDataSource\"},\"glyph\":{\"id\":\"6efbe79b-c71c-4db5-868b-b60d42ef6fda\",\"type\":\"Rect\"},\"hover_glyph\":null,\"nonselection_glyph\":null,\"selection_glyph\":null},\"id\":\"8d383022-75ba-4b91-994c-b3626f3e6939\",\"type\":\"GlyphRenderer\"},{\"attributes\":{\"label\":{\"value\":\"Australia\"},\"renderers\":[{\"id\":\"00721d96-4838-4e18-8177-a08ff805489a\",\"type\":\"GlyphRenderer\"}]},\"id\":\"4c26013e-4ed5-47b7-b685-ebf5f4ce6c25\",\"type\":\"LegendItem\"},{\"attributes\":{},\"id\":\"f43aa6b9-5293-4ee0-9c83-3dac54b87284\",\"type\":\"CategoricalTickFormatter\"},{\"attributes\":{\"callback\":null,\"column_names\":[\"line_color\",\"line_alpha\",\"color\",\"fill_alpha\",\"height\",\"width\",\"y\",\"x\",\"label\"],\"data\":{\"chart_index\":[{\"country\":\"Finland\"}],\"color\":[\"#f22c40\"],\"country\":[\"Finland\"],\"fill_alpha\":[0.8],\"height\":[202.0],\"label\":[{\"country\":\"Finland\"}],\"line_alpha\":[1.0],\"line_color\":[\"white\"],\"width\":[0.8],\"x\":[\"Finland\"],\"y\":[101.0]}},\"id\":\"a60ac285-3b6c-4151-9cf3-17d4d0554059\",\"type\":\"ColumnDataSource\"},{\"attributes\":{\"label\":{\"value\":\"Netherlands\"},\"renderers\":[{\"id\":\"99f20d13-478c-47f2-a220-31d79bb0cf19\",\"type\":\"GlyphRenderer\"}]},\"id\":\"fb201150-bc03-4f98-8254-0dc0f1134b0c\",\"type\":\"LegendItem\"},{\"attributes\":{\"data_source\":{\"id\":\"bb5a4fb6-9424-41c9-9a66-b821c8c5520e\",\"type\":\"ColumnDataSource\"},\"glyph\":{\"id\":\"ea956793-d515-44e6-bffd-d2954d65e01c\",\"type\":\"Rect\"},\"hover_glyph\":null,\"nonselection_glyph\":null,\"selection_glyph\":null},\"id\":\"00721d96-4838-4e18-8177-a08ff805489a\",\"type\":\"GlyphRenderer\"},{\"attributes\":{\"label\":{\"value\":\"France\"},\"renderers\":[{\"id\":\"8d5d8086-f59c-4fe5-a8b4-9b2079a9d4e7\",\"type\":\"GlyphRenderer\"}]},\"id\":\"7c2dbe57-53f9-4cf8-b01f-cf1bdb8126fc\",\"type\":\"LegendItem\"},{\"attributes\":{\"bottom_units\":\"screen\",\"fill_alpha\":{\"value\":0.5},\"fill_color\":{\"value\":\"lightgrey\"},\"left_units\":\"screen\",\"level\":\"overlay\",\"line_alpha\":{\"value\":1.0},\"line_color\":{\"value\":\"black\"},\"line_dash\":[4,4],\"line_width\":{\"value\":2},\"plot\":null,\"render_mode\":\"css\",\"right_units\":\"screen\",\"top_units\":\"screen\"},\"id\":\"490c2c12-1a18-4d98-95cb-e2fe4d598602\",\"type\":\"BoxAnnotation\"},{\"attributes\":{\"data_source\":{\"id\":\"9f24893a-1a36-414e-82a0-04e061af6c32\",\"type\":\"ColumnDataSource\"},\"glyph\":{\"id\":\"9f40f035-74aa-4ddf-8a0b-a51b354b73b7\",\"type\":\"Rect\"},\"hover_glyph\":null,\"nonselection_glyph\":null,\"selection_glyph\":null},\"id\":\"71a36098-334f-4ca4-96e6-cbc32ee97479\",\"type\":\"GlyphRenderer\"},{\"attributes\":{},\"id\":\"5a460094-e2f9-4fdf-bc97-2ae86091817c\",\"type\":\"BasicTicker\"},{\"attributes\":{\"label\":{\"value\":\"Spain\"},\"renderers\":[{\"id\":\"eb6b3578-ca1c-4da4-8d9a-a66c420f73a3\",\"type\":\"GlyphRenderer\"}]},\"id\":\"99d4c19f-8534-41d9-89de-bff99a03b8d1\",\"type\":\"LegendItem\"},{\"attributes\":{\"fill_alpha\":{\"field\":\"fill_alpha\"},\"fill_color\":{\"field\":\"color\"},\"height\":{\"field\":\"height\",\"units\":\"data\"},\"line_color\":{\"field\":\"line_color\"},\"width\":{\"field\":\"width\",\"units\":\"data\"},\"x\":{\"field\":\"x\"},\"y\":{\"field\":\"y\"}},\"id\":\"db16bd25-a87d-45a3-baf3-35404c65b4f5\",\"type\":\"Rect\"},{\"attributes\":{\"data_source\":{\"id\":\"71e03840-0596-4fa9-99b7-fff8ccbef17f\",\"type\":\"ColumnDataSource\"},\"glyph\":{\"id\":\"2c2691ca-665d-47f5-baea-3d44e1a1c917\",\"type\":\"Rect\"},\"hover_glyph\":null,\"nonselection_glyph\":null,\"selection_glyph\":null},\"id\":\"eb6b3578-ca1c-4da4-8d9a-a66c420f73a3\",\"type\":\"GlyphRenderer\"},{\"attributes\":{\"callback\":null,\"column_names\":[\"line_color\",\"line_alpha\",\"color\",\"fill_alpha\",\"height\",\"width\",\"y\",\"x\",\"label\"],\"data\":{\"chart_index\":[{\"country\":\"Ireland\"}],\"color\":[\"#f22c40\"],\"country\":[\"Ireland\"],\"fill_alpha\":[0.8],\"height\":[249.0],\"label\":[{\"country\":\"Ireland\"}],\"line_alpha\":[1.0],\"line_color\":[\"white\"],\"width\":[0.8],\"x\":[\"Ireland\"],\"y\":[124.5]}},\"id\":\"9b2630dd-d9b6-4c1b-af55-33266d321c8c\",\"type\":\"ColumnDataSource\"},{\"attributes\":{\"fill_alpha\":{\"field\":\"fill_alpha\"},\"fill_color\":{\"field\":\"color\"},\"height\":{\"field\":\"height\",\"units\":\"data\"},\"line_color\":{\"field\":\"line_color\"},\"width\":{\"field\":\"width\",\"units\":\"data\"},\"x\":{\"field\":\"x\"},\"y\":{\"field\":\"y\"}},\"id\":\"416f5431-4455-4af3-834b-645f1c956740\",\"type\":\"Rect\"},{\"attributes\":{\"callback\":null,\"column_names\":[\"line_color\",\"line_alpha\",\"color\",\"fill_alpha\",\"height\",\"width\",\"y\",\"x\",\"label\"],\"data\":{\"chart_index\":[{\"country\":\"Switzerland\"}],\"color\":[\"#f22c40\"],\"country\":[\"Switzerland\"],\"fill_alpha\":[0.8],\"height\":[339.0],\"label\":[{\"country\":\"Switzerland\"}],\"line_alpha\":[1.0],\"line_color\":[\"white\"],\"width\":[0.8],\"x\":[\"Switzerland\"],\"y\":[169.5]}},\"id\":\"79c49df4-54b5-4322-81a9-d15c9d4d0416\",\"type\":\"ColumnDataSource\"},{\"attributes\":{\"plot\":{\"id\":\"a00aaec9-ec47-4a7d-89c8-024e957c2329\",\"subtype\":\"Chart\",\"type\":\"Plot\"}},\"id\":\"f74af454-1172-41ca-aea2-33d7e1a59f3b\",\"type\":\"HelpTool\"},{\"attributes\":{\"plot\":{\"id\":\"a00aaec9-ec47-4a7d-89c8-024e957c2329\",\"subtype\":\"Chart\",\"type\":\"Plot\"}},\"id\":\"36f8aada-c25b-4b8c-b3c0-6299b44b87a7\",\"type\":\"SaveTool\"},{\"attributes\":{\"fill_alpha\":{\"field\":\"fill_alpha\"},\"fill_color\":{\"field\":\"color\"},\"height\":{\"field\":\"height\",\"units\":\"data\"},\"line_color\":{\"field\":\"line_color\"},\"width\":{\"field\":\"width\",\"units\":\"data\"},\"x\":{\"field\":\"x\"},\"y\":{\"field\":\"y\"}},\"id\":\"99fd6cd7-e7d9-4451-b000-0386f654fcfa\",\"type\":\"Rect\"},{\"attributes\":{\"callback\":null,\"factors\":[\"US\",\"Germany\",\"UK\",\"Netherlands\",\"Canada\",\"nan\",\"Australia\",\"Sweden\",\"Switzerland\",\"France\",\"Ireland\",\"Spain\",\"Finland\",\"Austria\",\"India\"]},\"id\":\"4202ffd4-f745-4fb3-b9b3-76b4c4e10d4a\",\"type\":\"FactorRange\"},{\"attributes\":{\"data_source\":{\"id\":\"b2b688b9-d397-4d8c-b899-0e82f43c1464\",\"type\":\"ColumnDataSource\"},\"glyph\":{\"id\":\"ceb043b5-ce41-43bf-b4a6-3f1b8e8ac00c\",\"type\":\"Rect\"},\"hover_glyph\":null,\"nonselection_glyph\":null,\"selection_glyph\":null},\"id\":\"bddbd4a9-ff72-458c-8a70-e419ebdbfff1\",\"type\":\"GlyphRenderer\"},{\"attributes\":{\"callback\":null,\"column_names\":[\"line_color\",\"line_alpha\",\"color\",\"fill_alpha\",\"height\",\"width\",\"y\",\"x\",\"label\"],\"data\":{\"chart_index\":[{\"country\":\"Sweden\"}],\"color\":[\"#f22c40\"],\"country\":[\"Sweden\"],\"fill_alpha\":[0.8],\"height\":[345.0],\"label\":[{\"country\":\"Sweden\"}],\"line_alpha\":[1.0],\"line_color\":[\"white\"],\"width\":[0.8],\"x\":[\"Sweden\"],\"y\":[172.5]}},\"id\":\"a7d05bac-45fa-4e04-b723-3462e86e8427\",\"type\":\"ColumnDataSource\"},{\"attributes\":{\"fill_alpha\":{\"field\":\"fill_alpha\"},\"fill_color\":{\"field\":\"color\"},\"height\":{\"field\":\"height\",\"units\":\"data\"},\"line_color\":{\"field\":\"line_color\"},\"width\":{\"field\":\"width\",\"units\":\"data\"},\"x\":{\"field\":\"x\"},\"y\":{\"field\":\"y\"}},\"id\":\"1b41e00a-29db-4bfa-bdd8-bfd34f06470a\",\"type\":\"Rect\"},{\"attributes\":{\"overlay\":{\"id\":\"490c2c12-1a18-4d98-95cb-e2fe4d598602\",\"type\":\"BoxAnnotation\"},\"plot\":{\"id\":\"a00aaec9-ec47-4a7d-89c8-024e957c2329\",\"subtype\":\"Chart\",\"type\":\"Plot\"}},\"id\":\"4bd5fce8-6e08-425f-837e-3e43a0c27fea\",\"type\":\"BoxZoomTool\"},{\"attributes\":{},\"id\":\"09cf1930-5f97-4ded-bc17-1f0072bdc827\",\"type\":\"CategoricalTicker\"},{\"attributes\":{\"fill_alpha\":{\"field\":\"fill_alpha\"},\"fill_color\":{\"field\":\"color\"},\"height\":{\"field\":\"height\",\"units\":\"data\"},\"line_color\":{\"field\":\"line_color\"},\"width\":{\"field\":\"width\",\"units\":\"data\"},\"x\":{\"field\":\"x\"},\"y\":{\"field\":\"y\"}},\"id\":\"85ce3615-6153-4a88-b1cb-37393453badc\",\"type\":\"Rect\"},{\"attributes\":{\"data_source\":{\"id\":\"40385c64-47d1-4b4d-b840-f5b5fccc0d3b\",\"type\":\"ColumnDataSource\"},\"glyph\":{\"id\":\"db16bd25-a87d-45a3-baf3-35404c65b4f5\",\"type\":\"Rect\"},\"hover_glyph\":null,\"nonselection_glyph\":null,\"selection_glyph\":null},\"id\":\"99f20d13-478c-47f2-a220-31d79bb0cf19\",\"type\":\"GlyphRenderer\"},{\"attributes\":{\"fill_alpha\":{\"field\":\"fill_alpha\"},\"fill_color\":{\"field\":\"color\"},\"height\":{\"field\":\"height\",\"units\":\"data\"},\"line_color\":{\"field\":\"line_color\"},\"width\":{\"field\":\"width\",\"units\":\"data\"},\"x\":{\"field\":\"x\"},\"y\":{\"field\":\"y\"}},\"id\":\"9f40f035-74aa-4ddf-8a0b-a51b354b73b7\",\"type\":\"Rect\"},{\"attributes\":{\"data_source\":{\"id\":\"541343a6-60b7-40ec-924f-4766b39f59d2\",\"type\":\"ColumnDataSource\"},\"glyph\":{\"id\":\"99fd6cd7-e7d9-4451-b000-0386f654fcfa\",\"type\":\"Rect\"},\"hover_glyph\":null,\"nonselection_glyph\":null,\"selection_glyph\":null},\"id\":\"fd330def-5bb5-4be5-81c6-e5affee07396\",\"type\":\"GlyphRenderer\"},{\"attributes\":{\"axis_label\":\"Country\",\"formatter\":{\"id\":\"f43aa6b9-5293-4ee0-9c83-3dac54b87284\",\"type\":\"CategoricalTickFormatter\"},\"major_label_orientation\":0.7853981633974483,\"plot\":{\"id\":\"a00aaec9-ec47-4a7d-89c8-024e957c2329\",\"subtype\":\"Chart\",\"type\":\"Plot\"},\"ticker\":{\"id\":\"09cf1930-5f97-4ded-bc17-1f0072bdc827\",\"type\":\"CategoricalTicker\"}},\"id\":\"b218c00e-47f3-44b7-b496-683976094dc3\",\"type\":\"CategoricalAxis\"},{\"attributes\":{\"label\":{\"value\":\"Canada\"},\"renderers\":[{\"id\":\"71a36098-334f-4ca4-96e6-cbc32ee97479\",\"type\":\"GlyphRenderer\"}]},\"id\":\"1ebc524b-991f-4d75-8ba2-fda87f9a8772\",\"type\":\"LegendItem\"},{\"attributes\":{\"label\":{\"value\":\"India\"},\"renderers\":[{\"id\":\"6a19c707-6f61-4a8f-9cf7-265d941b4da0\",\"type\":\"GlyphRenderer\"}]},\"id\":\"7a2f881e-ade1-40d1-bddc-684d1ecc0ada\",\"type\":\"LegendItem\"},{\"attributes\":{\"callback\":null,\"column_names\":[\"line_color\",\"line_alpha\",\"color\",\"fill_alpha\",\"height\",\"width\",\"y\",\"x\",\"label\"],\"data\":{\"chart_index\":[{\"country\":\"Austria\"}],\"color\":[\"#f22c40\"],\"country\":[\"Austria\"],\"fill_alpha\":[0.8],\"height\":[198.0],\"label\":[{\"country\":\"Austria\"}],\"line_alpha\":[1.0],\"line_color\":[\"white\"],\"width\":[0.8],\"x\":[\"Austria\"],\"y\":[99.0]}},\"id\":\"dca6ba76-9267-4298-a78a-2bdcc13fa8c8\",\"type\":\"ColumnDataSource\"},{\"attributes\":{\"plot\":null,\"text\":\"Jobs posted by countries\"},\"id\":\"e209e380-b4b7-4f50-80f1-9daa12781181\",\"type\":\"Title\"},{\"attributes\":{\"fill_alpha\":{\"field\":\"fill_alpha\"},\"fill_color\":{\"field\":\"color\"},\"height\":{\"field\":\"height\",\"units\":\"data\"},\"line_color\":{\"field\":\"line_color\"},\"width\":{\"field\":\"width\",\"units\":\"data\"},\"x\":{\"field\":\"x\"},\"y\":{\"field\":\"y\"}},\"id\":\"7803cda4-f950-42c7-99d6-b45720125268\",\"type\":\"Rect\"},{\"attributes\":{},\"id\":\"834b3bc1-2725-4679-95cc-1aa1ae526b9a\",\"type\":\"BasicTickFormatter\"},{\"attributes\":{\"label\":{\"value\":\"Austria\"},\"renderers\":[{\"id\":\"06895c17-72b3-4ec4-bf0d-3496ea145100\",\"type\":\"GlyphRenderer\"}]},\"id\":\"18e09b74-6437-46d9-9a37-90a6965c2f08\",\"type\":\"LegendItem\"},{\"attributes\":{\"fill_alpha\":{\"field\":\"fill_alpha\"},\"fill_color\":{\"field\":\"color\"},\"height\":{\"field\":\"height\",\"units\":\"data\"},\"line_color\":{\"field\":\"line_color\"},\"width\":{\"field\":\"width\",\"units\":\"data\"},\"x\":{\"field\":\"x\"},\"y\":{\"field\":\"y\"}},\"id\":\"ea440279-082d-453d-94bc-170cd66aa307\",\"type\":\"Rect\"},{\"attributes\":{\"plot\":{\"id\":\"a00aaec9-ec47-4a7d-89c8-024e957c2329\",\"subtype\":\"Chart\",\"type\":\"Plot\"}},\"id\":\"dac04f90-2140-4e2e-8f33-af1f2c82eb98\",\"type\":\"WheelZoomTool\"},{\"attributes\":{\"fill_alpha\":{\"field\":\"fill_alpha\"},\"fill_color\":{\"field\":\"color\"},\"height\":{\"field\":\"height\",\"units\":\"data\"},\"line_color\":{\"field\":\"line_color\"},\"width\":{\"field\":\"width\",\"units\":\"data\"},\"x\":{\"field\":\"x\"},\"y\":{\"field\":\"y\"}},\"id\":\"ceb043b5-ce41-43bf-b4a6-3f1b8e8ac00c\",\"type\":\"Rect\"},{\"attributes\":{\"label\":{\"value\":\"UK\"},\"renderers\":[{\"id\":\"c4e9532c-bcd8-412d-841f-273510372e9f\",\"type\":\"GlyphRenderer\"}]},\"id\":\"3bb48f7a-7b5e-4d60-86d5-f1a1142f7725\",\"type\":\"LegendItem\"},{\"attributes\":{\"data_source\":{\"id\":\"6583467e-50e5-4009-852d-bd3121af4733\",\"type\":\"ColumnDataSource\"},\"glyph\":{\"id\":\"85ce3615-6153-4a88-b1cb-37393453badc\",\"type\":\"Rect\"},\"hover_glyph\":null,\"nonselection_glyph\":null,\"selection_glyph\":null},\"id\":\"8d5d8086-f59c-4fe5-a8b4-9b2079a9d4e7\",\"type\":\"GlyphRenderer\"},{\"attributes\":{\"data_source\":{\"id\":\"dca6ba76-9267-4298-a78a-2bdcc13fa8c8\",\"type\":\"ColumnDataSource\"},\"glyph\":{\"id\":\"57a01448-d2cc-4d59-bdc1-ac38aa4c89b5\",\"type\":\"Rect\"},\"hover_glyph\":null,\"nonselection_glyph\":null,\"selection_glyph\":null},\"id\":\"06895c17-72b3-4ec4-bf0d-3496ea145100\",\"type\":\"GlyphRenderer\"},{\"attributes\":{\"data_source\":{\"id\":\"9f9d8315-c15c-4494-9de5-09f72cbe64c8\",\"type\":\"ColumnDataSource\"},\"glyph\":{\"id\":\"d47610c3-3669-45ca-9e62-675c1441ed07\",\"type\":\"Rect\"},\"hover_glyph\":null,\"nonselection_glyph\":null,\"selection_glyph\":null},\"id\":\"c4e9532c-bcd8-412d-841f-273510372e9f\",\"type\":\"GlyphRenderer\"},{\"attributes\":{\"items\":[{\"id\":\"6b512542-673e-44aa-9294-b3e4b763c8f3\",\"type\":\"LegendItem\"},{\"id\":\"34db70df-933b-49aa-aa8a-abbb42f75833\",\"type\":\"LegendItem\"},{\"id\":\"3bb48f7a-7b5e-4d60-86d5-f1a1142f7725\",\"type\":\"LegendItem\"},{\"id\":\"fb201150-bc03-4f98-8254-0dc0f1134b0c\",\"type\":\"LegendItem\"},{\"id\":\"1ebc524b-991f-4d75-8ba2-fda87f9a8772\",\"type\":\"LegendItem\"},{\"id\":\"41d3c294-af91-4f30-81a5-9026deaa48d2\",\"type\":\"LegendItem\"},{\"id\":\"4c26013e-4ed5-47b7-b685-ebf5f4ce6c25\",\"type\":\"LegendItem\"},{\"id\":\"bd1fd2b9-67e6-4cbd-b484-474357c0e62f\",\"type\":\"LegendItem\"},{\"id\":\"164d400a-e7ff-4aba-947d-fbb985f41386\",\"type\":\"LegendItem\"},{\"id\":\"7c2dbe57-53f9-4cf8-b01f-cf1bdb8126fc\",\"type\":\"LegendItem\"},{\"id\":\"69acf3b9-38f7-43cf-b436-f1fd5438c2a7\",\"type\":\"LegendItem\"},{\"id\":\"99d4c19f-8534-41d9-89de-bff99a03b8d1\",\"type\":\"LegendItem\"},{\"id\":\"a0629f4f-07dc-4cb2-b3ac-e5613fe1ce64\",\"type\":\"LegendItem\"},{\"id\":\"18e09b74-6437-46d9-9a37-90a6965c2f08\",\"type\":\"LegendItem\"},{\"id\":\"7a2f881e-ade1-40d1-bddc-684d1ecc0ada\",\"type\":\"LegendItem\"}],\"plot\":{\"id\":\"a00aaec9-ec47-4a7d-89c8-024e957c2329\",\"subtype\":\"Chart\",\"type\":\"Plot\"}},\"id\":\"f31d6dd4-bb07-40f0-a727-766444dd3f50\",\"type\":\"Legend\"},{\"attributes\":{\"label\":{\"value\":\"Sweden\"},\"renderers\":[{\"id\":\"8d383022-75ba-4b91-994c-b3626f3e6939\",\"type\":\"GlyphRenderer\"}]},\"id\":\"bd1fd2b9-67e6-4cbd-b484-474357c0e62f\",\"type\":\"LegendItem\"},{\"attributes\":{\"plot\":{\"id\":\"a00aaec9-ec47-4a7d-89c8-024e957c2329\",\"subtype\":\"Chart\",\"type\":\"Plot\"}},\"id\":\"393f9b96-6ed4-454b-95f6-2f6cb318b242\",\"type\":\"ResetTool\"},{\"attributes\":{\"dimension\":1,\"plot\":{\"id\":\"a00aaec9-ec47-4a7d-89c8-024e957c2329\",\"subtype\":\"Chart\",\"type\":\"Plot\"},\"ticker\":{\"id\":\"5a460094-e2f9-4fdf-bc97-2ae86091817c\",\"type\":\"BasicTicker\"}},\"id\":\"f976aa9c-d0b1-4d06-be30-21565eeb1569\",\"type\":\"Grid\"},{\"attributes\":{\"callback\":null,\"column_names\":[\"line_color\",\"line_alpha\",\"color\",\"fill_alpha\",\"height\",\"width\",\"y\",\"x\",\"label\"],\"data\":{\"chart_index\":[{\"country\":\"France\"}],\"color\":[\"#f22c40\"],\"country\":[\"France\"],\"fill_alpha\":[0.8],\"height\":[328.0],\"label\":[{\"country\":\"France\"}],\"line_alpha\":[1.0],\"line_color\":[\"white\"],\"width\":[0.8],\"x\":[\"France\"],\"y\":[164.0]}},\"id\":\"6583467e-50e5-4009-852d-bd3121af4733\",\"type\":\"ColumnDataSource\"},{\"attributes\":{\"callback\":null,\"column_names\":[\"line_color\",\"line_alpha\",\"color\",\"fill_alpha\",\"height\",\"width\",\"y\",\"x\",\"label\"],\"data\":{\"chart_index\":[{\"country\":\"Canada\"}],\"color\":[\"#f22c40\"],\"country\":[\"Canada\"],\"fill_alpha\":[0.8],\"height\":[702.0],\"label\":[{\"country\":\"Canada\"}],\"line_alpha\":[1.0],\"line_color\":[\"white\"],\"width\":[0.8],\"x\":[\"Canada\"],\"y\":[351.0]}},\"id\":\"9f24893a-1a36-414e-82a0-04e061af6c32\",\"type\":\"ColumnDataSource\"},{\"attributes\":{\"callback\":null,\"column_names\":[\"line_color\",\"line_alpha\",\"color\",\"fill_alpha\",\"height\",\"width\",\"y\",\"x\",\"label\"],\"data\":{\"chart_index\":[{\"country\":\"Spain\"}],\"color\":[\"#f22c40\"],\"country\":[\"Spain\"],\"fill_alpha\":[0.8],\"height\":[239.0],\"label\":[{\"country\":\"Spain\"}],\"line_alpha\":[1.0],\"line_color\":[\"white\"],\"width\":[0.8],\"x\":[\"Spain\"],\"y\":[119.5]}},\"id\":\"71e03840-0596-4fa9-99b7-fff8ccbef17f\",\"type\":\"ColumnDataSource\"},{\"attributes\":{\"label\":{\"value\":\"nan\"},\"renderers\":[{\"id\":\"fd330def-5bb5-4be5-81c6-e5affee07396\",\"type\":\"GlyphRenderer\"}]},\"id\":\"41d3c294-af91-4f30-81a5-9026deaa48d2\",\"type\":\"LegendItem\"},{\"attributes\":{\"label\":{\"value\":\"Ireland\"},\"renderers\":[{\"id\":\"02405fb3-65ee-4d77-bcc5-4d2959d1aa4e\",\"type\":\"GlyphRenderer\"}]},\"id\":\"69acf3b9-38f7-43cf-b436-f1fd5438c2a7\",\"type\":\"LegendItem\"},{\"attributes\":{\"data_source\":{\"id\":\"b277e1ef-716b-4402-b432-ec66820c45f1\",\"type\":\"ColumnDataSource\"},\"glyph\":{\"id\":\"7803cda4-f950-42c7-99d6-b45720125268\",\"type\":\"Rect\"},\"hover_glyph\":null,\"nonselection_glyph\":null,\"selection_glyph\":null},\"id\":\"8e8243b6-5cc3-42d8-a5c7-bcbdcbf18c03\",\"type\":\"GlyphRenderer\"}],\"root_ids\":[\"a00aaec9-ec47-4a7d-89c8-024e957c2329\"]},\"title\":\"Bokeh Application\",\"version\":\"0.12.3\"}};\n",
       "            var render_items = [{\"docid\":\"f54e7b6b-3c5f-4b00-806f-fbae56732c94\",\"elementid\":\"36d903a4-0744-45bb-9b3c-b6093ac79fbf\",\"modelid\":\"a00aaec9-ec47-4a7d-89c8-024e957c2329\"}];\n",
       "            \n",
       "            Bokeh.embed.embed_items(docs_json, render_items);\n",
       "        });\n",
       "      },\n",
       "      function(Bokeh) {\n",
       "      }\n",
       "    ];\n",
       "  \n",
       "    function run_inline_js() {\n",
       "      \n",
       "      if ((window.Bokeh !== undefined) || (force === \"1\")) {\n",
       "        for (var i = 0; i < inline_js.length; i++) {\n",
       "          inline_js[i](window.Bokeh);\n",
       "        }if (force === \"1\") {\n",
       "          display_loaded();\n",
       "        }} else if (Date.now() < window._bokeh_timeout) {\n",
       "        setTimeout(run_inline_js, 100);\n",
       "      } else if (!window._bokeh_failed_load) {\n",
       "        console.log(\"Bokeh: BokehJS failed to load within specified timeout.\");\n",
       "        window._bokeh_failed_load = true;\n",
       "      } else if (!force) {\n",
       "        var cell = $(\"#36d903a4-0744-45bb-9b3c-b6093ac79fbf\").parents('.cell').data().cell;\n",
       "        cell.output_area.append_execute_result(NB_LOAD_WARNING)\n",
       "      }\n",
       "  \n",
       "    }\n",
       "  \n",
       "    if (window._bokeh_is_loading === 0) {\n",
       "      console.log(\"Bokeh: BokehJS loaded, going straight to plotting\");\n",
       "      run_inline_js();\n",
       "    } else {\n",
       "      load_libs(js_urls, function() {\n",
       "        console.log(\"Bokeh: BokehJS plotting callback run at\", now());\n",
       "        run_inline_js();\n",
       "      });\n",
       "    }\n",
       "  }(this));\n",
       "</script>"
      ]
     },
     "metadata": {},
     "output_type": "display_data"
    }
   ],
   "source": [
    "bar_countries = Bar(df_countries, values='count', title='Jobs posted by countries', legend='top_right', label=CatAttr(columns=['country'], sort=False),)\n",
    "\n",
    "# Need to add different color for different cities \n",
    "show(bar_countries)"
   ]
  },
  {
   "cell_type": "markdown",
   "metadata": {},
   "source": [
    "## Top technologies for a given city (London, Amsterdam and San Francisco)\n"
   ]
  },
  {
   "cell_type": "code",
   "execution_count": 204,
   "metadata": {
    "collapsed": false
   },
   "outputs": [
    {
     "data": {
      "text/plain": [
       "city    tech               \n",
       "London  javascript             294\n",
       "        java                   276\n",
       "        python                 195\n",
       "        amazon-web-services    146\n",
       "        c#                     136\n",
       "        angularjs              106\n",
       "        linux                  100\n",
       "        php                     96\n",
       "        tdd                     86\n",
       "        html                    86\n",
       "Name: jobid, dtype: int64"
      ]
     },
     "execution_count": 204,
     "metadata": {},
     "output_type": "execute_result"
    }
   ],
   "source": [
    "# London top technologies \n",
    "london_tech = technologies[technologies.city == 'London'].groupby(['city', 'tech'])['jobid'].count().sort_values(ascending=False)\n",
    "london_tech.nlargest(10)"
   ]
  },
  {
   "cell_type": "code",
   "execution_count": 205,
   "metadata": {
    "collapsed": false
   },
   "outputs": [
    {
     "data": {
      "text/plain": [
       "city       tech               \n",
       "Amsterdam  java                   122\n",
       "           javascript             106\n",
       "           php                     63\n",
       "           python                  59\n",
       "           mysql                   48\n",
       "           c++                     39\n",
       "           css                     37\n",
       "           c#                      37\n",
       "           html                    35\n",
       "           amazon-web-services     34\n",
       "Name: jobid, dtype: int64"
      ]
     },
     "execution_count": 205,
     "metadata": {},
     "output_type": "execute_result"
    }
   ],
   "source": [
    "# Amsterdam top technologies \n",
    "amsterdam_tech = technologies[technologies.city == 'Amsterdam'].groupby(['city', 'tech'])['jobid'].count().sort_values(ascending=False)\n",
    "amsterdam_tech.nlargest(10)"
   ]
  },
  {
   "cell_type": "code",
   "execution_count": 206,
   "metadata": {
    "collapsed": false
   },
   "outputs": [
    {
     "data": {
      "text/plain": [
       "city    tech      \n",
       "Berlin  java          364\n",
       "        javascript    333\n",
       "        php           174\n",
       "        python        153\n",
       "        mysql         152\n",
       "        angularjs     125\n",
       "        sql           118\n",
       "        css           115\n",
       "        linux          98\n",
       "        html           97\n",
       "Name: jobid, dtype: int64"
      ]
     },
     "execution_count": 206,
     "metadata": {},
     "output_type": "execute_result"
    }
   ],
   "source": [
    "# Berlin \n",
    "berlin_tech = technologies[technologies.city == 'Berlin'].groupby(['city', 'tech'])['jobid'].count().sort_values(ascending=False)\n",
    "berlin_tech.nlargest(10)"
   ]
  },
  {
   "cell_type": "code",
   "execution_count": 207,
   "metadata": {
    "collapsed": false,
    "scrolled": true
   },
   "outputs": [
    {
     "data": {
      "text/plain": [
       "tech\n",
       "javascript             542\n",
       "java                   537\n",
       "python                 531\n",
       "c++                    282\n",
       "linux                  237\n",
       "amazon-web-services    213\n",
       "sql                    198\n",
       "angularjs              177\n",
       "c#                     167\n",
       "ruby-on-rails          165\n",
       "Name: jobid, dtype: int64"
      ]
     },
     "execution_count": 207,
     "metadata": {},
     "output_type": "execute_result"
    }
   ],
   "source": [
    "# Silicon Valley \n",
    "cal_tech = technologies[technologies.state == 'CA'].groupby('tech')['jobid'].count().sort_values(ascending=False)\n",
    "cal_tech.nlargest(10)"
   ]
  },
  {
   "cell_type": "code",
   "execution_count": 166,
   "metadata": {
    "collapsed": false
   },
   "outputs": [
    {
     "data": {
      "text/plain": [
       "city                tech               \n",
       "New York            javascript             385\n",
       "Berlin              java                   359\n",
       "                    javascript             329\n",
       "New York            python                 294\n",
       "London              javascript             290\n",
       "                    java                   273\n",
       "New York            java                   227\n",
       "San Francisco       python                 215\n",
       "                    javascript             209\n",
       "London              python                 194\n",
       "San Francisco       java                   176\n",
       "Berlin              php                    173\n",
       "Seattle             java                   165\n",
       "München             java                   158\n",
       "Berlin              mysql                  152\n",
       "                    python                 152\n",
       "London              amazon-web-services    145\n",
       "München             javascript             137\n",
       "Rotterdam           php                    135\n",
       "London              c#                     135\n",
       "Toronto             javascript             132\n",
       "                    java                   131\n",
       "New York            node.js                129\n",
       "Rotterdam           scrum                  128\n",
       "New York            linux                  125\n",
       "Berlin              angularjs              125\n",
       "Rotterdam           zend-framework         125\n",
       "                    tdd                    122\n",
       "                    unit-testing           122\n",
       "Amsterdam           java                   120\n",
       "                                          ... \n",
       "London              sql                     78\n",
       "Philadelphia        mobile                  77\n",
       "Bangkok             java                    77\n",
       "San Francisco       scala                   76\n",
       "                    c++                     76\n",
       "No office location  javascript              76\n",
       "Washington          javascript              75\n",
       "New York            postgresql              74\n",
       "London              mysql                   74\n",
       "Berlin              spring                  74\n",
       "Chicago             c#                      73\n",
       "Denver              video                   73\n",
       "Washington          java                    72\n",
       "Stockholm           java                    72\n",
       "San Francisco       node.js                 72\n",
       "                    reactjs                 71\n",
       "New York            sysadmin                71\n",
       "London              c++                     71\n",
       "New York            php                     70\n",
       "                    android                 70\n",
       "San Francisco       go                      69\n",
       "Hamburg             php                     68\n",
       "San Francisco       angularjs               68\n",
       "New York            reactjs                 67\n",
       "Seattle             python                  67\n",
       "Dublin              java                    66\n",
       "Philadelphia        java                    65\n",
       "Stockholm           javascript              65\n",
       "Berlin              scala                   64\n",
       "Seattle             c++                     63\n",
       "Name: jobid, dtype: int64"
      ]
     },
     "execution_count": 166,
     "metadata": {},
     "output_type": "execute_result"
    }
   ],
   "source": [
    "# Ordered view of what technologies are the most sought after in wich city \n",
    "all_tech = technologies.groupby(['city', 'tech'])['jobid'].count().sort_values(ascending=False)\n",
    "amsterdam_tech.nlargest(100)"
   ]
  },
  {
   "cell_type": "markdown",
   "metadata": {},
   "source": [
    "## Dumping out data to csv\n",
    "\n",
    "This is only need to find values for cleaning up and normalizing values "
   ]
  },
  {
   "cell_type": "code",
   "execution_count": 26,
   "metadata": {
    "collapsed": false
   },
   "outputs": [],
   "source": [
    "cities.to_frame('city').to_csv('../data/cities.csv', encoding = 'utf-8')\n",
    "countries.to_frame('countries').to_csv('../data/countries.csv', encoding = 'utf-8')"
   ]
  },
  {
   "cell_type": "markdown",
   "metadata": {
    "collapsed": true
   },
   "source": [
    "# Writing it to Excel\n"
   ]
  },
  {
   "cell_type": "code",
   "execution_count": 168,
   "metadata": {
    "collapsed": false
   },
   "outputs": [],
   "source": [
    "ew = pd.ExcelWriter('../data/stackjobs.xlsx',options={'encoding':'utf-8'})\n",
    "df_cities.to_excel(ew, 'City')\n",
    "df_countries.to_excel(ew, 'Country')\n",
    "ew.save()"
   ]
  },
  {
   "cell_type": "code",
   "execution_count": null,
   "metadata": {
    "collapsed": true
   },
   "outputs": [],
   "source": []
  }
 ],
 "metadata": {
  "kernelspec": {
   "display_name": "Python 2",
   "language": "python",
   "name": "python2"
  },
  "language_info": {
   "codemirror_mode": {
    "name": "ipython",
    "version": 2
   },
   "file_extension": ".py",
   "mimetype": "text/x-python",
   "name": "python",
   "nbconvert_exporter": "python",
   "pygments_lexer": "ipython2",
   "version": "2.7.10"
  }
 },
 "nbformat": 4,
 "nbformat_minor": 0
}
