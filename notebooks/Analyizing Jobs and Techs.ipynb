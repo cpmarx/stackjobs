{
 "cells": [
  {
   "cell_type": "markdown",
   "metadata": {},
   "source": [
    "# Analyizing Jobs\n",
    "\n",
    "This notebook will hold all analytics related code on this dataset. There are a list of questions I would like to answer and provide meaningfull visualization of the answers. Some questions are: \n",
    "\n",
    " - How many jobs are posted last month, last 3 months for big tech hubs like London, Amsterdam, Auston or San Francisco? \n",
    " - Same for countries\n",
    " - What are the best paying jobs for a given city? \n",
    " - What are the best paying technologies for a given city?\n",
    " - What are the best paying technologies globally? \n",
    " "
   ]
  },
  {
   "cell_type": "code",
   "execution_count": 169,
   "metadata": {
    "collapsed": false
   },
   "outputs": [],
   "source": [
    "import pandas as pd \n",
    "import numpy as np\n",
    "import matplotlib.pyplot as plt\n",
    "from unidecode import unidecode\n",
    "import time \n",
    "\n",
    "jobs = pd.read_csv('../data/stackoverflow_jobs_enhanced.csv', thousands=',')\n",
    "technologies = pd.read_csv('../data/technologies.csv')\n",
    "\n",
    "# this is needed for excel export \n",
    "jobs.country = jobs.country.astype(str)\n",
    "jobs.city = jobs.city.astype(str)\n",
    "\n",
    "jobs['city']=jobs['city'].apply( lambda x:  unidecode(unicode(x, encoding = \"utf-8\")))  \n",
    "jobs['country']=jobs['country'].apply( lambda x:  unidecode(unicode(x, encoding = \"utf-8\")))"
   ]
  },
  {
   "cell_type": "markdown",
   "metadata": {},
   "source": [
    "## Top cities and countries posting jobs "
   ]
  },
  {
   "cell_type": "code",
   "execution_count": 179,
   "metadata": {
    "collapsed": false
   },
   "outputs": [],
   "source": [
    "top_cities = jobs.groupby(['city'])['jobid'].count().sort_values(ascending=False)\n",
    "top_cities = top_cities.nlargest(15)\n",
    "\n",
    "# create a data frame out of the series. \n",
    "# found this trick at stackoverflow: \n",
    "# http://stackoverflow.com/questions/10373660/converting-a-pandas-groupby-object-to-dataframe\n",
    "df_cities = pd.DataFrame({'count' : top_cities}).reset_index()"
   ]
  },
  {
   "cell_type": "code",
   "execution_count": 184,
   "metadata": {
    "collapsed": false
   },
   "outputs": [
    {
     "data": {
      "text/html": [
       "\n",
       "    <div class=\"bk-root\">\n",
       "        <a href=\"http://bokeh.pydata.org\" target=\"_blank\" class=\"bk-logo bk-logo-small bk-logo-notebook\"></a>\n",
       "        <span id=\"5eb6c6ad-b778-4a23-8f55-e627ae023dd1\">Loading BokehJS ...</span>\n",
       "    </div>"
      ]
     },
     "metadata": {},
     "output_type": "display_data"
    },
    {
     "data": {
      "application/javascript": [
       "\n",
       "(function(global) {\n",
       "  function now() {\n",
       "    return new Date();\n",
       "  }\n",
       "\n",
       "  var force = \"1\";\n",
       "\n",
       "  if (typeof (window._bokeh_onload_callbacks) === \"undefined\" || force !== \"\") {\n",
       "    window._bokeh_onload_callbacks = [];\n",
       "    window._bokeh_is_loading = undefined;\n",
       "  }\n",
       "\n",
       "\n",
       "  \n",
       "  if (typeof (window._bokeh_timeout) === \"undefined\" || force !== \"\") {\n",
       "    window._bokeh_timeout = Date.now() + 5000;\n",
       "    window._bokeh_failed_load = false;\n",
       "  }\n",
       "\n",
       "  var NB_LOAD_WARNING = {'data': {'text/html':\n",
       "     \"<div style='background-color: #fdd'>\\n\"+\n",
       "     \"<p>\\n\"+\n",
       "     \"BokehJS does not appear to have successfully loaded. If loading BokehJS from CDN, this \\n\"+\n",
       "     \"may be due to a slow or bad network connection. Possible fixes:\\n\"+\n",
       "     \"</p>\\n\"+\n",
       "     \"<ul>\\n\"+\n",
       "     \"<li>re-rerun `output_notebook()` to attempt to load from CDN again, or</li>\\n\"+\n",
       "     \"<li>use INLINE resources instead, as so:</li>\\n\"+\n",
       "     \"</ul>\\n\"+\n",
       "     \"<code>\\n\"+\n",
       "     \"from bokeh.resources import INLINE\\n\"+\n",
       "     \"output_notebook(resources=INLINE)\\n\"+\n",
       "     \"</code>\\n\"+\n",
       "     \"</div>\"}};\n",
       "\n",
       "  function display_loaded() {\n",
       "    if (window.Bokeh !== undefined) {\n",
       "      Bokeh.$(\"#5eb6c6ad-b778-4a23-8f55-e627ae023dd1\").text(\"BokehJS successfully loaded.\");\n",
       "    } else if (Date.now() < window._bokeh_timeout) {\n",
       "      setTimeout(display_loaded, 100)\n",
       "    }\n",
       "  }\n",
       "\n",
       "  function run_callbacks() {\n",
       "    window._bokeh_onload_callbacks.forEach(function(callback) { callback() });\n",
       "    delete window._bokeh_onload_callbacks\n",
       "    console.info(\"Bokeh: all callbacks have finished\");\n",
       "  }\n",
       "\n",
       "  function load_libs(js_urls, callback) {\n",
       "    window._bokeh_onload_callbacks.push(callback);\n",
       "    if (window._bokeh_is_loading > 0) {\n",
       "      console.log(\"Bokeh: BokehJS is being loaded, scheduling callback at\", now());\n",
       "      return null;\n",
       "    }\n",
       "    if (js_urls == null || js_urls.length === 0) {\n",
       "      run_callbacks();\n",
       "      return null;\n",
       "    }\n",
       "    console.log(\"Bokeh: BokehJS not loaded, scheduling load and callback at\", now());\n",
       "    window._bokeh_is_loading = js_urls.length;\n",
       "    for (var i = 0; i < js_urls.length; i++) {\n",
       "      var url = js_urls[i];\n",
       "      var s = document.createElement('script');\n",
       "      s.src = url;\n",
       "      s.async = false;\n",
       "      s.onreadystatechange = s.onload = function() {\n",
       "        window._bokeh_is_loading--;\n",
       "        if (window._bokeh_is_loading === 0) {\n",
       "          console.log(\"Bokeh: all BokehJS libraries loaded\");\n",
       "          run_callbacks()\n",
       "        }\n",
       "      };\n",
       "      s.onerror = function() {\n",
       "        console.warn(\"failed to load library \" + url);\n",
       "      };\n",
       "      console.log(\"Bokeh: injecting script tag for BokehJS library: \", url);\n",
       "      document.getElementsByTagName(\"head\")[0].appendChild(s);\n",
       "    }\n",
       "  };var element = document.getElementById(\"5eb6c6ad-b778-4a23-8f55-e627ae023dd1\");\n",
       "  if (element == null) {\n",
       "    console.log(\"Bokeh: ERROR: autoload.js configured with elementid '5eb6c6ad-b778-4a23-8f55-e627ae023dd1' but no matching script tag was found. \")\n",
       "    return false;\n",
       "  }\n",
       "\n",
       "  var js_urls = ['https://cdn.pydata.org/bokeh/release/bokeh-0.12.3.min.js', 'https://cdn.pydata.org/bokeh/release/bokeh-widgets-0.12.3.min.js'];\n",
       "\n",
       "  var inline_js = [\n",
       "    function(Bokeh) {\n",
       "      Bokeh.set_log_level(\"info\");\n",
       "    },\n",
       "    \n",
       "    function(Bokeh) {\n",
       "      \n",
       "      Bokeh.$(\"#5eb6c6ad-b778-4a23-8f55-e627ae023dd1\").text(\"BokehJS is loading...\");\n",
       "    },\n",
       "    function(Bokeh) {\n",
       "      console.log(\"Bokeh: injecting CSS: https://cdn.pydata.org/bokeh/release/bokeh-0.12.3.min.css\");\n",
       "      Bokeh.embed.inject_css(\"https://cdn.pydata.org/bokeh/release/bokeh-0.12.3.min.css\");\n",
       "      console.log(\"Bokeh: injecting CSS: https://cdn.pydata.org/bokeh/release/bokeh-widgets-0.12.3.min.css\");\n",
       "      Bokeh.embed.inject_css(\"https://cdn.pydata.org/bokeh/release/bokeh-widgets-0.12.3.min.css\");\n",
       "    }\n",
       "  ];\n",
       "\n",
       "  function run_inline_js() {\n",
       "    \n",
       "    if ((window.Bokeh !== undefined) || (force === \"1\")) {\n",
       "      for (var i = 0; i < inline_js.length; i++) {\n",
       "        inline_js[i](window.Bokeh);\n",
       "      }if (force === \"1\") {\n",
       "        display_loaded();\n",
       "      }} else if (Date.now() < window._bokeh_timeout) {\n",
       "      setTimeout(run_inline_js, 100);\n",
       "    } else if (!window._bokeh_failed_load) {\n",
       "      console.log(\"Bokeh: BokehJS failed to load within specified timeout.\");\n",
       "      window._bokeh_failed_load = true;\n",
       "    } else if (!force) {\n",
       "      var cell = $(\"#5eb6c6ad-b778-4a23-8f55-e627ae023dd1\").parents('.cell').data().cell;\n",
       "      cell.output_area.append_execute_result(NB_LOAD_WARNING)\n",
       "    }\n",
       "\n",
       "  }\n",
       "\n",
       "  if (window._bokeh_is_loading === 0) {\n",
       "    console.log(\"Bokeh: BokehJS loaded, going straight to plotting\");\n",
       "    run_inline_js();\n",
       "  } else {\n",
       "    load_libs(js_urls, function() {\n",
       "      console.log(\"Bokeh: BokehJS plotting callback run at\", now());\n",
       "      run_inline_js();\n",
       "    });\n",
       "  }\n",
       "}(this));"
      ]
     },
     "metadata": {},
     "output_type": "display_data"
    },
    {
     "data": {
      "text/html": [
       "\n",
       "\n",
       "    <div class=\"bk-root\">\n",
       "        <div class=\"plotdiv\" id=\"db4c2e9b-abf3-42e4-941f-382b7782eb25\"></div>\n",
       "    </div>\n",
       "<script type=\"text/javascript\">\n",
       "  \n",
       "  (function(global) {\n",
       "    function now() {\n",
       "      return new Date();\n",
       "    }\n",
       "  \n",
       "    var force = \"\";\n",
       "  \n",
       "    if (typeof (window._bokeh_onload_callbacks) === \"undefined\" || force !== \"\") {\n",
       "      window._bokeh_onload_callbacks = [];\n",
       "      window._bokeh_is_loading = undefined;\n",
       "    }\n",
       "  \n",
       "  \n",
       "    \n",
       "    if (typeof (window._bokeh_timeout) === \"undefined\" || force !== \"\") {\n",
       "      window._bokeh_timeout = Date.now() + 0;\n",
       "      window._bokeh_failed_load = false;\n",
       "    }\n",
       "  \n",
       "    var NB_LOAD_WARNING = {'data': {'text/html':\n",
       "       \"<div style='background-color: #fdd'>\\n\"+\n",
       "       \"<p>\\n\"+\n",
       "       \"BokehJS does not appear to have successfully loaded. If loading BokehJS from CDN, this \\n\"+\n",
       "       \"may be due to a slow or bad network connection. Possible fixes:\\n\"+\n",
       "       \"</p>\\n\"+\n",
       "       \"<ul>\\n\"+\n",
       "       \"<li>re-rerun `output_notebook()` to attempt to load from CDN again, or</li>\\n\"+\n",
       "       \"<li>use INLINE resources instead, as so:</li>\\n\"+\n",
       "       \"</ul>\\n\"+\n",
       "       \"<code>\\n\"+\n",
       "       \"from bokeh.resources import INLINE\\n\"+\n",
       "       \"output_notebook(resources=INLINE)\\n\"+\n",
       "       \"</code>\\n\"+\n",
       "       \"</div>\"}};\n",
       "  \n",
       "    function display_loaded() {\n",
       "      if (window.Bokeh !== undefined) {\n",
       "        Bokeh.$(\"#db4c2e9b-abf3-42e4-941f-382b7782eb25\").text(\"BokehJS successfully loaded.\");\n",
       "      } else if (Date.now() < window._bokeh_timeout) {\n",
       "        setTimeout(display_loaded, 100)\n",
       "      }\n",
       "    }\n",
       "  \n",
       "    function run_callbacks() {\n",
       "      window._bokeh_onload_callbacks.forEach(function(callback) { callback() });\n",
       "      delete window._bokeh_onload_callbacks\n",
       "      console.info(\"Bokeh: all callbacks have finished\");\n",
       "    }\n",
       "  \n",
       "    function load_libs(js_urls, callback) {\n",
       "      window._bokeh_onload_callbacks.push(callback);\n",
       "      if (window._bokeh_is_loading > 0) {\n",
       "        console.log(\"Bokeh: BokehJS is being loaded, scheduling callback at\", now());\n",
       "        return null;\n",
       "      }\n",
       "      if (js_urls == null || js_urls.length === 0) {\n",
       "        run_callbacks();\n",
       "        return null;\n",
       "      }\n",
       "      console.log(\"Bokeh: BokehJS not loaded, scheduling load and callback at\", now());\n",
       "      window._bokeh_is_loading = js_urls.length;\n",
       "      for (var i = 0; i < js_urls.length; i++) {\n",
       "        var url = js_urls[i];\n",
       "        var s = document.createElement('script');\n",
       "        s.src = url;\n",
       "        s.async = false;\n",
       "        s.onreadystatechange = s.onload = function() {\n",
       "          window._bokeh_is_loading--;\n",
       "          if (window._bokeh_is_loading === 0) {\n",
       "            console.log(\"Bokeh: all BokehJS libraries loaded\");\n",
       "            run_callbacks()\n",
       "          }\n",
       "        };\n",
       "        s.onerror = function() {\n",
       "          console.warn(\"failed to load library \" + url);\n",
       "        };\n",
       "        console.log(\"Bokeh: injecting script tag for BokehJS library: \", url);\n",
       "        document.getElementsByTagName(\"head\")[0].appendChild(s);\n",
       "      }\n",
       "    };var element = document.getElementById(\"db4c2e9b-abf3-42e4-941f-382b7782eb25\");\n",
       "    if (element == null) {\n",
       "      console.log(\"Bokeh: ERROR: autoload.js configured with elementid 'db4c2e9b-abf3-42e4-941f-382b7782eb25' but no matching script tag was found. \")\n",
       "      return false;\n",
       "    }\n",
       "  \n",
       "    var js_urls = [];\n",
       "  \n",
       "    var inline_js = [\n",
       "      function(Bokeh) {\n",
       "        Bokeh.$(function() {\n",
       "            var docs_json = {\"7aad0e7d-bda7-457d-b121-c9d49b2a63a8\":{\"roots\":{\"references\":[{\"attributes\":{\"callback\":null,\"column_names\":[\"line_color\",\"line_alpha\",\"color\",\"fill_alpha\",\"height\",\"width\",\"y\",\"x\",\"label\"],\"data\":{\"chart_index\":[{\"city\":\"Philadelphia\"}],\"city\":[\"Philadelphia\"],\"color\":[\"#f22c40\"],\"fill_alpha\":[0.8],\"height\":[373.0],\"label\":[{\"city\":\"Philadelphia\"}],\"line_alpha\":[1.0],\"line_color\":[\"white\"],\"width\":[0.8],\"x\":[\"Philadelphia\"],\"y\":[186.5]}},\"id\":\"69f2c73c-148f-4498-9d36-e4825932b88d\",\"type\":\"ColumnDataSource\"},{\"attributes\":{\"callback\":null,\"column_names\":[\"line_color\",\"line_alpha\",\"color\",\"fill_alpha\",\"height\",\"width\",\"y\",\"x\",\"label\"],\"data\":{\"chart_index\":[{\"city\":\"Munchen\"}],\"city\":[\"Munchen\"],\"color\":[\"#f22c40\"],\"fill_alpha\":[0.8],\"height\":[504.0],\"label\":[{\"city\":\"Munchen\"}],\"line_alpha\":[1.0],\"line_color\":[\"white\"],\"width\":[0.8],\"x\":[\"Munchen\"],\"y\":[252.0]}},\"id\":\"b4ef0db3-8d64-4455-ae90-fed09684e6ce\",\"type\":\"ColumnDataSource\"},{\"attributes\":{\"plot\":{\"id\":\"68364b66-eb20-4bf0-909b-cc7f4d6e9fde\",\"subtype\":\"Chart\",\"type\":\"Plot\"}},\"id\":\"4f210e96-b14a-4a39-8dbd-f4d538d381e4\",\"type\":\"SaveTool\"},{\"attributes\":{\"label\":{\"value\":\"Chicago\"},\"renderers\":[{\"id\":\"24dc6755-fa80-4e3f-bef1-16a85424bd72\",\"type\":\"GlyphRenderer\"}]},\"id\":\"21cc82e4-9bf3-4546-ad9c-a52b5a9b6009\",\"type\":\"LegendItem\"},{\"attributes\":{\"label\":{\"value\":\"New York\"},\"renderers\":[{\"id\":\"422d98a4-5d87-44c1-9dec-8d478bc2670b\",\"type\":\"GlyphRenderer\"}]},\"id\":\"9309cc83-5a95-4e87-a5e9-9d3708294f2e\",\"type\":\"LegendItem\"},{\"attributes\":{\"callback\":null,\"column_names\":[\"line_color\",\"line_alpha\",\"color\",\"fill_alpha\",\"height\",\"width\",\"y\",\"x\",\"label\"],\"data\":{\"chart_index\":[{\"city\":\"Hamburg\"}],\"city\":[\"Hamburg\"],\"color\":[\"#f22c40\"],\"fill_alpha\":[0.8],\"height\":[344.0],\"label\":[{\"city\":\"Hamburg\"}],\"line_alpha\":[1.0],\"line_color\":[\"white\"],\"width\":[0.8],\"x\":[\"Hamburg\"],\"y\":[172.0]}},\"id\":\"57372170-e80b-4992-a0f7-169eb865bd6e\",\"type\":\"ColumnDataSource\"},{\"attributes\":{\"fill_alpha\":{\"field\":\"fill_alpha\"},\"fill_color\":{\"field\":\"color\"},\"height\":{\"field\":\"height\",\"units\":\"data\"},\"line_color\":{\"field\":\"line_color\"},\"width\":{\"field\":\"width\",\"units\":\"data\"},\"x\":{\"field\":\"x\"},\"y\":{\"field\":\"y\"}},\"id\":\"d08d7da0-936b-4955-ac5a-1bc825b46f0c\",\"type\":\"Rect\"},{\"attributes\":{\"fill_alpha\":{\"field\":\"fill_alpha\"},\"fill_color\":{\"field\":\"color\"},\"height\":{\"field\":\"height\",\"units\":\"data\"},\"line_color\":{\"field\":\"line_color\"},\"width\":{\"field\":\"width\",\"units\":\"data\"},\"x\":{\"field\":\"x\"},\"y\":{\"field\":\"y\"}},\"id\":\"007794f2-476c-4b90-b5ca-d67d9d3173b1\",\"type\":\"Rect\"},{\"attributes\":{\"plot\":{\"id\":\"68364b66-eb20-4bf0-909b-cc7f4d6e9fde\",\"subtype\":\"Chart\",\"type\":\"Plot\"}},\"id\":\"7181b7f8-a6b2-40f5-a9ac-3289a4bd14e6\",\"type\":\"ResetTool\"},{\"attributes\":{\"plot\":{\"id\":\"68364b66-eb20-4bf0-909b-cc7f4d6e9fde\",\"subtype\":\"Chart\",\"type\":\"Plot\"}},\"id\":\"8f0eb2ac-459c-4fee-8c38-d5d8df143c97\",\"type\":\"PanTool\"},{\"attributes\":{\"label\":{\"value\":\"Amsterdam\"},\"renderers\":[{\"id\":\"3345fc32-22e8-4e85-9c29-c4acd0f883e9\",\"type\":\"GlyphRenderer\"}]},\"id\":\"65a9641e-e444-4188-842b-a88d8466b08d\",\"type\":\"LegendItem\"},{\"attributes\":{},\"id\":\"4747ca15-afd4-4e44-924a-2a0021e8dcfc\",\"type\":\"CategoricalTickFormatter\"},{\"attributes\":{\"fill_alpha\":{\"field\":\"fill_alpha\"},\"fill_color\":{\"field\":\"color\"},\"height\":{\"field\":\"height\",\"units\":\"data\"},\"line_color\":{\"field\":\"line_color\"},\"width\":{\"field\":\"width\",\"units\":\"data\"},\"x\":{\"field\":\"x\"},\"y\":{\"field\":\"y\"}},\"id\":\"cb73240e-c2d8-43b6-a9b1-a7dcaf100fc9\",\"type\":\"Rect\"},{\"attributes\":{\"fill_alpha\":{\"field\":\"fill_alpha\"},\"fill_color\":{\"field\":\"color\"},\"height\":{\"field\":\"height\",\"units\":\"data\"},\"line_color\":{\"field\":\"line_color\"},\"width\":{\"field\":\"width\",\"units\":\"data\"},\"x\":{\"field\":\"x\"},\"y\":{\"field\":\"y\"}},\"id\":\"f5809903-b535-44d0-88c6-bf3ccf6f4e6a\",\"type\":\"Rect\"},{\"attributes\":{\"label\":{\"value\":\"Seattle\"},\"renderers\":[{\"id\":\"9124dc0e-0cb2-4341-b0ef-b14ab4107885\",\"type\":\"GlyphRenderer\"}]},\"id\":\"5cb79ee3-f55d-4bf5-9fcb-ce988c954422\",\"type\":\"LegendItem\"},{\"attributes\":{\"label\":{\"value\":\"Washington\"},\"renderers\":[{\"id\":\"af9f66b7-d9d6-4270-9166-df926d8fe356\",\"type\":\"GlyphRenderer\"}]},\"id\":\"3145b385-83fc-46cc-bdcc-0ecdff419349\",\"type\":\"LegendItem\"},{\"attributes\":{\"data_source\":{\"id\":\"a242dbd7-00dd-4087-84f1-868aa3396ad9\",\"type\":\"ColumnDataSource\"},\"glyph\":{\"id\":\"186bea84-929b-4466-9a01-169fbfb77384\",\"type\":\"Rect\"},\"hover_glyph\":null,\"nonselection_glyph\":null,\"selection_glyph\":null},\"id\":\"bfa7b170-1887-4b0f-b3d4-625e261b11c1\",\"type\":\"GlyphRenderer\"},{\"attributes\":{\"callback\":null,\"column_names\":[\"line_color\",\"line_alpha\",\"color\",\"fill_alpha\",\"height\",\"width\",\"y\",\"x\",\"label\"],\"data\":{\"chart_index\":[{\"city\":\"Amsterdam\"}],\"city\":[\"Amsterdam\"],\"color\":[\"#f22c40\"],\"fill_alpha\":[0.8],\"height\":[482.0],\"label\":[{\"city\":\"Amsterdam\"}],\"line_alpha\":[1.0],\"line_color\":[\"white\"],\"width\":[0.8],\"x\":[\"Amsterdam\"],\"y\":[241.0]}},\"id\":\"b72518e8-4009-41a7-bf1e-3aea2f558e85\",\"type\":\"ColumnDataSource\"},{\"attributes\":{\"label\":{\"value\":\"Philadelphia\"},\"renderers\":[{\"id\":\"4699b25e-2637-4a4f-93bb-50d8cfd53fdb\",\"type\":\"GlyphRenderer\"}]},\"id\":\"afbfb43c-b986-4e89-8e99-1f4a2ddc8351\",\"type\":\"LegendItem\"},{\"attributes\":{\"fill_alpha\":{\"field\":\"fill_alpha\"},\"fill_color\":{\"field\":\"color\"},\"height\":{\"field\":\"height\",\"units\":\"data\"},\"line_color\":{\"field\":\"line_color\"},\"width\":{\"field\":\"width\",\"units\":\"data\"},\"x\":{\"field\":\"x\"},\"y\":{\"field\":\"y\"}},\"id\":\"90bab070-928a-4bc9-84d1-001cfa6c4647\",\"type\":\"Rect\"},{\"attributes\":{\"label\":{\"value\":\"Munchen\"},\"renderers\":[{\"id\":\"369d2709-a6b0-4ab6-bd5c-c3edc5f32139\",\"type\":\"GlyphRenderer\"}]},\"id\":\"6b1a0565-f69d-4c26-a61f-5cc0801b5785\",\"type\":\"LegendItem\"},{\"attributes\":{\"data_source\":{\"id\":\"a3569014-4249-4884-8a6d-13776e25dac5\",\"type\":\"ColumnDataSource\"},\"glyph\":{\"id\":\"90bab070-928a-4bc9-84d1-001cfa6c4647\",\"type\":\"Rect\"},\"hover_glyph\":null,\"nonselection_glyph\":null,\"selection_glyph\":null},\"id\":\"29cecaef-dbb6-4321-bd0e-bb0b3905e7e1\",\"type\":\"GlyphRenderer\"},{\"attributes\":{\"plot\":{\"id\":\"68364b66-eb20-4bf0-909b-cc7f4d6e9fde\",\"subtype\":\"Chart\",\"type\":\"Plot\"}},\"id\":\"04117d0c-a6de-4c0a-a112-379279008eba\",\"type\":\"WheelZoomTool\"},{\"attributes\":{\"callback\":null,\"column_names\":[\"line_color\",\"line_alpha\",\"color\",\"fill_alpha\",\"height\",\"width\",\"y\",\"x\",\"label\"],\"data\":{\"chart_index\":[{\"city\":\"London\"}],\"city\":[\"London\"],\"color\":[\"#f22c40\"],\"fill_alpha\":[0.8],\"height\":[1189.0],\"label\":[{\"city\":\"London\"}],\"line_alpha\":[1.0],\"line_color\":[\"white\"],\"width\":[0.8],\"x\":[\"London\"],\"y\":[594.5]}},\"id\":\"a242dbd7-00dd-4087-84f1-868aa3396ad9\",\"type\":\"ColumnDataSource\"},{\"attributes\":{\"callback\":null,\"column_names\":[\"line_color\",\"line_alpha\",\"color\",\"fill_alpha\",\"height\",\"width\",\"y\",\"x\",\"label\"],\"data\":{\"chart_index\":[{\"city\":\"No office location\"}],\"city\":[\"No office location\"],\"color\":[\"#f22c40\"],\"fill_alpha\":[0.8],\"height\":[344.0],\"label\":[{\"city\":\"No office location\"}],\"line_alpha\":[1.0],\"line_color\":[\"white\"],\"width\":[0.8],\"x\":[\"No office location\"],\"y\":[172.0]}},\"id\":\"1117145c-928a-41c6-9ec8-e688634c8442\",\"type\":\"ColumnDataSource\"},{\"attributes\":{\"callback\":null,\"column_names\":[\"line_color\",\"line_alpha\",\"color\",\"fill_alpha\",\"height\",\"width\",\"y\",\"x\",\"label\"],\"data\":{\"chart_index\":[{\"city\":\"Chicago\"}],\"city\":[\"Chicago\"],\"color\":[\"#f22c40\"],\"fill_alpha\":[0.8],\"height\":[350.0],\"label\":[{\"city\":\"Chicago\"}],\"line_alpha\":[1.0],\"line_color\":[\"white\"],\"width\":[0.8],\"x\":[\"Chicago\"],\"y\":[175.0]}},\"id\":\"78f24a53-55ae-45ba-a5ad-14540f3806ac\",\"type\":\"ColumnDataSource\"},{\"attributes\":{\"callback\":null,\"column_names\":[\"line_color\",\"line_alpha\",\"color\",\"fill_alpha\",\"height\",\"width\",\"y\",\"x\",\"label\"],\"data\":{\"chart_index\":[{\"city\":\"Berlin\"}],\"city\":[\"Berlin\"],\"color\":[\"#f22c40\"],\"fill_alpha\":[0.8],\"height\":[1263.0],\"label\":[{\"city\":\"Berlin\"}],\"line_alpha\":[1.0],\"line_color\":[\"white\"],\"width\":[0.8],\"x\":[\"Berlin\"],\"y\":[631.5]}},\"id\":\"33f34cc4-460c-472e-ac52-8d4124b71360\",\"type\":\"ColumnDataSource\"},{\"attributes\":{\"data_source\":{\"id\":\"3f338678-6744-4d7f-996c-a2b87cbf1fd7\",\"type\":\"ColumnDataSource\"},\"glyph\":{\"id\":\"cb73240e-c2d8-43b6-a9b1-a7dcaf100fc9\",\"type\":\"Rect\"},\"hover_glyph\":null,\"nonselection_glyph\":null,\"selection_glyph\":null},\"id\":\"9124dc0e-0cb2-4341-b0ef-b14ab4107885\",\"type\":\"GlyphRenderer\"},{\"attributes\":{\"overlay\":{\"id\":\"5f9f48fd-23f8-4449-ae1c-9786a809ca43\",\"type\":\"BoxAnnotation\"},\"plot\":{\"id\":\"68364b66-eb20-4bf0-909b-cc7f4d6e9fde\",\"subtype\":\"Chart\",\"type\":\"Plot\"}},\"id\":\"c3d25732-7f47-42bf-abbd-5feb157dc053\",\"type\":\"BoxZoomTool\"},{\"attributes\":{\"axis_label\":\"Sum( Count )\",\"formatter\":{\"id\":\"b91478c9-f993-4ede-be97-26ecffa06d07\",\"type\":\"BasicTickFormatter\"},\"plot\":{\"id\":\"68364b66-eb20-4bf0-909b-cc7f4d6e9fde\",\"subtype\":\"Chart\",\"type\":\"Plot\"},\"ticker\":{\"id\":\"4d8af3e7-aa39-497d-a260-414d54990584\",\"type\":\"BasicTicker\"}},\"id\":\"e0205e60-3168-4ba8-a4f0-931b18e1f949\",\"type\":\"LinearAxis\"},{\"attributes\":{\"plot\":null,\"text\":\"Jobs posted by citites\"},\"id\":\"79dc5ab1-9874-4041-9307-34d712d7b765\",\"type\":\"Title\"},{\"attributes\":{\"callback\":null,\"factors\":[\"Berlin\",\"London\",\"New York\",\"San Francisco\",\"Munchen\",\"Amsterdam\",\"Seattle\",\"Philadelphia\",\"Chicago\",\"Hamburg\",\"No office location\",\"Toronto\",\"Washington\",\"Rotterdam\",\"Boston\"]},\"id\":\"e99093f3-96bf-4d73-bdd6-75fb786547d1\",\"type\":\"FactorRange\"},{\"attributes\":{\"callback\":null,\"column_names\":[\"line_color\",\"line_alpha\",\"color\",\"fill_alpha\",\"height\",\"width\",\"y\",\"x\",\"label\"],\"data\":{\"chart_index\":[{\"city\":\"Washington\"}],\"city\":[\"Washington\"],\"color\":[\"#f22c40\"],\"fill_alpha\":[0.8],\"height\":[256.0],\"label\":[{\"city\":\"Washington\"}],\"line_alpha\":[1.0],\"line_color\":[\"white\"],\"width\":[0.8],\"x\":[\"Washington\"],\"y\":[128.0]}},\"id\":\"e6ce90ab-2041-4e1f-8ec6-29b7f274d69f\",\"type\":\"ColumnDataSource\"},{\"attributes\":{\"axis_label\":\"City\",\"formatter\":{\"id\":\"4747ca15-afd4-4e44-924a-2a0021e8dcfc\",\"type\":\"CategoricalTickFormatter\"},\"major_label_orientation\":0.7853981633974483,\"plot\":{\"id\":\"68364b66-eb20-4bf0-909b-cc7f4d6e9fde\",\"subtype\":\"Chart\",\"type\":\"Plot\"},\"ticker\":{\"id\":\"d1ee86ac-6f56-4633-8b2a-9a94bed8296d\",\"type\":\"CategoricalTicker\"}},\"id\":\"79680a85-52a4-4413-abaa-91886c025265\",\"type\":\"CategoricalAxis\"},{\"attributes\":{\"data_source\":{\"id\":\"bebfb5be-8670-4a62-956e-c78cab250a41\",\"type\":\"ColumnDataSource\"},\"glyph\":{\"id\":\"007794f2-476c-4b90-b5ca-d67d9d3173b1\",\"type\":\"Rect\"},\"hover_glyph\":null,\"nonselection_glyph\":null,\"selection_glyph\":null},\"id\":\"3bba87e8-8edf-4390-bf68-48105e09f778\",\"type\":\"GlyphRenderer\"},{\"attributes\":{\"data_source\":{\"id\":\"b4ef0db3-8d64-4455-ae90-fed09684e6ce\",\"type\":\"ColumnDataSource\"},\"glyph\":{\"id\":\"d0662cae-8550-416c-bbad-8951bc329c06\",\"type\":\"Rect\"},\"hover_glyph\":null,\"nonselection_glyph\":null,\"selection_glyph\":null},\"id\":\"369d2709-a6b0-4ab6-bd5c-c3edc5f32139\",\"type\":\"GlyphRenderer\"},{\"attributes\":{\"below\":[{\"id\":\"79680a85-52a4-4413-abaa-91886c025265\",\"type\":\"CategoricalAxis\"}],\"left\":[{\"id\":\"e0205e60-3168-4ba8-a4f0-931b18e1f949\",\"type\":\"LinearAxis\"}],\"renderers\":[{\"id\":\"5f9f48fd-23f8-4449-ae1c-9786a809ca43\",\"type\":\"BoxAnnotation\"},{\"id\":\"9ae47d51-fd9d-4c5f-b17c-48971a8cccb1\",\"type\":\"GlyphRenderer\"},{\"id\":\"bfa7b170-1887-4b0f-b3d4-625e261b11c1\",\"type\":\"GlyphRenderer\"},{\"id\":\"422d98a4-5d87-44c1-9dec-8d478bc2670b\",\"type\":\"GlyphRenderer\"},{\"id\":\"29cecaef-dbb6-4321-bd0e-bb0b3905e7e1\",\"type\":\"GlyphRenderer\"},{\"id\":\"369d2709-a6b0-4ab6-bd5c-c3edc5f32139\",\"type\":\"GlyphRenderer\"},{\"id\":\"3345fc32-22e8-4e85-9c29-c4acd0f883e9\",\"type\":\"GlyphRenderer\"},{\"id\":\"9124dc0e-0cb2-4341-b0ef-b14ab4107885\",\"type\":\"GlyphRenderer\"},{\"id\":\"4699b25e-2637-4a4f-93bb-50d8cfd53fdb\",\"type\":\"GlyphRenderer\"},{\"id\":\"24dc6755-fa80-4e3f-bef1-16a85424bd72\",\"type\":\"GlyphRenderer\"},{\"id\":\"eec17dc2-7504-4a54-8d07-545a5d489ed3\",\"type\":\"GlyphRenderer\"},{\"id\":\"9a65ea31-35f9-462c-b4b9-5894c64821e2\",\"type\":\"GlyphRenderer\"},{\"id\":\"8f76aad9-1a9b-4bd8-b011-33fa643c90e6\",\"type\":\"GlyphRenderer\"},{\"id\":\"af9f66b7-d9d6-4270-9166-df926d8fe356\",\"type\":\"GlyphRenderer\"},{\"id\":\"3bba87e8-8edf-4390-bf68-48105e09f778\",\"type\":\"GlyphRenderer\"},{\"id\":\"f3aabe0e-c1e3-4a60-97e0-ca9092c3c4a5\",\"type\":\"GlyphRenderer\"},{\"id\":\"022db16f-e5cd-4a2f-8474-8b0e28b0bfdc\",\"type\":\"Legend\"},{\"id\":\"79680a85-52a4-4413-abaa-91886c025265\",\"type\":\"CategoricalAxis\"},{\"id\":\"e0205e60-3168-4ba8-a4f0-931b18e1f949\",\"type\":\"LinearAxis\"},{\"id\":\"e1fb97c4-61c5-4b93-b04f-230dbcbf96fb\",\"type\":\"Grid\"}],\"title\":{\"id\":\"79dc5ab1-9874-4041-9307-34d712d7b765\",\"type\":\"Title\"},\"tool_events\":{\"id\":\"df93715d-fefc-43cf-a227-bfbe1fed4fca\",\"type\":\"ToolEvents\"},\"toolbar\":{\"id\":\"6eeadee6-688b-4181-9094-c310338525eb\",\"type\":\"Toolbar\"},\"x_mapper_type\":\"auto\",\"x_range\":{\"id\":\"e99093f3-96bf-4d73-bdd6-75fb786547d1\",\"type\":\"FactorRange\"},\"y_mapper_type\":\"auto\",\"y_range\":{\"id\":\"35349aa4-2ffb-4e16-ab17-955a8d25852e\",\"type\":\"Range1d\"}},\"id\":\"68364b66-eb20-4bf0-909b-cc7f4d6e9fde\",\"subtype\":\"Chart\",\"type\":\"Plot\"},{\"attributes\":{\"fill_alpha\":{\"field\":\"fill_alpha\"},\"fill_color\":{\"field\":\"color\"},\"height\":{\"field\":\"height\",\"units\":\"data\"},\"line_color\":{\"field\":\"line_color\"},\"width\":{\"field\":\"width\",\"units\":\"data\"},\"x\":{\"field\":\"x\"},\"y\":{\"field\":\"y\"}},\"id\":\"b2c7b422-0f43-46dc-ad23-52e84bcba339\",\"type\":\"Rect\"},{\"attributes\":{\"fill_alpha\":{\"field\":\"fill_alpha\"},\"fill_color\":{\"field\":\"color\"},\"height\":{\"field\":\"height\",\"units\":\"data\"},\"line_color\":{\"field\":\"line_color\"},\"width\":{\"field\":\"width\",\"units\":\"data\"},\"x\":{\"field\":\"x\"},\"y\":{\"field\":\"y\"}},\"id\":\"397fde56-eb0b-4d79-a54e-6ee7b9ad1ec7\",\"type\":\"Rect\"},{\"attributes\":{\"callback\":null,\"column_names\":[\"line_color\",\"line_alpha\",\"color\",\"fill_alpha\",\"height\",\"width\",\"y\",\"x\",\"label\"],\"data\":{\"chart_index\":[{\"city\":\"San Francisco\"}],\"city\":[\"San Francisco\"],\"color\":[\"#f22c40\"],\"fill_alpha\":[0.8],\"height\":[813.0],\"label\":[{\"city\":\"San Francisco\"}],\"line_alpha\":[1.0],\"line_color\":[\"white\"],\"width\":[0.8],\"x\":[\"San Francisco\"],\"y\":[406.5]}},\"id\":\"a3569014-4249-4884-8a6d-13776e25dac5\",\"type\":\"ColumnDataSource\"},{\"attributes\":{\"fill_alpha\":{\"field\":\"fill_alpha\"},\"fill_color\":{\"field\":\"color\"},\"height\":{\"field\":\"height\",\"units\":\"data\"},\"line_color\":{\"field\":\"line_color\"},\"width\":{\"field\":\"width\",\"units\":\"data\"},\"x\":{\"field\":\"x\"},\"y\":{\"field\":\"y\"}},\"id\":\"f6e4a4e7-98ba-4586-b9ae-8a1b3a4d0b83\",\"type\":\"Rect\"},{\"attributes\":{\"callback\":null,\"column_names\":[\"line_color\",\"line_alpha\",\"color\",\"fill_alpha\",\"height\",\"width\",\"y\",\"x\",\"label\"],\"data\":{\"chart_index\":[{\"city\":\"Toronto\"}],\"city\":[\"Toronto\"],\"color\":[\"#f22c40\"],\"fill_alpha\":[0.8],\"height\":[322.0],\"label\":[{\"city\":\"Toronto\"}],\"line_alpha\":[1.0],\"line_color\":[\"white\"],\"width\":[0.8],\"x\":[\"Toronto\"],\"y\":[161.0]}},\"id\":\"e82af9a0-de06-4422-961e-9b90bb64ed9c\",\"type\":\"ColumnDataSource\"},{\"attributes\":{\"data_source\":{\"id\":\"69f2c73c-148f-4498-9d36-e4825932b88d\",\"type\":\"ColumnDataSource\"},\"glyph\":{\"id\":\"d08d7da0-936b-4955-ac5a-1bc825b46f0c\",\"type\":\"Rect\"},\"hover_glyph\":null,\"nonselection_glyph\":null,\"selection_glyph\":null},\"id\":\"4699b25e-2637-4a4f-93bb-50d8cfd53fdb\",\"type\":\"GlyphRenderer\"},{\"attributes\":{\"fill_alpha\":{\"field\":\"fill_alpha\"},\"fill_color\":{\"field\":\"color\"},\"height\":{\"field\":\"height\",\"units\":\"data\"},\"line_color\":{\"field\":\"line_color\"},\"width\":{\"field\":\"width\",\"units\":\"data\"},\"x\":{\"field\":\"x\"},\"y\":{\"field\":\"y\"}},\"id\":\"964da229-43f5-4979-b50d-89e5055c6b35\",\"type\":\"Rect\"},{\"attributes\":{},\"id\":\"b91478c9-f993-4ede-be97-26ecffa06d07\",\"type\":\"BasicTickFormatter\"},{\"attributes\":{\"data_source\":{\"id\":\"56b01f56-0563-434f-a505-41ce626db847\",\"type\":\"ColumnDataSource\"},\"glyph\":{\"id\":\"f6e4a4e7-98ba-4586-b9ae-8a1b3a4d0b83\",\"type\":\"Rect\"},\"hover_glyph\":null,\"nonselection_glyph\":null,\"selection_glyph\":null},\"id\":\"f3aabe0e-c1e3-4a60-97e0-ca9092c3c4a5\",\"type\":\"GlyphRenderer\"},{\"attributes\":{\"fill_alpha\":{\"field\":\"fill_alpha\"},\"fill_color\":{\"field\":\"color\"},\"height\":{\"field\":\"height\",\"units\":\"data\"},\"line_color\":{\"field\":\"line_color\"},\"width\":{\"field\":\"width\",\"units\":\"data\"},\"x\":{\"field\":\"x\"},\"y\":{\"field\":\"y\"}},\"id\":\"29f48db9-5553-408e-b5d9-237610f836e5\",\"type\":\"Rect\"},{\"attributes\":{\"data_source\":{\"id\":\"33f34cc4-460c-472e-ac52-8d4124b71360\",\"type\":\"ColumnDataSource\"},\"glyph\":{\"id\":\"f5809903-b535-44d0-88c6-bf3ccf6f4e6a\",\"type\":\"Rect\"},\"hover_glyph\":null,\"nonselection_glyph\":null,\"selection_glyph\":null},\"id\":\"9ae47d51-fd9d-4c5f-b17c-48971a8cccb1\",\"type\":\"GlyphRenderer\"},{\"attributes\":{\"fill_alpha\":{\"field\":\"fill_alpha\"},\"fill_color\":{\"field\":\"color\"},\"height\":{\"field\":\"height\",\"units\":\"data\"},\"line_color\":{\"field\":\"line_color\"},\"width\":{\"field\":\"width\",\"units\":\"data\"},\"x\":{\"field\":\"x\"},\"y\":{\"field\":\"y\"}},\"id\":\"6df59961-6ad2-4812-9ebb-9fa3f743e3a1\",\"type\":\"Rect\"},{\"attributes\":{\"data_source\":{\"id\":\"e82af9a0-de06-4422-961e-9b90bb64ed9c\",\"type\":\"ColumnDataSource\"},\"glyph\":{\"id\":\"397fde56-eb0b-4d79-a54e-6ee7b9ad1ec7\",\"type\":\"Rect\"},\"hover_glyph\":null,\"nonselection_glyph\":null,\"selection_glyph\":null},\"id\":\"8f76aad9-1a9b-4bd8-b011-33fa643c90e6\",\"type\":\"GlyphRenderer\"},{\"attributes\":{\"data_source\":{\"id\":\"57372170-e80b-4992-a0f7-169eb865bd6e\",\"type\":\"ColumnDataSource\"},\"glyph\":{\"id\":\"29f48db9-5553-408e-b5d9-237610f836e5\",\"type\":\"Rect\"},\"hover_glyph\":null,\"nonselection_glyph\":null,\"selection_glyph\":null},\"id\":\"eec17dc2-7504-4a54-8d07-545a5d489ed3\",\"type\":\"GlyphRenderer\"},{\"attributes\":{\"data_source\":{\"id\":\"e6ce90ab-2041-4e1f-8ec6-29b7f274d69f\",\"type\":\"ColumnDataSource\"},\"glyph\":{\"id\":\"706ad404-d390-41be-9648-64df372f8b2a\",\"type\":\"Rect\"},\"hover_glyph\":null,\"nonselection_glyph\":null,\"selection_glyph\":null},\"id\":\"af9f66b7-d9d6-4270-9166-df926d8fe356\",\"type\":\"GlyphRenderer\"},{\"attributes\":{\"bottom_units\":\"screen\",\"fill_alpha\":{\"value\":0.5},\"fill_color\":{\"value\":\"lightgrey\"},\"left_units\":\"screen\",\"level\":\"overlay\",\"line_alpha\":{\"value\":1.0},\"line_color\":{\"value\":\"black\"},\"line_dash\":[4,4],\"line_width\":{\"value\":2},\"plot\":null,\"render_mode\":\"css\",\"right_units\":\"screen\",\"top_units\":\"screen\"},\"id\":\"5f9f48fd-23f8-4449-ae1c-9786a809ca43\",\"type\":\"BoxAnnotation\"},{\"attributes\":{\"label\":{\"value\":\"Toronto\"},\"renderers\":[{\"id\":\"8f76aad9-1a9b-4bd8-b011-33fa643c90e6\",\"type\":\"GlyphRenderer\"}]},\"id\":\"6561e65c-05d2-499a-8f0c-99a36c74040b\",\"type\":\"LegendItem\"},{\"attributes\":{\"label\":{\"value\":\"Rotterdam\"},\"renderers\":[{\"id\":\"3bba87e8-8edf-4390-bf68-48105e09f778\",\"type\":\"GlyphRenderer\"}]},\"id\":\"5cba39fb-da6d-49cb-8d33-0be272ba8d68\",\"type\":\"LegendItem\"},{\"attributes\":{\"plot\":{\"id\":\"68364b66-eb20-4bf0-909b-cc7f4d6e9fde\",\"subtype\":\"Chart\",\"type\":\"Plot\"}},\"id\":\"dec436c4-9bb8-4bf4-89f8-7a919e72b68c\",\"type\":\"HelpTool\"},{\"attributes\":{\"label\":{\"value\":\"San Francisco\"},\"renderers\":[{\"id\":\"29cecaef-dbb6-4321-bd0e-bb0b3905e7e1\",\"type\":\"GlyphRenderer\"}]},\"id\":\"d7d97145-1fa4-4b0e-bed1-5007fad86f6b\",\"type\":\"LegendItem\"},{\"attributes\":{\"dimension\":1,\"plot\":{\"id\":\"68364b66-eb20-4bf0-909b-cc7f4d6e9fde\",\"subtype\":\"Chart\",\"type\":\"Plot\"},\"ticker\":{\"id\":\"4d8af3e7-aa39-497d-a260-414d54990584\",\"type\":\"BasicTicker\"}},\"id\":\"e1fb97c4-61c5-4b93-b04f-230dbcbf96fb\",\"type\":\"Grid\"},{\"attributes\":{\"callback\":null,\"column_names\":[\"line_color\",\"line_alpha\",\"color\",\"fill_alpha\",\"height\",\"width\",\"y\",\"x\",\"label\"],\"data\":{\"chart_index\":[{\"city\":\"New York\"}],\"city\":[\"New York\"],\"color\":[\"#f22c40\"],\"fill_alpha\":[0.8],\"height\":[1166.0],\"label\":[{\"city\":\"New York\"}],\"line_alpha\":[1.0],\"line_color\":[\"white\"],\"width\":[0.8],\"x\":[\"New York\"],\"y\":[583.0]}},\"id\":\"c2374050-077b-4df6-a033-fe215568ed22\",\"type\":\"ColumnDataSource\"},{\"attributes\":{\"callback\":null,\"column_names\":[\"line_color\",\"line_alpha\",\"color\",\"fill_alpha\",\"height\",\"width\",\"y\",\"x\",\"label\"],\"data\":{\"chart_index\":[{\"city\":\"Boston\"}],\"city\":[\"Boston\"],\"color\":[\"#f22c40\"],\"fill_alpha\":[0.8],\"height\":[224.0],\"label\":[{\"city\":\"Boston\"}],\"line_alpha\":[1.0],\"line_color\":[\"white\"],\"width\":[0.8],\"x\":[\"Boston\"],\"y\":[112.0]}},\"id\":\"56b01f56-0563-434f-a505-41ce626db847\",\"type\":\"ColumnDataSource\"},{\"attributes\":{\"label\":{\"value\":\"Hamburg\"},\"renderers\":[{\"id\":\"eec17dc2-7504-4a54-8d07-545a5d489ed3\",\"type\":\"GlyphRenderer\"}]},\"id\":\"a9a4f6de-c891-4887-a130-9b46a91af216\",\"type\":\"LegendItem\"},{\"attributes\":{\"data_source\":{\"id\":\"78f24a53-55ae-45ba-a5ad-14540f3806ac\",\"type\":\"ColumnDataSource\"},\"glyph\":{\"id\":\"6df59961-6ad2-4812-9ebb-9fa3f743e3a1\",\"type\":\"Rect\"},\"hover_glyph\":null,\"nonselection_glyph\":null,\"selection_glyph\":null},\"id\":\"24dc6755-fa80-4e3f-bef1-16a85424bd72\",\"type\":\"GlyphRenderer\"},{\"attributes\":{\"callback\":null,\"column_names\":[\"line_color\",\"line_alpha\",\"color\",\"fill_alpha\",\"height\",\"width\",\"y\",\"x\",\"label\"],\"data\":{\"chart_index\":[{\"city\":\"Rotterdam\"}],\"city\":[\"Rotterdam\"],\"color\":[\"#f22c40\"],\"fill_alpha\":[0.8],\"height\":[248.0],\"label\":[{\"city\":\"Rotterdam\"}],\"line_alpha\":[1.0],\"line_color\":[\"white\"],\"width\":[0.8],\"x\":[\"Rotterdam\"],\"y\":[124.0]}},\"id\":\"bebfb5be-8670-4a62-956e-c78cab250a41\",\"type\":\"ColumnDataSource\"},{\"attributes\":{\"label\":{\"value\":\"Berlin\"},\"renderers\":[{\"id\":\"9ae47d51-fd9d-4c5f-b17c-48971a8cccb1\",\"type\":\"GlyphRenderer\"}]},\"id\":\"fad52f1f-dc59-4028-a8d3-8163cd838c57\",\"type\":\"LegendItem\"},{\"attributes\":{\"callback\":null,\"end\":1326.15},\"id\":\"35349aa4-2ffb-4e16-ab17-955a8d25852e\",\"type\":\"Range1d\"},{\"attributes\":{\"label\":{\"value\":\"London\"},\"renderers\":[{\"id\":\"bfa7b170-1887-4b0f-b3d4-625e261b11c1\",\"type\":\"GlyphRenderer\"}]},\"id\":\"2e727f89-53b0-4547-92f0-0dd52856cbfb\",\"type\":\"LegendItem\"},{\"attributes\":{\"data_source\":{\"id\":\"c2374050-077b-4df6-a033-fe215568ed22\",\"type\":\"ColumnDataSource\"},\"glyph\":{\"id\":\"b2c7b422-0f43-46dc-ad23-52e84bcba339\",\"type\":\"Rect\"},\"hover_glyph\":null,\"nonselection_glyph\":null,\"selection_glyph\":null},\"id\":\"422d98a4-5d87-44c1-9dec-8d478bc2670b\",\"type\":\"GlyphRenderer\"},{\"attributes\":{},\"id\":\"4d8af3e7-aa39-497d-a260-414d54990584\",\"type\":\"BasicTicker\"},{\"attributes\":{\"data_source\":{\"id\":\"b72518e8-4009-41a7-bf1e-3aea2f558e85\",\"type\":\"ColumnDataSource\"},\"glyph\":{\"id\":\"3bb12320-d767-4238-a4ef-ad56bd993c7f\",\"type\":\"Rect\"},\"hover_glyph\":null,\"nonselection_glyph\":null,\"selection_glyph\":null},\"id\":\"3345fc32-22e8-4e85-9c29-c4acd0f883e9\",\"type\":\"GlyphRenderer\"},{\"attributes\":{\"active_drag\":\"auto\",\"active_scroll\":\"auto\",\"active_tap\":\"auto\",\"tools\":[{\"id\":\"8f0eb2ac-459c-4fee-8c38-d5d8df143c97\",\"type\":\"PanTool\"},{\"id\":\"04117d0c-a6de-4c0a-a112-379279008eba\",\"type\":\"WheelZoomTool\"},{\"id\":\"c3d25732-7f47-42bf-abbd-5feb157dc053\",\"type\":\"BoxZoomTool\"},{\"id\":\"4f210e96-b14a-4a39-8dbd-f4d538d381e4\",\"type\":\"SaveTool\"},{\"id\":\"7181b7f8-a6b2-40f5-a9ac-3289a4bd14e6\",\"type\":\"ResetTool\"},{\"id\":\"dec436c4-9bb8-4bf4-89f8-7a919e72b68c\",\"type\":\"HelpTool\"}]},\"id\":\"6eeadee6-688b-4181-9094-c310338525eb\",\"type\":\"Toolbar\"},{\"attributes\":{\"fill_alpha\":{\"field\":\"fill_alpha\"},\"fill_color\":{\"field\":\"color\"},\"height\":{\"field\":\"height\",\"units\":\"data\"},\"line_color\":{\"field\":\"line_color\"},\"width\":{\"field\":\"width\",\"units\":\"data\"},\"x\":{\"field\":\"x\"},\"y\":{\"field\":\"y\"}},\"id\":\"186bea84-929b-4466-9a01-169fbfb77384\",\"type\":\"Rect\"},{\"attributes\":{\"callback\":null,\"column_names\":[\"line_color\",\"line_alpha\",\"color\",\"fill_alpha\",\"height\",\"width\",\"y\",\"x\",\"label\"],\"data\":{\"chart_index\":[{\"city\":\"Seattle\"}],\"city\":[\"Seattle\"],\"color\":[\"#f22c40\"],\"fill_alpha\":[0.8],\"height\":[425.0],\"label\":[{\"city\":\"Seattle\"}],\"line_alpha\":[1.0],\"line_color\":[\"white\"],\"width\":[0.8],\"x\":[\"Seattle\"],\"y\":[212.5]}},\"id\":\"3f338678-6744-4d7f-996c-a2b87cbf1fd7\",\"type\":\"ColumnDataSource\"},{\"attributes\":{\"label\":{\"value\":\"Boston\"},\"renderers\":[{\"id\":\"f3aabe0e-c1e3-4a60-97e0-ca9092c3c4a5\",\"type\":\"GlyphRenderer\"}]},\"id\":\"10b64aca-6c09-411d-9883-d02b763e4537\",\"type\":\"LegendItem\"},{\"attributes\":{\"label\":{\"value\":\"No office location\"},\"renderers\":[{\"id\":\"9a65ea31-35f9-462c-b4b9-5894c64821e2\",\"type\":\"GlyphRenderer\"}]},\"id\":\"e94aa939-9b84-42c7-a681-475fb8b031d2\",\"type\":\"LegendItem\"},{\"attributes\":{\"fill_alpha\":{\"field\":\"fill_alpha\"},\"fill_color\":{\"field\":\"color\"},\"height\":{\"field\":\"height\",\"units\":\"data\"},\"line_color\":{\"field\":\"line_color\"},\"width\":{\"field\":\"width\",\"units\":\"data\"},\"x\":{\"field\":\"x\"},\"y\":{\"field\":\"y\"}},\"id\":\"706ad404-d390-41be-9648-64df372f8b2a\",\"type\":\"Rect\"},{\"attributes\":{\"fill_alpha\":{\"field\":\"fill_alpha\"},\"fill_color\":{\"field\":\"color\"},\"height\":{\"field\":\"height\",\"units\":\"data\"},\"line_color\":{\"field\":\"line_color\"},\"width\":{\"field\":\"width\",\"units\":\"data\"},\"x\":{\"field\":\"x\"},\"y\":{\"field\":\"y\"}},\"id\":\"3bb12320-d767-4238-a4ef-ad56bd993c7f\",\"type\":\"Rect\"},{\"attributes\":{\"items\":[{\"id\":\"fad52f1f-dc59-4028-a8d3-8163cd838c57\",\"type\":\"LegendItem\"},{\"id\":\"2e727f89-53b0-4547-92f0-0dd52856cbfb\",\"type\":\"LegendItem\"},{\"id\":\"9309cc83-5a95-4e87-a5e9-9d3708294f2e\",\"type\":\"LegendItem\"},{\"id\":\"d7d97145-1fa4-4b0e-bed1-5007fad86f6b\",\"type\":\"LegendItem\"},{\"id\":\"6b1a0565-f69d-4c26-a61f-5cc0801b5785\",\"type\":\"LegendItem\"},{\"id\":\"65a9641e-e444-4188-842b-a88d8466b08d\",\"type\":\"LegendItem\"},{\"id\":\"5cb79ee3-f55d-4bf5-9fcb-ce988c954422\",\"type\":\"LegendItem\"},{\"id\":\"afbfb43c-b986-4e89-8e99-1f4a2ddc8351\",\"type\":\"LegendItem\"},{\"id\":\"21cc82e4-9bf3-4546-ad9c-a52b5a9b6009\",\"type\":\"LegendItem\"},{\"id\":\"a9a4f6de-c891-4887-a130-9b46a91af216\",\"type\":\"LegendItem\"},{\"id\":\"e94aa939-9b84-42c7-a681-475fb8b031d2\",\"type\":\"LegendItem\"},{\"id\":\"6561e65c-05d2-499a-8f0c-99a36c74040b\",\"type\":\"LegendItem\"},{\"id\":\"3145b385-83fc-46cc-bdcc-0ecdff419349\",\"type\":\"LegendItem\"},{\"id\":\"5cba39fb-da6d-49cb-8d33-0be272ba8d68\",\"type\":\"LegendItem\"},{\"id\":\"10b64aca-6c09-411d-9883-d02b763e4537\",\"type\":\"LegendItem\"}],\"plot\":{\"id\":\"68364b66-eb20-4bf0-909b-cc7f4d6e9fde\",\"subtype\":\"Chart\",\"type\":\"Plot\"}},\"id\":\"022db16f-e5cd-4a2f-8474-8b0e28b0bfdc\",\"type\":\"Legend\"},{\"attributes\":{},\"id\":\"d1ee86ac-6f56-4633-8b2a-9a94bed8296d\",\"type\":\"CategoricalTicker\"},{\"attributes\":{\"fill_alpha\":{\"field\":\"fill_alpha\"},\"fill_color\":{\"field\":\"color\"},\"height\":{\"field\":\"height\",\"units\":\"data\"},\"line_color\":{\"field\":\"line_color\"},\"width\":{\"field\":\"width\",\"units\":\"data\"},\"x\":{\"field\":\"x\"},\"y\":{\"field\":\"y\"}},\"id\":\"d0662cae-8550-416c-bbad-8951bc329c06\",\"type\":\"Rect\"},{\"attributes\":{},\"id\":\"df93715d-fefc-43cf-a227-bfbe1fed4fca\",\"type\":\"ToolEvents\"},{\"attributes\":{\"data_source\":{\"id\":\"1117145c-928a-41c6-9ec8-e688634c8442\",\"type\":\"ColumnDataSource\"},\"glyph\":{\"id\":\"964da229-43f5-4979-b50d-89e5055c6b35\",\"type\":\"Rect\"},\"hover_glyph\":null,\"nonselection_glyph\":null,\"selection_glyph\":null},\"id\":\"9a65ea31-35f9-462c-b4b9-5894c64821e2\",\"type\":\"GlyphRenderer\"}],\"root_ids\":[\"68364b66-eb20-4bf0-909b-cc7f4d6e9fde\"]},\"title\":\"Bokeh Application\",\"version\":\"0.12.3\"}};\n",
       "            var render_items = [{\"docid\":\"7aad0e7d-bda7-457d-b121-c9d49b2a63a8\",\"elementid\":\"db4c2e9b-abf3-42e4-941f-382b7782eb25\",\"modelid\":\"68364b66-eb20-4bf0-909b-cc7f4d6e9fde\"}];\n",
       "            \n",
       "            Bokeh.embed.embed_items(docs_json, render_items);\n",
       "        });\n",
       "      },\n",
       "      function(Bokeh) {\n",
       "      }\n",
       "    ];\n",
       "  \n",
       "    function run_inline_js() {\n",
       "      \n",
       "      if ((window.Bokeh !== undefined) || (force === \"1\")) {\n",
       "        for (var i = 0; i < inline_js.length; i++) {\n",
       "          inline_js[i](window.Bokeh);\n",
       "        }if (force === \"1\") {\n",
       "          display_loaded();\n",
       "        }} else if (Date.now() < window._bokeh_timeout) {\n",
       "        setTimeout(run_inline_js, 100);\n",
       "      } else if (!window._bokeh_failed_load) {\n",
       "        console.log(\"Bokeh: BokehJS failed to load within specified timeout.\");\n",
       "        window._bokeh_failed_load = true;\n",
       "      } else if (!force) {\n",
       "        var cell = $(\"#db4c2e9b-abf3-42e4-941f-382b7782eb25\").parents('.cell').data().cell;\n",
       "        cell.output_area.append_execute_result(NB_LOAD_WARNING)\n",
       "      }\n",
       "  \n",
       "    }\n",
       "  \n",
       "    if (window._bokeh_is_loading === 0) {\n",
       "      console.log(\"Bokeh: BokehJS loaded, going straight to plotting\");\n",
       "      run_inline_js();\n",
       "    } else {\n",
       "      load_libs(js_urls, function() {\n",
       "        console.log(\"Bokeh: BokehJS plotting callback run at\", now());\n",
       "        run_inline_js();\n",
       "      });\n",
       "    }\n",
       "  }(this));\n",
       "</script>"
      ]
     },
     "metadata": {},
     "output_type": "display_data"
    }
   ],
   "source": [
    "from bokeh.charts import Bar, output_file, show\n",
    "from bokeh.sampledata.autompg import autompg as df\n",
    "from bokeh.io import output_notebook, show \n",
    "\n",
    "output_notebook()\n",
    "\n",
    "p = Bar(df_cities, values='count', title='Jobs posted by citites', legend='top_right', label=CatAttr(columns=['city'], sort=False),)\n",
    "\n",
    "#output_file(\"bar.html\")\n",
    "\n",
    "# Need to add different color for different cities and move the legend to top-right corner\n",
    "show(p)"
   ]
  },
  {
   "cell_type": "code",
   "execution_count": 185,
   "metadata": {
    "collapsed": false
   },
   "outputs": [
    {
     "name": "stderr",
     "output_type": "stream",
     "text": [
      "/usr/local/lib/python2.7/site-packages/matplotlib/tight_layout.py:222: UserWarning:\n",
      "\n",
      "tight_layout : falling back to Agg renderer\n",
      "\n"
     ]
    }
   ],
   "source": [
    "import numpy as np\n",
    "import seaborn as sns\n",
    "import matplotlib.pyplot as plt\n",
    "sns.set(style=\"white\", context=\"talk\")\n",
    "rs = np.random.RandomState(7)\n",
    "\n",
    "\n",
    "# Set up the matplotlib figure\n",
    "f, (ax1, ax2, ax3) = plt.subplots(3, 1, figsize=(8, 6), sharex=True)\n",
    "\n",
    "# Generate some sequential data\n",
    "x = np.array(list(\"ABCDEFGHI\"))\n",
    "y1 = np.arange(1, 10)\n",
    "sns.barplot(x, y1, palette=\"BuGn_d\", ax=ax1)\n",
    "ax1.set_ylabel(\"Sequential\")\n",
    "\n",
    "# Center the data to make it diverging\n",
    "y2 = y1 - 5\n",
    "sns.barplot(x, y2, palette=\"RdBu_r\", ax=ax2)\n",
    "ax2.set_ylabel(\"Diverging\")\n",
    "\n",
    "# Randomly reorder the data to make it qualitative\n",
    "y3 = rs.choice(y1, 9, replace=False)\n",
    "sns.barplot(x, y3, palette=\"Set3\", ax=ax3)\n",
    "ax3.set_ylabel(\"Qualitative\")\n",
    "\n",
    "# Finalize the plot\n",
    "sns.despine(bottom=True)\n",
    "plt.setp(f.axes, yticks=[])\n",
    "plt.tight_layout(h_pad=3)\n",
    "\n"
   ]
  },
  {
   "cell_type": "code",
   "execution_count": 163,
   "metadata": {
    "collapsed": false
   },
   "outputs": [],
   "source": [
    "top_countries = jobs.groupby(['country'])['jobid'].count().sort_values(ascending=False)\n",
    "df_countries = top_countries.to_frame('count').reset_index()"
   ]
  },
  {
   "cell_type": "markdown",
   "metadata": {},
   "source": [
    "## Top technologies for a given city (London, Amsterdam and San Francisco)\n"
   ]
  },
  {
   "cell_type": "code",
   "execution_count": 103,
   "metadata": {
    "collapsed": false
   },
   "outputs": [
    {
     "data": {
      "text/plain": [
       "city    tech               \n",
       "London  javascript             290\n",
       "        java                   273\n",
       "        python                 194\n",
       "        amazon-web-services    145\n",
       "        c#                     135\n",
       "Name: jobid, dtype: int64"
      ]
     },
     "execution_count": 103,
     "metadata": {},
     "output_type": "execute_result"
    }
   ],
   "source": [
    "# London top technologies \n",
    "london_tech = technologies[technologies.city == 'London'].groupby(['city', 'tech'])['jobid'].count().sort_values(ascending=False)\n",
    "london_tech.nlargest()"
   ]
  },
  {
   "cell_type": "code",
   "execution_count": 165,
   "metadata": {
    "collapsed": false
   },
   "outputs": [
    {
     "data": {
      "text/plain": [
       "city                tech               \n",
       "New York            javascript             385\n",
       "Berlin              java                   359\n",
       "                    javascript             329\n",
       "New York            python                 294\n",
       "London              javascript             290\n",
       "                    java                   273\n",
       "New York            java                   227\n",
       "San Francisco       python                 215\n",
       "                    javascript             209\n",
       "London              python                 194\n",
       "San Francisco       java                   176\n",
       "Berlin              php                    173\n",
       "Seattle             java                   165\n",
       "München             java                   158\n",
       "Berlin              mysql                  152\n",
       "                    python                 152\n",
       "London              amazon-web-services    145\n",
       "München             javascript             137\n",
       "Rotterdam           php                    135\n",
       "London              c#                     135\n",
       "Toronto             javascript             132\n",
       "                    java                   131\n",
       "New York            node.js                129\n",
       "Rotterdam           scrum                  128\n",
       "New York            linux                  125\n",
       "Berlin              angularjs              125\n",
       "Rotterdam           zend-framework         125\n",
       "                    tdd                    122\n",
       "                    unit-testing           122\n",
       "Amsterdam           java                   120\n",
       "                                          ... \n",
       "London              sql                     78\n",
       "Philadelphia        mobile                  77\n",
       "Bangkok             java                    77\n",
       "San Francisco       scala                   76\n",
       "                    c++                     76\n",
       "No office location  javascript              76\n",
       "Washington          javascript              75\n",
       "New York            postgresql              74\n",
       "London              mysql                   74\n",
       "Berlin              spring                  74\n",
       "Chicago             c#                      73\n",
       "Denver              video                   73\n",
       "Washington          java                    72\n",
       "Stockholm           java                    72\n",
       "San Francisco       node.js                 72\n",
       "                    reactjs                 71\n",
       "New York            sysadmin                71\n",
       "London              c++                     71\n",
       "New York            php                     70\n",
       "                    android                 70\n",
       "San Francisco       go                      69\n",
       "Hamburg             php                     68\n",
       "San Francisco       angularjs               68\n",
       "New York            reactjs                 67\n",
       "Seattle             python                  67\n",
       "Dublin              java                    66\n",
       "Philadelphia        java                    65\n",
       "Stockholm           javascript              65\n",
       "Berlin              scala                   64\n",
       "Seattle             c++                     63\n",
       "Name: jobid, dtype: int64"
      ]
     },
     "execution_count": 165,
     "metadata": {},
     "output_type": "execute_result"
    }
   ],
   "source": [
    "# Amsterdam top technologies \n",
    "amsterdam_tech = technologies[technologies.city == 'Amsterdam'].groupby(['city', 'tech'])['jobid'].count().sort_values(ascending=False)\n",
    "amsterdam_tech.nlargest(100)"
   ]
  },
  {
   "cell_type": "code",
   "execution_count": 96,
   "metadata": {
    "collapsed": false
   },
   "outputs": [
    {
     "data": {
      "text/plain": [
       "city    tech      \n",
       "Berlin  java          359\n",
       "        javascript    329\n",
       "        php           173\n",
       "        python        152\n",
       "        mysql         152\n",
       "        angularjs     125\n",
       "        sql           116\n",
       "        css           113\n",
       "        linux          97\n",
       "        html           97\n",
       "Name: jobid, dtype: int64"
      ]
     },
     "execution_count": 96,
     "metadata": {},
     "output_type": "execute_result"
    }
   ],
   "source": [
    "# Berlin \n",
    "berlin_tech = technologies[technologies.city == 'Berlin'].groupby(['city', 'tech'])['jobid'].count().sort_values(ascending=False)\n",
    "berlin_tech.nlargest(10)"
   ]
  },
  {
   "cell_type": "code",
   "execution_count": 97,
   "metadata": {
    "collapsed": false,
    "scrolled": true
   },
   "outputs": [
    {
     "data": {
      "text/plain": [
       "tech\n",
       "javascript             542\n",
       "java                   537\n",
       "python                 531\n",
       "c++                    282\n",
       "linux                  233\n",
       "amazon-web-services    212\n",
       "sql                    197\n",
       "angularjs              177\n",
       "c#                     166\n",
       "ruby-on-rails          165\n",
       "Name: jobid, dtype: int64"
      ]
     },
     "execution_count": 97,
     "metadata": {},
     "output_type": "execute_result"
    }
   ],
   "source": [
    "# Silicon Valley \n",
    "cal_tech = technologies[technologies.state == 'CA'].groupby('tech')['jobid'].count().sort_values(ascending=False)\n",
    "cal_tech.nlargest(10)"
   ]
  },
  {
   "cell_type": "code",
   "execution_count": 166,
   "metadata": {
    "collapsed": false
   },
   "outputs": [
    {
     "data": {
      "text/plain": [
       "city                tech               \n",
       "New York            javascript             385\n",
       "Berlin              java                   359\n",
       "                    javascript             329\n",
       "New York            python                 294\n",
       "London              javascript             290\n",
       "                    java                   273\n",
       "New York            java                   227\n",
       "San Francisco       python                 215\n",
       "                    javascript             209\n",
       "London              python                 194\n",
       "San Francisco       java                   176\n",
       "Berlin              php                    173\n",
       "Seattle             java                   165\n",
       "München             java                   158\n",
       "Berlin              mysql                  152\n",
       "                    python                 152\n",
       "London              amazon-web-services    145\n",
       "München             javascript             137\n",
       "Rotterdam           php                    135\n",
       "London              c#                     135\n",
       "Toronto             javascript             132\n",
       "                    java                   131\n",
       "New York            node.js                129\n",
       "Rotterdam           scrum                  128\n",
       "New York            linux                  125\n",
       "Berlin              angularjs              125\n",
       "Rotterdam           zend-framework         125\n",
       "                    tdd                    122\n",
       "                    unit-testing           122\n",
       "Amsterdam           java                   120\n",
       "                                          ... \n",
       "London              sql                     78\n",
       "Philadelphia        mobile                  77\n",
       "Bangkok             java                    77\n",
       "San Francisco       scala                   76\n",
       "                    c++                     76\n",
       "No office location  javascript              76\n",
       "Washington          javascript              75\n",
       "New York            postgresql              74\n",
       "London              mysql                   74\n",
       "Berlin              spring                  74\n",
       "Chicago             c#                      73\n",
       "Denver              video                   73\n",
       "Washington          java                    72\n",
       "Stockholm           java                    72\n",
       "San Francisco       node.js                 72\n",
       "                    reactjs                 71\n",
       "New York            sysadmin                71\n",
       "London              c++                     71\n",
       "New York            php                     70\n",
       "                    android                 70\n",
       "San Francisco       go                      69\n",
       "Hamburg             php                     68\n",
       "San Francisco       angularjs               68\n",
       "New York            reactjs                 67\n",
       "Seattle             python                  67\n",
       "Dublin              java                    66\n",
       "Philadelphia        java                    65\n",
       "Stockholm           javascript              65\n",
       "Berlin              scala                   64\n",
       "Seattle             c++                     63\n",
       "Name: jobid, dtype: int64"
      ]
     },
     "execution_count": 166,
     "metadata": {},
     "output_type": "execute_result"
    }
   ],
   "source": [
    "# Ordered view of what technologies are the most sought after in wich city \n",
    "all_tech = technologies.groupby(['city', 'tech'])['jobid'].count().sort_values(ascending=False)\n",
    "amsterdam_tech.nlargest(100)"
   ]
  },
  {
   "cell_type": "markdown",
   "metadata": {},
   "source": [
    "## Dumping out data to csv\n",
    "\n",
    "This is only need to find values for cleaning up and normalizing values "
   ]
  },
  {
   "cell_type": "code",
   "execution_count": 26,
   "metadata": {
    "collapsed": false
   },
   "outputs": [],
   "source": [
    "cities.to_frame('city').to_csv('../data/cities.csv', encoding = 'utf-8')\n",
    "countries.to_frame('countries').to_csv('../data/countries.csv', encoding = 'utf-8')"
   ]
  },
  {
   "cell_type": "markdown",
   "metadata": {
    "collapsed": true
   },
   "source": [
    "# Writing it to Excel\n"
   ]
  },
  {
   "cell_type": "code",
   "execution_count": 168,
   "metadata": {
    "collapsed": false
   },
   "outputs": [],
   "source": [
    "ew = pd.ExcelWriter('../data/stackjobs.xlsx',options={'encoding':'utf-8'})\n",
    "df_cities.to_excel(ew, 'City')\n",
    "df_countries.to_excel(ew, 'Country')\n",
    "ew.save()"
   ]
  },
  {
   "cell_type": "code",
   "execution_count": null,
   "metadata": {
    "collapsed": true
   },
   "outputs": [],
   "source": []
  }
 ],
 "metadata": {
  "kernelspec": {
   "display_name": "Python 2",
   "language": "python",
   "name": "python2"
  },
  "language_info": {
   "codemirror_mode": {
    "name": "ipython",
    "version": 2
   },
   "file_extension": ".py",
   "mimetype": "text/x-python",
   "name": "python",
   "nbconvert_exporter": "python",
   "pygments_lexer": "ipython2",
   "version": "2.7.10"
  }
 },
 "nbformat": 4,
 "nbformat_minor": 0
}
