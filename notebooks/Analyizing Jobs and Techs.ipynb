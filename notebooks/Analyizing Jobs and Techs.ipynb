{
 "cells": [
  {
   "cell_type": "markdown",
   "metadata": {},
   "source": [
    "# Analyizing Jobs\n",
    "\n",
    "This notebook will hold all analytics related code on this dataset. There are a list of questions I would like to answer and provide meaningfull visualization of the answers. Some questions are: \n",
    "\n",
    " - How many jobs are posted last month, last 3 months for big tech hubs like London, Amsterdam, Auston or San Francisco? \n",
    " - Same for countries\n",
    " - What are the best paying jobs for a given city? \n",
    " - What are the best paying technologies for a given city?\n",
    " - What are the best paying technologies globally? \n",
    " "
   ]
  },
  {
   "cell_type": "code",
   "execution_count": 209,
   "metadata": {
    "collapsed": false
   },
   "outputs": [
    {
     "data": {
      "text/html": [
       "\n",
       "    <div class=\"bk-root\">\n",
       "        <a href=\"http://bokeh.pydata.org\" target=\"_blank\" class=\"bk-logo bk-logo-small bk-logo-notebook\"></a>\n",
       "        <span id=\"4d3daed1-15cb-4966-bb1b-4af2e2a24514\">Loading BokehJS ...</span>\n",
       "    </div>"
      ]
     },
     "metadata": {},
     "output_type": "display_data"
    },
    {
     "data": {
      "application/javascript": [
       "\n",
       "(function(global) {\n",
       "  function now() {\n",
       "    return new Date();\n",
       "  }\n",
       "\n",
       "  var force = \"1\";\n",
       "\n",
       "  if (typeof (window._bokeh_onload_callbacks) === \"undefined\" || force !== \"\") {\n",
       "    window._bokeh_onload_callbacks = [];\n",
       "    window._bokeh_is_loading = undefined;\n",
       "  }\n",
       "\n",
       "\n",
       "  \n",
       "  if (typeof (window._bokeh_timeout) === \"undefined\" || force !== \"\") {\n",
       "    window._bokeh_timeout = Date.now() + 5000;\n",
       "    window._bokeh_failed_load = false;\n",
       "  }\n",
       "\n",
       "  var NB_LOAD_WARNING = {'data': {'text/html':\n",
       "     \"<div style='background-color: #fdd'>\\n\"+\n",
       "     \"<p>\\n\"+\n",
       "     \"BokehJS does not appear to have successfully loaded. If loading BokehJS from CDN, this \\n\"+\n",
       "     \"may be due to a slow or bad network connection. Possible fixes:\\n\"+\n",
       "     \"</p>\\n\"+\n",
       "     \"<ul>\\n\"+\n",
       "     \"<li>re-rerun `output_notebook()` to attempt to load from CDN again, or</li>\\n\"+\n",
       "     \"<li>use INLINE resources instead, as so:</li>\\n\"+\n",
       "     \"</ul>\\n\"+\n",
       "     \"<code>\\n\"+\n",
       "     \"from bokeh.resources import INLINE\\n\"+\n",
       "     \"output_notebook(resources=INLINE)\\n\"+\n",
       "     \"</code>\\n\"+\n",
       "     \"</div>\"}};\n",
       "\n",
       "  function display_loaded() {\n",
       "    if (window.Bokeh !== undefined) {\n",
       "      Bokeh.$(\"#4d3daed1-15cb-4966-bb1b-4af2e2a24514\").text(\"BokehJS successfully loaded.\");\n",
       "    } else if (Date.now() < window._bokeh_timeout) {\n",
       "      setTimeout(display_loaded, 100)\n",
       "    }\n",
       "  }\n",
       "\n",
       "  function run_callbacks() {\n",
       "    window._bokeh_onload_callbacks.forEach(function(callback) { callback() });\n",
       "    delete window._bokeh_onload_callbacks\n",
       "    console.info(\"Bokeh: all callbacks have finished\");\n",
       "  }\n",
       "\n",
       "  function load_libs(js_urls, callback) {\n",
       "    window._bokeh_onload_callbacks.push(callback);\n",
       "    if (window._bokeh_is_loading > 0) {\n",
       "      console.log(\"Bokeh: BokehJS is being loaded, scheduling callback at\", now());\n",
       "      return null;\n",
       "    }\n",
       "    if (js_urls == null || js_urls.length === 0) {\n",
       "      run_callbacks();\n",
       "      return null;\n",
       "    }\n",
       "    console.log(\"Bokeh: BokehJS not loaded, scheduling load and callback at\", now());\n",
       "    window._bokeh_is_loading = js_urls.length;\n",
       "    for (var i = 0; i < js_urls.length; i++) {\n",
       "      var url = js_urls[i];\n",
       "      var s = document.createElement('script');\n",
       "      s.src = url;\n",
       "      s.async = false;\n",
       "      s.onreadystatechange = s.onload = function() {\n",
       "        window._bokeh_is_loading--;\n",
       "        if (window._bokeh_is_loading === 0) {\n",
       "          console.log(\"Bokeh: all BokehJS libraries loaded\");\n",
       "          run_callbacks()\n",
       "        }\n",
       "      };\n",
       "      s.onerror = function() {\n",
       "        console.warn(\"failed to load library \" + url);\n",
       "      };\n",
       "      console.log(\"Bokeh: injecting script tag for BokehJS library: \", url);\n",
       "      document.getElementsByTagName(\"head\")[0].appendChild(s);\n",
       "    }\n",
       "  };var element = document.getElementById(\"4d3daed1-15cb-4966-bb1b-4af2e2a24514\");\n",
       "  if (element == null) {\n",
       "    console.log(\"Bokeh: ERROR: autoload.js configured with elementid '4d3daed1-15cb-4966-bb1b-4af2e2a24514' but no matching script tag was found. \")\n",
       "    return false;\n",
       "  }\n",
       "\n",
       "  var js_urls = ['https://cdn.pydata.org/bokeh/release/bokeh-0.12.3.min.js', 'https://cdn.pydata.org/bokeh/release/bokeh-widgets-0.12.3.min.js'];\n",
       "\n",
       "  var inline_js = [\n",
       "    function(Bokeh) {\n",
       "      Bokeh.set_log_level(\"info\");\n",
       "    },\n",
       "    \n",
       "    function(Bokeh) {\n",
       "      \n",
       "      Bokeh.$(\"#4d3daed1-15cb-4966-bb1b-4af2e2a24514\").text(\"BokehJS is loading...\");\n",
       "    },\n",
       "    function(Bokeh) {\n",
       "      console.log(\"Bokeh: injecting CSS: https://cdn.pydata.org/bokeh/release/bokeh-0.12.3.min.css\");\n",
       "      Bokeh.embed.inject_css(\"https://cdn.pydata.org/bokeh/release/bokeh-0.12.3.min.css\");\n",
       "      console.log(\"Bokeh: injecting CSS: https://cdn.pydata.org/bokeh/release/bokeh-widgets-0.12.3.min.css\");\n",
       "      Bokeh.embed.inject_css(\"https://cdn.pydata.org/bokeh/release/bokeh-widgets-0.12.3.min.css\");\n",
       "    }\n",
       "  ];\n",
       "\n",
       "  function run_inline_js() {\n",
       "    \n",
       "    if ((window.Bokeh !== undefined) || (force === \"1\")) {\n",
       "      for (var i = 0; i < inline_js.length; i++) {\n",
       "        inline_js[i](window.Bokeh);\n",
       "      }if (force === \"1\") {\n",
       "        display_loaded();\n",
       "      }} else if (Date.now() < window._bokeh_timeout) {\n",
       "      setTimeout(run_inline_js, 100);\n",
       "    } else if (!window._bokeh_failed_load) {\n",
       "      console.log(\"Bokeh: BokehJS failed to load within specified timeout.\");\n",
       "      window._bokeh_failed_load = true;\n",
       "    } else if (!force) {\n",
       "      var cell = $(\"#4d3daed1-15cb-4966-bb1b-4af2e2a24514\").parents('.cell').data().cell;\n",
       "      cell.output_area.append_execute_result(NB_LOAD_WARNING)\n",
       "    }\n",
       "\n",
       "  }\n",
       "\n",
       "  if (window._bokeh_is_loading === 0) {\n",
       "    console.log(\"Bokeh: BokehJS loaded, going straight to plotting\");\n",
       "    run_inline_js();\n",
       "  } else {\n",
       "    load_libs(js_urls, function() {\n",
       "      console.log(\"Bokeh: BokehJS plotting callback run at\", now());\n",
       "      run_inline_js();\n",
       "    });\n",
       "  }\n",
       "}(this));"
      ]
     },
     "metadata": {},
     "output_type": "display_data"
    }
   ],
   "source": [
    "import pandas as pd \n",
    "import numpy as np\n",
    "import matplotlib.pyplot as plt\n",
    "from unidecode import unidecode\n",
    "import time \n",
    "\n",
    "from bokeh.charts import Bar, output_file, show\n",
    "from bokeh.sampledata.autompg import autompg as df\n",
    "from bokeh.io import output_notebook, show \n",
    "\n",
    "output_notebook()\n",
    "\n",
    "jobs = pd.read_csv('../data/stackoverflow_jobs_enhanced.csv', thousands=',')\n",
    "technologies = pd.read_csv('../data/technologies.csv')\n",
    "\n",
    "# this is needed for excel export \n",
    "jobs.country = jobs.country.astype(str)\n",
    "jobs.city = jobs.city.astype(str)\n",
    "\n",
    "jobs['city']=jobs['city'].apply( lambda x:  unidecode(unicode(x, encoding = \"utf-8\")))  \n",
    "jobs['country']=jobs['country'].apply( lambda x:  unidecode(unicode(x, encoding = \"utf-8\")))"
   ]
  },
  {
   "cell_type": "markdown",
   "metadata": {},
   "source": [
    "## Top cities and countries posting jobs "
   ]
  },
  {
   "cell_type": "code",
   "execution_count": 210,
   "metadata": {
    "collapsed": false
   },
   "outputs": [],
   "source": [
    "top_cities = jobs.groupby(['city'])['jobid'].count().sort_values(ascending=False)\n",
    "top_cities = top_cities.nlargest(15)\n",
    "\n",
    "# create a data frame out of the series. \n",
    "# found this trick at stackoverflow: \n",
    "# http://stackoverflow.com/questions/10373660/converting-a-pandas-groupby-object-to-dataframe\n",
    "df_cities = pd.DataFrame({'count' : top_cities}).reset_index()"
   ]
  },
  {
   "cell_type": "code",
   "execution_count": 211,
   "metadata": {
    "collapsed": false
   },
   "outputs": [
    {
     "data": {
      "text/html": [
       "\n",
       "\n",
       "    <div class=\"bk-root\">\n",
       "        <div class=\"plotdiv\" id=\"3943a802-e519-4823-a8f8-a33d4a63b622\"></div>\n",
       "    </div>\n",
       "<script type=\"text/javascript\">\n",
       "  \n",
       "  (function(global) {\n",
       "    function now() {\n",
       "      return new Date();\n",
       "    }\n",
       "  \n",
       "    var force = \"\";\n",
       "  \n",
       "    if (typeof (window._bokeh_onload_callbacks) === \"undefined\" || force !== \"\") {\n",
       "      window._bokeh_onload_callbacks = [];\n",
       "      window._bokeh_is_loading = undefined;\n",
       "    }\n",
       "  \n",
       "  \n",
       "    \n",
       "    if (typeof (window._bokeh_timeout) === \"undefined\" || force !== \"\") {\n",
       "      window._bokeh_timeout = Date.now() + 0;\n",
       "      window._bokeh_failed_load = false;\n",
       "    }\n",
       "  \n",
       "    var NB_LOAD_WARNING = {'data': {'text/html':\n",
       "       \"<div style='background-color: #fdd'>\\n\"+\n",
       "       \"<p>\\n\"+\n",
       "       \"BokehJS does not appear to have successfully loaded. If loading BokehJS from CDN, this \\n\"+\n",
       "       \"may be due to a slow or bad network connection. Possible fixes:\\n\"+\n",
       "       \"</p>\\n\"+\n",
       "       \"<ul>\\n\"+\n",
       "       \"<li>re-rerun `output_notebook()` to attempt to load from CDN again, or</li>\\n\"+\n",
       "       \"<li>use INLINE resources instead, as so:</li>\\n\"+\n",
       "       \"</ul>\\n\"+\n",
       "       \"<code>\\n\"+\n",
       "       \"from bokeh.resources import INLINE\\n\"+\n",
       "       \"output_notebook(resources=INLINE)\\n\"+\n",
       "       \"</code>\\n\"+\n",
       "       \"</div>\"}};\n",
       "  \n",
       "    function display_loaded() {\n",
       "      if (window.Bokeh !== undefined) {\n",
       "        Bokeh.$(\"#3943a802-e519-4823-a8f8-a33d4a63b622\").text(\"BokehJS successfully loaded.\");\n",
       "      } else if (Date.now() < window._bokeh_timeout) {\n",
       "        setTimeout(display_loaded, 100)\n",
       "      }\n",
       "    }\n",
       "  \n",
       "    function run_callbacks() {\n",
       "      window._bokeh_onload_callbacks.forEach(function(callback) { callback() });\n",
       "      delete window._bokeh_onload_callbacks\n",
       "      console.info(\"Bokeh: all callbacks have finished\");\n",
       "    }\n",
       "  \n",
       "    function load_libs(js_urls, callback) {\n",
       "      window._bokeh_onload_callbacks.push(callback);\n",
       "      if (window._bokeh_is_loading > 0) {\n",
       "        console.log(\"Bokeh: BokehJS is being loaded, scheduling callback at\", now());\n",
       "        return null;\n",
       "      }\n",
       "      if (js_urls == null || js_urls.length === 0) {\n",
       "        run_callbacks();\n",
       "        return null;\n",
       "      }\n",
       "      console.log(\"Bokeh: BokehJS not loaded, scheduling load and callback at\", now());\n",
       "      window._bokeh_is_loading = js_urls.length;\n",
       "      for (var i = 0; i < js_urls.length; i++) {\n",
       "        var url = js_urls[i];\n",
       "        var s = document.createElement('script');\n",
       "        s.src = url;\n",
       "        s.async = false;\n",
       "        s.onreadystatechange = s.onload = function() {\n",
       "          window._bokeh_is_loading--;\n",
       "          if (window._bokeh_is_loading === 0) {\n",
       "            console.log(\"Bokeh: all BokehJS libraries loaded\");\n",
       "            run_callbacks()\n",
       "          }\n",
       "        };\n",
       "        s.onerror = function() {\n",
       "          console.warn(\"failed to load library \" + url);\n",
       "        };\n",
       "        console.log(\"Bokeh: injecting script tag for BokehJS library: \", url);\n",
       "        document.getElementsByTagName(\"head\")[0].appendChild(s);\n",
       "      }\n",
       "    };var element = document.getElementById(\"3943a802-e519-4823-a8f8-a33d4a63b622\");\n",
       "    if (element == null) {\n",
       "      console.log(\"Bokeh: ERROR: autoload.js configured with elementid '3943a802-e519-4823-a8f8-a33d4a63b622' but no matching script tag was found. \")\n",
       "      return false;\n",
       "    }\n",
       "  \n",
       "    var js_urls = [];\n",
       "  \n",
       "    var inline_js = [\n",
       "      function(Bokeh) {\n",
       "        Bokeh.$(function() {\n",
       "            var docs_json = {\"af94d484-38ba-4077-8f2a-367b4d6bb1a7\":{\"roots\":{\"references\":[{\"attributes\":{\"data_source\":{\"id\":\"7779a988-be71-4cc7-a058-719e68b3ee75\",\"type\":\"ColumnDataSource\"},\"glyph\":{\"id\":\"7fbf6aeb-0c62-4e2f-b3c0-93adb385a006\",\"type\":\"Rect\"},\"hover_glyph\":null,\"nonselection_glyph\":null,\"selection_glyph\":null},\"id\":\"75941634-83db-4065-a6df-931844b8ee8a\",\"type\":\"GlyphRenderer\"},{\"attributes\":{\"fill_alpha\":{\"field\":\"fill_alpha\"},\"fill_color\":{\"field\":\"color\"},\"height\":{\"field\":\"height\",\"units\":\"data\"},\"line_color\":{\"field\":\"line_color\"},\"width\":{\"field\":\"width\",\"units\":\"data\"},\"x\":{\"field\":\"x\"},\"y\":{\"field\":\"y\"}},\"id\":\"31d0f8f1-53be-42f3-b451-b3f5f5cfddba\",\"type\":\"Rect\"},{\"attributes\":{\"fill_alpha\":{\"field\":\"fill_alpha\"},\"fill_color\":{\"field\":\"color\"},\"height\":{\"field\":\"height\",\"units\":\"data\"},\"line_color\":{\"field\":\"line_color\"},\"width\":{\"field\":\"width\",\"units\":\"data\"},\"x\":{\"field\":\"x\"},\"y\":{\"field\":\"y\"}},\"id\":\"ddee45ed-9852-4ae0-bd32-174c6d6dcf04\",\"type\":\"Rect\"},{\"attributes\":{\"label\":{\"value\":\"Chicago\"},\"renderers\":[{\"id\":\"cbca5ca6-3210-46ae-9e3a-59ce7bad4fd7\",\"type\":\"GlyphRenderer\"}]},\"id\":\"47e9ab84-47d4-4005-8d59-def169f88062\",\"type\":\"LegendItem\"},{\"attributes\":{\"callback\":null,\"column_names\":[\"line_color\",\"line_alpha\",\"color\",\"fill_alpha\",\"height\",\"width\",\"y\",\"x\",\"label\"],\"data\":{\"chart_index\":[{\"city\":\"Munchen\"}],\"city\":[\"Munchen\"],\"color\":[\"#f22c40\"],\"fill_alpha\":[0.8],\"height\":[513.0],\"label\":[{\"city\":\"Munchen\"}],\"line_alpha\":[1.0],\"line_color\":[\"white\"],\"width\":[0.8],\"x\":[\"Munchen\"],\"y\":[256.5]}},\"id\":\"b182d966-2641-4ff9-82d3-bed92ed17f37\",\"type\":\"ColumnDataSource\"},{\"attributes\":{\"plot\":{\"id\":\"c02742c5-f328-445d-bb21-db776555e12b\",\"subtype\":\"Chart\",\"type\":\"Plot\"}},\"id\":\"91bc0343-7ede-4d94-a6f1-11313f7c3081\",\"type\":\"ResetTool\"},{\"attributes\":{\"callback\":null,\"column_names\":[\"line_color\",\"line_alpha\",\"color\",\"fill_alpha\",\"height\",\"width\",\"y\",\"x\",\"label\"],\"data\":{\"chart_index\":[{\"city\":\"Philadelphia\"}],\"city\":[\"Philadelphia\"],\"color\":[\"#f22c40\"],\"fill_alpha\":[0.8],\"height\":[373.0],\"label\":[{\"city\":\"Philadelphia\"}],\"line_alpha\":[1.0],\"line_color\":[\"white\"],\"width\":[0.8],\"x\":[\"Philadelphia\"],\"y\":[186.5]}},\"id\":\"e9ae3ea8-6fb0-47e4-8db9-a7afb72b0705\",\"type\":\"ColumnDataSource\"},{\"attributes\":{\"data_source\":{\"id\":\"babe770a-06f0-4537-ab0b-96a4d6cd98f6\",\"type\":\"ColumnDataSource\"},\"glyph\":{\"id\":\"e9b64153-e43d-4830-b246-ba0a24debbde\",\"type\":\"Rect\"},\"hover_glyph\":null,\"nonselection_glyph\":null,\"selection_glyph\":null},\"id\":\"05f9ad1b-ee40-4a4b-b53a-9e10c27d8d7b\",\"type\":\"GlyphRenderer\"},{\"attributes\":{\"callback\":null,\"column_names\":[\"line_color\",\"line_alpha\",\"color\",\"fill_alpha\",\"height\",\"width\",\"y\",\"x\",\"label\"],\"data\":{\"chart_index\":[{\"city\":\"Seattle\"}],\"city\":[\"Seattle\"],\"color\":[\"#f22c40\"],\"fill_alpha\":[0.8],\"height\":[425.0],\"label\":[{\"city\":\"Seattle\"}],\"line_alpha\":[1.0],\"line_color\":[\"white\"],\"width\":[0.8],\"x\":[\"Seattle\"],\"y\":[212.5]}},\"id\":\"a2252129-58e2-4d85-aa55-59e930b615a0\",\"type\":\"ColumnDataSource\"},{\"attributes\":{\"data_source\":{\"id\":\"426d9fe9-f708-4eea-a644-3258329ffbd4\",\"type\":\"ColumnDataSource\"},\"glyph\":{\"id\":\"76fb4c8d-7d26-4333-bd30-a1a1e515d299\",\"type\":\"Rect\"},\"hover_glyph\":null,\"nonselection_glyph\":null,\"selection_glyph\":null},\"id\":\"158622c5-5263-4e2f-a1f2-50d36802978a\",\"type\":\"GlyphRenderer\"},{\"attributes\":{\"callback\":null,\"column_names\":[\"line_color\",\"line_alpha\",\"color\",\"fill_alpha\",\"height\",\"width\",\"y\",\"x\",\"label\"],\"data\":{\"chart_index\":[{\"city\":\"New York\"}],\"city\":[\"New York\"],\"color\":[\"#f22c40\"],\"fill_alpha\":[0.8],\"height\":[1167.0],\"label\":[{\"city\":\"New York\"}],\"line_alpha\":[1.0],\"line_color\":[\"white\"],\"width\":[0.8],\"x\":[\"New York\"],\"y\":[583.5]}},\"id\":\"78d2af6d-4fe7-4fe6-b180-35af071160db\",\"type\":\"ColumnDataSource\"},{\"attributes\":{\"data_source\":{\"id\":\"f4dc2468-9372-427a-849e-9a48d5c16636\",\"type\":\"ColumnDataSource\"},\"glyph\":{\"id\":\"ddee45ed-9852-4ae0-bd32-174c6d6dcf04\",\"type\":\"Rect\"},\"hover_glyph\":null,\"nonselection_glyph\":null,\"selection_glyph\":null},\"id\":\"175e78bb-8fd4-450f-abcb-8205fc835292\",\"type\":\"GlyphRenderer\"},{\"attributes\":{\"callback\":null,\"column_names\":[\"line_color\",\"line_alpha\",\"color\",\"fill_alpha\",\"height\",\"width\",\"y\",\"x\",\"label\"],\"data\":{\"chart_index\":[{\"city\":\"San Francisco\"}],\"city\":[\"San Francisco\"],\"color\":[\"#f22c40\"],\"fill_alpha\":[0.8],\"height\":[813.0],\"label\":[{\"city\":\"San Francisco\"}],\"line_alpha\":[1.0],\"line_color\":[\"white\"],\"width\":[0.8],\"x\":[\"San Francisco\"],\"y\":[406.5]}},\"id\":\"babe770a-06f0-4537-ab0b-96a4d6cd98f6\",\"type\":\"ColumnDataSource\"},{\"attributes\":{\"data_source\":{\"id\":\"78d2af6d-4fe7-4fe6-b180-35af071160db\",\"type\":\"ColumnDataSource\"},\"glyph\":{\"id\":\"0267b522-d4e2-44ff-b858-3619c8b69258\",\"type\":\"Rect\"},\"hover_glyph\":null,\"nonselection_glyph\":null,\"selection_glyph\":null},\"id\":\"e6ac7123-fa30-4382-a967-0049fac9eed0\",\"type\":\"GlyphRenderer\"},{\"attributes\":{},\"id\":\"f8a32919-5895-454d-b732-5dd7cdec721e\",\"type\":\"CategoricalTicker\"},{\"attributes\":{\"axis_label\":\"Sum( Count )\",\"formatter\":{\"id\":\"fcce8a29-f34b-40cc-b14d-36a88a2cacf2\",\"type\":\"BasicTickFormatter\"},\"plot\":{\"id\":\"c02742c5-f328-445d-bb21-db776555e12b\",\"subtype\":\"Chart\",\"type\":\"Plot\"},\"ticker\":{\"id\":\"409ccb2c-c400-4e65-b466-c9668277bfa9\",\"type\":\"BasicTicker\"}},\"id\":\"b635a539-0001-4e84-ae7d-8ccae0c58c86\",\"type\":\"LinearAxis\"},{\"attributes\":{\"callback\":null,\"column_names\":[\"line_color\",\"line_alpha\",\"color\",\"fill_alpha\",\"height\",\"width\",\"y\",\"x\",\"label\"],\"data\":{\"chart_index\":[{\"city\":\"Chicago\"}],\"city\":[\"Chicago\"],\"color\":[\"#f22c40\"],\"fill_alpha\":[0.8],\"height\":[350.0],\"label\":[{\"city\":\"Chicago\"}],\"line_alpha\":[1.0],\"line_color\":[\"white\"],\"width\":[0.8],\"x\":[\"Chicago\"],\"y\":[175.0]}},\"id\":\"c881e666-9848-481c-b6d6-e7a5a7c49249\",\"type\":\"ColumnDataSource\"},{\"attributes\":{\"data_source\":{\"id\":\"c762fb84-f64e-4d77-9985-1d65e6df130b\",\"type\":\"ColumnDataSource\"},\"glyph\":{\"id\":\"2a318473-873a-4ea4-a2c9-cad699fd0004\",\"type\":\"Rect\"},\"hover_glyph\":null,\"nonselection_glyph\":null,\"selection_glyph\":null},\"id\":\"a1ff07ec-7b3b-44af-95b8-829a404aa23b\",\"type\":\"GlyphRenderer\"},{\"attributes\":{\"data_source\":{\"id\":\"6912b265-e814-419d-9800-07fb7f2a8a8d\",\"type\":\"ColumnDataSource\"},\"glyph\":{\"id\":\"717fedb7-9e3e-4a43-9911-b492d54ea3e7\",\"type\":\"Rect\"},\"hover_glyph\":null,\"nonselection_glyph\":null,\"selection_glyph\":null},\"id\":\"f7f2bbe4-0c2c-471b-a177-cf3cdabd1e14\",\"type\":\"GlyphRenderer\"},{\"attributes\":{\"fill_alpha\":{\"field\":\"fill_alpha\"},\"fill_color\":{\"field\":\"color\"},\"height\":{\"field\":\"height\",\"units\":\"data\"},\"line_color\":{\"field\":\"line_color\"},\"width\":{\"field\":\"width\",\"units\":\"data\"},\"x\":{\"field\":\"x\"},\"y\":{\"field\":\"y\"}},\"id\":\"7c90c8b3-69e1-4347-87e6-f9715af571e1\",\"type\":\"Rect\"},{\"attributes\":{\"fill_alpha\":{\"field\":\"fill_alpha\"},\"fill_color\":{\"field\":\"color\"},\"height\":{\"field\":\"height\",\"units\":\"data\"},\"line_color\":{\"field\":\"line_color\"},\"width\":{\"field\":\"width\",\"units\":\"data\"},\"x\":{\"field\":\"x\"},\"y\":{\"field\":\"y\"}},\"id\":\"127ae986-e8f2-425c-a05f-6f86547fb1aa\",\"type\":\"Rect\"},{\"attributes\":{\"data_source\":{\"id\":\"c881e666-9848-481c-b6d6-e7a5a7c49249\",\"type\":\"ColumnDataSource\"},\"glyph\":{\"id\":\"8d2ef59b-d9ff-440e-bf0f-5b4e2a63d453\",\"type\":\"Rect\"},\"hover_glyph\":null,\"nonselection_glyph\":null,\"selection_glyph\":null},\"id\":\"cbca5ca6-3210-46ae-9e3a-59ce7bad4fd7\",\"type\":\"GlyphRenderer\"},{\"attributes\":{\"fill_alpha\":{\"field\":\"fill_alpha\"},\"fill_color\":{\"field\":\"color\"},\"height\":{\"field\":\"height\",\"units\":\"data\"},\"line_color\":{\"field\":\"line_color\"},\"width\":{\"field\":\"width\",\"units\":\"data\"},\"x\":{\"field\":\"x\"},\"y\":{\"field\":\"y\"}},\"id\":\"e9b64153-e43d-4830-b246-ba0a24debbde\",\"type\":\"Rect\"},{\"attributes\":{\"fill_alpha\":{\"field\":\"fill_alpha\"},\"fill_color\":{\"field\":\"color\"},\"height\":{\"field\":\"height\",\"units\":\"data\"},\"line_color\":{\"field\":\"line_color\"},\"width\":{\"field\":\"width\",\"units\":\"data\"},\"x\":{\"field\":\"x\"},\"y\":{\"field\":\"y\"}},\"id\":\"717fedb7-9e3e-4a43-9911-b492d54ea3e7\",\"type\":\"Rect\"},{\"attributes\":{\"axis_label\":\"City\",\"formatter\":{\"id\":\"66547df6-d118-4901-8edd-1884c42dd18d\",\"type\":\"CategoricalTickFormatter\"},\"major_label_orientation\":0.7853981633974483,\"plot\":{\"id\":\"c02742c5-f328-445d-bb21-db776555e12b\",\"subtype\":\"Chart\",\"type\":\"Plot\"},\"ticker\":{\"id\":\"f8a32919-5895-454d-b732-5dd7cdec721e\",\"type\":\"CategoricalTicker\"}},\"id\":\"fb4f2489-09df-4487-9acf-7468e0eb74f9\",\"type\":\"CategoricalAxis\"},{\"attributes\":{\"data_source\":{\"id\":\"e9ae3ea8-6fb0-47e4-8db9-a7afb72b0705\",\"type\":\"ColumnDataSource\"},\"glyph\":{\"id\":\"7c90c8b3-69e1-4347-87e6-f9715af571e1\",\"type\":\"Rect\"},\"hover_glyph\":null,\"nonselection_glyph\":null,\"selection_glyph\":null},\"id\":\"75fca452-03f9-49e6-97dd-9838e7c61f3e\",\"type\":\"GlyphRenderer\"},{\"attributes\":{\"plot\":{\"id\":\"c02742c5-f328-445d-bb21-db776555e12b\",\"subtype\":\"Chart\",\"type\":\"Plot\"}},\"id\":\"4b8d6af6-a279-44e4-8113-ed8410e5dfa5\",\"type\":\"SaveTool\"},{\"attributes\":{},\"id\":\"66547df6-d118-4901-8edd-1884c42dd18d\",\"type\":\"CategoricalTickFormatter\"},{\"attributes\":{\"fill_alpha\":{\"field\":\"fill_alpha\"},\"fill_color\":{\"field\":\"color\"},\"height\":{\"field\":\"height\",\"units\":\"data\"},\"line_color\":{\"field\":\"line_color\"},\"width\":{\"field\":\"width\",\"units\":\"data\"},\"x\":{\"field\":\"x\"},\"y\":{\"field\":\"y\"}},\"id\":\"5e3c481c-56a1-4f29-9829-069cf44bcd89\",\"type\":\"Rect\"},{\"attributes\":{\"plot\":{\"id\":\"c02742c5-f328-445d-bb21-db776555e12b\",\"subtype\":\"Chart\",\"type\":\"Plot\"}},\"id\":\"beb5bd5e-e175-4c24-9a0e-eb3b0b67d860\",\"type\":\"PanTool\"},{\"attributes\":{\"label\":{\"value\":\"Munchen\"},\"renderers\":[{\"id\":\"a3567e5e-ee7a-4bc2-84d9-1cd3fba1cd5a\",\"type\":\"GlyphRenderer\"}]},\"id\":\"b397f5b5-a625-48e4-b658-5fd6e400499e\",\"type\":\"LegendItem\"},{\"attributes\":{\"fill_alpha\":{\"field\":\"fill_alpha\"},\"fill_color\":{\"field\":\"color\"},\"height\":{\"field\":\"height\",\"units\":\"data\"},\"line_color\":{\"field\":\"line_color\"},\"width\":{\"field\":\"width\",\"units\":\"data\"},\"x\":{\"field\":\"x\"},\"y\":{\"field\":\"y\"}},\"id\":\"2a318473-873a-4ea4-a2c9-cad699fd0004\",\"type\":\"Rect\"},{\"attributes\":{},\"id\":\"fcce8a29-f34b-40cc-b14d-36a88a2cacf2\",\"type\":\"BasicTickFormatter\"},{\"attributes\":{\"data_source\":{\"id\":\"b914e8c9-7cf4-4e1b-9046-352aa40d3c1b\",\"type\":\"ColumnDataSource\"},\"glyph\":{\"id\":\"1d1eaae1-f667-4d38-b301-15b8054d2e92\",\"type\":\"Rect\"},\"hover_glyph\":null,\"nonselection_glyph\":null,\"selection_glyph\":null},\"id\":\"b63adf0b-2a85-4b91-988a-38b83ad542b4\",\"type\":\"GlyphRenderer\"},{\"attributes\":{\"label\":{\"value\":\"Philadelphia\"},\"renderers\":[{\"id\":\"75fca452-03f9-49e6-97dd-9838e7c61f3e\",\"type\":\"GlyphRenderer\"}]},\"id\":\"86a2f144-0fe0-41ea-b759-c4bcec976f7c\",\"type\":\"LegendItem\"},{\"attributes\":{\"overlay\":{\"id\":\"0652ddb0-d7c8-4429-a348-7cfa3abe9ac1\",\"type\":\"BoxAnnotation\"},\"plot\":{\"id\":\"c02742c5-f328-445d-bb21-db776555e12b\",\"subtype\":\"Chart\",\"type\":\"Plot\"}},\"id\":\"cf15b0d5-74b9-4479-8221-46d17d3e7f68\",\"type\":\"BoxZoomTool\"},{\"attributes\":{\"label\":{\"value\":\"San Francisco\"},\"renderers\":[{\"id\":\"05f9ad1b-ee40-4a4b-b53a-9e10c27d8d7b\",\"type\":\"GlyphRenderer\"}]},\"id\":\"cc26cd9e-980a-4f6e-8020-86000048cd48\",\"type\":\"LegendItem\"},{\"attributes\":{\"callback\":null,\"column_names\":[\"line_color\",\"line_alpha\",\"color\",\"fill_alpha\",\"height\",\"width\",\"y\",\"x\",\"label\"],\"data\":{\"chart_index\":[{\"city\":\"Washington\"}],\"city\":[\"Washington\"],\"color\":[\"#f22c40\"],\"fill_alpha\":[0.8],\"height\":[256.0],\"label\":[{\"city\":\"Washington\"}],\"line_alpha\":[1.0],\"line_color\":[\"white\"],\"width\":[0.8],\"x\":[\"Washington\"],\"y\":[128.0]}},\"id\":\"f4dc2468-9372-427a-849e-9a48d5c16636\",\"type\":\"ColumnDataSource\"},{\"attributes\":{},\"id\":\"7707c755-9566-4646-bc81-d6784599ab32\",\"type\":\"ToolEvents\"},{\"attributes\":{\"dimension\":1,\"plot\":{\"id\":\"c02742c5-f328-445d-bb21-db776555e12b\",\"subtype\":\"Chart\",\"type\":\"Plot\"},\"ticker\":{\"id\":\"409ccb2c-c400-4e65-b466-c9668277bfa9\",\"type\":\"BasicTicker\"}},\"id\":\"e8860633-0492-437b-a860-25264f51cca4\",\"type\":\"Grid\"},{\"attributes\":{\"label\":{\"value\":\"Rotterdam\"},\"renderers\":[{\"id\":\"9467aee8-38ca-459f-b5e8-10535e9fc1cc\",\"type\":\"GlyphRenderer\"}]},\"id\":\"b2f67f61-a5cb-46b2-83b9-9843bfdeeb85\",\"type\":\"LegendItem\"},{\"attributes\":{\"data_source\":{\"id\":\"b182d966-2641-4ff9-82d3-bed92ed17f37\",\"type\":\"ColumnDataSource\"},\"glyph\":{\"id\":\"31d0f8f1-53be-42f3-b451-b3f5f5cfddba\",\"type\":\"Rect\"},\"hover_glyph\":null,\"nonselection_glyph\":null,\"selection_glyph\":null},\"id\":\"a3567e5e-ee7a-4bc2-84d9-1cd3fba1cd5a\",\"type\":\"GlyphRenderer\"},{\"attributes\":{\"active_drag\":\"auto\",\"active_scroll\":\"auto\",\"active_tap\":\"auto\",\"tools\":[{\"id\":\"beb5bd5e-e175-4c24-9a0e-eb3b0b67d860\",\"type\":\"PanTool\"},{\"id\":\"9d764a42-f6d7-4978-a741-6d76eb6e944a\",\"type\":\"WheelZoomTool\"},{\"id\":\"cf15b0d5-74b9-4479-8221-46d17d3e7f68\",\"type\":\"BoxZoomTool\"},{\"id\":\"4b8d6af6-a279-44e4-8113-ed8410e5dfa5\",\"type\":\"SaveTool\"},{\"id\":\"91bc0343-7ede-4d94-a6f1-11313f7c3081\",\"type\":\"ResetTool\"},{\"id\":\"9f24c97f-187b-4ac4-bf54-deee5b2007ee\",\"type\":\"HelpTool\"}]},\"id\":\"741bb250-40a0-4136-aa15-7f878963c3c5\",\"type\":\"Toolbar\"},{\"attributes\":{\"fill_alpha\":{\"field\":\"fill_alpha\"},\"fill_color\":{\"field\":\"color\"},\"height\":{\"field\":\"height\",\"units\":\"data\"},\"line_color\":{\"field\":\"line_color\"},\"width\":{\"field\":\"width\",\"units\":\"data\"},\"x\":{\"field\":\"x\"},\"y\":{\"field\":\"y\"}},\"id\":\"7fbf6aeb-0c62-4e2f-b3c0-93adb385a006\",\"type\":\"Rect\"},{\"attributes\":{\"label\":{\"value\":\"New York\"},\"renderers\":[{\"id\":\"e6ac7123-fa30-4382-a967-0049fac9eed0\",\"type\":\"GlyphRenderer\"}]},\"id\":\"725ae9da-1c54-47f5-a54e-2227bf46b549\",\"type\":\"LegendItem\"},{\"attributes\":{\"fill_alpha\":{\"field\":\"fill_alpha\"},\"fill_color\":{\"field\":\"color\"},\"height\":{\"field\":\"height\",\"units\":\"data\"},\"line_color\":{\"field\":\"line_color\"},\"width\":{\"field\":\"width\",\"units\":\"data\"},\"x\":{\"field\":\"x\"},\"y\":{\"field\":\"y\"}},\"id\":\"76fb4c8d-7d26-4333-bd30-a1a1e515d299\",\"type\":\"Rect\"},{\"attributes\":{\"data_source\":{\"id\":\"9bbf3519-b28b-470a-935d-697f9c38bf13\",\"type\":\"ColumnDataSource\"},\"glyph\":{\"id\":\"5e3c481c-56a1-4f29-9829-069cf44bcd89\",\"type\":\"Rect\"},\"hover_glyph\":null,\"nonselection_glyph\":null,\"selection_glyph\":null},\"id\":\"9467aee8-38ca-459f-b5e8-10535e9fc1cc\",\"type\":\"GlyphRenderer\"},{\"attributes\":{\"data_source\":{\"id\":\"5e4c9ba5-7546-4734-ac58-a3034bdcac66\",\"type\":\"ColumnDataSource\"},\"glyph\":{\"id\":\"127ae986-e8f2-425c-a05f-6f86547fb1aa\",\"type\":\"Rect\"},\"hover_glyph\":null,\"nonselection_glyph\":null,\"selection_glyph\":null},\"id\":\"f75d44e2-d93a-473d-a710-ace1676e345b\",\"type\":\"GlyphRenderer\"},{\"attributes\":{\"plot\":null,\"text\":\"Jobs posted by citites\"},\"id\":\"9f87d9f0-631d-4e62-a6bb-fc30add2a4bb\",\"type\":\"Title\"},{\"attributes\":{\"label\":{\"value\":\"Boston\"},\"renderers\":[{\"id\":\"f7f2bbe4-0c2c-471b-a177-cf3cdabd1e14\",\"type\":\"GlyphRenderer\"}]},\"id\":\"cd88d953-ba1d-4c84-bf66-b6c8bd7bf004\",\"type\":\"LegendItem\"},{\"attributes\":{\"data_source\":{\"id\":\"a2252129-58e2-4d85-aa55-59e930b615a0\",\"type\":\"ColumnDataSource\"},\"glyph\":{\"id\":\"7b3829aa-fac6-4e73-809c-f85d75cbb76c\",\"type\":\"Rect\"},\"hover_glyph\":null,\"nonselection_glyph\":null,\"selection_glyph\":null},\"id\":\"850a44c4-2d38-41bb-ac06-822c24d4ccf9\",\"type\":\"GlyphRenderer\"},{\"attributes\":{\"label\":{\"value\":\"No office location\"},\"renderers\":[{\"id\":\"55d827a9-f3eb-4bba-ae84-05d70557f2c3\",\"type\":\"GlyphRenderer\"}]},\"id\":\"578c0b58-794c-4363-b2e1-8a85603c20b9\",\"type\":\"LegendItem\"},{\"attributes\":{\"callback\":null,\"end\":1345.05},\"id\":\"be3badbf-f907-4f99-909e-9849646f90d0\",\"type\":\"Range1d\"},{\"attributes\":{\"label\":{\"value\":\"Washington\"},\"renderers\":[{\"id\":\"175e78bb-8fd4-450f-abcb-8205fc835292\",\"type\":\"GlyphRenderer\"}]},\"id\":\"2b1daae0-23f7-40a4-95e8-3a20c5d05692\",\"type\":\"LegendItem\"},{\"attributes\":{\"fill_alpha\":{\"field\":\"fill_alpha\"},\"fill_color\":{\"field\":\"color\"},\"height\":{\"field\":\"height\",\"units\":\"data\"},\"line_color\":{\"field\":\"line_color\"},\"width\":{\"field\":\"width\",\"units\":\"data\"},\"x\":{\"field\":\"x\"},\"y\":{\"field\":\"y\"}},\"id\":\"7b3829aa-fac6-4e73-809c-f85d75cbb76c\",\"type\":\"Rect\"},{\"attributes\":{\"plot\":{\"id\":\"c02742c5-f328-445d-bb21-db776555e12b\",\"subtype\":\"Chart\",\"type\":\"Plot\"}},\"id\":\"9d764a42-f6d7-4978-a741-6d76eb6e944a\",\"type\":\"WheelZoomTool\"},{\"attributes\":{\"label\":{\"value\":\"Amsterdam\"},\"renderers\":[{\"id\":\"b63adf0b-2a85-4b91-988a-38b83ad542b4\",\"type\":\"GlyphRenderer\"}]},\"id\":\"e7b1ad21-53af-4619-bfbd-46b1470ef342\",\"type\":\"LegendItem\"},{\"attributes\":{\"callback\":null,\"factors\":[\"Berlin\",\"London\",\"New York\",\"San Francisco\",\"Munchen\",\"Amsterdam\",\"Seattle\",\"Philadelphia\",\"Chicago\",\"Hamburg\",\"No office location\",\"Toronto\",\"Rotterdam\",\"Washington\",\"Boston\"]},\"id\":\"a4c6cc3a-c74b-49b6-9936-e7588b059dca\",\"type\":\"FactorRange\"},{\"attributes\":{\"label\":{\"value\":\"Berlin\"},\"renderers\":[{\"id\":\"75941634-83db-4065-a6df-931844b8ee8a\",\"type\":\"GlyphRenderer\"}]},\"id\":\"90c98886-681b-4b77-894a-15c10a6b1367\",\"type\":\"LegendItem\"},{\"attributes\":{\"callback\":null,\"column_names\":[\"line_color\",\"line_alpha\",\"color\",\"fill_alpha\",\"height\",\"width\",\"y\",\"x\",\"label\"],\"data\":{\"chart_index\":[{\"city\":\"Berlin\"}],\"city\":[\"Berlin\"],\"color\":[\"#f22c40\"],\"fill_alpha\":[0.8],\"height\":[1281.0],\"label\":[{\"city\":\"Berlin\"}],\"line_alpha\":[1.0],\"line_color\":[\"white\"],\"width\":[0.8],\"x\":[\"Berlin\"],\"y\":[640.5]}},\"id\":\"7779a988-be71-4cc7-a058-719e68b3ee75\",\"type\":\"ColumnDataSource\"},{\"attributes\":{\"callback\":null,\"column_names\":[\"line_color\",\"line_alpha\",\"color\",\"fill_alpha\",\"height\",\"width\",\"y\",\"x\",\"label\"],\"data\":{\"chart_index\":[{\"city\":\"Boston\"}],\"city\":[\"Boston\"],\"color\":[\"#f22c40\"],\"fill_alpha\":[0.8],\"height\":[224.0],\"label\":[{\"city\":\"Boston\"}],\"line_alpha\":[1.0],\"line_color\":[\"white\"],\"width\":[0.8],\"x\":[\"Boston\"],\"y\":[112.0]}},\"id\":\"6912b265-e814-419d-9800-07fb7f2a8a8d\",\"type\":\"ColumnDataSource\"},{\"attributes\":{\"callback\":null,\"column_names\":[\"line_color\",\"line_alpha\",\"color\",\"fill_alpha\",\"height\",\"width\",\"y\",\"x\",\"label\"],\"data\":{\"chart_index\":[{\"city\":\"Rotterdam\"}],\"city\":[\"Rotterdam\"],\"color\":[\"#f22c40\"],\"fill_alpha\":[0.8],\"height\":[257.0],\"label\":[{\"city\":\"Rotterdam\"}],\"line_alpha\":[1.0],\"line_color\":[\"white\"],\"width\":[0.8],\"x\":[\"Rotterdam\"],\"y\":[128.5]}},\"id\":\"9bbf3519-b28b-470a-935d-697f9c38bf13\",\"type\":\"ColumnDataSource\"},{\"attributes\":{\"plot\":{\"id\":\"c02742c5-f328-445d-bb21-db776555e12b\",\"subtype\":\"Chart\",\"type\":\"Plot\"}},\"id\":\"9f24c97f-187b-4ac4-bf54-deee5b2007ee\",\"type\":\"HelpTool\"},{\"attributes\":{\"fill_alpha\":{\"field\":\"fill_alpha\"},\"fill_color\":{\"field\":\"color\"},\"height\":{\"field\":\"height\",\"units\":\"data\"},\"line_color\":{\"field\":\"line_color\"},\"width\":{\"field\":\"width\",\"units\":\"data\"},\"x\":{\"field\":\"x\"},\"y\":{\"field\":\"y\"}},\"id\":\"984c2f80-9af2-483b-93b9-0d4995e7d749\",\"type\":\"Rect\"},{\"attributes\":{\"callback\":null,\"column_names\":[\"line_color\",\"line_alpha\",\"color\",\"fill_alpha\",\"height\",\"width\",\"y\",\"x\",\"label\"],\"data\":{\"chart_index\":[{\"city\":\"Amsterdam\"}],\"city\":[\"Amsterdam\"],\"color\":[\"#f22c40\"],\"fill_alpha\":[0.8],\"height\":[495.0],\"label\":[{\"city\":\"Amsterdam\"}],\"line_alpha\":[1.0],\"line_color\":[\"white\"],\"width\":[0.8],\"x\":[\"Amsterdam\"],\"y\":[247.5]}},\"id\":\"b914e8c9-7cf4-4e1b-9046-352aa40d3c1b\",\"type\":\"ColumnDataSource\"},{\"attributes\":{\"fill_alpha\":{\"field\":\"fill_alpha\"},\"fill_color\":{\"field\":\"color\"},\"height\":{\"field\":\"height\",\"units\":\"data\"},\"line_color\":{\"field\":\"line_color\"},\"width\":{\"field\":\"width\",\"units\":\"data\"},\"x\":{\"field\":\"x\"},\"y\":{\"field\":\"y\"}},\"id\":\"1d1eaae1-f667-4d38-b301-15b8054d2e92\",\"type\":\"Rect\"},{\"attributes\":{\"bottom_units\":\"screen\",\"fill_alpha\":{\"value\":0.5},\"fill_color\":{\"value\":\"lightgrey\"},\"left_units\":\"screen\",\"level\":\"overlay\",\"line_alpha\":{\"value\":1.0},\"line_color\":{\"value\":\"black\"},\"line_dash\":[4,4],\"line_width\":{\"value\":2},\"plot\":null,\"render_mode\":\"css\",\"right_units\":\"screen\",\"top_units\":\"screen\"},\"id\":\"0652ddb0-d7c8-4429-a348-7cfa3abe9ac1\",\"type\":\"BoxAnnotation\"},{\"attributes\":{\"callback\":null,\"column_names\":[\"line_color\",\"line_alpha\",\"color\",\"fill_alpha\",\"height\",\"width\",\"y\",\"x\",\"label\"],\"data\":{\"chart_index\":[{\"city\":\"No office location\"}],\"city\":[\"No office location\"],\"color\":[\"#f22c40\"],\"fill_alpha\":[0.8],\"height\":[347.0],\"label\":[{\"city\":\"No office location\"}],\"line_alpha\":[1.0],\"line_color\":[\"white\"],\"width\":[0.8],\"x\":[\"No office location\"],\"y\":[173.5]}},\"id\":\"5fd6c1a3-41ff-4b14-96d8-822caa3020fd\",\"type\":\"ColumnDataSource\"},{\"attributes\":{\"callback\":null,\"column_names\":[\"line_color\",\"line_alpha\",\"color\",\"fill_alpha\",\"height\",\"width\",\"y\",\"x\",\"label\"],\"data\":{\"chart_index\":[{\"city\":\"Hamburg\"}],\"city\":[\"Hamburg\"],\"color\":[\"#f22c40\"],\"fill_alpha\":[0.8],\"height\":[349.0],\"label\":[{\"city\":\"Hamburg\"}],\"line_alpha\":[1.0],\"line_color\":[\"white\"],\"width\":[0.8],\"x\":[\"Hamburg\"],\"y\":[174.5]}},\"id\":\"c762fb84-f64e-4d77-9985-1d65e6df130b\",\"type\":\"ColumnDataSource\"},{\"attributes\":{\"label\":{\"value\":\"Hamburg\"},\"renderers\":[{\"id\":\"a1ff07ec-7b3b-44af-95b8-829a404aa23b\",\"type\":\"GlyphRenderer\"}]},\"id\":\"c585ddf6-223e-404d-8d21-fc0d200827cb\",\"type\":\"LegendItem\"},{\"attributes\":{\"below\":[{\"id\":\"fb4f2489-09df-4487-9acf-7468e0eb74f9\",\"type\":\"CategoricalAxis\"}],\"left\":[{\"id\":\"b635a539-0001-4e84-ae7d-8ccae0c58c86\",\"type\":\"LinearAxis\"}],\"renderers\":[{\"id\":\"0652ddb0-d7c8-4429-a348-7cfa3abe9ac1\",\"type\":\"BoxAnnotation\"},{\"id\":\"75941634-83db-4065-a6df-931844b8ee8a\",\"type\":\"GlyphRenderer\"},{\"id\":\"158622c5-5263-4e2f-a1f2-50d36802978a\",\"type\":\"GlyphRenderer\"},{\"id\":\"e6ac7123-fa30-4382-a967-0049fac9eed0\",\"type\":\"GlyphRenderer\"},{\"id\":\"05f9ad1b-ee40-4a4b-b53a-9e10c27d8d7b\",\"type\":\"GlyphRenderer\"},{\"id\":\"a3567e5e-ee7a-4bc2-84d9-1cd3fba1cd5a\",\"type\":\"GlyphRenderer\"},{\"id\":\"b63adf0b-2a85-4b91-988a-38b83ad542b4\",\"type\":\"GlyphRenderer\"},{\"id\":\"850a44c4-2d38-41bb-ac06-822c24d4ccf9\",\"type\":\"GlyphRenderer\"},{\"id\":\"75fca452-03f9-49e6-97dd-9838e7c61f3e\",\"type\":\"GlyphRenderer\"},{\"id\":\"cbca5ca6-3210-46ae-9e3a-59ce7bad4fd7\",\"type\":\"GlyphRenderer\"},{\"id\":\"a1ff07ec-7b3b-44af-95b8-829a404aa23b\",\"type\":\"GlyphRenderer\"},{\"id\":\"55d827a9-f3eb-4bba-ae84-05d70557f2c3\",\"type\":\"GlyphRenderer\"},{\"id\":\"f75d44e2-d93a-473d-a710-ace1676e345b\",\"type\":\"GlyphRenderer\"},{\"id\":\"9467aee8-38ca-459f-b5e8-10535e9fc1cc\",\"type\":\"GlyphRenderer\"},{\"id\":\"175e78bb-8fd4-450f-abcb-8205fc835292\",\"type\":\"GlyphRenderer\"},{\"id\":\"f7f2bbe4-0c2c-471b-a177-cf3cdabd1e14\",\"type\":\"GlyphRenderer\"},{\"id\":\"7bbcb50a-5896-45d0-8087-759eb60808f9\",\"type\":\"Legend\"},{\"id\":\"fb4f2489-09df-4487-9acf-7468e0eb74f9\",\"type\":\"CategoricalAxis\"},{\"id\":\"b635a539-0001-4e84-ae7d-8ccae0c58c86\",\"type\":\"LinearAxis\"},{\"id\":\"e8860633-0492-437b-a860-25264f51cca4\",\"type\":\"Grid\"}],\"title\":{\"id\":\"9f87d9f0-631d-4e62-a6bb-fc30add2a4bb\",\"type\":\"Title\"},\"tool_events\":{\"id\":\"7707c755-9566-4646-bc81-d6784599ab32\",\"type\":\"ToolEvents\"},\"toolbar\":{\"id\":\"741bb250-40a0-4136-aa15-7f878963c3c5\",\"type\":\"Toolbar\"},\"x_mapper_type\":\"auto\",\"x_range\":{\"id\":\"a4c6cc3a-c74b-49b6-9936-e7588b059dca\",\"type\":\"FactorRange\"},\"y_mapper_type\":\"auto\",\"y_range\":{\"id\":\"be3badbf-f907-4f99-909e-9849646f90d0\",\"type\":\"Range1d\"}},\"id\":\"c02742c5-f328-445d-bb21-db776555e12b\",\"subtype\":\"Chart\",\"type\":\"Plot\"},{\"attributes\":{},\"id\":\"409ccb2c-c400-4e65-b466-c9668277bfa9\",\"type\":\"BasicTicker\"},{\"attributes\":{\"callback\":null,\"column_names\":[\"line_color\",\"line_alpha\",\"color\",\"fill_alpha\",\"height\",\"width\",\"y\",\"x\",\"label\"],\"data\":{\"chart_index\":[{\"city\":\"London\"}],\"city\":[\"London\"],\"color\":[\"#f22c40\"],\"fill_alpha\":[0.8],\"height\":[1195.0],\"label\":[{\"city\":\"London\"}],\"line_alpha\":[1.0],\"line_color\":[\"white\"],\"width\":[0.8],\"x\":[\"London\"],\"y\":[597.5]}},\"id\":\"426d9fe9-f708-4eea-a644-3258329ffbd4\",\"type\":\"ColumnDataSource\"},{\"attributes\":{\"fill_alpha\":{\"field\":\"fill_alpha\"},\"fill_color\":{\"field\":\"color\"},\"height\":{\"field\":\"height\",\"units\":\"data\"},\"line_color\":{\"field\":\"line_color\"},\"width\":{\"field\":\"width\",\"units\":\"data\"},\"x\":{\"field\":\"x\"},\"y\":{\"field\":\"y\"}},\"id\":\"8d2ef59b-d9ff-440e-bf0f-5b4e2a63d453\",\"type\":\"Rect\"},{\"attributes\":{\"label\":{\"value\":\"Toronto\"},\"renderers\":[{\"id\":\"f75d44e2-d93a-473d-a710-ace1676e345b\",\"type\":\"GlyphRenderer\"}]},\"id\":\"dc491edd-9872-433b-8eab-a7e015fd77d0\",\"type\":\"LegendItem\"},{\"attributes\":{\"fill_alpha\":{\"field\":\"fill_alpha\"},\"fill_color\":{\"field\":\"color\"},\"height\":{\"field\":\"height\",\"units\":\"data\"},\"line_color\":{\"field\":\"line_color\"},\"width\":{\"field\":\"width\",\"units\":\"data\"},\"x\":{\"field\":\"x\"},\"y\":{\"field\":\"y\"}},\"id\":\"0267b522-d4e2-44ff-b858-3619c8b69258\",\"type\":\"Rect\"},{\"attributes\":{\"callback\":null,\"column_names\":[\"line_color\",\"line_alpha\",\"color\",\"fill_alpha\",\"height\",\"width\",\"y\",\"x\",\"label\"],\"data\":{\"chart_index\":[{\"city\":\"Toronto\"}],\"city\":[\"Toronto\"],\"color\":[\"#f22c40\"],\"fill_alpha\":[0.8],\"height\":[322.0],\"label\":[{\"city\":\"Toronto\"}],\"line_alpha\":[1.0],\"line_color\":[\"white\"],\"width\":[0.8],\"x\":[\"Toronto\"],\"y\":[161.0]}},\"id\":\"5e4c9ba5-7546-4734-ac58-a3034bdcac66\",\"type\":\"ColumnDataSource\"},{\"attributes\":{\"label\":{\"value\":\"London\"},\"renderers\":[{\"id\":\"158622c5-5263-4e2f-a1f2-50d36802978a\",\"type\":\"GlyphRenderer\"}]},\"id\":\"2c7ecec5-57b5-4de5-bac5-9c588a22953f\",\"type\":\"LegendItem\"},{\"attributes\":{\"label\":{\"value\":\"Seattle\"},\"renderers\":[{\"id\":\"850a44c4-2d38-41bb-ac06-822c24d4ccf9\",\"type\":\"GlyphRenderer\"}]},\"id\":\"a506190d-a199-479f-9f1f-edbd88fb4060\",\"type\":\"LegendItem\"},{\"attributes\":{\"data_source\":{\"id\":\"5fd6c1a3-41ff-4b14-96d8-822caa3020fd\",\"type\":\"ColumnDataSource\"},\"glyph\":{\"id\":\"984c2f80-9af2-483b-93b9-0d4995e7d749\",\"type\":\"Rect\"},\"hover_glyph\":null,\"nonselection_glyph\":null,\"selection_glyph\":null},\"id\":\"55d827a9-f3eb-4bba-ae84-05d70557f2c3\",\"type\":\"GlyphRenderer\"},{\"attributes\":{\"items\":[{\"id\":\"90c98886-681b-4b77-894a-15c10a6b1367\",\"type\":\"LegendItem\"},{\"id\":\"2c7ecec5-57b5-4de5-bac5-9c588a22953f\",\"type\":\"LegendItem\"},{\"id\":\"725ae9da-1c54-47f5-a54e-2227bf46b549\",\"type\":\"LegendItem\"},{\"id\":\"cc26cd9e-980a-4f6e-8020-86000048cd48\",\"type\":\"LegendItem\"},{\"id\":\"b397f5b5-a625-48e4-b658-5fd6e400499e\",\"type\":\"LegendItem\"},{\"id\":\"e7b1ad21-53af-4619-bfbd-46b1470ef342\",\"type\":\"LegendItem\"},{\"id\":\"a506190d-a199-479f-9f1f-edbd88fb4060\",\"type\":\"LegendItem\"},{\"id\":\"86a2f144-0fe0-41ea-b759-c4bcec976f7c\",\"type\":\"LegendItem\"},{\"id\":\"47e9ab84-47d4-4005-8d59-def169f88062\",\"type\":\"LegendItem\"},{\"id\":\"c585ddf6-223e-404d-8d21-fc0d200827cb\",\"type\":\"LegendItem\"},{\"id\":\"578c0b58-794c-4363-b2e1-8a85603c20b9\",\"type\":\"LegendItem\"},{\"id\":\"dc491edd-9872-433b-8eab-a7e015fd77d0\",\"type\":\"LegendItem\"},{\"id\":\"b2f67f61-a5cb-46b2-83b9-9843bfdeeb85\",\"type\":\"LegendItem\"},{\"id\":\"2b1daae0-23f7-40a4-95e8-3a20c5d05692\",\"type\":\"LegendItem\"},{\"id\":\"cd88d953-ba1d-4c84-bf66-b6c8bd7bf004\",\"type\":\"LegendItem\"}],\"plot\":{\"id\":\"c02742c5-f328-445d-bb21-db776555e12b\",\"subtype\":\"Chart\",\"type\":\"Plot\"}},\"id\":\"7bbcb50a-5896-45d0-8087-759eb60808f9\",\"type\":\"Legend\"}],\"root_ids\":[\"c02742c5-f328-445d-bb21-db776555e12b\"]},\"title\":\"Bokeh Application\",\"version\":\"0.12.3\"}};\n",
       "            var render_items = [{\"docid\":\"af94d484-38ba-4077-8f2a-367b4d6bb1a7\",\"elementid\":\"3943a802-e519-4823-a8f8-a33d4a63b622\",\"modelid\":\"c02742c5-f328-445d-bb21-db776555e12b\"}];\n",
       "            \n",
       "            Bokeh.embed.embed_items(docs_json, render_items);\n",
       "        });\n",
       "      },\n",
       "      function(Bokeh) {\n",
       "      }\n",
       "    ];\n",
       "  \n",
       "    function run_inline_js() {\n",
       "      \n",
       "      if ((window.Bokeh !== undefined) || (force === \"1\")) {\n",
       "        for (var i = 0; i < inline_js.length; i++) {\n",
       "          inline_js[i](window.Bokeh);\n",
       "        }if (force === \"1\") {\n",
       "          display_loaded();\n",
       "        }} else if (Date.now() < window._bokeh_timeout) {\n",
       "        setTimeout(run_inline_js, 100);\n",
       "      } else if (!window._bokeh_failed_load) {\n",
       "        console.log(\"Bokeh: BokehJS failed to load within specified timeout.\");\n",
       "        window._bokeh_failed_load = true;\n",
       "      } else if (!force) {\n",
       "        var cell = $(\"#3943a802-e519-4823-a8f8-a33d4a63b622\").parents('.cell').data().cell;\n",
       "        cell.output_area.append_execute_result(NB_LOAD_WARNING)\n",
       "      }\n",
       "  \n",
       "    }\n",
       "  \n",
       "    if (window._bokeh_is_loading === 0) {\n",
       "      console.log(\"Bokeh: BokehJS loaded, going straight to plotting\");\n",
       "      run_inline_js();\n",
       "    } else {\n",
       "      load_libs(js_urls, function() {\n",
       "        console.log(\"Bokeh: BokehJS plotting callback run at\", now());\n",
       "        run_inline_js();\n",
       "      });\n",
       "    }\n",
       "  }(this));\n",
       "</script>"
      ]
     },
     "metadata": {},
     "output_type": "display_data"
    }
   ],
   "source": [
    "p = Bar(df_cities, values='count', title='Jobs posted by citites', legend='top_right', label=CatAttr(columns=['city'], sort=False),)\n",
    "\n",
    "# Need to add different color for different cities \n",
    "show(p)\n"
   ]
  },
  {
   "cell_type": "code",
   "execution_count": 212,
   "metadata": {
    "collapsed": false
   },
   "outputs": [
    {
     "data": {
      "text/plain": [
       "country\n",
       "US             9830\n",
       "Germany        4093\n",
       "UK             2334\n",
       "Netherlands    1226\n",
       "Canada          702\n",
       "nan             591\n",
       "Australia       410\n",
       "Sweden          345\n",
       "Switzerland     339\n",
       "France          328\n",
       "Ireland         249\n",
       "Spain           239\n",
       "Finland         202\n",
       "Austria         198\n",
       "India           157\n",
       "Name: jobid, dtype: int64"
      ]
     },
     "execution_count": 212,
     "metadata": {},
     "output_type": "execute_result"
    }
   ],
   "source": [
    "top_countries = jobs.groupby(['country'])['jobid'].count().sort_values(ascending=False)\n",
    "top_countries = top_countries.nlargest(15)\n",
    "\n",
    "df_countries = top_countries.to_frame('count').reset_index()\n",
    "top_countries"
   ]
  },
  {
   "cell_type": "code",
   "execution_count": 213,
   "metadata": {
    "collapsed": false
   },
   "outputs": [
    {
     "data": {
      "text/html": [
       "\n",
       "\n",
       "    <div class=\"bk-root\">\n",
       "        <div class=\"plotdiv\" id=\"259dadd6-fea0-4971-be7f-449fb16b675a\"></div>\n",
       "    </div>\n",
       "<script type=\"text/javascript\">\n",
       "  \n",
       "  (function(global) {\n",
       "    function now() {\n",
       "      return new Date();\n",
       "    }\n",
       "  \n",
       "    var force = \"\";\n",
       "  \n",
       "    if (typeof (window._bokeh_onload_callbacks) === \"undefined\" || force !== \"\") {\n",
       "      window._bokeh_onload_callbacks = [];\n",
       "      window._bokeh_is_loading = undefined;\n",
       "    }\n",
       "  \n",
       "  \n",
       "    \n",
       "    if (typeof (window._bokeh_timeout) === \"undefined\" || force !== \"\") {\n",
       "      window._bokeh_timeout = Date.now() + 0;\n",
       "      window._bokeh_failed_load = false;\n",
       "    }\n",
       "  \n",
       "    var NB_LOAD_WARNING = {'data': {'text/html':\n",
       "       \"<div style='background-color: #fdd'>\\n\"+\n",
       "       \"<p>\\n\"+\n",
       "       \"BokehJS does not appear to have successfully loaded. If loading BokehJS from CDN, this \\n\"+\n",
       "       \"may be due to a slow or bad network connection. Possible fixes:\\n\"+\n",
       "       \"</p>\\n\"+\n",
       "       \"<ul>\\n\"+\n",
       "       \"<li>re-rerun `output_notebook()` to attempt to load from CDN again, or</li>\\n\"+\n",
       "       \"<li>use INLINE resources instead, as so:</li>\\n\"+\n",
       "       \"</ul>\\n\"+\n",
       "       \"<code>\\n\"+\n",
       "       \"from bokeh.resources import INLINE\\n\"+\n",
       "       \"output_notebook(resources=INLINE)\\n\"+\n",
       "       \"</code>\\n\"+\n",
       "       \"</div>\"}};\n",
       "  \n",
       "    function display_loaded() {\n",
       "      if (window.Bokeh !== undefined) {\n",
       "        Bokeh.$(\"#259dadd6-fea0-4971-be7f-449fb16b675a\").text(\"BokehJS successfully loaded.\");\n",
       "      } else if (Date.now() < window._bokeh_timeout) {\n",
       "        setTimeout(display_loaded, 100)\n",
       "      }\n",
       "    }\n",
       "  \n",
       "    function run_callbacks() {\n",
       "      window._bokeh_onload_callbacks.forEach(function(callback) { callback() });\n",
       "      delete window._bokeh_onload_callbacks\n",
       "      console.info(\"Bokeh: all callbacks have finished\");\n",
       "    }\n",
       "  \n",
       "    function load_libs(js_urls, callback) {\n",
       "      window._bokeh_onload_callbacks.push(callback);\n",
       "      if (window._bokeh_is_loading > 0) {\n",
       "        console.log(\"Bokeh: BokehJS is being loaded, scheduling callback at\", now());\n",
       "        return null;\n",
       "      }\n",
       "      if (js_urls == null || js_urls.length === 0) {\n",
       "        run_callbacks();\n",
       "        return null;\n",
       "      }\n",
       "      console.log(\"Bokeh: BokehJS not loaded, scheduling load and callback at\", now());\n",
       "      window._bokeh_is_loading = js_urls.length;\n",
       "      for (var i = 0; i < js_urls.length; i++) {\n",
       "        var url = js_urls[i];\n",
       "        var s = document.createElement('script');\n",
       "        s.src = url;\n",
       "        s.async = false;\n",
       "        s.onreadystatechange = s.onload = function() {\n",
       "          window._bokeh_is_loading--;\n",
       "          if (window._bokeh_is_loading === 0) {\n",
       "            console.log(\"Bokeh: all BokehJS libraries loaded\");\n",
       "            run_callbacks()\n",
       "          }\n",
       "        };\n",
       "        s.onerror = function() {\n",
       "          console.warn(\"failed to load library \" + url);\n",
       "        };\n",
       "        console.log(\"Bokeh: injecting script tag for BokehJS library: \", url);\n",
       "        document.getElementsByTagName(\"head\")[0].appendChild(s);\n",
       "      }\n",
       "    };var element = document.getElementById(\"259dadd6-fea0-4971-be7f-449fb16b675a\");\n",
       "    if (element == null) {\n",
       "      console.log(\"Bokeh: ERROR: autoload.js configured with elementid '259dadd6-fea0-4971-be7f-449fb16b675a' but no matching script tag was found. \")\n",
       "      return false;\n",
       "    }\n",
       "  \n",
       "    var js_urls = [];\n",
       "  \n",
       "    var inline_js = [\n",
       "      function(Bokeh) {\n",
       "        Bokeh.$(function() {\n",
       "            var docs_json = {\"b999bd33-74db-4449-8764-1c5eb047d701\":{\"roots\":{\"references\":[{\"attributes\":{\"label\":{\"value\":\"US\"},\"renderers\":[{\"id\":\"14caf751-4be7-41df-8ac2-59f5b979481d\",\"type\":\"GlyphRenderer\"}]},\"id\":\"6e5137db-997a-42a8-8e9a-226113996a6a\",\"type\":\"LegendItem\"},{\"attributes\":{\"data_source\":{\"id\":\"e4c8966b-56e7-4db5-8c28-6b9ce4f06dfb\",\"type\":\"ColumnDataSource\"},\"glyph\":{\"id\":\"dd159022-9731-4037-b7e2-f08e809af529\",\"type\":\"Rect\"},\"hover_glyph\":null,\"nonselection_glyph\":null,\"selection_glyph\":null},\"id\":\"8377cda3-5be5-4412-a3a4-c1cfc19ac4e1\",\"type\":\"GlyphRenderer\"},{\"attributes\":{\"fill_alpha\":{\"field\":\"fill_alpha\"},\"fill_color\":{\"field\":\"color\"},\"height\":{\"field\":\"height\",\"units\":\"data\"},\"line_color\":{\"field\":\"line_color\"},\"width\":{\"field\":\"width\",\"units\":\"data\"},\"x\":{\"field\":\"x\"},\"y\":{\"field\":\"y\"}},\"id\":\"e1b1d516-7f6d-4339-a36d-820dafe9e706\",\"type\":\"Rect\"},{\"attributes\":{\"callback\":null,\"column_names\":[\"line_color\",\"line_alpha\",\"color\",\"fill_alpha\",\"height\",\"width\",\"y\",\"x\",\"label\"],\"data\":{\"chart_index\":[{\"country\":\"Ireland\"}],\"color\":[\"#f22c40\"],\"country\":[\"Ireland\"],\"fill_alpha\":[0.8],\"height\":[249.0],\"label\":[{\"country\":\"Ireland\"}],\"line_alpha\":[1.0],\"line_color\":[\"white\"],\"width\":[0.8],\"x\":[\"Ireland\"],\"y\":[124.5]}},\"id\":\"b7cbb9c3-c0b0-4a97-8e28-a95ee6dbf9cb\",\"type\":\"ColumnDataSource\"},{\"attributes\":{\"data_source\":{\"id\":\"b7cbb9c3-c0b0-4a97-8e28-a95ee6dbf9cb\",\"type\":\"ColumnDataSource\"},\"glyph\":{\"id\":\"f6361d69-0bf5-481a-b83a-b7483ba8509e\",\"type\":\"Rect\"},\"hover_glyph\":null,\"nonselection_glyph\":null,\"selection_glyph\":null},\"id\":\"bf14eecb-ca1c-4fab-a282-efcf3adfad27\",\"type\":\"GlyphRenderer\"},{\"attributes\":{},\"id\":\"59cb9668-39ba-417e-a9be-82b92641449b\",\"type\":\"BasicTickFormatter\"},{\"attributes\":{\"fill_alpha\":{\"field\":\"fill_alpha\"},\"fill_color\":{\"field\":\"color\"},\"height\":{\"field\":\"height\",\"units\":\"data\"},\"line_color\":{\"field\":\"line_color\"},\"width\":{\"field\":\"width\",\"units\":\"data\"},\"x\":{\"field\":\"x\"},\"y\":{\"field\":\"y\"}},\"id\":\"6a1ef804-ead3-460d-8c31-79c2136ddd7f\",\"type\":\"Rect\"},{\"attributes\":{\"callback\":null,\"column_names\":[\"line_color\",\"line_alpha\",\"color\",\"fill_alpha\",\"height\",\"width\",\"y\",\"x\",\"label\"],\"data\":{\"chart_index\":[{\"country\":\"India\"}],\"color\":[\"#f22c40\"],\"country\":[\"India\"],\"fill_alpha\":[0.8],\"height\":[157.0],\"label\":[{\"country\":\"India\"}],\"line_alpha\":[1.0],\"line_color\":[\"white\"],\"width\":[0.8],\"x\":[\"India\"],\"y\":[78.5]}},\"id\":\"f500a9b5-2403-4039-b4d5-cc5a6555e822\",\"type\":\"ColumnDataSource\"},{\"attributes\":{\"data_source\":{\"id\":\"d2a7cf24-71fb-4307-b8eb-dc7c45ed4288\",\"type\":\"ColumnDataSource\"},\"glyph\":{\"id\":\"f9094923-c7dc-4278-a641-0acd44b23553\",\"type\":\"Rect\"},\"hover_glyph\":null,\"nonselection_glyph\":null,\"selection_glyph\":null},\"id\":\"8314c89b-a80e-46dd-bfa4-ffa7cd8f4dde\",\"type\":\"GlyphRenderer\"},{\"attributes\":{\"axis_label\":\"Sum( Count )\",\"formatter\":{\"id\":\"59cb9668-39ba-417e-a9be-82b92641449b\",\"type\":\"BasicTickFormatter\"},\"plot\":{\"id\":\"7b67149f-8f26-4e80-9851-60234dbbfaf4\",\"subtype\":\"Chart\",\"type\":\"Plot\"},\"ticker\":{\"id\":\"4e19582b-c578-4de7-8677-29e792407540\",\"type\":\"BasicTicker\"}},\"id\":\"817dd586-7c77-4d07-8d60-738815379862\",\"type\":\"LinearAxis\"},{\"attributes\":{\"fill_alpha\":{\"field\":\"fill_alpha\"},\"fill_color\":{\"field\":\"color\"},\"height\":{\"field\":\"height\",\"units\":\"data\"},\"line_color\":{\"field\":\"line_color\"},\"width\":{\"field\":\"width\",\"units\":\"data\"},\"x\":{\"field\":\"x\"},\"y\":{\"field\":\"y\"}},\"id\":\"bd422823-2dd9-40db-8472-2134ca4303b2\",\"type\":\"Rect\"},{\"attributes\":{\"label\":{\"value\":\"Ireland\"},\"renderers\":[{\"id\":\"bf14eecb-ca1c-4fab-a282-efcf3adfad27\",\"type\":\"GlyphRenderer\"}]},\"id\":\"29e1eeac-adcc-48f9-989c-8f23141e8b76\",\"type\":\"LegendItem\"},{\"attributes\":{\"data_source\":{\"id\":\"6f29fc31-0b36-42f9-b3f8-159c36c3fb4a\",\"type\":\"ColumnDataSource\"},\"glyph\":{\"id\":\"6e9d3fb1-f5c2-45bc-90a2-580c1c2e8b34\",\"type\":\"Rect\"},\"hover_glyph\":null,\"nonselection_glyph\":null,\"selection_glyph\":null},\"id\":\"14caf751-4be7-41df-8ac2-59f5b979481d\",\"type\":\"GlyphRenderer\"},{\"attributes\":{\"label\":{\"value\":\"Germany\"},\"renderers\":[{\"id\":\"0de67259-4426-4a04-a88c-a6a3bafe5ef1\",\"type\":\"GlyphRenderer\"}]},\"id\":\"620094ac-c08d-4543-975f-993b5d5271f3\",\"type\":\"LegendItem\"},{\"attributes\":{\"label\":{\"value\":\"Sweden\"},\"renderers\":[{\"id\":\"9b3d9003-839f-4b3a-a49f-8457c7df1136\",\"type\":\"GlyphRenderer\"}]},\"id\":\"65dc5a49-5732-40cb-b373-8f84929cbdd8\",\"type\":\"LegendItem\"},{\"attributes\":{},\"id\":\"88375bdb-8143-4c5d-a944-0e785bdd4565\",\"type\":\"CategoricalTicker\"},{\"attributes\":{\"label\":{\"value\":\"UK\"},\"renderers\":[{\"id\":\"96181592-1be0-440e-bf05-648aeb621086\",\"type\":\"GlyphRenderer\"}]},\"id\":\"300bea9d-d041-48af-9d30-3ac2b9e3dccd\",\"type\":\"LegendItem\"},{\"attributes\":{\"label\":{\"value\":\"India\"},\"renderers\":[{\"id\":\"0a5b1179-57a2-4cd8-87a2-ef6ce0741641\",\"type\":\"GlyphRenderer\"}]},\"id\":\"17667277-ab4a-4fef-ab7d-905126f1e5ed\",\"type\":\"LegendItem\"},{\"attributes\":{\"callback\":null,\"column_names\":[\"line_color\",\"line_alpha\",\"color\",\"fill_alpha\",\"height\",\"width\",\"y\",\"x\",\"label\"],\"data\":{\"chart_index\":[{\"country\":\"US\"}],\"color\":[\"#f22c40\"],\"country\":[\"US\"],\"fill_alpha\":[0.8],\"height\":[9830.0],\"label\":[{\"country\":\"US\"}],\"line_alpha\":[1.0],\"line_color\":[\"white\"],\"width\":[0.8],\"x\":[\"US\"],\"y\":[4915.0]}},\"id\":\"6f29fc31-0b36-42f9-b3f8-159c36c3fb4a\",\"type\":\"ColumnDataSource\"},{\"attributes\":{\"callback\":null,\"column_names\":[\"line_color\",\"line_alpha\",\"color\",\"fill_alpha\",\"height\",\"width\",\"y\",\"x\",\"label\"],\"data\":{\"chart_index\":[{\"country\":\"Germany\"}],\"color\":[\"#f22c40\"],\"country\":[\"Germany\"],\"fill_alpha\":[0.8],\"height\":[4093.0],\"label\":[{\"country\":\"Germany\"}],\"line_alpha\":[1.0],\"line_color\":[\"white\"],\"width\":[0.8],\"x\":[\"Germany\"],\"y\":[2046.5]}},\"id\":\"45f9eeac-4560-4f5e-b13d-22a2fe05ff84\",\"type\":\"ColumnDataSource\"},{\"attributes\":{\"data_source\":{\"id\":\"7ce42813-c488-48b3-90ee-1fd9249b74b5\",\"type\":\"ColumnDataSource\"},\"glyph\":{\"id\":\"06dc6657-43b6-4d36-be70-1db17f1c1640\",\"type\":\"Rect\"},\"hover_glyph\":null,\"nonselection_glyph\":null,\"selection_glyph\":null},\"id\":\"96181592-1be0-440e-bf05-648aeb621086\",\"type\":\"GlyphRenderer\"},{\"attributes\":{\"fill_alpha\":{\"field\":\"fill_alpha\"},\"fill_color\":{\"field\":\"color\"},\"height\":{\"field\":\"height\",\"units\":\"data\"},\"line_color\":{\"field\":\"line_color\"},\"width\":{\"field\":\"width\",\"units\":\"data\"},\"x\":{\"field\":\"x\"},\"y\":{\"field\":\"y\"}},\"id\":\"2ee79d06-8975-4032-bf3d-407d1d4173f8\",\"type\":\"Rect\"},{\"attributes\":{\"active_drag\":\"auto\",\"active_scroll\":\"auto\",\"active_tap\":\"auto\",\"tools\":[{\"id\":\"9cd50c4e-bbed-4e40-86be-81cf932e46d2\",\"type\":\"PanTool\"},{\"id\":\"337af27f-1dba-43b3-8682-3763b126df6b\",\"type\":\"WheelZoomTool\"},{\"id\":\"b2563d66-5b2d-4a84-ba03-3fdcea0f1089\",\"type\":\"BoxZoomTool\"},{\"id\":\"9112f203-f112-4a27-87d8-8af58548a089\",\"type\":\"SaveTool\"},{\"id\":\"00c311ae-6b3a-4c10-a015-5ba7d00f2f4a\",\"type\":\"ResetTool\"},{\"id\":\"1d663e70-435f-4a2d-8797-a9029958d317\",\"type\":\"HelpTool\"}]},\"id\":\"13f64f72-57c7-4cdd-b481-2facc577abee\",\"type\":\"Toolbar\"},{\"attributes\":{\"callback\":null,\"column_names\":[\"line_color\",\"line_alpha\",\"color\",\"fill_alpha\",\"height\",\"width\",\"y\",\"x\",\"label\"],\"data\":{\"chart_index\":[{\"country\":\"Switzerland\"}],\"color\":[\"#f22c40\"],\"country\":[\"Switzerland\"],\"fill_alpha\":[0.8],\"height\":[339.0],\"label\":[{\"country\":\"Switzerland\"}],\"line_alpha\":[1.0],\"line_color\":[\"white\"],\"width\":[0.8],\"x\":[\"Switzerland\"],\"y\":[169.5]}},\"id\":\"318b4e87-98b9-4217-b809-edec70aa5a90\",\"type\":\"ColumnDataSource\"},{\"attributes\":{\"plot\":{\"id\":\"7b67149f-8f26-4e80-9851-60234dbbfaf4\",\"subtype\":\"Chart\",\"type\":\"Plot\"}},\"id\":\"00c311ae-6b3a-4c10-a015-5ba7d00f2f4a\",\"type\":\"ResetTool\"},{\"attributes\":{\"fill_alpha\":{\"field\":\"fill_alpha\"},\"fill_color\":{\"field\":\"color\"},\"height\":{\"field\":\"height\",\"units\":\"data\"},\"line_color\":{\"field\":\"line_color\"},\"width\":{\"field\":\"width\",\"units\":\"data\"},\"x\":{\"field\":\"x\"},\"y\":{\"field\":\"y\"}},\"id\":\"8e32fedf-f485-433c-95e7-b9516655fab7\",\"type\":\"Rect\"},{\"attributes\":{\"plot\":{\"id\":\"7b67149f-8f26-4e80-9851-60234dbbfaf4\",\"subtype\":\"Chart\",\"type\":\"Plot\"}},\"id\":\"9cd50c4e-bbed-4e40-86be-81cf932e46d2\",\"type\":\"PanTool\"},{\"attributes\":{\"data_source\":{\"id\":\"7d805992-9bbe-4e10-8d4d-47c72b3940ab\",\"type\":\"ColumnDataSource\"},\"glyph\":{\"id\":\"39c366fe-f5da-4b9e-89d3-2b5ccd90f1e3\",\"type\":\"Rect\"},\"hover_glyph\":null,\"nonselection_glyph\":null,\"selection_glyph\":null},\"id\":\"aa05d1b3-94f6-493b-a145-f30dd74dc022\",\"type\":\"GlyphRenderer\"},{\"attributes\":{\"label\":{\"value\":\"France\"},\"renderers\":[{\"id\":\"aa05d1b3-94f6-493b-a145-f30dd74dc022\",\"type\":\"GlyphRenderer\"}]},\"id\":\"3a90c83d-6138-4e6a-bd40-7a55c3727d8a\",\"type\":\"LegendItem\"},{\"attributes\":{},\"id\":\"42fa25f4-389c-4df8-945b-50e3bc34bca5\",\"type\":\"CategoricalTickFormatter\"},{\"attributes\":{\"plot\":{\"id\":\"7b67149f-8f26-4e80-9851-60234dbbfaf4\",\"subtype\":\"Chart\",\"type\":\"Plot\"}},\"id\":\"337af27f-1dba-43b3-8682-3763b126df6b\",\"type\":\"WheelZoomTool\"},{\"attributes\":{\"label\":{\"value\":\"Spain\"},\"renderers\":[{\"id\":\"10e44126-f9d1-420e-870e-000e2b397a8c\",\"type\":\"GlyphRenderer\"}]},\"id\":\"dd1bd325-8b47-4692-bb1e-6e5e0ad97ca1\",\"type\":\"LegendItem\"},{\"attributes\":{\"callback\":null,\"column_names\":[\"line_color\",\"line_alpha\",\"color\",\"fill_alpha\",\"height\",\"width\",\"y\",\"x\",\"label\"],\"data\":{\"chart_index\":[{\"country\":\"Spain\"}],\"color\":[\"#f22c40\"],\"country\":[\"Spain\"],\"fill_alpha\":[0.8],\"height\":[239.0],\"label\":[{\"country\":\"Spain\"}],\"line_alpha\":[1.0],\"line_color\":[\"white\"],\"width\":[0.8],\"x\":[\"Spain\"],\"y\":[119.5]}},\"id\":\"d571195d-6492-45aa-80f0-d266014d0adc\",\"type\":\"ColumnDataSource\"},{\"attributes\":{\"axis_label\":\"Country\",\"formatter\":{\"id\":\"42fa25f4-389c-4df8-945b-50e3bc34bca5\",\"type\":\"CategoricalTickFormatter\"},\"major_label_orientation\":0.7853981633974483,\"plot\":{\"id\":\"7b67149f-8f26-4e80-9851-60234dbbfaf4\",\"subtype\":\"Chart\",\"type\":\"Plot\"},\"ticker\":{\"id\":\"88375bdb-8143-4c5d-a944-0e785bdd4565\",\"type\":\"CategoricalTicker\"}},\"id\":\"ec565ced-ceae-45d1-ae10-4d112a61ff15\",\"type\":\"CategoricalAxis\"},{\"attributes\":{\"data_source\":{\"id\":\"051ed1a1-f26b-4957-aa5c-4c74b93fb67e\",\"type\":\"ColumnDataSource\"},\"glyph\":{\"id\":\"ebc77e57-75d3-473f-94f2-0c37814ed65a\",\"type\":\"Rect\"},\"hover_glyph\":null,\"nonselection_glyph\":null,\"selection_glyph\":null},\"id\":\"2c52ee95-f80d-41f8-a16f-8f12f69eaf27\",\"type\":\"GlyphRenderer\"},{\"attributes\":{\"fill_alpha\":{\"field\":\"fill_alpha\"},\"fill_color\":{\"field\":\"color\"},\"height\":{\"field\":\"height\",\"units\":\"data\"},\"line_color\":{\"field\":\"line_color\"},\"width\":{\"field\":\"width\",\"units\":\"data\"},\"x\":{\"field\":\"x\"},\"y\":{\"field\":\"y\"}},\"id\":\"f9094923-c7dc-4278-a641-0acd44b23553\",\"type\":\"Rect\"},{\"attributes\":{\"fill_alpha\":{\"field\":\"fill_alpha\"},\"fill_color\":{\"field\":\"color\"},\"height\":{\"field\":\"height\",\"units\":\"data\"},\"line_color\":{\"field\":\"line_color\"},\"width\":{\"field\":\"width\",\"units\":\"data\"},\"x\":{\"field\":\"x\"},\"y\":{\"field\":\"y\"}},\"id\":\"7b0f4813-336e-4bac-aed9-0671e339bced\",\"type\":\"Rect\"},{\"attributes\":{\"fill_alpha\":{\"field\":\"fill_alpha\"},\"fill_color\":{\"field\":\"color\"},\"height\":{\"field\":\"height\",\"units\":\"data\"},\"line_color\":{\"field\":\"line_color\"},\"width\":{\"field\":\"width\",\"units\":\"data\"},\"x\":{\"field\":\"x\"},\"y\":{\"field\":\"y\"}},\"id\":\"f6361d69-0bf5-481a-b83a-b7483ba8509e\",\"type\":\"Rect\"},{\"attributes\":{\"callback\":null,\"end\":10321.5},\"id\":\"413173c2-4dae-45f5-9863-56161e00fd17\",\"type\":\"Range1d\"},{\"attributes\":{\"dimension\":1,\"plot\":{\"id\":\"7b67149f-8f26-4e80-9851-60234dbbfaf4\",\"subtype\":\"Chart\",\"type\":\"Plot\"},\"ticker\":{\"id\":\"4e19582b-c578-4de7-8677-29e792407540\",\"type\":\"BasicTicker\"}},\"id\":\"4c50e245-f871-4b8e-8720-ddc94183fb7a\",\"type\":\"Grid\"},{\"attributes\":{\"below\":[{\"id\":\"ec565ced-ceae-45d1-ae10-4d112a61ff15\",\"type\":\"CategoricalAxis\"}],\"left\":[{\"id\":\"817dd586-7c77-4d07-8d60-738815379862\",\"type\":\"LinearAxis\"}],\"renderers\":[{\"id\":\"da472f21-b01d-4613-b72b-69ee76daf62d\",\"type\":\"BoxAnnotation\"},{\"id\":\"14caf751-4be7-41df-8ac2-59f5b979481d\",\"type\":\"GlyphRenderer\"},{\"id\":\"0de67259-4426-4a04-a88c-a6a3bafe5ef1\",\"type\":\"GlyphRenderer\"},{\"id\":\"96181592-1be0-440e-bf05-648aeb621086\",\"type\":\"GlyphRenderer\"},{\"id\":\"3ec46b08-0623-4c62-8669-0c8876c2858e\",\"type\":\"GlyphRenderer\"},{\"id\":\"f699e089-f6c4-43e6-92ec-9312e6286b47\",\"type\":\"GlyphRenderer\"},{\"id\":\"2c52ee95-f80d-41f8-a16f-8f12f69eaf27\",\"type\":\"GlyphRenderer\"},{\"id\":\"8377cda3-5be5-4412-a3a4-c1cfc19ac4e1\",\"type\":\"GlyphRenderer\"},{\"id\":\"9b3d9003-839f-4b3a-a49f-8457c7df1136\",\"type\":\"GlyphRenderer\"},{\"id\":\"51f7d379-7ea7-450a-95d8-9cd78a467c12\",\"type\":\"GlyphRenderer\"},{\"id\":\"aa05d1b3-94f6-493b-a145-f30dd74dc022\",\"type\":\"GlyphRenderer\"},{\"id\":\"bf14eecb-ca1c-4fab-a282-efcf3adfad27\",\"type\":\"GlyphRenderer\"},{\"id\":\"10e44126-f9d1-420e-870e-000e2b397a8c\",\"type\":\"GlyphRenderer\"},{\"id\":\"f8f34b53-1df0-41ad-b84d-4c86d80054e7\",\"type\":\"GlyphRenderer\"},{\"id\":\"8314c89b-a80e-46dd-bfa4-ffa7cd8f4dde\",\"type\":\"GlyphRenderer\"},{\"id\":\"0a5b1179-57a2-4cd8-87a2-ef6ce0741641\",\"type\":\"GlyphRenderer\"},{\"id\":\"811d756c-769d-4865-bb4e-3b4739089812\",\"type\":\"Legend\"},{\"id\":\"ec565ced-ceae-45d1-ae10-4d112a61ff15\",\"type\":\"CategoricalAxis\"},{\"id\":\"817dd586-7c77-4d07-8d60-738815379862\",\"type\":\"LinearAxis\"},{\"id\":\"4c50e245-f871-4b8e-8720-ddc94183fb7a\",\"type\":\"Grid\"}],\"title\":{\"id\":\"e4128053-4368-47fa-9d3d-def087371b21\",\"type\":\"Title\"},\"tool_events\":{\"id\":\"d2e50860-47bf-499e-8e82-2320c301caa1\",\"type\":\"ToolEvents\"},\"toolbar\":{\"id\":\"13f64f72-57c7-4cdd-b481-2facc577abee\",\"type\":\"Toolbar\"},\"x_mapper_type\":\"auto\",\"x_range\":{\"id\":\"115929fd-618f-42e8-a46a-6f148d3e79d7\",\"type\":\"FactorRange\"},\"y_mapper_type\":\"auto\",\"y_range\":{\"id\":\"413173c2-4dae-45f5-9863-56161e00fd17\",\"type\":\"Range1d\"}},\"id\":\"7b67149f-8f26-4e80-9851-60234dbbfaf4\",\"subtype\":\"Chart\",\"type\":\"Plot\"},{\"attributes\":{\"data_source\":{\"id\":\"f500a9b5-2403-4039-b4d5-cc5a6555e822\",\"type\":\"ColumnDataSource\"},\"glyph\":{\"id\":\"6a1ef804-ead3-460d-8c31-79c2136ddd7f\",\"type\":\"Rect\"},\"hover_glyph\":null,\"nonselection_glyph\":null,\"selection_glyph\":null},\"id\":\"0a5b1179-57a2-4cd8-87a2-ef6ce0741641\",\"type\":\"GlyphRenderer\"},{\"attributes\":{\"data_source\":{\"id\":\"906b8d65-133d-435b-aea1-d62f7581c5a7\",\"type\":\"ColumnDataSource\"},\"glyph\":{\"id\":\"bd422823-2dd9-40db-8472-2134ca4303b2\",\"type\":\"Rect\"},\"hover_glyph\":null,\"nonselection_glyph\":null,\"selection_glyph\":null},\"id\":\"9b3d9003-839f-4b3a-a49f-8457c7df1136\",\"type\":\"GlyphRenderer\"},{\"attributes\":{\"fill_alpha\":{\"field\":\"fill_alpha\"},\"fill_color\":{\"field\":\"color\"},\"height\":{\"field\":\"height\",\"units\":\"data\"},\"line_color\":{\"field\":\"line_color\"},\"width\":{\"field\":\"width\",\"units\":\"data\"},\"x\":{\"field\":\"x\"},\"y\":{\"field\":\"y\"}},\"id\":\"06dc6657-43b6-4d36-be70-1db17f1c1640\",\"type\":\"Rect\"},{\"attributes\":{\"plot\":{\"id\":\"7b67149f-8f26-4e80-9851-60234dbbfaf4\",\"subtype\":\"Chart\",\"type\":\"Plot\"}},\"id\":\"9112f203-f112-4a27-87d8-8af58548a089\",\"type\":\"SaveTool\"},{\"attributes\":{\"fill_alpha\":{\"field\":\"fill_alpha\"},\"fill_color\":{\"field\":\"color\"},\"height\":{\"field\":\"height\",\"units\":\"data\"},\"line_color\":{\"field\":\"line_color\"},\"width\":{\"field\":\"width\",\"units\":\"data\"},\"x\":{\"field\":\"x\"},\"y\":{\"field\":\"y\"}},\"id\":\"6e9d3fb1-f5c2-45bc-90a2-580c1c2e8b34\",\"type\":\"Rect\"},{\"attributes\":{\"label\":{\"value\":\"Australia\"},\"renderers\":[{\"id\":\"8377cda3-5be5-4412-a3a4-c1cfc19ac4e1\",\"type\":\"GlyphRenderer\"}]},\"id\":\"f7c40eee-d842-4387-ad7c-5f82d2220512\",\"type\":\"LegendItem\"},{\"attributes\":{\"label\":{\"value\":\"Switzerland\"},\"renderers\":[{\"id\":\"51f7d379-7ea7-450a-95d8-9cd78a467c12\",\"type\":\"GlyphRenderer\"}]},\"id\":\"bf4ad5e4-2365-4d4f-8e1c-c42b055ecf7a\",\"type\":\"LegendItem\"},{\"attributes\":{\"fill_alpha\":{\"field\":\"fill_alpha\"},\"fill_color\":{\"field\":\"color\"},\"height\":{\"field\":\"height\",\"units\":\"data\"},\"line_color\":{\"field\":\"line_color\"},\"width\":{\"field\":\"width\",\"units\":\"data\"},\"x\":{\"field\":\"x\"},\"y\":{\"field\":\"y\"}},\"id\":\"28898a3a-4503-42df-9838-505ed44b9a75\",\"type\":\"Rect\"},{\"attributes\":{},\"id\":\"4e19582b-c578-4de7-8677-29e792407540\",\"type\":\"BasicTicker\"},{\"attributes\":{\"data_source\":{\"id\":\"6b13a986-14f1-430f-ac37-7be7482ce5a5\",\"type\":\"ColumnDataSource\"},\"glyph\":{\"id\":\"48671e14-978b-40da-9135-eb26810ed239\",\"type\":\"Rect\"},\"hover_glyph\":null,\"nonselection_glyph\":null,\"selection_glyph\":null},\"id\":\"f8f34b53-1df0-41ad-b84d-4c86d80054e7\",\"type\":\"GlyphRenderer\"},{\"attributes\":{\"callback\":null,\"column_names\":[\"line_color\",\"line_alpha\",\"color\",\"fill_alpha\",\"height\",\"width\",\"y\",\"x\",\"label\"],\"data\":{\"chart_index\":[{\"country\":\"Sweden\"}],\"color\":[\"#f22c40\"],\"country\":[\"Sweden\"],\"fill_alpha\":[0.8],\"height\":[345.0],\"label\":[{\"country\":\"Sweden\"}],\"line_alpha\":[1.0],\"line_color\":[\"white\"],\"width\":[0.8],\"x\":[\"Sweden\"],\"y\":[172.5]}},\"id\":\"906b8d65-133d-435b-aea1-d62f7581c5a7\",\"type\":\"ColumnDataSource\"},{\"attributes\":{\"fill_alpha\":{\"field\":\"fill_alpha\"},\"fill_color\":{\"field\":\"color\"},\"height\":{\"field\":\"height\",\"units\":\"data\"},\"line_color\":{\"field\":\"line_color\"},\"width\":{\"field\":\"width\",\"units\":\"data\"},\"x\":{\"field\":\"x\"},\"y\":{\"field\":\"y\"}},\"id\":\"dd159022-9731-4037-b7e2-f08e809af529\",\"type\":\"Rect\"},{\"attributes\":{\"label\":{\"value\":\"Netherlands\"},\"renderers\":[{\"id\":\"3ec46b08-0623-4c62-8669-0c8876c2858e\",\"type\":\"GlyphRenderer\"}]},\"id\":\"4e20f19d-eb28-4eac-a0c8-543a2b91be1e\",\"type\":\"LegendItem\"},{\"attributes\":{\"plot\":null,\"text\":\"Jobs posted by countries\"},\"id\":\"e4128053-4368-47fa-9d3d-def087371b21\",\"type\":\"Title\"},{\"attributes\":{\"plot\":{\"id\":\"7b67149f-8f26-4e80-9851-60234dbbfaf4\",\"subtype\":\"Chart\",\"type\":\"Plot\"}},\"id\":\"1d663e70-435f-4a2d-8797-a9029958d317\",\"type\":\"HelpTool\"},{\"attributes\":{\"label\":{\"value\":\"Canada\"},\"renderers\":[{\"id\":\"f699e089-f6c4-43e6-92ec-9312e6286b47\",\"type\":\"GlyphRenderer\"}]},\"id\":\"c271efcf-ef33-4977-bb6a-b630546fd62e\",\"type\":\"LegendItem\"},{\"attributes\":{\"bottom_units\":\"screen\",\"fill_alpha\":{\"value\":0.5},\"fill_color\":{\"value\":\"lightgrey\"},\"left_units\":\"screen\",\"level\":\"overlay\",\"line_alpha\":{\"value\":1.0},\"line_color\":{\"value\":\"black\"},\"line_dash\":[4,4],\"line_width\":{\"value\":2},\"plot\":null,\"render_mode\":\"css\",\"right_units\":\"screen\",\"top_units\":\"screen\"},\"id\":\"da472f21-b01d-4613-b72b-69ee76daf62d\",\"type\":\"BoxAnnotation\"},{\"attributes\":{\"callback\":null,\"factors\":[\"US\",\"Germany\",\"UK\",\"Netherlands\",\"Canada\",\"nan\",\"Australia\",\"Sweden\",\"Switzerland\",\"France\",\"Ireland\",\"Spain\",\"Finland\",\"Austria\",\"India\"]},\"id\":\"115929fd-618f-42e8-a46a-6f148d3e79d7\",\"type\":\"FactorRange\"},{\"attributes\":{\"callback\":null,\"column_names\":[\"line_color\",\"line_alpha\",\"color\",\"fill_alpha\",\"height\",\"width\",\"y\",\"x\",\"label\"],\"data\":{\"chart_index\":[{\"country\":\"France\"}],\"color\":[\"#f22c40\"],\"country\":[\"France\"],\"fill_alpha\":[0.8],\"height\":[328.0],\"label\":[{\"country\":\"France\"}],\"line_alpha\":[1.0],\"line_color\":[\"white\"],\"width\":[0.8],\"x\":[\"France\"],\"y\":[164.0]}},\"id\":\"7d805992-9bbe-4e10-8d4d-47c72b3940ab\",\"type\":\"ColumnDataSource\"},{\"attributes\":{\"callback\":null,\"column_names\":[\"line_color\",\"line_alpha\",\"color\",\"fill_alpha\",\"height\",\"width\",\"y\",\"x\",\"label\"],\"data\":{\"chart_index\":[{\"country\":\"Netherlands\"}],\"color\":[\"#f22c40\"],\"country\":[\"Netherlands\"],\"fill_alpha\":[0.8],\"height\":[1226.0],\"label\":[{\"country\":\"Netherlands\"}],\"line_alpha\":[1.0],\"line_color\":[\"white\"],\"width\":[0.8],\"x\":[\"Netherlands\"],\"y\":[613.0]}},\"id\":\"2622a771-bf17-45a5-b7bf-84e25f52283d\",\"type\":\"ColumnDataSource\"},{\"attributes\":{\"data_source\":{\"id\":\"d1dc3093-c00f-4000-88b8-4b8588efda4e\",\"type\":\"ColumnDataSource\"},\"glyph\":{\"id\":\"28898a3a-4503-42df-9838-505ed44b9a75\",\"type\":\"Rect\"},\"hover_glyph\":null,\"nonselection_glyph\":null,\"selection_glyph\":null},\"id\":\"f699e089-f6c4-43e6-92ec-9312e6286b47\",\"type\":\"GlyphRenderer\"},{\"attributes\":{\"fill_alpha\":{\"field\":\"fill_alpha\"},\"fill_color\":{\"field\":\"color\"},\"height\":{\"field\":\"height\",\"units\":\"data\"},\"line_color\":{\"field\":\"line_color\"},\"width\":{\"field\":\"width\",\"units\":\"data\"},\"x\":{\"field\":\"x\"},\"y\":{\"field\":\"y\"}},\"id\":\"39c366fe-f5da-4b9e-89d3-2b5ccd90f1e3\",\"type\":\"Rect\"},{\"attributes\":{\"data_source\":{\"id\":\"45f9eeac-4560-4f5e-b13d-22a2fe05ff84\",\"type\":\"ColumnDataSource\"},\"glyph\":{\"id\":\"e1b1d516-7f6d-4339-a36d-820dafe9e706\",\"type\":\"Rect\"},\"hover_glyph\":null,\"nonselection_glyph\":null,\"selection_glyph\":null},\"id\":\"0de67259-4426-4a04-a88c-a6a3bafe5ef1\",\"type\":\"GlyphRenderer\"},{\"attributes\":{\"callback\":null,\"column_names\":[\"line_color\",\"line_alpha\",\"color\",\"fill_alpha\",\"height\",\"width\",\"y\",\"x\",\"label\"],\"data\":{\"chart_index\":[{\"country\":\"Canada\"}],\"color\":[\"#f22c40\"],\"country\":[\"Canada\"],\"fill_alpha\":[0.8],\"height\":[702.0],\"label\":[{\"country\":\"Canada\"}],\"line_alpha\":[1.0],\"line_color\":[\"white\"],\"width\":[0.8],\"x\":[\"Canada\"],\"y\":[351.0]}},\"id\":\"d1dc3093-c00f-4000-88b8-4b8588efda4e\",\"type\":\"ColumnDataSource\"},{\"attributes\":{},\"id\":\"d2e50860-47bf-499e-8e82-2320c301caa1\",\"type\":\"ToolEvents\"},{\"attributes\":{\"label\":{\"value\":\"nan\"},\"renderers\":[{\"id\":\"2c52ee95-f80d-41f8-a16f-8f12f69eaf27\",\"type\":\"GlyphRenderer\"}]},\"id\":\"3493d324-3c32-4c76-b3a5-ffb8ba09713e\",\"type\":\"LegendItem\"},{\"attributes\":{\"callback\":null,\"column_names\":[\"line_color\",\"line_alpha\",\"color\",\"fill_alpha\",\"height\",\"width\",\"y\",\"x\",\"label\"],\"data\":{\"chart_index\":[{\"country\":\"Austria\"}],\"color\":[\"#f22c40\"],\"country\":[\"Austria\"],\"fill_alpha\":[0.8],\"height\":[198.0],\"label\":[{\"country\":\"Austria\"}],\"line_alpha\":[1.0],\"line_color\":[\"white\"],\"width\":[0.8],\"x\":[\"Austria\"],\"y\":[99.0]}},\"id\":\"d2a7cf24-71fb-4307-b8eb-dc7c45ed4288\",\"type\":\"ColumnDataSource\"},{\"attributes\":{\"data_source\":{\"id\":\"318b4e87-98b9-4217-b809-edec70aa5a90\",\"type\":\"ColumnDataSource\"},\"glyph\":{\"id\":\"8e32fedf-f485-433c-95e7-b9516655fab7\",\"type\":\"Rect\"},\"hover_glyph\":null,\"nonselection_glyph\":null,\"selection_glyph\":null},\"id\":\"51f7d379-7ea7-450a-95d8-9cd78a467c12\",\"type\":\"GlyphRenderer\"},{\"attributes\":{\"callback\":null,\"column_names\":[\"line_color\",\"line_alpha\",\"color\",\"fill_alpha\",\"height\",\"width\",\"y\",\"x\",\"label\"],\"data\":{\"chart_index\":[{\"country\":\"Finland\"}],\"color\":[\"#f22c40\"],\"country\":[\"Finland\"],\"fill_alpha\":[0.8],\"height\":[202.0],\"label\":[{\"country\":\"Finland\"}],\"line_alpha\":[1.0],\"line_color\":[\"white\"],\"width\":[0.8],\"x\":[\"Finland\"],\"y\":[101.0]}},\"id\":\"6b13a986-14f1-430f-ac37-7be7482ce5a5\",\"type\":\"ColumnDataSource\"},{\"attributes\":{\"fill_alpha\":{\"field\":\"fill_alpha\"},\"fill_color\":{\"field\":\"color\"},\"height\":{\"field\":\"height\",\"units\":\"data\"},\"line_color\":{\"field\":\"line_color\"},\"width\":{\"field\":\"width\",\"units\":\"data\"},\"x\":{\"field\":\"x\"},\"y\":{\"field\":\"y\"}},\"id\":\"ebc77e57-75d3-473f-94f2-0c37814ed65a\",\"type\":\"Rect\"},{\"attributes\":{\"data_source\":{\"id\":\"2622a771-bf17-45a5-b7bf-84e25f52283d\",\"type\":\"ColumnDataSource\"},\"glyph\":{\"id\":\"7b0f4813-336e-4bac-aed9-0671e339bced\",\"type\":\"Rect\"},\"hover_glyph\":null,\"nonselection_glyph\":null,\"selection_glyph\":null},\"id\":\"3ec46b08-0623-4c62-8669-0c8876c2858e\",\"type\":\"GlyphRenderer\"},{\"attributes\":{\"callback\":null,\"column_names\":[\"line_color\",\"line_alpha\",\"color\",\"fill_alpha\",\"height\",\"width\",\"y\",\"x\",\"label\"],\"data\":{\"chart_index\":[{\"country\":\"Australia\"}],\"color\":[\"#f22c40\"],\"country\":[\"Australia\"],\"fill_alpha\":[0.8],\"height\":[410.0],\"label\":[{\"country\":\"Australia\"}],\"line_alpha\":[1.0],\"line_color\":[\"white\"],\"width\":[0.8],\"x\":[\"Australia\"],\"y\":[205.0]}},\"id\":\"e4c8966b-56e7-4db5-8c28-6b9ce4f06dfb\",\"type\":\"ColumnDataSource\"},{\"attributes\":{\"fill_alpha\":{\"field\":\"fill_alpha\"},\"fill_color\":{\"field\":\"color\"},\"height\":{\"field\":\"height\",\"units\":\"data\"},\"line_color\":{\"field\":\"line_color\"},\"width\":{\"field\":\"width\",\"units\":\"data\"},\"x\":{\"field\":\"x\"},\"y\":{\"field\":\"y\"}},\"id\":\"48671e14-978b-40da-9135-eb26810ed239\",\"type\":\"Rect\"},{\"attributes\":{\"label\":{\"value\":\"Austria\"},\"renderers\":[{\"id\":\"8314c89b-a80e-46dd-bfa4-ffa7cd8f4dde\",\"type\":\"GlyphRenderer\"}]},\"id\":\"6f6c0655-94f4-4ee7-a51b-b18b0d00cc86\",\"type\":\"LegendItem\"},{\"attributes\":{\"items\":[{\"id\":\"6e5137db-997a-42a8-8e9a-226113996a6a\",\"type\":\"LegendItem\"},{\"id\":\"620094ac-c08d-4543-975f-993b5d5271f3\",\"type\":\"LegendItem\"},{\"id\":\"300bea9d-d041-48af-9d30-3ac2b9e3dccd\",\"type\":\"LegendItem\"},{\"id\":\"4e20f19d-eb28-4eac-a0c8-543a2b91be1e\",\"type\":\"LegendItem\"},{\"id\":\"c271efcf-ef33-4977-bb6a-b630546fd62e\",\"type\":\"LegendItem\"},{\"id\":\"3493d324-3c32-4c76-b3a5-ffb8ba09713e\",\"type\":\"LegendItem\"},{\"id\":\"f7c40eee-d842-4387-ad7c-5f82d2220512\",\"type\":\"LegendItem\"},{\"id\":\"65dc5a49-5732-40cb-b373-8f84929cbdd8\",\"type\":\"LegendItem\"},{\"id\":\"bf4ad5e4-2365-4d4f-8e1c-c42b055ecf7a\",\"type\":\"LegendItem\"},{\"id\":\"3a90c83d-6138-4e6a-bd40-7a55c3727d8a\",\"type\":\"LegendItem\"},{\"id\":\"29e1eeac-adcc-48f9-989c-8f23141e8b76\",\"type\":\"LegendItem\"},{\"id\":\"dd1bd325-8b47-4692-bb1e-6e5e0ad97ca1\",\"type\":\"LegendItem\"},{\"id\":\"e6dcd404-e078-4531-8e7e-a3a891f954bd\",\"type\":\"LegendItem\"},{\"id\":\"6f6c0655-94f4-4ee7-a51b-b18b0d00cc86\",\"type\":\"LegendItem\"},{\"id\":\"17667277-ab4a-4fef-ab7d-905126f1e5ed\",\"type\":\"LegendItem\"}],\"plot\":{\"id\":\"7b67149f-8f26-4e80-9851-60234dbbfaf4\",\"subtype\":\"Chart\",\"type\":\"Plot\"}},\"id\":\"811d756c-769d-4865-bb4e-3b4739089812\",\"type\":\"Legend\"},{\"attributes\":{\"callback\":null,\"column_names\":[\"line_color\",\"line_alpha\",\"color\",\"fill_alpha\",\"height\",\"width\",\"y\",\"x\",\"label\"],\"data\":{\"chart_index\":[{\"country\":\"nan\"}],\"color\":[\"#f22c40\"],\"country\":[\"nan\"],\"fill_alpha\":[0.8],\"height\":[591.0],\"label\":[{\"country\":\"nan\"}],\"line_alpha\":[1.0],\"line_color\":[\"white\"],\"width\":[0.8],\"x\":[\"nan\"],\"y\":[295.5]}},\"id\":\"051ed1a1-f26b-4957-aa5c-4c74b93fb67e\",\"type\":\"ColumnDataSource\"},{\"attributes\":{\"callback\":null,\"column_names\":[\"line_color\",\"line_alpha\",\"color\",\"fill_alpha\",\"height\",\"width\",\"y\",\"x\",\"label\"],\"data\":{\"chart_index\":[{\"country\":\"UK\"}],\"color\":[\"#f22c40\"],\"country\":[\"UK\"],\"fill_alpha\":[0.8],\"height\":[2334.0],\"label\":[{\"country\":\"UK\"}],\"line_alpha\":[1.0],\"line_color\":[\"white\"],\"width\":[0.8],\"x\":[\"UK\"],\"y\":[1167.0]}},\"id\":\"7ce42813-c488-48b3-90ee-1fd9249b74b5\",\"type\":\"ColumnDataSource\"},{\"attributes\":{\"data_source\":{\"id\":\"d571195d-6492-45aa-80f0-d266014d0adc\",\"type\":\"ColumnDataSource\"},\"glyph\":{\"id\":\"2ee79d06-8975-4032-bf3d-407d1d4173f8\",\"type\":\"Rect\"},\"hover_glyph\":null,\"nonselection_glyph\":null,\"selection_glyph\":null},\"id\":\"10e44126-f9d1-420e-870e-000e2b397a8c\",\"type\":\"GlyphRenderer\"},{\"attributes\":{\"overlay\":{\"id\":\"da472f21-b01d-4613-b72b-69ee76daf62d\",\"type\":\"BoxAnnotation\"},\"plot\":{\"id\":\"7b67149f-8f26-4e80-9851-60234dbbfaf4\",\"subtype\":\"Chart\",\"type\":\"Plot\"}},\"id\":\"b2563d66-5b2d-4a84-ba03-3fdcea0f1089\",\"type\":\"BoxZoomTool\"},{\"attributes\":{\"label\":{\"value\":\"Finland\"},\"renderers\":[{\"id\":\"f8f34b53-1df0-41ad-b84d-4c86d80054e7\",\"type\":\"GlyphRenderer\"}]},\"id\":\"e6dcd404-e078-4531-8e7e-a3a891f954bd\",\"type\":\"LegendItem\"}],\"root_ids\":[\"7b67149f-8f26-4e80-9851-60234dbbfaf4\"]},\"title\":\"Bokeh Application\",\"version\":\"0.12.3\"}};\n",
       "            var render_items = [{\"docid\":\"b999bd33-74db-4449-8764-1c5eb047d701\",\"elementid\":\"259dadd6-fea0-4971-be7f-449fb16b675a\",\"modelid\":\"7b67149f-8f26-4e80-9851-60234dbbfaf4\"}];\n",
       "            \n",
       "            Bokeh.embed.embed_items(docs_json, render_items);\n",
       "        });\n",
       "      },\n",
       "      function(Bokeh) {\n",
       "      }\n",
       "    ];\n",
       "  \n",
       "    function run_inline_js() {\n",
       "      \n",
       "      if ((window.Bokeh !== undefined) || (force === \"1\")) {\n",
       "        for (var i = 0; i < inline_js.length; i++) {\n",
       "          inline_js[i](window.Bokeh);\n",
       "        }if (force === \"1\") {\n",
       "          display_loaded();\n",
       "        }} else if (Date.now() < window._bokeh_timeout) {\n",
       "        setTimeout(run_inline_js, 100);\n",
       "      } else if (!window._bokeh_failed_load) {\n",
       "        console.log(\"Bokeh: BokehJS failed to load within specified timeout.\");\n",
       "        window._bokeh_failed_load = true;\n",
       "      } else if (!force) {\n",
       "        var cell = $(\"#259dadd6-fea0-4971-be7f-449fb16b675a\").parents('.cell').data().cell;\n",
       "        cell.output_area.append_execute_result(NB_LOAD_WARNING)\n",
       "      }\n",
       "  \n",
       "    }\n",
       "  \n",
       "    if (window._bokeh_is_loading === 0) {\n",
       "      console.log(\"Bokeh: BokehJS loaded, going straight to plotting\");\n",
       "      run_inline_js();\n",
       "    } else {\n",
       "      load_libs(js_urls, function() {\n",
       "        console.log(\"Bokeh: BokehJS plotting callback run at\", now());\n",
       "        run_inline_js();\n",
       "      });\n",
       "    }\n",
       "  }(this));\n",
       "</script>"
      ]
     },
     "metadata": {},
     "output_type": "display_data"
    }
   ],
   "source": [
    "bar_countries = Bar(df_countries, values='count', title='Jobs posted by countries', legend='top_right', label=CatAttr(columns=['country'], sort=False),)\n",
    "\n",
    "# Need to add different color for different cities \n",
    "show(bar_countries)"
   ]
  },
  {
   "cell_type": "markdown",
   "metadata": {},
   "source": [
    "## Top technologies for a given city (London, Amsterdam and San Francisco)\n"
   ]
  },
  {
   "cell_type": "code",
   "execution_count": 214,
   "metadata": {
    "collapsed": false
   },
   "outputs": [
    {
     "data": {
      "text/plain": [
       "city    tech               \n",
       "London  javascript             294\n",
       "        java                   276\n",
       "        python                 195\n",
       "        amazon-web-services    146\n",
       "        c#                     136\n",
       "        angularjs              106\n",
       "        linux                  100\n",
       "        php                     96\n",
       "        tdd                     86\n",
       "        html                    86\n",
       "Name: jobid, dtype: int64"
      ]
     },
     "execution_count": 214,
     "metadata": {},
     "output_type": "execute_result"
    }
   ],
   "source": [
    "# London top technologies \n",
    "london_tech = technologies[technologies.city == 'London'].groupby(['city', 'tech'])['jobid'].count().sort_values(ascending=False)\n",
    "london_tech.nlargest(10)"
   ]
  },
  {
   "cell_type": "code",
   "execution_count": 205,
   "metadata": {
    "collapsed": false
   },
   "outputs": [
    {
     "data": {
      "text/plain": [
       "city       tech               \n",
       "Amsterdam  java                   122\n",
       "           javascript             106\n",
       "           php                     63\n",
       "           python                  59\n",
       "           mysql                   48\n",
       "           c++                     39\n",
       "           css                     37\n",
       "           c#                      37\n",
       "           html                    35\n",
       "           amazon-web-services     34\n",
       "Name: jobid, dtype: int64"
      ]
     },
     "execution_count": 205,
     "metadata": {},
     "output_type": "execute_result"
    }
   ],
   "source": [
    "# Amsterdam top technologies \n",
    "amsterdam_tech = technologies[technologies.city == 'Amsterdam'].groupby(['city', 'tech'])['jobid'].count().sort_values(ascending=False)\n",
    "amsterdam_tech.nlargest(10)"
   ]
  },
  {
   "cell_type": "code",
   "execution_count": 206,
   "metadata": {
    "collapsed": false
   },
   "outputs": [
    {
     "data": {
      "text/plain": [
       "city    tech      \n",
       "Berlin  java          364\n",
       "        javascript    333\n",
       "        php           174\n",
       "        python        153\n",
       "        mysql         152\n",
       "        angularjs     125\n",
       "        sql           118\n",
       "        css           115\n",
       "        linux          98\n",
       "        html           97\n",
       "Name: jobid, dtype: int64"
      ]
     },
     "execution_count": 206,
     "metadata": {},
     "output_type": "execute_result"
    }
   ],
   "source": [
    "# Berlin \n",
    "berlin_tech = technologies[technologies.city == 'Berlin'].groupby(['city', 'tech'])['jobid'].count().sort_values(ascending=False)\n",
    "berlin_tech.nlargest(10)"
   ]
  },
  {
   "cell_type": "code",
   "execution_count": 207,
   "metadata": {
    "collapsed": false,
    "scrolled": true
   },
   "outputs": [
    {
     "data": {
      "text/plain": [
       "tech\n",
       "javascript             542\n",
       "java                   537\n",
       "python                 531\n",
       "c++                    282\n",
       "linux                  237\n",
       "amazon-web-services    213\n",
       "sql                    198\n",
       "angularjs              177\n",
       "c#                     167\n",
       "ruby-on-rails          165\n",
       "Name: jobid, dtype: int64"
      ]
     },
     "execution_count": 207,
     "metadata": {},
     "output_type": "execute_result"
    }
   ],
   "source": [
    "# Silicon Valley \n",
    "cal_tech = technologies[technologies.state == 'CA'].groupby('tech')['jobid'].count().sort_values(ascending=False)\n",
    "cal_tech.nlargest(10)"
   ]
  },
  {
   "cell_type": "code",
   "execution_count": 166,
   "metadata": {
    "collapsed": false
   },
   "outputs": [
    {
     "data": {
      "text/plain": [
       "city                tech               \n",
       "New York            javascript             385\n",
       "Berlin              java                   359\n",
       "                    javascript             329\n",
       "New York            python                 294\n",
       "London              javascript             290\n",
       "                    java                   273\n",
       "New York            java                   227\n",
       "San Francisco       python                 215\n",
       "                    javascript             209\n",
       "London              python                 194\n",
       "San Francisco       java                   176\n",
       "Berlin              php                    173\n",
       "Seattle             java                   165\n",
       "München             java                   158\n",
       "Berlin              mysql                  152\n",
       "                    python                 152\n",
       "London              amazon-web-services    145\n",
       "München             javascript             137\n",
       "Rotterdam           php                    135\n",
       "London              c#                     135\n",
       "Toronto             javascript             132\n",
       "                    java                   131\n",
       "New York            node.js                129\n",
       "Rotterdam           scrum                  128\n",
       "New York            linux                  125\n",
       "Berlin              angularjs              125\n",
       "Rotterdam           zend-framework         125\n",
       "                    tdd                    122\n",
       "                    unit-testing           122\n",
       "Amsterdam           java                   120\n",
       "                                          ... \n",
       "London              sql                     78\n",
       "Philadelphia        mobile                  77\n",
       "Bangkok             java                    77\n",
       "San Francisco       scala                   76\n",
       "                    c++                     76\n",
       "No office location  javascript              76\n",
       "Washington          javascript              75\n",
       "New York            postgresql              74\n",
       "London              mysql                   74\n",
       "Berlin              spring                  74\n",
       "Chicago             c#                      73\n",
       "Denver              video                   73\n",
       "Washington          java                    72\n",
       "Stockholm           java                    72\n",
       "San Francisco       node.js                 72\n",
       "                    reactjs                 71\n",
       "New York            sysadmin                71\n",
       "London              c++                     71\n",
       "New York            php                     70\n",
       "                    android                 70\n",
       "San Francisco       go                      69\n",
       "Hamburg             php                     68\n",
       "San Francisco       angularjs               68\n",
       "New York            reactjs                 67\n",
       "Seattle             python                  67\n",
       "Dublin              java                    66\n",
       "Philadelphia        java                    65\n",
       "Stockholm           javascript              65\n",
       "Berlin              scala                   64\n",
       "Seattle             c++                     63\n",
       "Name: jobid, dtype: int64"
      ]
     },
     "execution_count": 166,
     "metadata": {},
     "output_type": "execute_result"
    }
   ],
   "source": [
    "# Ordered view of what technologies are the most sought after in wich city \n",
    "all_tech = technologies.groupby(['city', 'tech'])['jobid'].count().sort_values(ascending=False)\n",
    "amsterdam_tech.nlargest(100)"
   ]
  },
  {
   "cell_type": "markdown",
   "metadata": {},
   "source": [
    "## Dumping out data to csv\n",
    "\n",
    "This is only need to find values for cleaning up and normalizing values "
   ]
  },
  {
   "cell_type": "code",
   "execution_count": 26,
   "metadata": {
    "collapsed": false
   },
   "outputs": [],
   "source": [
    "cities.to_frame('city').to_csv('../data/cities.csv', encoding = 'utf-8')\n",
    "countries.to_frame('countries').to_csv('../data/countries.csv', encoding = 'utf-8')"
   ]
  },
  {
   "cell_type": "markdown",
   "metadata": {
    "collapsed": true
   },
   "source": [
    "# Writing it to Excel\n"
   ]
  },
  {
   "cell_type": "code",
   "execution_count": 168,
   "metadata": {
    "collapsed": false
   },
   "outputs": [],
   "source": [
    "ew = pd.ExcelWriter('../data/stackjobs.xlsx',options={'encoding':'utf-8'})\n",
    "df_cities.to_excel(ew, 'City')\n",
    "df_countries.to_excel(ew, 'Country')\n",
    "ew.save()"
   ]
  },
  {
   "cell_type": "code",
   "execution_count": null,
   "metadata": {
    "collapsed": true
   },
   "outputs": [],
   "source": []
  }
 ],
 "metadata": {
  "kernelspec": {
   "display_name": "Python 2",
   "language": "python",
   "name": "python2"
  },
  "language_info": {
   "codemirror_mode": {
    "name": "ipython",
    "version": 2
   },
   "file_extension": ".py",
   "mimetype": "text/x-python",
   "name": "python",
   "nbconvert_exporter": "python",
   "pygments_lexer": "ipython2",
   "version": "2.7.10"
  }
 },
 "nbformat": 4,
 "nbformat_minor": 0
}
