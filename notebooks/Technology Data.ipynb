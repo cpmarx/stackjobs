{
 "cells": [
  {
   "cell_type": "markdown",
   "metadata": {},
   "source": [
    "# Loading data"
   ]
  },
  {
   "cell_type": "code",
   "execution_count": 7,
   "metadata": {
    "collapsed": false
   },
   "outputs": [
    {
     "data": {
      "text/html": [
       "<div>\n",
       "<table border=\"1\" class=\"dataframe\">\n",
       "  <thead>\n",
       "    <tr style=\"text-align: right;\">\n",
       "      <th></th>\n",
       "      <th>jobid</th>\n",
       "      <th>weeknum</th>\n",
       "      <th>salary_low</th>\n",
       "      <th>salary_high</th>\n",
       "    </tr>\n",
       "  </thead>\n",
       "  <tbody>\n",
       "    <tr>\n",
       "      <th>count</th>\n",
       "      <td>22702.000000</td>\n",
       "      <td>22702.000000</td>\n",
       "      <td>2.270200e+04</td>\n",
       "      <td>2.270200e+04</td>\n",
       "    </tr>\n",
       "    <tr>\n",
       "      <th>mean</th>\n",
       "      <td>118549.537045</td>\n",
       "      <td>34.276628</td>\n",
       "      <td>1.487488e+04</td>\n",
       "      <td>2.262928e+04</td>\n",
       "    </tr>\n",
       "    <tr>\n",
       "      <th>std</th>\n",
       "      <td>11599.841612</td>\n",
       "      <td>7.442802</td>\n",
       "      <td>1.226277e+05</td>\n",
       "      <td>2.265854e+05</td>\n",
       "    </tr>\n",
       "    <tr>\n",
       "      <th>min</th>\n",
       "      <td>15018.000000</td>\n",
       "      <td>1.000000</td>\n",
       "      <td>0.000000e+00</td>\n",
       "      <td>0.000000e+00</td>\n",
       "    </tr>\n",
       "    <tr>\n",
       "      <th>25%</th>\n",
       "      <td>116655.750000</td>\n",
       "      <td>30.000000</td>\n",
       "      <td>0.000000e+00</td>\n",
       "      <td>0.000000e+00</td>\n",
       "    </tr>\n",
       "    <tr>\n",
       "      <th>50%</th>\n",
       "      <td>121380.000000</td>\n",
       "      <td>34.000000</td>\n",
       "      <td>0.000000e+00</td>\n",
       "      <td>0.000000e+00</td>\n",
       "    </tr>\n",
       "    <tr>\n",
       "      <th>75%</th>\n",
       "      <td>124591.750000</td>\n",
       "      <td>40.000000</td>\n",
       "      <td>0.000000e+00</td>\n",
       "      <td>0.000000e+00</td>\n",
       "    </tr>\n",
       "    <tr>\n",
       "      <th>max</th>\n",
       "      <td>132266.000000</td>\n",
       "      <td>52.000000</td>\n",
       "      <td>1.000000e+07</td>\n",
       "      <td>1.947870e+07</td>\n",
       "    </tr>\n",
       "  </tbody>\n",
       "</table>\n",
       "</div>"
      ],
      "text/plain": [
       "               jobid       weeknum    salary_low   salary_high\n",
       "count   22702.000000  22702.000000  2.270200e+04  2.270200e+04\n",
       "mean   118549.537045     34.276628  1.487488e+04  2.262928e+04\n",
       "std     11599.841612      7.442802  1.226277e+05  2.265854e+05\n",
       "min     15018.000000      1.000000  0.000000e+00  0.000000e+00\n",
       "25%    116655.750000     30.000000  0.000000e+00  0.000000e+00\n",
       "50%    121380.000000     34.000000  0.000000e+00  0.000000e+00\n",
       "75%    124591.750000     40.000000  0.000000e+00  0.000000e+00\n",
       "max    132266.000000     52.000000  1.000000e+07  1.947870e+07"
      ]
     },
     "execution_count": 7,
     "metadata": {},
     "output_type": "execute_result"
    }
   ],
   "source": [
    "import pandas as pd \n",
    "import numpy as np\n",
    "import matplotlib.pyplot as plt\n",
    "import time \n",
    "\n",
    "jobs = pd.read_csv('../data/stackoverflow_jobs_enhanced.csv', thousands=',')\n",
    "\n",
    "jobs.describe()"
   ]
  },
  {
   "cell_type": "markdown",
   "metadata": {},
   "source": [
    "# Filtering for important columns & splitting "
   ]
  },
  {
   "cell_type": "code",
   "execution_count": 3,
   "metadata": {
    "collapsed": false
   },
   "outputs": [],
   "source": [
    "tmp = jobs.loc[:,['jobid', 'city', 'state', 'country', 'tags', 'weeknum', 'salary', 'salary_low', 'salary_high', 'currency', 'equity']]\n",
    "\n",
    "tag_split = lambda x: pd.Series([i for i in x[1:-1].split(',')])\n",
    "tag_splitted = tmp['tags'].apply(tag_split)\n",
    "\n",
    "tag_splitted = tag_splitted.fillna('')"
   ]
  },
  {
   "cell_type": "code",
   "execution_count": 4,
   "metadata": {
    "collapsed": false
   },
   "outputs": [],
   "source": [
    "t = []\n",
    "\n",
    "for i in range(0, len(tmp)):    \n",
    "    num_tags = len(tag_splitted.iloc[i])\n",
    "    for j in range(0,num_tags):\n",
    "        tech = tag_splitted.iloc[i][j]        \n",
    "        if tech == '': break\n",
    "        # creating new row \n",
    "        new_row = {}\n",
    "        new_row['jobid'] = tmp.iloc[i]['jobid']\n",
    "        new_row['city'] = tmp.iloc[i]['city']\n",
    "        new_row['state'] = tmp.iloc[i]['state']\n",
    "        new_row['country'] = tmp.iloc[i]['country']\n",
    "        new_row['weeknum'] = tmp.iloc[i]['weeknum']\n",
    "        new_row['salary_low'] = tmp.iloc[i]['salary_low']\n",
    "        new_row['salary_high'] = tmp.iloc[i]['salary_high']\n",
    "        new_row['equity'] = tmp.iloc[i]['equity']\n",
    "        new_row['currency'] = tmp.iloc[i]['currency']            \n",
    "        new_row['tech'] = tech\n",
    "        # adding \n",
    "        t.append(new_row)\n",
    "        \n",
    "technologies = pd.DataFrame(t)        "
   ]
  },
  {
   "cell_type": "code",
   "execution_count": 5,
   "metadata": {
    "collapsed": false
   },
   "outputs": [],
   "source": [
    "#  removing spaces from the beginning and ending\n",
    "technologies.tech = technologies.tech.str.lstrip(' ')\n",
    "technologies.tech = technologies.tech.str.rstrip(' ')\n",
    "\n",
    "technologies.tech = technologies.tech.str.rstrip('\"')\n",
    "technologies.tech = technologies.tech.str.lstrip('\"')"
   ]
  },
  {
   "cell_type": "code",
   "execution_count": 6,
   "metadata": {
    "collapsed": false
   },
   "outputs": [],
   "source": [
    "# getting the mean figure for salary\n",
    "technologies['salary_mean'] = technologies[['salary_high','salary_low']].mean(axis=1)\n",
    "\n",
    "technologies.fillna('', inplace=True)\n",
    "# technologies.head(355)"
   ]
  },
  {
   "cell_type": "markdown",
   "metadata": {
    "collapsed": true
   },
   "source": [
    "# Top 10 technologies in London "
   ]
  },
  {
   "cell_type": "code",
   "execution_count": 6,
   "metadata": {
    "collapsed": false
   },
   "outputs": [
    {
     "data": {
      "text/plain": [
       "city    tech               \n",
       "London  javascript             276\n",
       "        java                   261\n",
       "        python                 186\n",
       "        amazon-web-services    137\n",
       "        c#                     131\n",
       "        angularjs               99\n",
       "        linux                   91\n",
       "        php                     87\n",
       "        ruby                    81\n",
       "        html                    81\n",
       "        node.js                 81\n",
       "Name: jobid, dtype: int64"
      ]
     },
     "execution_count": 6,
     "metadata": {},
     "output_type": "execute_result"
    }
   ],
   "source": [
    "technologies[technologies.city == 'London'].groupby(['city', 'tech'])['jobid'].count().sort_values(ascending=False).nlargest(10)"
   ]
  },
  {
   "cell_type": "markdown",
   "metadata": {},
   "source": [
    "# ... and Berlin"
   ]
  },
  {
   "cell_type": "code",
   "execution_count": 7,
   "metadata": {
    "collapsed": false
   },
   "outputs": [
    {
     "data": {
      "text/plain": [
       "city    tech      \n",
       "Berlin  java          327\n",
       "        javascript    302\n",
       "        php           162\n",
       "        mysql         141\n",
       "        python        131\n",
       "        angularjs     115\n",
       "        sql           110\n",
       "        css           102\n",
       "        html           86\n",
       "        linux          85\n",
       "Name: jobid, dtype: int64"
      ]
     },
     "execution_count": 7,
     "metadata": {},
     "output_type": "execute_result"
    }
   ],
   "source": [
    "technologies[technologies.city == 'Berlin'].groupby(['city', 'tech'])['jobid'].count().sort_values(ascending=False).nlargest(10)"
   ]
  },
  {
   "cell_type": "markdown",
   "metadata": {},
   "source": [
    "# Top 10 technologies in Silicon Valley"
   ]
  },
  {
   "cell_type": "code",
   "execution_count": 8,
   "metadata": {
    "collapsed": false
   },
   "outputs": [
    {
     "data": {
      "text/plain": [
       "tech\n",
       "javascript             541\n",
       "java                   531\n",
       "python                 529\n",
       "c++                    278\n",
       "linux                  230\n",
       "amazon-web-services    210\n",
       "sql                    196\n",
       "angularjs              177\n",
       "c#                     165\n",
       "ruby-on-rails          165\n",
       "Name: jobid, dtype: int64"
      ]
     },
     "execution_count": 8,
     "metadata": {},
     "output_type": "execute_result"
    }
   ],
   "source": [
    "technologies[technologies.state == 'CA'].groupby('tech')['jobid'].count().sort_values(ascending=False).nlargest(10)"
   ]
  },
  {
   "cell_type": "markdown",
   "metadata": {},
   "source": [
    "# ... and Texas"
   ]
  },
  {
   "cell_type": "code",
   "execution_count": 9,
   "metadata": {
    "collapsed": false
   },
   "outputs": [
    {
     "data": {
      "text/plain": [
       "tech\n",
       "javascript             143\n",
       "java                    94\n",
       "c#                      86\n",
       "python                  70\n",
       "angularjs               51\n",
       "mysql                   45\n",
       "amazon-web-services     42\n",
       "linux                   39\n",
       "sql                     38\n",
       ".net                    37\n",
       "Name: jobid, dtype: int64"
      ]
     },
     "execution_count": 9,
     "metadata": {},
     "output_type": "execute_result"
    }
   ],
   "source": [
    "technologies[technologies.state == 'TX'].groupby('tech')['jobid'].count().sort_values(ascending=False).nlargest(10)"
   ]
  },
  {
   "cell_type": "markdown",
   "metadata": {},
   "source": [
    "# Best place to do machine learning... "
   ]
  },
  {
   "cell_type": "code",
   "execution_count": 10,
   "metadata": {
    "collapsed": false
   },
   "outputs": [
    {
     "data": {
      "text/plain": [
       "city\n",
       "San Francisco    17\n",
       "Rotterdam        15\n",
       "London           11\n",
       "Berlin           10\n",
       "Rotterdam        14\n",
       "London           10\n",
       "Mountain View     5\n",
       "New York          5\n",
       "Name: city, dtype: int64"
      ]
     },
     "execution_count": 10,
     "metadata": {},
     "output_type": "execute_result"
    }
   ],
   "source": [
    "technologies[technologies.tech.str.startswith('machine-learning', na=False)].groupby('city')['city'].count().sort_values(ascending=False).nlargest(10)"
   ]
  },
  {
   "cell_type": "markdown",
   "metadata": {},
   "source": [
    "# ... or Apache Spark"
   ]
  },
  {
   "cell_type": "code",
   "execution_count": 11,
   "metadata": {
    "collapsed": false
   },
   "outputs": [
    {
     "data": {
      "text/plain": [
       "city\n",
       "Berlin           19\n",
       "London           19\n",
       "San Francisco    18\n",
       "New York         12\n",
       "Seattle           7\n",
       "Toronto           6\n",
       "Stockport         6\n",
       "Hamburg           6\n",
       "Ottawa            5\n",
       "Singapore         5\n",
       "Name: city, dtype: int64"
      ]
     },
     "execution_count": 11,
     "metadata": {},
     "output_type": "execute_result"
    }
   ],
   "source": [
    "technologies[technologies.tech.str.startswith('apache-spark', na=False)].groupby('city')['city'].count().sort_values(ascending=False).nlargest(10)"
   ]
  },
  {
   "cell_type": "code",
   "execution_count": 12,
   "metadata": {
    "collapsed": true
   },
   "outputs": [],
   "source": [
    "# saving the result to csv \n",
    "technologies.to_csv('../data/technologies.csv', index = False)"
   ]
  },
  {
   "cell_type": "code",
   "execution_count": 13,
   "metadata": {
    "collapsed": false
   },
   "outputs": [],
   "source": [
    "top_tech = technologies['tech'].value_counts().nlargest(100)"
   ]
  },
  {
   "cell_type": "markdown",
   "metadata": {},
   "source": [
    "# Top technologies"
   ]
  },
  {
   "cell_type": "code",
   "execution_count": 14,
   "metadata": {
    "collapsed": true
   },
   "outputs": [],
   "source": [
    "# saving the top technologies\n",
    "top_tech.to_csv('../data/top_technologies.csv')"
   ]
  },
  {
   "cell_type": "code",
   "execution_count": null,
   "metadata": {
    "collapsed": true
   },
   "outputs": [],
   "source": []
  }
 ],
 "metadata": {
  "kernelspec": {
   "display_name": "Python 2",
   "language": "python",
   "name": "python2"
  },
  "language_info": {
   "codemirror_mode": {
    "name": "ipython",
    "version": 2
   },
   "file_extension": ".py",
   "mimetype": "text/x-python",
   "name": "python",
   "nbconvert_exporter": "python",
   "pygments_lexer": "ipython2",
   "version": "2.7.12"
  }
 },
 "nbformat": 4,
 "nbformat_minor": 0
}
