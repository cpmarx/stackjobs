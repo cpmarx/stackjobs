{
 "cells": [
  {
   "cell_type": "markdown",
   "metadata": {},
   "source": [
    "# Loading data"
   ]
  },
  {
   "cell_type": "code",
   "execution_count": 1,
   "metadata": {
    "collapsed": false
   },
   "outputs": [],
   "source": [
    "import pandas as pd \n",
    "import numpy as np\n",
    "import matplotlib.pyplot as plt\n",
    "import time \n",
    "\n",
    "jobs = pd.read_csv('../data/stackoverflow_jobs_enhanced.csv', thousands=',')"
   ]
  },
  {
   "cell_type": "markdown",
   "metadata": {},
   "source": [
    "# Filtering for important columns & splitting "
   ]
  },
  {
   "cell_type": "code",
   "execution_count": 2,
   "metadata": {
    "collapsed": false
   },
   "outputs": [],
   "source": [
    "tmp = jobs.loc[:,['jobid', 'city', 'state', 'country', 'tags', 'weeknum', 'salary', 'salary_low', 'salary_high', 'currency', 'equity']]\n",
    "\n",
    "tag_split = lambda x: pd.Series([i for i in x[1:-1].split(',')])\n",
    "tag_splitted = tmp['tags'].apply(tag_split)\n",
    "\n",
    "tag_splitted = tag_splitted.fillna('')"
   ]
  },
  {
   "cell_type": "code",
   "execution_count": 3,
   "metadata": {
    "collapsed": false
   },
   "outputs": [],
   "source": [
    "t = []\n",
    "\n",
    "for i in range(0, len(tmp)):    \n",
    "    num_tags = len(tag_splitted.iloc[i])\n",
    "    for j in range(0,num_tags):\n",
    "        tech = tag_splitted.iloc[i][j]        \n",
    "        if tech == '': break\n",
    "        # creating new row \n",
    "        new_row = {}\n",
    "        new_row['jobid'] = tmp.iloc[i]['jobid']\n",
    "        new_row['city'] = tmp.iloc[i]['city']\n",
    "        new_row['state'] = tmp.iloc[i]['state']\n",
    "        new_row['country'] = tmp.iloc[i]['country']\n",
    "        new_row['weeknum'] = tmp.iloc[i]['weeknum']\n",
    "        new_row['salary_low'] = tmp.iloc[i]['salary_low']\n",
    "        new_row['salary_high'] = tmp.iloc[i]['salary_high']\n",
    "        new_row['equity'] = tmp.iloc[i]['equity']\n",
    "        new_row['currency'] = tmp.iloc[i]['currency']            \n",
    "        new_row['tech'] = tech\n",
    "        # adding \n",
    "        t.append(new_row)\n",
    "        \n",
    "technologies = pd.DataFrame(t)        "
   ]
  },
  {
   "cell_type": "code",
   "execution_count": 4,
   "metadata": {
    "collapsed": false
   },
   "outputs": [],
   "source": [
    "#  removing spaces from the beginning and ending\n",
    "technologies.tech = technologies.tech.str.lstrip(' ')\n",
    "technologies.tech = technologies.tech.str.rstrip(' ')\n",
    "\n",
    "technologies.tech = technologies.tech.str.rstrip('\"')\n",
    "technologies.tech = technologies.tech.str.lstrip('\"')"
   ]
  },
  {
   "cell_type": "code",
   "execution_count": 5,
   "metadata": {
    "collapsed": false
   },
   "outputs": [],
   "source": [
    "# getting the mean figure for salary\n",
    "technologies['salary_mean'] = technologies[['salary_high','salary_low']].mean(axis=1)\n",
    "\n",
    "technologies.fillna('', inplace=True)\n",
    "# technologies.head(355)"
   ]
  },
  {
   "cell_type": "markdown",
   "metadata": {
    "collapsed": true
   },
   "source": [
    "# Top 10 technologies in London "
   ]
  },
  {
   "cell_type": "code",
   "execution_count": 6,
   "metadata": {
    "collapsed": false
   },
   "outputs": [
    {
     "data": {
      "text/plain": [
       "city    tech               \n",
       "London  javascript             273\n",
       "        java                   259\n",
       "        python                 181\n",
       "        amazon-web-services    134\n",
       "        c#                     130\n",
       "        angularjs               97\n",
       "        linux                   88\n",
       "        php                     83\n",
       "        node.js                 81\n",
       "        html                    81\n",
       "Name: jobid, dtype: int64"
      ]
     },
     "execution_count": 6,
     "metadata": {},
     "output_type": "execute_result"
    }
   ],
   "source": [
    "technologies[technologies.city == 'London'].groupby(['city', 'tech'])['jobid'].count().sort_values(ascending=False).nlargest(10)"
   ]
  },
  {
   "cell_type": "markdown",
   "metadata": {},
   "source": [
    "# ... and Berlin"
   ]
  },
  {
   "cell_type": "code",
   "execution_count": 7,
   "metadata": {
    "collapsed": false
   },
   "outputs": [
    {
     "data": {
      "text/plain": [
       "city    tech      \n",
       "Berlin  java          311\n",
       "        javascript    288\n",
       "        php           159\n",
       "        mysql         139\n",
       "        python        123\n",
       "        angularjs     111\n",
       "        sql           104\n",
       "        css            96\n",
       "        html           82\n",
       "        linux          78\n",
       "Name: jobid, dtype: int64"
      ]
     },
     "execution_count": 7,
     "metadata": {},
     "output_type": "execute_result"
    }
   ],
   "source": [
    "technologies[technologies.city == 'Berlin'].groupby(['city', 'tech'])['jobid'].count().sort_values(ascending=False).nlargest(10)"
   ]
  },
  {
   "cell_type": "markdown",
   "metadata": {},
   "source": [
    "# Top 10 technologies in Silicon Valley"
   ]
  },
  {
   "cell_type": "code",
   "execution_count": 8,
   "metadata": {
    "collapsed": false
   },
   "outputs": [
    {
     "data": {
      "text/plain": [
       "tech\n",
       "javascript             538\n",
       "java                   530\n",
       "python                 527\n",
       "c++                    278\n",
       "linux                  230\n",
       "amazon-web-services    210\n",
       "sql                    196\n",
       "angularjs              177\n",
       "c#                     165\n",
       "ruby-on-rails          165\n",
       "Name: jobid, dtype: int64"
      ]
     },
     "execution_count": 8,
     "metadata": {},
     "output_type": "execute_result"
    }
   ],
   "source": [
    "technologies[technologies.state == 'CA'].groupby('tech')['jobid'].count().sort_values(ascending=False).nlargest(10)"
   ]
  },
  {
   "cell_type": "markdown",
   "metadata": {},
   "source": [
    "# ... and Texas"
   ]
  },
  {
   "cell_type": "code",
   "execution_count": 9,
   "metadata": {
    "collapsed": false
   },
   "outputs": [
    {
     "data": {
      "text/plain": [
       "tech\n",
       "javascript             143\n",
       "java                    93\n",
       "c#                      86\n",
       "python                  70\n",
       "angularjs               51\n",
       "mysql                   45\n",
       "amazon-web-services     42\n",
       "linux                   39\n",
       "sql                     38\n",
       ".net                    37\n",
       "Name: jobid, dtype: int64"
      ]
     },
     "execution_count": 9,
     "metadata": {},
     "output_type": "execute_result"
    }
   ],
   "source": [
    "technologies[technologies.state == 'TX'].groupby('tech')['jobid'].count().sort_values(ascending=False).nlargest(10)"
   ]
  },
  {
   "cell_type": "markdown",
   "metadata": {},
   "source": [
    "# Best place to do machine learning... "
   ]
  },
  {
   "cell_type": "code",
   "execution_count": 10,
   "metadata": {
    "collapsed": false
   },
   "outputs": [
    {
     "data": {
      "text/plain": [
       "city\n",
       "San Francisco    17\n",
       "Rotterdam        14\n",
       "London           10\n",
       "Berlin           10\n",
       "Palo Alto         9\n",
       "München           8\n",
       "Seattle           6\n",
       "Cambridge         6\n",
       "Hamburg           5\n",
       "New York          5\n",
       "Name: city, dtype: int64"
      ]
     },
     "execution_count": 10,
     "metadata": {},
     "output_type": "execute_result"
    }
   ],
   "source": [
    "technologies[technologies.tech.str.startswith('machine-learning', na=False)].groupby('city')['city'].count().sort_values(ascending=False).nlargest(10)"
   ]
  },
  {
   "cell_type": "markdown",
   "metadata": {},
   "source": [
    "# ... or Apache Spark"
   ]
  },
  {
   "cell_type": "code",
   "execution_count": 11,
   "metadata": {
    "collapsed": false
   },
   "outputs": [
    {
     "data": {
      "text/plain": [
       "city\n",
       "London           19\n",
       "San Francisco    18\n",
       "Berlin           14\n",
       "New York         12\n",
       "Seattle           7\n",
       "Stockport         6\n",
       "Hamburg           6\n",
       "Toronto           6\n",
       "Ottawa            5\n",
       "Singapore         5\n",
       "Name: city, dtype: int64"
      ]
     },
     "execution_count": 11,
     "metadata": {},
     "output_type": "execute_result"
    }
   ],
   "source": [
    "technologies[technologies.tech.str.startswith('apache-spark', na=False)].groupby('city')['city'].count().sort_values(ascending=False).nlargest(10)"
   ]
  },
  {
   "cell_type": "code",
   "execution_count": 12,
   "metadata": {
    "collapsed": true
   },
   "outputs": [],
   "source": [
    "# saving the result to csv \n",
    "jobs.to_csv('../data/technologies.csv', index = False)"
   ]
  },
  {
   "cell_type": "code",
   "execution_count": null,
   "metadata": {
    "collapsed": true
   },
   "outputs": [],
   "source": []
  }
 ],
 "metadata": {
  "kernelspec": {
   "display_name": "Python 2",
   "language": "python",
   "name": "python2"
  },
  "language_info": {
   "codemirror_mode": {
    "name": "ipython",
    "version": 2
   },
   "file_extension": ".py",
   "mimetype": "text/x-python",
   "name": "python",
   "nbconvert_exporter": "python",
   "pygments_lexer": "ipython2",
   "version": "2.7.12"
  }
 },
 "nbformat": 4,
 "nbformat_minor": 0
}
