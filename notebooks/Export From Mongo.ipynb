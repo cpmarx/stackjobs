{
 "cells": [
  {
   "cell_type": "code",
   "execution_count": 1,
   "metadata": {
    "collapsed": true
   },
   "outputs": [],
   "source": [
    "import pymongo\n",
    "import datetime\n",
    "import pandas as pd\n",
    "\n",
    "client = pymongo.MongoClient('localhost', 27017)\n",
    "db = client['stackoverflow']\n",
    "jobs = db['jobs']\n",
    "\n",
    "t = datetime.date.today()\n",
    "weeknum = t.isocalendar()[1] \n",
    "year = t.isocalendar()[0] "
   ]
  },
  {
   "cell_type": "code",
   "execution_count": 24,
   "metadata": {
    "collapsed": false
   },
   "outputs": [],
   "source": [
    "def export_jobs(year, weeknum): \n",
    "    df = pd.DataFrame(list(jobs.find({ \"weeknum\": weeknum}))) \n",
    "    \n",
    "    # Dropping _id column\n",
    "    df = df.drop('_id', 1)\n",
    "\n",
    "    out_path = \"./data/export/jobs_export_\" + str(year) + \"_w\" + str(weeknum)  + \".csv\"\n",
    "    print \"Exporting \" + out_path + \" with \" + str(len(df.index)) + \" rows.\"\n",
    "    \n",
    "    df.to_csv(out_path, index = False, encoding='utf-8')\n",
    "    \n"
   ]
  },
  {
   "cell_type": "code",
   "execution_count": 28,
   "metadata": {
    "collapsed": false
   },
   "outputs": [
    {
     "name": "stdout",
     "output_type": "stream",
     "text": [
      "Exporting ./data/export/jobs_export_2016_w42.csv with 698 rows.\n",
      "Exporting ./data/export/jobs_export_2016_w41.csv with 762 rows.\n"
     ]
    }
   ],
   "source": [
    "# this week \n",
    "export_jobs(year, weeknum)\n",
    "# previous week\n",
    "export_jobs(year, weeknum-1)\n"
   ]
  },
  {
   "cell_type": "code",
   "execution_count": null,
   "metadata": {
    "collapsed": true
   },
   "outputs": [],
   "source": []
  }
 ],
 "metadata": {
  "kernelspec": {
   "display_name": "Python 2",
   "language": "python",
   "name": "python2"
  },
  "language_info": {
   "codemirror_mode": {
    "name": "ipython",
    "version": 2
   },
   "file_extension": ".py",
   "mimetype": "text/x-python",
   "name": "python",
   "nbconvert_exporter": "python",
   "pygments_lexer": "ipython2",
   "version": "2.7.12"
  }
 },
 "nbformat": 4,
 "nbformat_minor": 1
}
