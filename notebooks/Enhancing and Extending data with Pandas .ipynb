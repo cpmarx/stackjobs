{
 "cells": [
  {
   "cell_type": "code",
   "execution_count": 1,
   "metadata": {
    "collapsed": false
   },
   "outputs": [],
   "source": [
    "import pandas as pd \n",
    "import numpy as np\n",
    "\n",
    "# Let's change how printing the series works. I need to see all elements in the Series \n",
    "# source: http://stackoverflow.com/questions/19124601/is-there-a-way-to-pretty-print-the-entire-pandas-series-dataframe\n",
    "pd.set_option('display.max_columns', 70)\n",
    "pd.set_option('display.max_rows', 70)\n",
    "\n",
    "jobs = pd.read_csv('data/stackoverflow_jobs.csv')"
   ]
  },
  {
   "cell_type": "markdown",
   "metadata": {},
   "source": [
    "# Exploring data"
   ]
  },
  {
   "cell_type": "code",
   "execution_count": 2,
   "metadata": {
    "collapsed": false
   },
   "outputs": [
    {
     "data": {
      "text/plain": [
       "Index([u'jobid', u'title', u'employer', u'location', u'salary', u'description',\n",
       "       u'tags', u'url', u'date', u'weeknum'],\n",
       "      dtype='object')"
      ]
     },
     "execution_count": 2,
     "metadata": {},
     "output_type": "execute_result"
    }
   ],
   "source": [
    "jobs.columns"
   ]
  },
  {
   "cell_type": "code",
   "execution_count": 3,
   "metadata": {
    "collapsed": false
   },
   "outputs": [
    {
     "data": {
      "text/plain": [
       "jobid           int64\n",
       "title          object\n",
       "employer       object\n",
       "location       object\n",
       "salary         object\n",
       "description    object\n",
       "tags           object\n",
       "url            object\n",
       "date           object\n",
       "weeknum         int64\n",
       "dtype: object"
      ]
     },
     "execution_count": 3,
     "metadata": {},
     "output_type": "execute_result"
    }
   ],
   "source": [
    "jobs.dtypes"
   ]
  },
  {
   "cell_type": "code",
   "execution_count": 4,
   "metadata": {
    "collapsed": false
   },
   "outputs": [
    {
     "data": {
      "text/html": [
       "<div>\n",
       "<table border=\"1\" class=\"dataframe\">\n",
       "  <thead>\n",
       "    <tr style=\"text-align: right;\">\n",
       "      <th></th>\n",
       "      <th>jobid</th>\n",
       "      <th>weeknum</th>\n",
       "    </tr>\n",
       "  </thead>\n",
       "  <tbody>\n",
       "    <tr>\n",
       "      <th>count</th>\n",
       "      <td>5691.000000</td>\n",
       "      <td>5691.000000</td>\n",
       "    </tr>\n",
       "    <tr>\n",
       "      <th>mean</th>\n",
       "      <td>118535.378141</td>\n",
       "      <td>35.626428</td>\n",
       "    </tr>\n",
       "    <tr>\n",
       "      <th>std</th>\n",
       "      <td>11499.058975</td>\n",
       "      <td>3.898488</td>\n",
       "    </tr>\n",
       "    <tr>\n",
       "      <th>min</th>\n",
       "      <td>15018.000000</td>\n",
       "      <td>30.000000</td>\n",
       "    </tr>\n",
       "    <tr>\n",
       "      <th>25%</th>\n",
       "      <td>117665.000000</td>\n",
       "      <td>32.000000</td>\n",
       "    </tr>\n",
       "    <tr>\n",
       "      <th>50%</th>\n",
       "      <td>122131.000000</td>\n",
       "      <td>35.000000</td>\n",
       "    </tr>\n",
       "    <tr>\n",
       "      <th>75%</th>\n",
       "      <td>124383.500000</td>\n",
       "      <td>40.000000</td>\n",
       "    </tr>\n",
       "    <tr>\n",
       "      <th>max</th>\n",
       "      <td>127068.000000</td>\n",
       "      <td>42.000000</td>\n",
       "    </tr>\n",
       "  </tbody>\n",
       "</table>\n",
       "</div>"
      ],
      "text/plain": [
       "               jobid      weeknum\n",
       "count    5691.000000  5691.000000\n",
       "mean   118535.378141    35.626428\n",
       "std     11499.058975     3.898488\n",
       "min     15018.000000    30.000000\n",
       "25%    117665.000000    32.000000\n",
       "50%    122131.000000    35.000000\n",
       "75%    124383.500000    40.000000\n",
       "max    127068.000000    42.000000"
      ]
     },
     "execution_count": 4,
     "metadata": {},
     "output_type": "execute_result"
    }
   ],
   "source": [
    "jobs.describe()"
   ]
  },
  {
   "cell_type": "code",
   "execution_count": 5,
   "metadata": {
    "collapsed": false
   },
   "outputs": [
    {
     "data": {
      "text/html": [
       "<div>\n",
       "<table border=\"1\" class=\"dataframe\">\n",
       "  <thead>\n",
       "    <tr style=\"text-align: right;\">\n",
       "      <th></th>\n",
       "      <th>jobid</th>\n",
       "      <th>title</th>\n",
       "      <th>employer</th>\n",
       "      <th>location</th>\n",
       "      <th>salary</th>\n",
       "      <th>description</th>\n",
       "      <th>tags</th>\n",
       "      <th>url</th>\n",
       "      <th>date</th>\n",
       "      <th>weeknum</th>\n",
       "    </tr>\n",
       "  </thead>\n",
       "  <tbody>\n",
       "    <tr>\n",
       "      <th>0</th>\n",
       "      <td>113232</td>\n",
       "      <td>Software Engineer: iOS</td>\n",
       "      <td>Postmates Inc.</td>\n",
       "      <td>San Francisco, CA</td>\n",
       "      <td>$120,000 - 170,000\\r\\n\\r\\n                    ...</td>\n",
       "      <td>Postmates runs the largest on-demand delivery ...</td>\n",
       "      <td>[\"ios\",\"objective-c\",\"swift\"]</td>\n",
       "      <td>/jobs/113232/software-engineer-ios-postmates-inc</td>\n",
       "      <td>2016-07-25</td>\n",
       "      <td>30</td>\n",
       "    </tr>\n",
       "    <tr>\n",
       "      <th>1</th>\n",
       "      <td>121583</td>\n",
       "      <td>Care Coach - Spanish Bilingual</td>\n",
       "      <td>Health Dialog</td>\n",
       "      <td>Bakersfield, CA</td>\n",
       "      <td>NaN</td>\n",
       "      <td>racking CodeCRCCHSPBKRSFDCA1162Job Description...</td>\n",
       "      <td>[\"cold-fusion\"]</td>\n",
       "      <td>/jobs/121583/care-coach-spanish-bilingual-heal...</td>\n",
       "      <td>2016-07-25</td>\n",
       "      <td>30</td>\n",
       "    </tr>\n",
       "    <tr>\n",
       "      <th>2</th>\n",
       "      <td>121582</td>\n",
       "      <td>Drupal Developer</td>\n",
       "      <td>C4Media</td>\n",
       "      <td>Sibiu, Romania</td>\n",
       "      <td>NaN</td>\n",
       "      <td>You are an experienced Drupal developer and we...</td>\n",
       "      <td>[\"ubuntu-lamp\",\"drupal\"]</td>\n",
       "      <td>/jobs/121582/drupal-developer-c4media</td>\n",
       "      <td>2016-07-25</td>\n",
       "      <td>30</td>\n",
       "    </tr>\n",
       "    <tr>\n",
       "      <th>3</th>\n",
       "      <td>109825</td>\n",
       "      <td>Database Administrator - DevOps - SQL</td>\n",
       "      <td>Spot Trading LLC</td>\n",
       "      <td>Chicago, IL</td>\n",
       "      <td>NaN</td>\n",
       "      <td>Summary\\r\\nAs Spot Trading continues to assert...</td>\n",
       "      <td>[\"database\",\"sql-server\",\"nosql\",\"cassandra\",\"...</td>\n",
       "      <td>/jobs/109825/database-administrator-devops-sql...</td>\n",
       "      <td>2016-07-25</td>\n",
       "      <td>30</td>\n",
       "    </tr>\n",
       "    <tr>\n",
       "      <th>4</th>\n",
       "      <td>105355</td>\n",
       "      <td>QA Engineer</td>\n",
       "      <td>TeleTracking Technologies</td>\n",
       "      <td>Pittsburgh, PA</td>\n",
       "      <td>NaN</td>\n",
       "      <td>The primary purpose of the Quality Assurance E...</td>\n",
       "      <td>[\"c#\",\"asp.net\",\"qa\"]</td>\n",
       "      <td>/jobs/105355/qa-engineer-teletracking-technolo...</td>\n",
       "      <td>2016-07-25</td>\n",
       "      <td>30</td>\n",
       "    </tr>\n",
       "  </tbody>\n",
       "</table>\n",
       "</div>"
      ],
      "text/plain": [
       "    jobid                                  title                   employer  \\\n",
       "0  113232                 Software Engineer: iOS             Postmates Inc.   \n",
       "1  121583         Care Coach - Spanish Bilingual              Health Dialog   \n",
       "2  121582                       Drupal Developer                    C4Media   \n",
       "3  109825  Database Administrator - DevOps - SQL           Spot Trading LLC   \n",
       "4  105355                            QA Engineer  TeleTracking Technologies   \n",
       "\n",
       "            location                                             salary  \\\n",
       "0  San Francisco, CA  $120,000 - 170,000\\r\\n\\r\\n                    ...   \n",
       "1    Bakersfield, CA                                                NaN   \n",
       "2     Sibiu, Romania                                                NaN   \n",
       "3        Chicago, IL                                                NaN   \n",
       "4     Pittsburgh, PA                                                NaN   \n",
       "\n",
       "                                         description  \\\n",
       "0  Postmates runs the largest on-demand delivery ...   \n",
       "1  racking CodeCRCCHSPBKRSFDCA1162Job Description...   \n",
       "2  You are an experienced Drupal developer and we...   \n",
       "3  Summary\\r\\nAs Spot Trading continues to assert...   \n",
       "4  The primary purpose of the Quality Assurance E...   \n",
       "\n",
       "                                                tags  \\\n",
       "0                      [\"ios\",\"objective-c\",\"swift\"]   \n",
       "1                                    [\"cold-fusion\"]   \n",
       "2                           [\"ubuntu-lamp\",\"drupal\"]   \n",
       "3  [\"database\",\"sql-server\",\"nosql\",\"cassandra\",\"...   \n",
       "4                              [\"c#\",\"asp.net\",\"qa\"]   \n",
       "\n",
       "                                                 url        date  weeknum  \n",
       "0   /jobs/113232/software-engineer-ios-postmates-inc  2016-07-25       30  \n",
       "1  /jobs/121583/care-coach-spanish-bilingual-heal...  2016-07-25       30  \n",
       "2              /jobs/121582/drupal-developer-c4media  2016-07-25       30  \n",
       "3  /jobs/109825/database-administrator-devops-sql...  2016-07-25       30  \n",
       "4  /jobs/105355/qa-engineer-teletracking-technolo...  2016-07-25       30  "
      ]
     },
     "execution_count": 5,
     "metadata": {},
     "output_type": "execute_result"
    }
   ],
   "source": [
    "jobs.head()"
   ]
  },
  {
   "cell_type": "code",
   "execution_count": 6,
   "metadata": {
    "collapsed": false
   },
   "outputs": [
    {
     "data": {
      "text/html": [
       "<div>\n",
       "<table border=\"1\" class=\"dataframe\">\n",
       "  <thead>\n",
       "    <tr style=\"text-align: right;\">\n",
       "      <th></th>\n",
       "      <th>jobid</th>\n",
       "      <th>title</th>\n",
       "      <th>employer</th>\n",
       "      <th>location</th>\n",
       "      <th>salary</th>\n",
       "      <th>description</th>\n",
       "      <th>tags</th>\n",
       "      <th>url</th>\n",
       "      <th>date</th>\n",
       "      <th>weeknum</th>\n",
       "    </tr>\n",
       "  </thead>\n",
       "  <tbody>\n",
       "    <tr>\n",
       "      <th>5686</th>\n",
       "      <td>123217</td>\n",
       "      <td>Senior Back End Developer - Big Data</td>\n",
       "      <td>INFARE</td>\n",
       "      <td>Copenhagen, Denmark</td>\n",
       "      <td>NaN</td>\n",
       "      <td>At INFARE, we are not happy if we simply achie...</td>\n",
       "      <td>[\"java\",\"scala\",\"c#\",\".net\",\"bigdata\"]</td>\n",
       "      <td>/jobs/123217/senior-back-end-developer-big-dat...</td>\n",
       "      <td>2016-10-18</td>\n",
       "      <td>42</td>\n",
       "    </tr>\n",
       "    <tr>\n",
       "      <th>5687</th>\n",
       "      <td>111740</td>\n",
       "      <td>Developer C/C++ (Network 2020)</td>\n",
       "      <td>Samsung R&amp;D Institute</td>\n",
       "      <td>Warsaw, Poland</td>\n",
       "      <td>NaN</td>\n",
       "      <td>Who we are:\\r\\n\\r\\nWe implement GSMA standards...</td>\n",
       "      <td>[\"c\",\"c++\",\"git\",\"tcp\",\"rcs\"]</td>\n",
       "      <td>/jobs/111740/developer-c-c-plus-plus-network-2...</td>\n",
       "      <td>2016-10-18</td>\n",
       "      <td>42</td>\n",
       "    </tr>\n",
       "    <tr>\n",
       "      <th>5688</th>\n",
       "      <td>116619</td>\n",
       "      <td>QA Automation Engineer (m/f) wanted!</td>\n",
       "      <td>Project A Ventures</td>\n",
       "      <td>Berlin, Deutschland</td>\n",
       "      <td>NaN</td>\n",
       "      <td>We are looking for cutting-edge QA talents who...</td>\n",
       "      <td>[\"automated-tests\",\"performance-testing\",\"jira...</td>\n",
       "      <td>/jobs/116619/qa-automation-engineer-m-f-wanted...</td>\n",
       "      <td>2016-10-18</td>\n",
       "      <td>42</td>\n",
       "    </tr>\n",
       "    <tr>\n",
       "      <th>5689</th>\n",
       "      <td>104969</td>\n",
       "      <td>AI Programmer</td>\n",
       "      <td>Splash Damage</td>\n",
       "      <td>Bromley, UK</td>\n",
       "      <td>NaN</td>\n",
       "      <td>As a member of Splash Damage’s AI Programming ...</td>\n",
       "      <td>[\"c++\",\"unreal-engine4\",\"artificial-intelligen...</td>\n",
       "      <td>/jobs/104969/ai-programmer-splash-damage</td>\n",
       "      <td>2016-10-18</td>\n",
       "      <td>42</td>\n",
       "    </tr>\n",
       "    <tr>\n",
       "      <th>5690</th>\n",
       "      <td>123218</td>\n",
       "      <td>Conversion Optimization Specialist (f/m)</td>\n",
       "      <td>simplesurance GmbH</td>\n",
       "      <td>Berlin, Germany</td>\n",
       "      <td>NaN</td>\n",
       "      <td>Are you passionate about improving conversion ...</td>\n",
       "      <td>[\"html\",\"css\",\"adobe\"]</td>\n",
       "      <td>/jobs/123218/conversion-optimization-specialis...</td>\n",
       "      <td>2016-10-18</td>\n",
       "      <td>42</td>\n",
       "    </tr>\n",
       "  </tbody>\n",
       "</table>\n",
       "</div>"
      ],
      "text/plain": [
       "       jobid                                     title               employer  \\\n",
       "5686  123217      Senior Back End Developer - Big Data                 INFARE   \n",
       "5687  111740            Developer C/C++ (Network 2020)  Samsung R&D Institute   \n",
       "5688  116619      QA Automation Engineer (m/f) wanted!     Project A Ventures   \n",
       "5689  104969                             AI Programmer          Splash Damage   \n",
       "5690  123218  Conversion Optimization Specialist (f/m)     simplesurance GmbH   \n",
       "\n",
       "                 location salary  \\\n",
       "5686  Copenhagen, Denmark    NaN   \n",
       "5687       Warsaw, Poland    NaN   \n",
       "5688  Berlin, Deutschland    NaN   \n",
       "5689          Bromley, UK    NaN   \n",
       "5690      Berlin, Germany    NaN   \n",
       "\n",
       "                                            description  \\\n",
       "5686  At INFARE, we are not happy if we simply achie...   \n",
       "5687  Who we are:\\r\\n\\r\\nWe implement GSMA standards...   \n",
       "5688  We are looking for cutting-edge QA talents who...   \n",
       "5689  As a member of Splash Damage’s AI Programming ...   \n",
       "5690  Are you passionate about improving conversion ...   \n",
       "\n",
       "                                                   tags  \\\n",
       "5686             [\"java\",\"scala\",\"c#\",\".net\",\"bigdata\"]   \n",
       "5687                      [\"c\",\"c++\",\"git\",\"tcp\",\"rcs\"]   \n",
       "5688  [\"automated-tests\",\"performance-testing\",\"jira...   \n",
       "5689  [\"c++\",\"unreal-engine4\",\"artificial-intelligen...   \n",
       "5690                             [\"html\",\"css\",\"adobe\"]   \n",
       "\n",
       "                                                    url        date  weeknum  \n",
       "5686  /jobs/123217/senior-back-end-developer-big-dat...  2016-10-18       42  \n",
       "5687  /jobs/111740/developer-c-c-plus-plus-network-2...  2016-10-18       42  \n",
       "5688  /jobs/116619/qa-automation-engineer-m-f-wanted...  2016-10-18       42  \n",
       "5689           /jobs/104969/ai-programmer-splash-damage  2016-10-18       42  \n",
       "5690  /jobs/123218/conversion-optimization-specialis...  2016-10-18       42  "
      ]
     },
     "execution_count": 6,
     "metadata": {},
     "output_type": "execute_result"
    }
   ],
   "source": [
    "jobs.tail()"
   ]
  },
  {
   "cell_type": "markdown",
   "metadata": {},
   "source": [
    "# Salary\n"
   ]
  },
  {
   "cell_type": "markdown",
   "metadata": {},
   "source": [
    "## Replacing NA values with empty strings in the salary column"
   ]
  },
  {
   "cell_type": "code",
   "execution_count": 49,
   "metadata": {
    "collapsed": false
   },
   "outputs": [],
   "source": [
    "jobs.salary = jobs.salary.fillna('')"
   ]
  },
  {
   "cell_type": "markdown",
   "metadata": {},
   "source": [
    "## Extracting equity  "
   ]
  },
  {
   "cell_type": "code",
   "execution_count": 50,
   "metadata": {
    "collapsed": false
   },
   "outputs": [],
   "source": [
    "jobs['equity'] = jobs['salary'].str.contains('Provides Equity')"
   ]
  },
  {
   "cell_type": "markdown",
   "metadata": {},
   "source": [
    "## Extracting currency and high - low salary\n"
   ]
  },
  {
   "cell_type": "markdown",
   "metadata": {},
   "source": [
    "Need to extract currency, salary_low and salary_high from salary field and copy it to their own columns.\n",
    "\n",
    "Using regex here to capture parts of the salary field into three columns: \n",
    "    - currency will capture zero or more characters that are non digits\n",
    "    - number_low captures one or more characters that are digits and spearators (currently only comma is used)\n",
    "    - number high will capture all the numbers plus separators from the dash until the end of the string "
   ]
  },
  {
   "cell_type": "code",
   "execution_count": 51,
   "metadata": {
    "collapsed": false
   },
   "outputs": [
    {
     "data": {
      "text/plain": [
       "0       $120,000 - 170,000\\r\\n\\r\\n                    ...\n",
       "1                                                        \n",
       "2                                                        \n",
       "3                                                        \n",
       "4                                                        \n",
       "5                                                        \n",
       "6                                                        \n",
       "7                                                        \n",
       "8                                                        \n",
       "9                                                        \n",
       "10                                                       \n",
       "11                                                       \n",
       "12                                                       \n",
       "13      $80,000 - 105,000\\r\\n\\r\\n                     ...\n",
       "14                                                       \n",
       "15                                                       \n",
       "16                                     $120,000 - 170,000\n",
       "17                                       €50,000 - 75,000\n",
       "18                                                       \n",
       "19                                                       \n",
       "20                                                       \n",
       "21                                                       \n",
       "22                                                       \n",
       "23                                                       \n",
       "24                                        Provides Equity\n",
       "25                                                       \n",
       "26                                                       \n",
       "27                                                       \n",
       "28                                                       \n",
       "29                                                       \n",
       "30                                                       \n",
       "31                                                       \n",
       "32                                       $65,000 - 70,000\n",
       "33                                                       \n",
       "34                                                       \n",
       "                              ...                        \n",
       "3971                                                     \n",
       "3972                                                     \n",
       "3973                                                     \n",
       "3974    $80,000 - 120,000\\r\\n\\r\\n                     ...\n",
       "3975                                                     \n",
       "3976                                                     \n",
       "3977                                                     \n",
       "3978                                                     \n",
       "3979                                                     \n",
       "3980                                                     \n",
       "3981    $90,000 - 140,000\\r\\n\\r\\n                     ...\n",
       "3982                                    $75,000 - 100,000\n",
       "3983                                                     \n",
       "3984                                                     \n",
       "3985                                                     \n",
       "3986                                                     \n",
       "3987                                                     \n",
       "3988                                     $50,000 - 65,000\n",
       "3989    $80,000 - 110,000\\r\\n\\r\\n                     ...\n",
       "3990    $100,000 - 160,000\\r\\n\\r\\n                    ...\n",
       "3991                                                     \n",
       "3992                                                     \n",
       "3993                                                     \n",
       "3994                                                     \n",
       "3995                                                     \n",
       "3996                                                     \n",
       "3997                                     £35,609 - 40,082\n",
       "3998                                     £35,609 - 40,082\n",
       "3999                                     £35,609 - 40,082\n",
       "4000                                                     \n",
       "4001                                                     \n",
       "4002                                                     \n",
       "4003                                                     \n",
       "4004                                                     \n",
       "4005                                                     \n",
       "Name: salary, dtype: object"
      ]
     },
     "execution_count": 51,
     "metadata": {},
     "output_type": "execute_result"
    }
   ],
   "source": [
    "jobs.salary"
   ]
  },
  {
   "cell_type": "code",
   "execution_count": 52,
   "metadata": {
    "collapsed": false
   },
   "outputs": [],
   "source": [
    "# salary = jobs.salary\n",
    "salary = jobs.salary.map(lambda x: x.replace(\"Provides Equity\",\"\").replace(\"/\",\"\").strip())\n",
    "\n",
    "sal = salary.str.extract('(?P<currency>[^\\d]*)(?P<number_low>[\\d,]+) - (?P<number_high>[\\d,]+$)')\n",
    "\n",
    "sal.number_low = sal.number_low.fillna(0)\n",
    "sal.number_high = sal.number_high.fillna(0)\n",
    "sal.currency = sal.currency.fillna('')\n",
    "\n",
    "# mapping the new columns back\n",
    "jobs['currency'] = sal.currency\n",
    "jobs['salary_low'] = sal.number_low\n",
    "jobs['salary_high'] = sal.number_high\n"
   ]
  },
  {
   "cell_type": "markdown",
   "metadata": {},
   "source": [
    "# Location \n",
    "\n",
    "We need better location information, so we can do analysis by countries and cities. For this we need to extract country, state and city out of location column. But first let's remove the __na__ values from location column. \n",
    "\n",
    "Then use a lambda to split the location into individual fields.  "
   ]
  },
  {
   "cell_type": "code",
   "execution_count": 53,
   "metadata": {
    "collapsed": false
   },
   "outputs": [],
   "source": [
    "jobs.location = jobs.location.fillna('') # sometimes we have nothing in the location field. \n",
    "\n",
    "location_split = lambda x: pd.Series([i for i in x.split(',')])\n",
    "locations = jobs['location'].apply(location_split)\n",
    "\n",
    "locations.rename(columns={0:'city', 1: 'location_1', 2: 'location_2'},inplace=True)"
   ]
  },
  {
   "cell_type": "markdown",
   "metadata": {},
   "source": [
    "## Fixing US locations\n",
    "\n",
    "US locations seems to be special. They are in the form of _city, state_, we need this to be in form of _city, state, country_, so let's fix this first. \n",
    "\n",
    "If we have a US state in _location_1_ column then put _US_ in _location_2_. \n"
   ]
  },
  {
   "cell_type": "code",
   "execution_count": 54,
   "metadata": {
    "collapsed": true
   },
   "outputs": [],
   "source": [
    "# Fixing US States\n",
    "us_states = [\"AL\", \"AK\", \"AZ\", \"AR\", \"CA\", \"CO\", \"CT\", \"DC\", \"DE\", \"FL\", \"GA\", \n",
    "          \"HI\", \"ID\", \"IL\", \"IN\", \"IA\", \"KS\", \"KY\", \"LA\", \"ME\", \"MD\", \n",
    "          \"MA\", \"MI\", \"MN\", \"MS\", \"MO\", \"MT\", \"NE\", \"NV\", \"NH\", \"NJ\", \n",
    "          \"NM\", \"NY\", \"NC\", \"ND\", \"OH\", \"OK\", \"OR\", \"PA\", \"RI\", \"SC\", \n",
    "          \"SD\", \"TN\", \"TX\", \"UT\", \"VT\", \"VA\", \"WA\", \"WV\", \"WI\", \"WY\"]\n",
    "\n",
    "locations['location_1'] = locations['location_1'].str.strip()\n",
    "locations.loc[locations['location_1'].isin(us_states),'location_2'] = \"US\""
   ]
  },
  {
   "cell_type": "markdown",
   "metadata": {},
   "source": [
    "## Filling the state and country columns\n",
    "\n",
    "If in a row location_2 is null then location_1 contains the country of that location, if location_2 is not empty thne location_2 is going to be the country and location_1 will contain the state. "
   ]
  },
  {
   "cell_type": "code",
   "execution_count": 55,
   "metadata": {
    "collapsed": true
   },
   "outputs": [],
   "source": [
    "# if location_2 is null then location_1 column has the country \n",
    "# if location_2 is not null then location_2 has the country and location_1 contains the state \n",
    "jobs['country'] = np.where(locations['location_2'].isnull(), locations['location_1'], locations['location_2'])\n",
    "jobs['state'] = np.where(locations['location_2'].notnull(), locations['location_1'], '')\n",
    "\n",
    "jobs['city'] = locations['city']\n",
    "\n",
    "# filling na for country \n",
    "jobs.country = jobs.country.fillna('')\n",
    "\n",
    "# stripping spaces from new columns\n",
    "jobs['city'] = jobs['city'].str.strip()\n",
    "jobs['country'] = jobs['country'].str.strip()"
   ]
  },
  {
   "cell_type": "markdown",
   "metadata": {},
   "source": [
    "Now we can see what countries are posting the most jobs. It seems that the US, Deutschland, Germany and the UK are the top countries. But wait. Aren't Germany and Deutschland are the same country? Let's fix this and some other countries with native names. "
   ]
  },
  {
   "cell_type": "code",
   "execution_count": 56,
   "metadata": {
    "collapsed": false
   },
   "outputs": [
    {
     "data": {
      "text/plain": [
       "US             2094\n",
       "Germany         546\n",
       "UK              331\n",
       "Canada          154\n",
       "Netherlands     138\n",
       "Name: country, dtype: int64"
      ]
     },
     "execution_count": 56,
     "metadata": {},
     "output_type": "execute_result"
    }
   ],
   "source": [
    "# replacing some of the country names with their english version \n",
    "jobs.loc[jobs['country'].str.contains('Deutschland'),'country'] = 'Germany' # Deutschland -> Germany\n",
    "jobs.loc[jobs['country'].str.contains('Österreich'),'country'] = 'Austria' # Österreich -> Austria\n",
    "jobs.loc[jobs['country'].str.contains('Suisse'), 'country'] = 'Switzerland' # Suisse -> Switzerland\n",
    "jobs.loc[jobs['country'].str.contains('Schweiz'), 'country'] = 'Switzerland' # Schweiz -> Switzerland\n",
    "jobs.loc[jobs['country'].str.contains('Espagne'), 'country'] = 'Spain' # Espagne -> Spain\n",
    "jobs.loc[jobs['country'].str.contains('République tchèque'), 'country'] = 'Czech Republic' # République tchèque -> Czech Republic\n",
    "jobs.loc[jobs['country'].str.contains('Niederlande'), 'country'] = 'Netherlands' # Niederlande -> Netherlands\n",
    "\n",
    "jobs['country'].value_counts().head()"
   ]
  },
  {
   "cell_type": "code",
   "execution_count": 57,
   "metadata": {
    "collapsed": false
   },
   "outputs": [
    {
     "data": {
      "text/plain": [
       "New York              238\n",
       "London                186\n",
       "San Francisco         181\n",
       "Berlin                166\n",
       "Seattle               103\n",
       "München                84\n",
       "No office location     72\n",
       "Chicago                69\n",
       "Toronto                67\n",
       "Philadelphia           63\n",
       "Washington             61\n",
       "Amsterdam              59\n",
       "Hamburg                50\n",
       "Boston                 43\n",
       "Los Angeles            43\n",
       "Austin                 40\n",
       "Dublin                 38\n",
       "Cambridge              37\n",
       "Atlanta                35\n",
       "Bellevue               35\n",
       "Mountain View          34\n",
       "Sydney                 33\n",
       "Denver                 32\n",
       "Vancouver              30\n",
       "Singapore              30\n",
       "San Diego              29\n",
       "Portland               25\n",
       "Stockholm              24\n",
       "Helsinki               21\n",
       "Melbourne              21\n",
       "Santa Monica           20\n",
       "Düsseldorf             19\n",
       "Zürich                 19\n",
       "Barcelona              18\n",
       "Bengaluru              18\n",
       "                     ... \n",
       "Grapevine               1\n",
       "Newport Beach           1\n",
       "Bury                    1\n",
       "Williamsburg            1\n",
       "Santa Cruz              1\n",
       "Washougal               1\n",
       "Broken Arrow            1\n",
       "Rocky Hill              1\n",
       "Mulgrave                1\n",
       "Fullerton               1\n",
       "Herzogenaurach          1\n",
       "Charleston              1\n",
       "Pécs                    1\n",
       "Reigate                 1\n",
       "Boisbriand              1\n",
       "Hartford                1\n",
       "Kutchan                 1\n",
       "Crowthorne              1\n",
       "Anchorage               1\n",
       "West Bromwich           1\n",
       "Hawthorn East           1\n",
       "Coppell                 1\n",
       "Vadodara                1\n",
       "Burlingame              1\n",
       "Zwolle                  1\n",
       "Pasar Minggu            1\n",
       "East Gwillimbury        1\n",
       "Skanderborg             1\n",
       "Kansas City             1\n",
       "Mumbai                  1\n",
       "Maryland Heights        1\n",
       "Tilburg                 1\n",
       "Gansevoort              1\n",
       "Green Bay               1\n",
       "Independence            1\n",
       "Name: city, dtype: int64"
      ]
     },
     "execution_count": 57,
     "metadata": {},
     "output_type": "execute_result"
    }
   ],
   "source": [
    "jobs['city'].value_counts()"
   ]
  }
 ],
 "metadata": {
  "kernelspec": {
   "display_name": "Python 2",
   "language": "python",
   "name": "python2"
  },
  "language_info": {
   "codemirror_mode": {
    "name": "ipython",
    "version": 2
   },
   "file_extension": ".py",
   "mimetype": "text/x-python",
   "name": "python",
   "nbconvert_exporter": "python",
   "pygments_lexer": "ipython2",
   "version": "2.7.12"
  }
 },
 "nbformat": 4,
 "nbformat_minor": 0
}
