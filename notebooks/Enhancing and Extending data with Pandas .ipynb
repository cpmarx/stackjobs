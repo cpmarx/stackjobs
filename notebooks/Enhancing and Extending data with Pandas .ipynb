{
 "cells": [
  {
   "cell_type": "code",
   "execution_count": 1,
   "metadata": {
    "collapsed": false
   },
   "outputs": [],
   "source": [
    "import pandas as pd \n",
    "import numpy as np\n",
    "\n",
    "# Let's change how printing the series works. I need to see all elements in the Series \n",
    "# source: http://stackoverflow.com/questions/19124601/is-there-a-way-to-pretty-print-the-entire-pandas-series-dataframe\n",
    "pd.set_option('display.max_columns', 70)\n",
    "pd.set_option('display.max_rows', 70)\n",
    "\n",
    "jobs = pd.read_csv('../data/stackoverflow_jobs.csv')"
   ]
  },
  {
   "cell_type": "markdown",
   "metadata": {},
   "source": [
    "# Exploring data"
   ]
  },
  {
   "cell_type": "code",
   "execution_count": 2,
   "metadata": {
    "collapsed": false
   },
   "outputs": [
    {
     "data": {
      "text/plain": [
       "Index([u'jobid', u'date', u'description', u'employer', u'location', u'salary',\n",
       "       u'tags', u'title', u'url', u'weeknum'],\n",
       "      dtype='object')"
      ]
     },
     "execution_count": 2,
     "metadata": {},
     "output_type": "execute_result"
    }
   ],
   "source": [
    "jobs.columns"
   ]
  },
  {
   "cell_type": "code",
   "execution_count": 3,
   "metadata": {
    "collapsed": false
   },
   "outputs": [
    {
     "data": {
      "text/plain": [
       "jobid           int64\n",
       "date           object\n",
       "description    object\n",
       "employer       object\n",
       "location       object\n",
       "salary         object\n",
       "tags           object\n",
       "title          object\n",
       "url            object\n",
       "weeknum         int64\n",
       "dtype: object"
      ]
     },
     "execution_count": 3,
     "metadata": {},
     "output_type": "execute_result"
    }
   ],
   "source": [
    "jobs.dtypes"
   ]
  },
  {
   "cell_type": "code",
   "execution_count": 4,
   "metadata": {
    "collapsed": false
   },
   "outputs": [
    {
     "data": {
      "text/html": [
       "<div>\n",
       "<table border=\"1\" class=\"dataframe\">\n",
       "  <thead>\n",
       "    <tr style=\"text-align: right;\">\n",
       "      <th></th>\n",
       "      <th>jobid</th>\n",
       "      <th>weeknum</th>\n",
       "    </tr>\n",
       "  </thead>\n",
       "  <tbody>\n",
       "    <tr>\n",
       "      <th>count</th>\n",
       "      <td>21350.000000</td>\n",
       "      <td>21350.000000</td>\n",
       "    </tr>\n",
       "    <tr>\n",
       "      <th>mean</th>\n",
       "      <td>117851.347635</td>\n",
       "      <td>33.717049</td>\n",
       "    </tr>\n",
       "    <tr>\n",
       "      <th>std</th>\n",
       "      <td>11518.877500</td>\n",
       "      <td>6.260739</td>\n",
       "    </tr>\n",
       "    <tr>\n",
       "      <th>min</th>\n",
       "      <td>15018.000000</td>\n",
       "      <td>22.000000</td>\n",
       "    </tr>\n",
       "    <tr>\n",
       "      <th>25%</th>\n",
       "      <td>116224.000000</td>\n",
       "      <td>30.000000</td>\n",
       "    </tr>\n",
       "    <tr>\n",
       "      <th>50%</th>\n",
       "      <td>120873.000000</td>\n",
       "      <td>34.000000</td>\n",
       "    </tr>\n",
       "    <tr>\n",
       "      <th>75%</th>\n",
       "      <td>123979.750000</td>\n",
       "      <td>40.000000</td>\n",
       "    </tr>\n",
       "    <tr>\n",
       "      <th>max</th>\n",
       "      <td>128738.000000</td>\n",
       "      <td>45.000000</td>\n",
       "    </tr>\n",
       "  </tbody>\n",
       "</table>\n",
       "</div>"
      ],
      "text/plain": [
       "               jobid       weeknum\n",
       "count   21350.000000  21350.000000\n",
       "mean   117851.347635     33.717049\n",
       "std     11518.877500      6.260739\n",
       "min     15018.000000     22.000000\n",
       "25%    116224.000000     30.000000\n",
       "50%    120873.000000     34.000000\n",
       "75%    123979.750000     40.000000\n",
       "max    128738.000000     45.000000"
      ]
     },
     "execution_count": 4,
     "metadata": {},
     "output_type": "execute_result"
    }
   ],
   "source": [
    "jobs.describe()"
   ]
  },
  {
   "cell_type": "code",
   "execution_count": 5,
   "metadata": {
    "collapsed": false
   },
   "outputs": [
    {
     "data": {
      "text/html": [
       "<div>\n",
       "<table border=\"1\" class=\"dataframe\">\n",
       "  <thead>\n",
       "    <tr style=\"text-align: right;\">\n",
       "      <th></th>\n",
       "      <th>jobid</th>\n",
       "      <th>date</th>\n",
       "      <th>description</th>\n",
       "      <th>employer</th>\n",
       "      <th>location</th>\n",
       "      <th>salary</th>\n",
       "      <th>tags</th>\n",
       "      <th>title</th>\n",
       "      <th>url</th>\n",
       "      <th>weeknum</th>\n",
       "    </tr>\n",
       "  </thead>\n",
       "  <tbody>\n",
       "    <tr>\n",
       "      <th>0</th>\n",
       "      <td>125541</td>\n",
       "      <td>2016-10-24</td>\n",
       "      <td>Front-End Engineer (Angular)\\r\\nAs a Software ...</td>\n",
       "      <td>Check I'm Here</td>\n",
       "      <td>Saint Petersburg, FL</td>\n",
       "      <td>$45,000 - 75,000\\r\\n\\r\\n                      ...</td>\n",
       "      <td>[angularjs, html5, css3, javascript, rest]</td>\n",
       "      <td>Front-End Engineer (Angular)</td>\n",
       "      <td>/jobs/125541/front-end-engineer-angular-check-...</td>\n",
       "      <td>43</td>\n",
       "    </tr>\n",
       "    <tr>\n",
       "      <th>1</th>\n",
       "      <td>125540</td>\n",
       "      <td>2016-10-24</td>\n",
       "      <td>Vector Software, the leading provider of autom...</td>\n",
       "      <td>Vector Software</td>\n",
       "      <td>East Greenwich, RI</td>\n",
       "      <td>NaN</td>\n",
       "      <td>[c++, boost, stl]</td>\n",
       "      <td>Field Applications Engineer - Post Sales</td>\n",
       "      <td>/jobs/125540/field-applications-engineer-post-...</td>\n",
       "      <td>43</td>\n",
       "    </tr>\n",
       "    <tr>\n",
       "      <th>2</th>\n",
       "      <td>125539</td>\n",
       "      <td>2016-10-24</td>\n",
       "      <td>Vector Software, the leading provider of autom...</td>\n",
       "      <td>Vector Software</td>\n",
       "      <td>East Greenwich, RI</td>\n",
       "      <td>NaN</td>\n",
       "      <td>[c++, python]</td>\n",
       "      <td>Senior C++ Software Developer</td>\n",
       "      <td>/jobs/125539/senior-c-plus-plus-software-devel...</td>\n",
       "      <td>43</td>\n",
       "    </tr>\n",
       "    <tr>\n",
       "      <th>3</th>\n",
       "      <td>125538</td>\n",
       "      <td>2016-10-24</td>\n",
       "      <td>Vector Software, the leading provider of autom...</td>\n",
       "      <td>Vector Software</td>\n",
       "      <td>East Greenwich, RI</td>\n",
       "      <td>NaN</td>\n",
       "      <td>[python, amazon-web-services, linux]</td>\n",
       "      <td>DevOps Engineer</td>\n",
       "      <td>/jobs/125538/devops-engineer-vector-software</td>\n",
       "      <td>43</td>\n",
       "    </tr>\n",
       "    <tr>\n",
       "      <th>4</th>\n",
       "      <td>125537</td>\n",
       "      <td>2016-10-24</td>\n",
       "      <td>Key Role: Support numerous challenging, missio...</td>\n",
       "      <td>Booz Allen Hamilton</td>\n",
       "      <td>McLean, VA</td>\n",
       "      <td>NaN</td>\n",
       "      <td>[c++, embedded, reverse-engineering, java, pyt...</td>\n",
       "      <td>Embedded Developer</td>\n",
       "      <td>/jobs/125537/embedded-developer-booz-allen-ham...</td>\n",
       "      <td>43</td>\n",
       "    </tr>\n",
       "  </tbody>\n",
       "</table>\n",
       "</div>"
      ],
      "text/plain": [
       "    jobid        date                                        description  \\\n",
       "0  125541  2016-10-24  Front-End Engineer (Angular)\\r\\nAs a Software ...   \n",
       "1  125540  2016-10-24  Vector Software, the leading provider of autom...   \n",
       "2  125539  2016-10-24  Vector Software, the leading provider of autom...   \n",
       "3  125538  2016-10-24  Vector Software, the leading provider of autom...   \n",
       "4  125537  2016-10-24  Key Role: Support numerous challenging, missio...   \n",
       "\n",
       "              employer              location  \\\n",
       "0       Check I'm Here  Saint Petersburg, FL   \n",
       "1      Vector Software    East Greenwich, RI   \n",
       "2      Vector Software    East Greenwich, RI   \n",
       "3      Vector Software    East Greenwich, RI   \n",
       "4  Booz Allen Hamilton            McLean, VA   \n",
       "\n",
       "                                              salary  \\\n",
       "0  $45,000 - 75,000\\r\\n\\r\\n                      ...   \n",
       "1                                                NaN   \n",
       "2                                                NaN   \n",
       "3                                                NaN   \n",
       "4                                                NaN   \n",
       "\n",
       "                                                tags  \\\n",
       "0         [angularjs, html5, css3, javascript, rest]   \n",
       "1                                  [c++, boost, stl]   \n",
       "2                                      [c++, python]   \n",
       "3               [python, amazon-web-services, linux]   \n",
       "4  [c++, embedded, reverse-engineering, java, pyt...   \n",
       "\n",
       "                                      title  \\\n",
       "0              Front-End Engineer (Angular)   \n",
       "1  Field Applications Engineer - Post Sales   \n",
       "2             Senior C++ Software Developer   \n",
       "3                           DevOps Engineer   \n",
       "4                        Embedded Developer   \n",
       "\n",
       "                                                 url  weeknum  \n",
       "0  /jobs/125541/front-end-engineer-angular-check-...       43  \n",
       "1  /jobs/125540/field-applications-engineer-post-...       43  \n",
       "2  /jobs/125539/senior-c-plus-plus-software-devel...       43  \n",
       "3       /jobs/125538/devops-engineer-vector-software       43  \n",
       "4  /jobs/125537/embedded-developer-booz-allen-ham...       43  "
      ]
     },
     "execution_count": 5,
     "metadata": {},
     "output_type": "execute_result"
    }
   ],
   "source": [
    "jobs.head()"
   ]
  },
  {
   "cell_type": "code",
   "execution_count": 6,
   "metadata": {
    "collapsed": false
   },
   "outputs": [
    {
     "data": {
      "text/html": [
       "<div>\n",
       "<table border=\"1\" class=\"dataframe\">\n",
       "  <thead>\n",
       "    <tr style=\"text-align: right;\">\n",
       "      <th></th>\n",
       "      <th>jobid</th>\n",
       "      <th>date</th>\n",
       "      <th>description</th>\n",
       "      <th>employer</th>\n",
       "      <th>location</th>\n",
       "      <th>salary</th>\n",
       "      <th>tags</th>\n",
       "      <th>title</th>\n",
       "      <th>url</th>\n",
       "      <th>weeknum</th>\n",
       "    </tr>\n",
       "  </thead>\n",
       "  <tbody>\n",
       "    <tr>\n",
       "      <th>21345</th>\n",
       "      <td>123217</td>\n",
       "      <td>2016-10-18</td>\n",
       "      <td>At INFARE, we are not happy if we simply achie...</td>\n",
       "      <td>INFARE</td>\n",
       "      <td>Copenhagen, Denmark</td>\n",
       "      <td>NaN</td>\n",
       "      <td>[\"java\",\"scala\",\"c#\",\".net\",\"bigdata\"]</td>\n",
       "      <td>Senior Back End Developer - Big Data</td>\n",
       "      <td>/jobs/123217/senior-back-end-developer-big-dat...</td>\n",
       "      <td>42</td>\n",
       "    </tr>\n",
       "    <tr>\n",
       "      <th>21346</th>\n",
       "      <td>111740</td>\n",
       "      <td>2016-10-18</td>\n",
       "      <td>Who we are:\\r\\n\\r\\nWe implement GSMA standards...</td>\n",
       "      <td>Samsung R&amp;D Institute</td>\n",
       "      <td>Warsaw, Poland</td>\n",
       "      <td>NaN</td>\n",
       "      <td>[\"c\",\"c++\",\"git\",\"tcp\",\"rcs\"]</td>\n",
       "      <td>Developer C/C++ (Network 2020)</td>\n",
       "      <td>/jobs/111740/developer-c-c-plus-plus-network-2...</td>\n",
       "      <td>42</td>\n",
       "    </tr>\n",
       "    <tr>\n",
       "      <th>21347</th>\n",
       "      <td>116619</td>\n",
       "      <td>2016-10-18</td>\n",
       "      <td>We are looking for cutting-edge QA talents who...</td>\n",
       "      <td>Project A Ventures</td>\n",
       "      <td>Berlin, Deutschland</td>\n",
       "      <td>NaN</td>\n",
       "      <td>[\"automated-tests\",\"performance-testing\",\"jira...</td>\n",
       "      <td>QA Automation Engineer (m/f) wanted!</td>\n",
       "      <td>/jobs/116619/qa-automation-engineer-m-f-wanted...</td>\n",
       "      <td>42</td>\n",
       "    </tr>\n",
       "    <tr>\n",
       "      <th>21348</th>\n",
       "      <td>104969</td>\n",
       "      <td>2016-10-18</td>\n",
       "      <td>As a member of Splash Damage’s AI Programming ...</td>\n",
       "      <td>Splash Damage</td>\n",
       "      <td>Bromley, UK</td>\n",
       "      <td>NaN</td>\n",
       "      <td>[\"c++\",\"unreal-engine4\",\"artificial-intelligen...</td>\n",
       "      <td>AI Programmer</td>\n",
       "      <td>/jobs/104969/ai-programmer-splash-damage</td>\n",
       "      <td>42</td>\n",
       "    </tr>\n",
       "    <tr>\n",
       "      <th>21349</th>\n",
       "      <td>123218</td>\n",
       "      <td>2016-10-18</td>\n",
       "      <td>Are you passionate about improving conversion ...</td>\n",
       "      <td>simplesurance GmbH</td>\n",
       "      <td>Berlin, Germany</td>\n",
       "      <td>NaN</td>\n",
       "      <td>[\"html\",\"css\",\"adobe\"]</td>\n",
       "      <td>Conversion Optimization Specialist (f/m)</td>\n",
       "      <td>/jobs/123218/conversion-optimization-specialis...</td>\n",
       "      <td>42</td>\n",
       "    </tr>\n",
       "  </tbody>\n",
       "</table>\n",
       "</div>"
      ],
      "text/plain": [
       "        jobid        date                                        description  \\\n",
       "21345  123217  2016-10-18  At INFARE, we are not happy if we simply achie...   \n",
       "21346  111740  2016-10-18  Who we are:\\r\\n\\r\\nWe implement GSMA standards...   \n",
       "21347  116619  2016-10-18  We are looking for cutting-edge QA talents who...   \n",
       "21348  104969  2016-10-18  As a member of Splash Damage’s AI Programming ...   \n",
       "21349  123218  2016-10-18  Are you passionate about improving conversion ...   \n",
       "\n",
       "                    employer             location salary  \\\n",
       "21345                 INFARE  Copenhagen, Denmark    NaN   \n",
       "21346  Samsung R&D Institute       Warsaw, Poland    NaN   \n",
       "21347     Project A Ventures  Berlin, Deutschland    NaN   \n",
       "21348          Splash Damage          Bromley, UK    NaN   \n",
       "21349     simplesurance GmbH      Berlin, Germany    NaN   \n",
       "\n",
       "                                                    tags  \\\n",
       "21345             [\"java\",\"scala\",\"c#\",\".net\",\"bigdata\"]   \n",
       "21346                      [\"c\",\"c++\",\"git\",\"tcp\",\"rcs\"]   \n",
       "21347  [\"automated-tests\",\"performance-testing\",\"jira...   \n",
       "21348  [\"c++\",\"unreal-engine4\",\"artificial-intelligen...   \n",
       "21349                             [\"html\",\"css\",\"adobe\"]   \n",
       "\n",
       "                                          title  \\\n",
       "21345      Senior Back End Developer - Big Data   \n",
       "21346            Developer C/C++ (Network 2020)   \n",
       "21347      QA Automation Engineer (m/f) wanted!   \n",
       "21348                             AI Programmer   \n",
       "21349  Conversion Optimization Specialist (f/m)   \n",
       "\n",
       "                                                     url  weeknum  \n",
       "21345  /jobs/123217/senior-back-end-developer-big-dat...       42  \n",
       "21346  /jobs/111740/developer-c-c-plus-plus-network-2...       42  \n",
       "21347  /jobs/116619/qa-automation-engineer-m-f-wanted...       42  \n",
       "21348           /jobs/104969/ai-programmer-splash-damage       42  \n",
       "21349  /jobs/123218/conversion-optimization-specialis...       42  "
      ]
     },
     "execution_count": 6,
     "metadata": {},
     "output_type": "execute_result"
    }
   ],
   "source": [
    "jobs.tail()"
   ]
  },
  {
   "cell_type": "markdown",
   "metadata": {},
   "source": [
    "# Salary\n"
   ]
  },
  {
   "cell_type": "markdown",
   "metadata": {},
   "source": [
    "## Replacing NA values with empty strings in the salary column"
   ]
  },
  {
   "cell_type": "code",
   "execution_count": 7,
   "metadata": {
    "collapsed": false
   },
   "outputs": [],
   "source": [
    "jobs.salary = jobs.salary.fillna('')"
   ]
  },
  {
   "cell_type": "markdown",
   "metadata": {},
   "source": [
    "## Extracting equity  "
   ]
  },
  {
   "cell_type": "code",
   "execution_count": 8,
   "metadata": {
    "collapsed": false
   },
   "outputs": [],
   "source": [
    "jobs['equity'] = jobs['salary'].str.contains('Provides Equity')"
   ]
  },
  {
   "cell_type": "markdown",
   "metadata": {},
   "source": [
    "## Extracting currency and high - low salary\n"
   ]
  },
  {
   "cell_type": "markdown",
   "metadata": {},
   "source": [
    "Need to extract currency, salary_low and salary_high from salary field and copy it to their own columns.\n",
    "\n",
    "Using regex here to capture parts of the salary field into three columns: \n",
    "    - currency will capture zero or more characters that are non digits\n",
    "    - number_low captures one or more characters that are digits and spearators (currently only comma is used)\n",
    "    - number high will capture all the numbers plus separators from the dash until the end of the string "
   ]
  },
  {
   "cell_type": "code",
   "execution_count": 9,
   "metadata": {
    "collapsed": false
   },
   "outputs": [
    {
     "name": "stderr",
     "output_type": "stream",
     "text": [
      "/usr/local/lib/python2.7/site-packages/ipykernel/__main__.py:4: FutureWarning: currently extract(expand=None) means expand=False (return Index/Series/DataFrame) but in a future version of pandas this will be changed to expand=True (return DataFrame)\n"
     ]
    }
   ],
   "source": [
    "# salary = jobs.salary\n",
    "salary = jobs.salary.map(lambda x: x.replace(\"Provides Equity\",\"\").replace(\"/\",\"\").strip())\n",
    "\n",
    "sal = salary.str.extract('(?P<currency>[^\\d]*)(?P<number_low>[\\d,]+) - (?P<number_high>[\\d,]+$)')\n",
    "\n",
    "sal.number_low = sal.number_low.fillna(0)\n",
    "sal.number_high = sal.number_high.fillna(0)\n",
    "sal.currency = sal.currency.fillna('')\n",
    "\n",
    "# mapping the new columns back\n",
    "jobs['currency'] = sal.currency\n",
    "jobs['salary_low'] = sal.number_low\n",
    "jobs['salary_high'] = sal.number_high\n"
   ]
  },
  {
   "cell_type": "markdown",
   "metadata": {},
   "source": [
    "# Location \n",
    "\n",
    "We need better location information, so we can do analysis by countries and cities. For this we need to extract country, state and city out of location column. But first let's remove the __na__ values from location column. \n",
    "\n",
    "Then use a lambda to split the location into individual fields.  "
   ]
  },
  {
   "cell_type": "code",
   "execution_count": 10,
   "metadata": {
    "collapsed": false
   },
   "outputs": [],
   "source": [
    "jobs.location = jobs.location.fillna('') # sometimes we have nothing in the location field. \n",
    "\n",
    "location_split = lambda x: pd.Series([i for i in x.split(',')])\n",
    "locations = jobs['location'].apply(location_split)\n",
    "\n",
    "locations.rename(columns={0:'city', 1: 'location_1', 2: 'location_2'},inplace=True)"
   ]
  },
  {
   "cell_type": "markdown",
   "metadata": {},
   "source": [
    "## Fixing US locations\n",
    "\n",
    "US locations seems to be special. They are in the form of _city, state_, we need this to be in form of _city, state, country_, so let's fix this first. \n",
    "\n",
    "If we have a US state in _location_1_ column then put _US_ in _location_2_. \n"
   ]
  },
  {
   "cell_type": "code",
   "execution_count": 11,
   "metadata": {
    "collapsed": true
   },
   "outputs": [],
   "source": [
    "# Fixing US States\n",
    "us_states = [\"AL\", \"AK\", \"AZ\", \"AR\", \"CA\", \"CO\", \"CT\", \"DC\", \"DE\", \"FL\", \"GA\", \n",
    "          \"HI\", \"ID\", \"IL\", \"IN\", \"IA\", \"KS\", \"KY\", \"LA\", \"ME\", \"MD\", \n",
    "          \"MA\", \"MI\", \"MN\", \"MS\", \"MO\", \"MT\", \"NE\", \"NV\", \"NH\", \"NJ\", \n",
    "          \"NM\", \"NY\", \"NC\", \"ND\", \"OH\", \"OK\", \"OR\", \"PA\", \"RI\", \"SC\", \n",
    "          \"SD\", \"TN\", \"TX\", \"UT\", \"VT\", \"VA\", \"WA\", \"WV\", \"WI\", \"WY\"]\n",
    "\n",
    "locations['location_1'] = locations['location_1'].str.strip()\n",
    "locations.loc[locations['location_1'].isin(us_states),'location_2'] = \"US\""
   ]
  },
  {
   "cell_type": "markdown",
   "metadata": {},
   "source": [
    "## Filling the state and country columns\n",
    "\n",
    "If in a row location_2 is null then location_1 contains the country of that location, if location_2 is not empty thne location_2 is going to be the country and location_1 will contain the state. "
   ]
  },
  {
   "cell_type": "code",
   "execution_count": 12,
   "metadata": {
    "collapsed": true
   },
   "outputs": [],
   "source": [
    "# if location_2 is null then location_1 column has the country \n",
    "# if location_2 is not null then location_2 has the country and location_1 contains the state \n",
    "jobs['country'] = np.where(locations['location_2'].isnull(), locations['location_1'], locations['location_2'])\n",
    "jobs['state'] = np.where(locations['location_2'].notnull(), locations['location_1'], '')\n",
    "\n",
    "jobs['city'] = locations['city']\n",
    "\n",
    "# filling na for country \n",
    "jobs.country = jobs.country.fillna('')\n",
    "\n",
    "# stripping spaces from new columns\n",
    "jobs['city'] = jobs['city'].str.strip()\n",
    "jobs['country'] = jobs['country'].str.strip()"
   ]
  },
  {
   "cell_type": "markdown",
   "metadata": {},
   "source": [
    "Now we can see what countries are posting the most jobs. It seems that the US, Deutschland, Germany and the UK are the top countries. But wait. Aren't Germany and Deutschland are the same country? Let's fix this and some other countries with native names. "
   ]
  },
  {
   "cell_type": "code",
   "execution_count": 13,
   "metadata": {
    "collapsed": false
   },
   "outputs": [
    {
     "data": {
      "text/plain": [
       "US             9739\n",
       "Germany        3538\n",
       "UK             2084\n",
       "Netherlands    1026\n",
       "Canada          697\n",
       "Name: country, dtype: int64"
      ]
     },
     "execution_count": 13,
     "metadata": {},
     "output_type": "execute_result"
    }
   ],
   "source": [
    "# replacing some of the country names with their english version \n",
    "jobs.loc[jobs['country'].str.contains('Deutschland'),'country'] = 'Germany' # Deutschland -> Germany\n",
    "jobs.loc[jobs['country'].str.contains('Österreich'),'country'] = 'Austria' # Österreich -> Austria\n",
    "jobs.loc[jobs['country'].str.contains('Suisse'), 'country'] = 'Switzerland' # Suisse -> Switzerland\n",
    "jobs.loc[jobs['country'].str.contains('Schweiz'), 'country'] = 'Switzerland' # Schweiz -> Switzerland\n",
    "jobs.loc[jobs['country'].str.contains('Espagne'), 'country'] = 'Spain' # Espagne -> Spain\n",
    "jobs.loc[jobs['country'].str.contains('République tchèque'), 'country'] = 'Czech Republic' # République tchèque -> Czech Republic\n",
    "jobs.loc[jobs['country'].str.contains('Niederlande'), 'country'] = 'Netherlands' # Niederlande -> Netherlands\n",
    "\n",
    "jobs['country'].value_counts().head()"
   ]
  },
  {
   "cell_type": "code",
   "execution_count": 22,
   "metadata": {
    "collapsed": false
   },
   "outputs": [],
   "source": [
    "top_cities = jobs['city'].value_counts().nlargest(20)"
   ]
  },
  {
   "cell_type": "code",
   "execution_count": 23,
   "metadata": {
    "collapsed": false
   },
   "outputs": [
    {
     "data": {
      "text/plain": [
       "New York              1146\n",
       "London                1099\n",
       "Berlin                1080\n",
       "San Francisco          804\n",
       "Amsterdam              444\n",
       "München                442\n",
       "Seattle                423\n",
       "Philadelphia           373\n",
       "Chicago                344\n",
       "Toronto                321\n",
       "Hamburg                302\n",
       "No office location     296\n",
       "Washington             255\n",
       "Boston                 223\n",
       "Dublin                 198\n",
       "Stockholm              194\n",
       "Los Angeles            187\n",
       "Cambridge              187\n",
       "Austin                 181\n",
       "Denver                 172\n",
       "Name: city, dtype: int64"
      ]
     },
     "execution_count": 23,
     "metadata": {},
     "output_type": "execute_result"
    }
   ],
   "source": [
    "top_cities.head(20)"
   ]
  },
  {
   "cell_type": "code",
   "execution_count": 26,
   "metadata": {
    "collapsed": true
   },
   "outputs": [],
   "source": [
    "# saving the result to csv \n",
    "top_cities.to_csv('../data/top_cities.csv')"
   ]
  },
  {
   "cell_type": "code",
   "execution_count": null,
   "metadata": {
    "collapsed": true
   },
   "outputs": [],
   "source": []
  }
 ],
 "metadata": {
  "kernelspec": {
   "display_name": "Python 2",
   "language": "python",
   "name": "python2"
  },
  "language_info": {
   "codemirror_mode": {
    "name": "ipython",
    "version": 2
   },
   "file_extension": ".py",
   "mimetype": "text/x-python",
   "name": "python",
   "nbconvert_exporter": "python",
   "pygments_lexer": "ipython2",
   "version": "2.7.12"
  }
 },
 "nbformat": 4,
 "nbformat_minor": 0
}
