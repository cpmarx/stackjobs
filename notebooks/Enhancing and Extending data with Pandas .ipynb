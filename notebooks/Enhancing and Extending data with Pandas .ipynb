{
 "cells": [
  {
   "cell_type": "code",
   "execution_count": 1,
   "metadata": {
    "collapsed": false
   },
   "outputs": [],
   "source": [
    "import pandas as pd \n",
    "import numpy as np\n",
    "\n",
    "# Let's change how printing the series works. I need to see all elements in the Series \n",
    "# source: http://stackoverflow.com/questions/19124601/is-there-a-way-to-pretty-print-the-entire-pandas-series-dataframe\n",
    "pd.set_option('display.max_columns', 70)\n",
    "pd.set_option('display.max_rows', 70)\n",
    "\n",
    "jobs = pd.read_csv('../data/stackoverflow_jobs.csv')"
   ]
  },
  {
   "cell_type": "markdown",
   "metadata": {},
   "source": [
    "# Exploring data"
   ]
  },
  {
   "cell_type": "code",
   "execution_count": 2,
   "metadata": {
    "collapsed": false
   },
   "outputs": [
    {
     "data": {
      "text/plain": [
       "Index([u'jobid', u'date', u'description', u'employer', u'location', u'salary',\n",
       "       u'tags', u'title', u'url', u'weeknum'],\n",
       "      dtype='object')"
      ]
     },
     "execution_count": 2,
     "metadata": {},
     "output_type": "execute_result"
    }
   ],
   "source": [
    "jobs.columns"
   ]
  },
  {
   "cell_type": "code",
   "execution_count": 3,
   "metadata": {
    "collapsed": false
   },
   "outputs": [
    {
     "data": {
      "text/plain": [
       "jobid           int64\n",
       "date           object\n",
       "description    object\n",
       "employer       object\n",
       "location       object\n",
       "salary         object\n",
       "tags           object\n",
       "title          object\n",
       "url            object\n",
       "weeknum         int64\n",
       "dtype: object"
      ]
     },
     "execution_count": 3,
     "metadata": {},
     "output_type": "execute_result"
    }
   ],
   "source": [
    "jobs.dtypes"
   ]
  },
  {
   "cell_type": "code",
   "execution_count": 4,
   "metadata": {
    "collapsed": false
   },
   "outputs": [
    {
     "data": {
      "text/html": [
       "<div>\n",
       "<table border=\"1\" class=\"dataframe\">\n",
       "  <thead>\n",
       "    <tr style=\"text-align: right;\">\n",
       "      <th></th>\n",
       "      <th>jobid</th>\n",
       "      <th>weeknum</th>\n",
       "    </tr>\n",
       "  </thead>\n",
       "  <tbody>\n",
       "    <tr>\n",
       "      <th>count</th>\n",
       "      <td>20032.000000</td>\n",
       "      <td>20032.000000</td>\n",
       "    </tr>\n",
       "    <tr>\n",
       "      <th>mean</th>\n",
       "      <td>117387.751448</td>\n",
       "      <td>33.072983</td>\n",
       "    </tr>\n",
       "    <tr>\n",
       "      <th>std</th>\n",
       "      <td>11539.370222</td>\n",
       "      <td>5.918207</td>\n",
       "    </tr>\n",
       "    <tr>\n",
       "      <th>min</th>\n",
       "      <td>15018.000000</td>\n",
       "      <td>22.000000</td>\n",
       "    </tr>\n",
       "    <tr>\n",
       "      <th>25%</th>\n",
       "      <td>115874.750000</td>\n",
       "      <td>29.000000</td>\n",
       "    </tr>\n",
       "    <tr>\n",
       "      <th>50%</th>\n",
       "      <td>120549.000000</td>\n",
       "      <td>33.000000</td>\n",
       "    </tr>\n",
       "    <tr>\n",
       "      <th>75%</th>\n",
       "      <td>123527.000000</td>\n",
       "      <td>38.000000</td>\n",
       "    </tr>\n",
       "    <tr>\n",
       "      <th>max</th>\n",
       "      <td>127431.000000</td>\n",
       "      <td>42.000000</td>\n",
       "    </tr>\n",
       "  </tbody>\n",
       "</table>\n",
       "</div>"
      ],
      "text/plain": [
       "               jobid       weeknum\n",
       "count   20032.000000  20032.000000\n",
       "mean   117387.751448     33.072983\n",
       "std     11539.370222      5.918207\n",
       "min     15018.000000     22.000000\n",
       "25%    115874.750000     29.000000\n",
       "50%    120549.000000     33.000000\n",
       "75%    123527.000000     38.000000\n",
       "max    127431.000000     42.000000"
      ]
     },
     "execution_count": 4,
     "metadata": {},
     "output_type": "execute_result"
    }
   ],
   "source": [
    "jobs.describe()"
   ]
  },
  {
   "cell_type": "code",
   "execution_count": 5,
   "metadata": {
    "collapsed": false
   },
   "outputs": [
    {
     "data": {
      "text/html": [
       "<div>\n",
       "<table border=\"1\" class=\"dataframe\">\n",
       "  <thead>\n",
       "    <tr style=\"text-align: right;\">\n",
       "      <th></th>\n",
       "      <th>jobid</th>\n",
       "      <th>date</th>\n",
       "      <th>description</th>\n",
       "      <th>employer</th>\n",
       "      <th>location</th>\n",
       "      <th>salary</th>\n",
       "      <th>tags</th>\n",
       "      <th>title</th>\n",
       "      <th>url</th>\n",
       "      <th>weeknum</th>\n",
       "    </tr>\n",
       "  </thead>\n",
       "  <tbody>\n",
       "    <tr>\n",
       "      <th>0</th>\n",
       "      <td>113232</td>\n",
       "      <td>2016-07-25</td>\n",
       "      <td>Postmates runs the largest on-demand delivery ...</td>\n",
       "      <td>Postmates Inc.</td>\n",
       "      <td>San Francisco, CA</td>\n",
       "      <td>$120,000 - 170,000\\r\\n\\r\\n                    ...</td>\n",
       "      <td>[ios, objective-c, swift]</td>\n",
       "      <td>Software Engineer: iOS</td>\n",
       "      <td>/jobs/113232/software-engineer-ios-postmates-inc</td>\n",
       "      <td>30</td>\n",
       "    </tr>\n",
       "    <tr>\n",
       "      <th>1</th>\n",
       "      <td>121583</td>\n",
       "      <td>2016-07-25</td>\n",
       "      <td>racking CodeCRCCHSPBKRSFDCA1162Job Description...</td>\n",
       "      <td>Health Dialog</td>\n",
       "      <td>Bakersfield, CA</td>\n",
       "      <td>NaN</td>\n",
       "      <td>[cold-fusion]</td>\n",
       "      <td>Care Coach - Spanish Bilingual</td>\n",
       "      <td>/jobs/121583/care-coach-spanish-bilingual-heal...</td>\n",
       "      <td>30</td>\n",
       "    </tr>\n",
       "    <tr>\n",
       "      <th>2</th>\n",
       "      <td>121582</td>\n",
       "      <td>2016-07-25</td>\n",
       "      <td>You are an experienced Drupal developer and we...</td>\n",
       "      <td>C4Media</td>\n",
       "      <td>Sibiu, Romania</td>\n",
       "      <td>NaN</td>\n",
       "      <td>[ubuntu-lamp, drupal]</td>\n",
       "      <td>Drupal Developer</td>\n",
       "      <td>/jobs/121582/drupal-developer-c4media</td>\n",
       "      <td>30</td>\n",
       "    </tr>\n",
       "    <tr>\n",
       "      <th>3</th>\n",
       "      <td>109825</td>\n",
       "      <td>2016-07-25</td>\n",
       "      <td>Summary\\r\\nAs Spot Trading continues to assert...</td>\n",
       "      <td>Spot Trading LLC</td>\n",
       "      <td>Chicago, IL</td>\n",
       "      <td>NaN</td>\n",
       "      <td>[database, sql-server, nosql, cassandra, mongo...</td>\n",
       "      <td>Database Administrator - DevOps - SQL</td>\n",
       "      <td>/jobs/109825/database-administrator-devops-sql...</td>\n",
       "      <td>30</td>\n",
       "    </tr>\n",
       "    <tr>\n",
       "      <th>4</th>\n",
       "      <td>105355</td>\n",
       "      <td>2016-07-25</td>\n",
       "      <td>The primary purpose of the Quality Assurance E...</td>\n",
       "      <td>TeleTracking Technologies</td>\n",
       "      <td>Pittsburgh, PA</td>\n",
       "      <td>NaN</td>\n",
       "      <td>[c#, asp.net, qa]</td>\n",
       "      <td>QA Engineer</td>\n",
       "      <td>/jobs/105355/qa-engineer-teletracking-technolo...</td>\n",
       "      <td>30</td>\n",
       "    </tr>\n",
       "  </tbody>\n",
       "</table>\n",
       "</div>"
      ],
      "text/plain": [
       "    jobid        date                                        description  \\\n",
       "0  113232  2016-07-25  Postmates runs the largest on-demand delivery ...   \n",
       "1  121583  2016-07-25  racking CodeCRCCHSPBKRSFDCA1162Job Description...   \n",
       "2  121582  2016-07-25  You are an experienced Drupal developer and we...   \n",
       "3  109825  2016-07-25  Summary\\r\\nAs Spot Trading continues to assert...   \n",
       "4  105355  2016-07-25  The primary purpose of the Quality Assurance E...   \n",
       "\n",
       "                    employer           location  \\\n",
       "0             Postmates Inc.  San Francisco, CA   \n",
       "1              Health Dialog    Bakersfield, CA   \n",
       "2                    C4Media     Sibiu, Romania   \n",
       "3           Spot Trading LLC        Chicago, IL   \n",
       "4  TeleTracking Technologies     Pittsburgh, PA   \n",
       "\n",
       "                                              salary  \\\n",
       "0  $120,000 - 170,000\\r\\n\\r\\n                    ...   \n",
       "1                                                NaN   \n",
       "2                                                NaN   \n",
       "3                                                NaN   \n",
       "4                                                NaN   \n",
       "\n",
       "                                                tags  \\\n",
       "0                          [ios, objective-c, swift]   \n",
       "1                                      [cold-fusion]   \n",
       "2                              [ubuntu-lamp, drupal]   \n",
       "3  [database, sql-server, nosql, cassandra, mongo...   \n",
       "4                                  [c#, asp.net, qa]   \n",
       "\n",
       "                                   title  \\\n",
       "0                 Software Engineer: iOS   \n",
       "1         Care Coach - Spanish Bilingual   \n",
       "2                       Drupal Developer   \n",
       "3  Database Administrator - DevOps - SQL   \n",
       "4                            QA Engineer   \n",
       "\n",
       "                                                 url  weeknum  \n",
       "0   /jobs/113232/software-engineer-ios-postmates-inc       30  \n",
       "1  /jobs/121583/care-coach-spanish-bilingual-heal...       30  \n",
       "2              /jobs/121582/drupal-developer-c4media       30  \n",
       "3  /jobs/109825/database-administrator-devops-sql...       30  \n",
       "4  /jobs/105355/qa-engineer-teletracking-technolo...       30  "
      ]
     },
     "execution_count": 5,
     "metadata": {},
     "output_type": "execute_result"
    }
   ],
   "source": [
    "jobs.head()"
   ]
  },
  {
   "cell_type": "code",
   "execution_count": 6,
   "metadata": {
    "collapsed": false
   },
   "outputs": [
    {
     "data": {
      "text/html": [
       "<div>\n",
       "<table border=\"1\" class=\"dataframe\">\n",
       "  <thead>\n",
       "    <tr style=\"text-align: right;\">\n",
       "      <th></th>\n",
       "      <th>jobid</th>\n",
       "      <th>date</th>\n",
       "      <th>description</th>\n",
       "      <th>employer</th>\n",
       "      <th>location</th>\n",
       "      <th>salary</th>\n",
       "      <th>tags</th>\n",
       "      <th>title</th>\n",
       "      <th>url</th>\n",
       "      <th>weeknum</th>\n",
       "    </tr>\n",
       "  </thead>\n",
       "  <tbody>\n",
       "    <tr>\n",
       "      <th>20027</th>\n",
       "      <td>123217</td>\n",
       "      <td>2016-10-18</td>\n",
       "      <td>At INFARE, we are not happy if we simply achie...</td>\n",
       "      <td>INFARE</td>\n",
       "      <td>Copenhagen, Denmark</td>\n",
       "      <td>NaN</td>\n",
       "      <td>[\"java\",\"scala\",\"c#\",\".net\",\"bigdata\"]</td>\n",
       "      <td>Senior Back End Developer - Big Data</td>\n",
       "      <td>/jobs/123217/senior-back-end-developer-big-dat...</td>\n",
       "      <td>42</td>\n",
       "    </tr>\n",
       "    <tr>\n",
       "      <th>20028</th>\n",
       "      <td>111740</td>\n",
       "      <td>2016-10-18</td>\n",
       "      <td>Who we are:\\r\\n\\r\\nWe implement GSMA standards...</td>\n",
       "      <td>Samsung R&amp;D Institute</td>\n",
       "      <td>Warsaw, Poland</td>\n",
       "      <td>NaN</td>\n",
       "      <td>[\"c\",\"c++\",\"git\",\"tcp\",\"rcs\"]</td>\n",
       "      <td>Developer C/C++ (Network 2020)</td>\n",
       "      <td>/jobs/111740/developer-c-c-plus-plus-network-2...</td>\n",
       "      <td>42</td>\n",
       "    </tr>\n",
       "    <tr>\n",
       "      <th>20029</th>\n",
       "      <td>116619</td>\n",
       "      <td>2016-10-18</td>\n",
       "      <td>We are looking for cutting-edge QA talents who...</td>\n",
       "      <td>Project A Ventures</td>\n",
       "      <td>Berlin, Deutschland</td>\n",
       "      <td>NaN</td>\n",
       "      <td>[\"automated-tests\",\"performance-testing\",\"jira...</td>\n",
       "      <td>QA Automation Engineer (m/f) wanted!</td>\n",
       "      <td>/jobs/116619/qa-automation-engineer-m-f-wanted...</td>\n",
       "      <td>42</td>\n",
       "    </tr>\n",
       "    <tr>\n",
       "      <th>20030</th>\n",
       "      <td>104969</td>\n",
       "      <td>2016-10-18</td>\n",
       "      <td>As a member of Splash Damage’s AI Programming ...</td>\n",
       "      <td>Splash Damage</td>\n",
       "      <td>Bromley, UK</td>\n",
       "      <td>NaN</td>\n",
       "      <td>[\"c++\",\"unreal-engine4\",\"artificial-intelligen...</td>\n",
       "      <td>AI Programmer</td>\n",
       "      <td>/jobs/104969/ai-programmer-splash-damage</td>\n",
       "      <td>42</td>\n",
       "    </tr>\n",
       "    <tr>\n",
       "      <th>20031</th>\n",
       "      <td>123218</td>\n",
       "      <td>2016-10-18</td>\n",
       "      <td>Are you passionate about improving conversion ...</td>\n",
       "      <td>simplesurance GmbH</td>\n",
       "      <td>Berlin, Germany</td>\n",
       "      <td>NaN</td>\n",
       "      <td>[\"html\",\"css\",\"adobe\"]</td>\n",
       "      <td>Conversion Optimization Specialist (f/m)</td>\n",
       "      <td>/jobs/123218/conversion-optimization-specialis...</td>\n",
       "      <td>42</td>\n",
       "    </tr>\n",
       "  </tbody>\n",
       "</table>\n",
       "</div>"
      ],
      "text/plain": [
       "        jobid        date                                        description  \\\n",
       "20027  123217  2016-10-18  At INFARE, we are not happy if we simply achie...   \n",
       "20028  111740  2016-10-18  Who we are:\\r\\n\\r\\nWe implement GSMA standards...   \n",
       "20029  116619  2016-10-18  We are looking for cutting-edge QA talents who...   \n",
       "20030  104969  2016-10-18  As a member of Splash Damage’s AI Programming ...   \n",
       "20031  123218  2016-10-18  Are you passionate about improving conversion ...   \n",
       "\n",
       "                    employer             location salary  \\\n",
       "20027                 INFARE  Copenhagen, Denmark    NaN   \n",
       "20028  Samsung R&D Institute       Warsaw, Poland    NaN   \n",
       "20029     Project A Ventures  Berlin, Deutschland    NaN   \n",
       "20030          Splash Damage          Bromley, UK    NaN   \n",
       "20031     simplesurance GmbH      Berlin, Germany    NaN   \n",
       "\n",
       "                                                    tags  \\\n",
       "20027             [\"java\",\"scala\",\"c#\",\".net\",\"bigdata\"]   \n",
       "20028                      [\"c\",\"c++\",\"git\",\"tcp\",\"rcs\"]   \n",
       "20029  [\"automated-tests\",\"performance-testing\",\"jira...   \n",
       "20030  [\"c++\",\"unreal-engine4\",\"artificial-intelligen...   \n",
       "20031                             [\"html\",\"css\",\"adobe\"]   \n",
       "\n",
       "                                          title  \\\n",
       "20027      Senior Back End Developer - Big Data   \n",
       "20028            Developer C/C++ (Network 2020)   \n",
       "20029      QA Automation Engineer (m/f) wanted!   \n",
       "20030                             AI Programmer   \n",
       "20031  Conversion Optimization Specialist (f/m)   \n",
       "\n",
       "                                                     url  weeknum  \n",
       "20027  /jobs/123217/senior-back-end-developer-big-dat...       42  \n",
       "20028  /jobs/111740/developer-c-c-plus-plus-network-2...       42  \n",
       "20029  /jobs/116619/qa-automation-engineer-m-f-wanted...       42  \n",
       "20030           /jobs/104969/ai-programmer-splash-damage       42  \n",
       "20031  /jobs/123218/conversion-optimization-specialis...       42  "
      ]
     },
     "execution_count": 6,
     "metadata": {},
     "output_type": "execute_result"
    }
   ],
   "source": [
    "jobs.tail()"
   ]
  },
  {
   "cell_type": "markdown",
   "metadata": {},
   "source": [
    "# Salary\n"
   ]
  },
  {
   "cell_type": "markdown",
   "metadata": {},
   "source": [
    "## Replacing NA values with empty strings in the salary column"
   ]
  },
  {
   "cell_type": "code",
   "execution_count": 7,
   "metadata": {
    "collapsed": false
   },
   "outputs": [],
   "source": [
    "jobs.salary = jobs.salary.fillna('')"
   ]
  },
  {
   "cell_type": "markdown",
   "metadata": {},
   "source": [
    "## Extracting equity  "
   ]
  },
  {
   "cell_type": "code",
   "execution_count": 8,
   "metadata": {
    "collapsed": false
   },
   "outputs": [],
   "source": [
    "jobs['equity'] = jobs['salary'].str.contains('Provides Equity')"
   ]
  },
  {
   "cell_type": "markdown",
   "metadata": {},
   "source": [
    "## Extracting currency and high - low salary\n"
   ]
  },
  {
   "cell_type": "markdown",
   "metadata": {},
   "source": [
    "Need to extract currency, salary_low and salary_high from salary field and copy it to their own columns.\n",
    "\n",
    "Using regex here to capture parts of the salary field into three columns: \n",
    "    - currency will capture zero or more characters that are non digits\n",
    "    - number_low captures one or more characters that are digits and spearators (currently only comma is used)\n",
    "    - number high will capture all the numbers plus separators from the dash until the end of the string "
   ]
  },
  {
   "cell_type": "code",
   "execution_count": 9,
   "metadata": {
    "collapsed": false
   },
   "outputs": [],
   "source": [
    "# salary = jobs.salary\n",
    "salary = jobs.salary.map(lambda x: x.replace(\"Provides Equity\",\"\").replace(\"/\",\"\").strip())\n",
    "\n",
    "sal = salary.str.extract('(?P<currency>[^\\d]*)(?P<number_low>[\\d,]+) - (?P<number_high>[\\d,]+$)')\n",
    "\n",
    "sal.number_low = sal.number_low.fillna(0)\n",
    "sal.number_high = sal.number_high.fillna(0)\n",
    "sal.currency = sal.currency.fillna('')\n",
    "\n",
    "# mapping the new columns back\n",
    "jobs['currency'] = sal.currency\n",
    "jobs['salary_low'] = sal.number_low\n",
    "jobs['salary_high'] = sal.number_high\n"
   ]
  },
  {
   "cell_type": "markdown",
   "metadata": {},
   "source": [
    "# Location \n",
    "\n",
    "We need better location information, so we can do analysis by countries and cities. For this we need to extract country, state and city out of location column. But first let's remove the __na__ values from location column. \n",
    "\n",
    "Then use a lambda to split the location into individual fields.  "
   ]
  },
  {
   "cell_type": "code",
   "execution_count": 10,
   "metadata": {
    "collapsed": false
   },
   "outputs": [],
   "source": [
    "jobs.location = jobs.location.fillna('') # sometimes we have nothing in the location field. \n",
    "\n",
    "location_split = lambda x: pd.Series([i for i in x.split(',')])\n",
    "locations = jobs['location'].apply(location_split)\n",
    "\n",
    "locations.rename(columns={0:'city', 1: 'location_1', 2: 'location_2'},inplace=True)"
   ]
  },
  {
   "cell_type": "markdown",
   "metadata": {},
   "source": [
    "## Fixing US locations\n",
    "\n",
    "US locations seems to be special. They are in the form of _city, state_, we need this to be in form of _city, state, country_, so let's fix this first. \n",
    "\n",
    "If we have a US state in _location_1_ column then put _US_ in _location_2_. \n"
   ]
  },
  {
   "cell_type": "code",
   "execution_count": 11,
   "metadata": {
    "collapsed": true
   },
   "outputs": [],
   "source": [
    "# Fixing US States\n",
    "us_states = [\"AL\", \"AK\", \"AZ\", \"AR\", \"CA\", \"CO\", \"CT\", \"DC\", \"DE\", \"FL\", \"GA\", \n",
    "          \"HI\", \"ID\", \"IL\", \"IN\", \"IA\", \"KS\", \"KY\", \"LA\", \"ME\", \"MD\", \n",
    "          \"MA\", \"MI\", \"MN\", \"MS\", \"MO\", \"MT\", \"NE\", \"NV\", \"NH\", \"NJ\", \n",
    "          \"NM\", \"NY\", \"NC\", \"ND\", \"OH\", \"OK\", \"OR\", \"PA\", \"RI\", \"SC\", \n",
    "          \"SD\", \"TN\", \"TX\", \"UT\", \"VT\", \"VA\", \"WA\", \"WV\", \"WI\", \"WY\"]\n",
    "\n",
    "locations['location_1'] = locations['location_1'].str.strip()\n",
    "locations.loc[locations['location_1'].isin(us_states),'location_2'] = \"US\""
   ]
  },
  {
   "cell_type": "markdown",
   "metadata": {},
   "source": [
    "## Filling the state and country columns\n",
    "\n",
    "If in a row location_2 is null then location_1 contains the country of that location, if location_2 is not empty thne location_2 is going to be the country and location_1 will contain the state. "
   ]
  },
  {
   "cell_type": "code",
   "execution_count": 12,
   "metadata": {
    "collapsed": true
   },
   "outputs": [],
   "source": [
    "# if location_2 is null then location_1 column has the country \n",
    "# if location_2 is not null then location_2 has the country and location_1 contains the state \n",
    "jobs['country'] = np.where(locations['location_2'].isnull(), locations['location_1'], locations['location_2'])\n",
    "jobs['state'] = np.where(locations['location_2'].notnull(), locations['location_1'], '')\n",
    "\n",
    "jobs['city'] = locations['city']\n",
    "\n",
    "# filling na for country \n",
    "jobs.country = jobs.country.fillna('')\n",
    "\n",
    "# stripping spaces from new columns\n",
    "jobs['city'] = jobs['city'].str.strip()\n",
    "jobs['country'] = jobs['country'].str.strip()"
   ]
  },
  {
   "cell_type": "markdown",
   "metadata": {},
   "source": [
    "Now we can see what countries are posting the most jobs. It seems that the US, Deutschland, Germany and the UK are the top countries. But wait. Aren't Germany and Deutschland are the same country? Let's fix this and some other countries with native names. "
   ]
  },
  {
   "cell_type": "code",
   "execution_count": 13,
   "metadata": {
    "collapsed": false
   },
   "outputs": [
    {
     "data": {
      "text/plain": [
       "US             9262\n",
       "Germany        3260\n",
       "UK             1916\n",
       "Netherlands     915\n",
       "Canada          665\n",
       "Name: country, dtype: int64"
      ]
     },
     "execution_count": 13,
     "metadata": {},
     "output_type": "execute_result"
    }
   ],
   "source": [
    "# replacing some of the country names with their english version \n",
    "jobs.loc[jobs['country'].str.contains('Deutschland'),'country'] = 'Germany' # Deutschland -> Germany\n",
    "jobs.loc[jobs['country'].str.contains('Österreich'),'country'] = 'Austria' # Österreich -> Austria\n",
    "jobs.loc[jobs['country'].str.contains('Suisse'), 'country'] = 'Switzerland' # Suisse -> Switzerland\n",
    "jobs.loc[jobs['country'].str.contains('Schweiz'), 'country'] = 'Switzerland' # Schweiz -> Switzerland\n",
    "jobs.loc[jobs['country'].str.contains('Espagne'), 'country'] = 'Spain' # Espagne -> Spain\n",
    "jobs.loc[jobs['country'].str.contains('République tchèque'), 'country'] = 'Czech Republic' # République tchèque -> Czech Republic\n",
    "jobs.loc[jobs['country'].str.contains('Niederlande'), 'country'] = 'Netherlands' # Niederlande -> Netherlands\n",
    "\n",
    "jobs['country'].value_counts().head()"
   ]
  },
  {
   "cell_type": "code",
   "execution_count": 14,
   "metadata": {
    "collapsed": false
   },
   "outputs": [
    {
     "data": {
      "text/plain": [
       "New York                      1070\n",
       "London                        1012\n",
       "Berlin                         991\n",
       "San Francisco                  761\n",
       "München                        412\n",
       "Amsterdam                      403\n",
       "Seattle                        398\n",
       "Philadelphia                   350\n",
       "Chicago                        329\n",
       "Toronto                        301\n",
       "No office location             284\n",
       "Hamburg                        282\n",
       "Washington                     248\n",
       "Boston                         208\n",
       "Dublin                         187\n",
       "Cambridge                      185\n",
       "Austin                         181\n",
       "Stockholm                      174\n",
       "Los Angeles                    173\n",
       "Denver                         170\n",
       "Sydney                         147\n",
       "Singapore                      137\n",
       "Atlanta                        131\n",
       "Rotterdam                      130\n",
       "Mountain View                  130\n",
       "Düsseldorf                     124\n",
       "Bellevue                       121\n",
       "Helsinki                       119\n",
       "Zürich                         113\n",
       "Paris                          112\n",
       "Barcelona                      111\n",
       "Vancouver                      109\n",
       "Portland                       109\n",
       "Bangkok                        108\n",
       "San Diego                      102\n",
       "                              ... \n",
       "Elstree                          1\n",
       "Jyväskylä                        1\n",
       "Eddystone                        1\n",
       "Assen                            1\n",
       "Lafayette                        1\n",
       "Antwerp                          1\n",
       "West Jordan                      1\n",
       "Detmold                          1\n",
       "Cremorne                         1\n",
       "Chambersburg                     1\n",
       "De Rijp                          1\n",
       "Ashtabula                        1\n",
       "Martlesham                       1\n",
       "Saint Louis                      1\n",
       "Duffryn                          1\n",
       "Bend                             1\n",
       "New Forest District              1\n",
       "Centerville                      1\n",
       "Beverly Hills                    1\n",
       "Cramlington                      1\n",
       "El Cajon                         1\n",
       "Morgantown                       1\n",
       "Ottignies-Louvain-la-Neuve       1\n",
       "Jessup                           1\n",
       "Neuhausen auf den Fildern        1\n",
       "Tamworth                         1\n",
       "Issy-les-Moulineaux              1\n",
       "Cagliari                         1\n",
       "Teddington                       1\n",
       "Chelmsford                       1\n",
       "Harrogate                        1\n",
       "Montclair                        1\n",
       "Kiev                             1\n",
       "Coventry                         1\n",
       "Fitzroy                          1\n",
       "Name: city, dtype: int64"
      ]
     },
     "execution_count": 14,
     "metadata": {},
     "output_type": "execute_result"
    }
   ],
   "source": [
    "jobs['city'].value_counts()"
   ]
  },
  {
   "cell_type": "code",
   "execution_count": null,
   "metadata": {
    "collapsed": true
   },
   "outputs": [],
   "source": []
  },
  {
   "cell_type": "code",
   "execution_count": null,
   "metadata": {
    "collapsed": true
   },
   "outputs": [],
   "source": []
  }
 ],
 "metadata": {
  "kernelspec": {
   "display_name": "Python 2",
   "language": "python",
   "name": "python2"
  },
  "language_info": {
   "codemirror_mode": {
    "name": "ipython",
    "version": 2
   },
   "file_extension": ".py",
   "mimetype": "text/x-python",
   "name": "python",
   "nbconvert_exporter": "python",
   "pygments_lexer": "ipython2",
   "version": "2.7.10"
  }
 },
 "nbformat": 4,
 "nbformat_minor": 0
}
