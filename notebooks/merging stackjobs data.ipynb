{
 "cells": [
  {
   "cell_type": "code",
   "execution_count": 9,
   "metadata": {
    "collapsed": false
   },
   "outputs": [],
   "source": [
    "import pandas as pd\n",
    "import numpy as np \n",
    "import glob\n",
    "import datetime \n",
    "import time"
   ]
  },
  {
   "cell_type": "markdown",
   "metadata": {},
   "source": [
    "## Reading all the files"
   ]
  },
  {
   "cell_type": "code",
   "execution_count": 10,
   "metadata": {
    "collapsed": false
   },
   "outputs": [],
   "source": [
    "allFiles = glob.glob(\"./csv/*.csv\")\n",
    "\n",
    "jobs = pd.read_csv('./csv/stackoverflow_jobs_macbook_20160912.csv', index_col='jobid',header=0)\n",
    "\n",
    "dataframes = []\n",
    "for file in allFiles: \n",
    "    df = pd.read_csv(file, index_col='jobid', header=0)\n",
    "    dataframes.append(df)\n",
    "    \n",
    "merged_jobs = pd.concat(dataframes)\n",
    "    "
   ]
  },
  {
   "cell_type": "markdown",
   "metadata": {},
   "source": [
    "## Dropping duplicates"
   ]
  },
  {
   "cell_type": "code",
   "execution_count": 11,
   "metadata": {
    "collapsed": false
   },
   "outputs": [
    {
     "name": "stdout",
     "output_type": "stream",
     "text": [
      "Before de-deuplication count is 44860\n",
      "After de-deuplication count is 14188\n"
     ]
    }
   ],
   "source": [
    "print \"Before de-deuplication count is \" + str(len(merged_jobs.index))\n",
    "merged_jobs.drop_duplicates(keep='last', inplace=True)\n",
    "print \"After de-deuplication count is \" + str(len(merged_jobs.index))\n"
   ]
  },
  {
   "cell_type": "code",
   "execution_count": 12,
   "metadata": {
    "collapsed": false
   },
   "outputs": [],
   "source": [
    "timestr = time.strftime(\"%Y%m%d\")\n",
    "out_path = \"./csv_out/jobs_merged_\" + timestr + \"_\" + str(len(merged_jobs.index))  + \".csv\"\n",
    "\n",
    "\n",
    "merged_jobs.to_csv(out_path,mode='w')"
   ]
  },
  {
   "cell_type": "code",
   "execution_count": null,
   "metadata": {
    "collapsed": true
   },
   "outputs": [],
   "source": []
  }
 ],
 "metadata": {
  "kernelspec": {
   "display_name": "Python 2",
   "language": "python",
   "name": "python2"
  },
  "language_info": {
   "codemirror_mode": {
    "name": "ipython",
    "version": 2
   },
   "file_extension": ".py",
   "mimetype": "text/x-python",
   "name": "python",
   "nbconvert_exporter": "python",
   "pygments_lexer": "ipython2",
   "version": "2.7.12"
  }
 },
 "nbformat": 4,
 "nbformat_minor": 0
}
